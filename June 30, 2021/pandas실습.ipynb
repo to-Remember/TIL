{
 "cells": [
  {
   "cell_type": "code",
   "execution_count": 31,
   "id": "772a5518",
   "metadata": {},
   "outputs": [
    {
     "name": "stdout",
     "output_type": "stream",
     "text": [
      "각 학생의 총점 평균\n",
      "aaa\t[  1.  67.  87.  56. 210.  70.]\n",
      "bbb\t[  2.  65.  45.  34. 144.  48.]\n",
      "ccc\t[  3.        87.        65.        54.       206.        68.666664]\n",
      "ddd\t[  4.  98.  87.  76. 261.  87.]\n",
      "eee\t[  5.        54.        65.        87.       206.        68.666664]\n",
      "국어총점: 371.0\n",
      "영어총점: 349.0\n",
      "수학총점: 307.0\n",
      "전체총점: 1027.0\n",
      "전체평균합: 342.3333\n",
      "ddd\t[  4.  98.  87.  76. 261.  87.]\n",
      "aaa\t[  1.  67.  87.  56. 210.  70.]\n",
      "ccc\t[  3.        87.        65.        54.       206.        68.666664]\n",
      "eee\t[  5.        54.        65.        87.       206.        68.666664]\n",
      "bbb\t[  2.  65.  45.  34. 144.  48.]\n"
     ]
    }
   ],
   "source": [
    "import numpy as np\n",
    "datas = []#2차원 리스트\n",
    "f = open('Untitled.txt', 'r')\n",
    "while True:\n",
    "    s = f.readline() #s:'1,aaa,67,87,56\\n'\n",
    "    if s=='':\n",
    "        break\n",
    "    k = s.split('\\n') #s:'1,aaa,67,87,56' : ''\n",
    "    s = k[0]\n",
    "    stu = s.split(',')  #stu: ['1', 'aaa', '67', '87', '56']\n",
    "    for i in range(0, 2):\n",
    "        stu.append(0)#stu: ['1', 'aaa', '67', '87', '56', 0 , 0]\n",
    "    datas.append(stu)\n",
    "    \n",
    "f.close()\n",
    "\n",
    "arr = np.array(datas) #datas리스트를 numpy 배열로 변환\n",
    "names = arr[:, 0]  #모든 줄 0번컬럼(이름)만 추출하여 names에 저장\n",
    "x = arr[:, 1:]  #모든 줄 1~끝컬럼(번호,국,영,수) 추출해서 x에 저장\n",
    "score = x.astype(np.float32)  #점수 배열 요소 타입을 float으로 변경\n",
    "'''\n",
    "for i in score:        # 모든 줄의 총점 평균 계산. \n",
    "    k = i[1:4]           #k: [국,영,수]\n",
    "    sum1 = k.sum()\n",
    "    i[4]=sum1\n",
    "    i[5]=sum1/3\n",
    "'''    \n",
    "score[:, 4]=score[:,1:4].sum(axis=1)\n",
    "score[:, 5]=score[:, 4]/3\n",
    "\n",
    "print('각 학생의 총점 평균')\n",
    "for i in range(0, 5):\n",
    "    print(names[i], end='\\t')\n",
    "    print(score[i])\n",
    "\n",
    "#학생들의 국어총점, 영어총점, 수학총점\n",
    "sums = score.sum(axis=0)\n",
    "print('국어총점:', sums[1])\n",
    "print('영어총점:', sums[2])\n",
    "print('수학총점:', sums[3])\n",
    "print('전체총점:', sums[4])\n",
    "print('전체평균합:', sums[5])\n",
    "\n",
    "#총점 정렬\n",
    "#score[:, 4].sort(): 총점방만 정렬\n",
    "\n",
    "#버블소트\n",
    "for i in range(0, 4):\n",
    "    for j in range(0, 4-i):\n",
    "        if score[j][4]<score[j+1][4]:\n",
    "            #score 배열 교체\n",
    "            for k in range(0, len(score[j])):\n",
    "                tmp = score[j][k]\n",
    "                score[j][k]=score[j+1][k]\n",
    "                score[j+1][k]=tmp\n",
    "              \n",
    "            #이름 바꿈\n",
    "            tmp = names[j]\n",
    "            names[j]=names[j+1]\n",
    "            names[j+1]=tmp\n",
    "            \n",
    "for i in range(0, 5):\n",
    "    print(names[i], end='\\t')\n",
    "    print(score[i])"
   ]
  },
  {
   "cell_type": "code",
   "execution_count": 8,
   "id": "8091307e",
   "metadata": {},
   "outputs": [
    {
     "data": {
      "text/plain": [
       "array(['aaa', 'bbb', 'ccc', 'ddd', 'eee'], dtype='<U11')"
      ]
     },
     "execution_count": 8,
     "metadata": {},
     "output_type": "execute_result"
    }
   ],
   "source": [
    "names"
   ]
  },
  {
   "cell_type": "code",
   "execution_count": 32,
   "id": "294725a9",
   "metadata": {
    "scrolled": true
   },
   "outputs": [
    {
     "data": {
      "text/plain": [
       "array([0, 1, 2, 3, 4])"
      ]
     },
     "execution_count": 32,
     "metadata": {},
     "output_type": "execute_result"
    }
   ],
   "source": [
    "a = np.arange(5)\n",
    "a"
   ]
  },
  {
   "cell_type": "code",
   "execution_count": 33,
   "id": "b03470f4",
   "metadata": {},
   "outputs": [
    {
     "data": {
      "text/plain": [
       "array([False, False,  True,  True,  True])"
      ]
     },
     "execution_count": 33,
     "metadata": {},
     "output_type": "execute_result"
    }
   ],
   "source": [
    "a>1"
   ]
  },
  {
   "cell_type": "code",
   "execution_count": 34,
   "id": "0820b404",
   "metadata": {},
   "outputs": [
    {
     "data": {
      "text/plain": [
       "array([ True,  True,  True,  True, False])"
      ]
     },
     "execution_count": 34,
     "metadata": {},
     "output_type": "execute_result"
    }
   ],
   "source": [
    "a<4"
   ]
  },
  {
   "cell_type": "code",
   "execution_count": 36,
   "id": "705fed6e",
   "metadata": {},
   "outputs": [
    {
     "data": {
      "text/plain": [
       "array([0, 1, 2, 3, 4])"
      ]
     },
     "execution_count": 36,
     "metadata": {},
     "output_type": "execute_result"
    }
   ],
   "source": [
    "a"
   ]
  },
  {
   "cell_type": "code",
   "execution_count": 35,
   "id": "a7e5ef51",
   "metadata": {},
   "outputs": [
    {
     "data": {
      "text/plain": [
       "array([ True, False, False, False, False])"
      ]
     },
     "execution_count": 35,
     "metadata": {},
     "output_type": "execute_result"
    }
   ],
   "source": [
    "a<1"
   ]
  },
  {
   "cell_type": "code",
   "execution_count": 37,
   "id": "7d4089d4",
   "metadata": {},
   "outputs": [
    {
     "data": {
      "text/plain": [
       "array([False, False, False, False,  True])"
      ]
     },
     "execution_count": 37,
     "metadata": {},
     "output_type": "execute_result"
    }
   ],
   "source": [
    "a>3"
   ]
  },
  {
   "cell_type": "code",
   "execution_count": 1,
   "id": "892c21e6",
   "metadata": {},
   "outputs": [
    {
     "data": {
      "text/plain": [
       "0    aaa\n",
       "1    bbb\n",
       "2    ccc\n",
       "dtype: object"
      ]
     },
     "execution_count": 1,
     "metadata": {},
     "output_type": "execute_result"
    }
   ],
   "source": [
    "import pandas as pd\n",
    "s1 = pd.Series(['aaa', 'bbb', 'ccc'])\n",
    "s1"
   ]
  },
  {
   "cell_type": "code",
   "execution_count": 2,
   "id": "674f58e1",
   "metadata": {},
   "outputs": [
    {
     "data": {
      "text/plain": [
       "'aaa'"
      ]
     },
     "execution_count": 2,
     "metadata": {},
     "output_type": "execute_result"
    }
   ],
   "source": [
    "s1[0]"
   ]
  },
  {
   "cell_type": "code",
   "execution_count": 3,
   "id": "7588d419",
   "metadata": {},
   "outputs": [
    {
     "data": {
      "text/plain": [
       "1    bbb\n",
       "2    ccc\n",
       "dtype: object"
      ]
     },
     "execution_count": 3,
     "metadata": {},
     "output_type": "execute_result"
    }
   ],
   "source": [
    "s1[1:3]"
   ]
  },
  {
   "cell_type": "code",
   "execution_count": 4,
   "id": "8efa6b9f",
   "metadata": {},
   "outputs": [
    {
     "data": {
      "text/plain": [
       "kor     65\n",
       "eng     78\n",
       "math    89\n",
       "dtype: int64"
      ]
     },
     "execution_count": 4,
     "metadata": {},
     "output_type": "execute_result"
    }
   ],
   "source": [
    "s2 = pd.Series({'kor':65, 'eng':78, 'math':89})\n",
    "s2"
   ]
  },
  {
   "cell_type": "code",
   "execution_count": 5,
   "id": "a85374fa",
   "metadata": {},
   "outputs": [
    {
     "data": {
      "text/plain": [
       "65"
      ]
     },
     "execution_count": 5,
     "metadata": {},
     "output_type": "execute_result"
    }
   ],
   "source": [
    "s2['kor']"
   ]
  },
  {
   "cell_type": "code",
   "execution_count": 6,
   "id": "277ed5ed",
   "metadata": {},
   "outputs": [
    {
     "data": {
      "text/plain": [
       "89"
      ]
     },
     "execution_count": 6,
     "metadata": {},
     "output_type": "execute_result"
    }
   ],
   "source": [
    "s2['math']"
   ]
  },
  {
   "cell_type": "code",
   "execution_count": 15,
   "id": "7cf14afc",
   "metadata": {},
   "outputs": [
    {
     "data": {
      "text/plain": [
       "student1    [aaa, [34, 95, 18]]\n",
       "student2    [bbb, [52, 85, 25]]\n",
       "student3     [ccc, [13, 54, 8]]\n",
       "student4      [ddd, [6, 0, 20]]\n",
       "student5    [eee, [16, 38, 45]]\n",
       "dtype: object"
      ]
     },
     "execution_count": 15,
     "metadata": {},
     "output_type": "execute_result"
    }
   ],
   "source": [
    "idx = [] #사용할 인덱스 \n",
    "vals = [] #시리즈로 생성할 값 \n",
    "\n",
    "#학생들 이름 리스트\n",
    "names = ['aaa', 'bbb', 'ccc', 'ddd', 'eee']\n",
    "\n",
    "for i in range(0, 5):#인덱스와 성적 자동 생성\n",
    "    s = 'student'+str(i+1)  #인덱스로 사용할 문자열 생성\n",
    "    idx.append(s) #생성한 인덱스를 idx에 저장\n",
    "    \n",
    "    #한사람의 이름과 성적을 한 리스트에 담음\n",
    "    val =[names[i], np.random.randint(0,100, (3))]\n",
    "    vals.append(val)\n",
    "    \n",
    "stu = pd.Series(vals, index=idx)\n",
    "stu"
   ]
  },
  {
   "cell_type": "code",
   "execution_count": 9,
   "id": "5836817b",
   "metadata": {},
   "outputs": [
    {
     "data": {
      "text/plain": [
       "['student1', 'student2', 'student3', 'student4', 'student5']"
      ]
     },
     "execution_count": 9,
     "metadata": {},
     "output_type": "execute_result"
    }
   ],
   "source": [
    "idx"
   ]
  },
  {
   "cell_type": "code",
   "execution_count": 10,
   "id": "b2e99a85",
   "metadata": {},
   "outputs": [
    {
     "data": {
      "text/plain": [
       "[array([80,  8, 39]),\n",
       " array([ 0, 94, 55]),\n",
       " array([55, 67, 52]),\n",
       " array([30, 86, 37]),\n",
       " array([87, 59, 24])]"
      ]
     },
     "execution_count": 10,
     "metadata": {},
     "output_type": "execute_result"
    }
   ],
   "source": [
    "vals"
   ]
  },
  {
   "cell_type": "code",
   "execution_count": 16,
   "id": "40391ae9",
   "metadata": {},
   "outputs": [
    {
     "data": {
      "text/html": [
       "<div>\n",
       "<style scoped>\n",
       "    .dataframe tbody tr th:only-of-type {\n",
       "        vertical-align: middle;\n",
       "    }\n",
       "\n",
       "    .dataframe tbody tr th {\n",
       "        vertical-align: top;\n",
       "    }\n",
       "\n",
       "    .dataframe thead th {\n",
       "        text-align: right;\n",
       "    }\n",
       "</style>\n",
       "<table border=\"1\" class=\"dataframe\">\n",
       "  <thead>\n",
       "    <tr style=\"text-align: right;\">\n",
       "      <th></th>\n",
       "      <th>0</th>\n",
       "      <th>1</th>\n",
       "      <th>2</th>\n",
       "    </tr>\n",
       "  </thead>\n",
       "  <tbody>\n",
       "    <tr>\n",
       "      <th>0</th>\n",
       "      <td>1</td>\n",
       "      <td>2</td>\n",
       "      <td>3</td>\n",
       "    </tr>\n",
       "    <tr>\n",
       "      <th>1</th>\n",
       "      <td>4</td>\n",
       "      <td>5</td>\n",
       "      <td>6</td>\n",
       "    </tr>\n",
       "    <tr>\n",
       "      <th>2</th>\n",
       "      <td>7</td>\n",
       "      <td>8</td>\n",
       "      <td>9</td>\n",
       "    </tr>\n",
       "  </tbody>\n",
       "</table>\n",
       "</div>"
      ],
      "text/plain": [
       "   0  1  2\n",
       "0  1  2  3\n",
       "1  4  5  6\n",
       "2  7  8  9"
      ]
     },
     "execution_count": 16,
     "metadata": {},
     "output_type": "execute_result"
    }
   ],
   "source": [
    "data=[[1,2,3],[4,5,6],[7,8,9]]\n",
    "d1 = pd.DataFrame(data)\n",
    "d1"
   ]
  },
  {
   "cell_type": "code",
   "execution_count": 17,
   "id": "f592b126",
   "metadata": {},
   "outputs": [
    {
     "data": {
      "text/html": [
       "<div>\n",
       "<style scoped>\n",
       "    .dataframe tbody tr th:only-of-type {\n",
       "        vertical-align: middle;\n",
       "    }\n",
       "\n",
       "    .dataframe tbody tr th {\n",
       "        vertical-align: top;\n",
       "    }\n",
       "\n",
       "    .dataframe thead th {\n",
       "        text-align: right;\n",
       "    }\n",
       "</style>\n",
       "<table border=\"1\" class=\"dataframe\">\n",
       "  <thead>\n",
       "    <tr style=\"text-align: right;\">\n",
       "      <th></th>\n",
       "      <th>name</th>\n",
       "      <th>num</th>\n",
       "      <th>kor</th>\n",
       "      <th>eng</th>\n",
       "      <th>math</th>\n",
       "    </tr>\n",
       "  </thead>\n",
       "  <tbody>\n",
       "    <tr>\n",
       "      <th>stu1</th>\n",
       "      <td>aaa</td>\n",
       "      <td>1</td>\n",
       "      <td>54</td>\n",
       "      <td>56</td>\n",
       "      <td>67</td>\n",
       "    </tr>\n",
       "    <tr>\n",
       "      <th>stu2</th>\n",
       "      <td>bbb</td>\n",
       "      <td>2</td>\n",
       "      <td>98</td>\n",
       "      <td>76</td>\n",
       "      <td>56</td>\n",
       "    </tr>\n",
       "    <tr>\n",
       "      <th>stu3</th>\n",
       "      <td>ccc</td>\n",
       "      <td>3</td>\n",
       "      <td>78</td>\n",
       "      <td>89</td>\n",
       "      <td>54</td>\n",
       "    </tr>\n",
       "    <tr>\n",
       "      <th>stu4</th>\n",
       "      <td>ddd</td>\n",
       "      <td>4</td>\n",
       "      <td>96</td>\n",
       "      <td>35</td>\n",
       "      <td>86</td>\n",
       "    </tr>\n",
       "  </tbody>\n",
       "</table>\n",
       "</div>"
      ],
      "text/plain": [
       "     name  num  kor  eng  math\n",
       "stu1  aaa    1   54   56    67\n",
       "stu2  bbb    2   98   76    56\n",
       "stu3  ccc    3   78   89    54\n",
       "stu4  ddd    4   96   35    86"
      ]
     },
     "execution_count": 17,
     "metadata": {},
     "output_type": "execute_result"
    }
   ],
   "source": [
    "index = ['stu1','stu2','stu3','stu4']\n",
    "cols = ['name' ,'num', 'kor', 'eng', 'math']\n",
    "vals = [['aaa', 1, 54,56,67],\n",
    "        ['bbb', 2, 98,76,56],\n",
    "        ['ccc', 3, 78,89,54], \n",
    "        ['ddd', 4, 96,35,86]]\n",
    "d2 = pd.DataFrame(vals, index=index, columns=cols)\n",
    "d2"
   ]
  },
  {
   "cell_type": "code",
   "execution_count": 18,
   "id": "f3117891",
   "metadata": {},
   "outputs": [
    {
     "data": {
      "text/plain": [
       "Index(['stu1', 'stu2', 'stu3', 'stu4'], dtype='object')"
      ]
     },
     "execution_count": 18,
     "metadata": {},
     "output_type": "execute_result"
    }
   ],
   "source": [
    "d2.index"
   ]
  },
  {
   "cell_type": "code",
   "execution_count": 19,
   "id": "d8d123d2",
   "metadata": {},
   "outputs": [
    {
     "data": {
      "text/plain": [
       "Index(['name', 'num', 'kor', 'eng', 'math'], dtype='object')"
      ]
     },
     "execution_count": 19,
     "metadata": {},
     "output_type": "execute_result"
    }
   ],
   "source": [
    "d2.columns"
   ]
  },
  {
   "cell_type": "code",
   "execution_count": 20,
   "id": "e08d1e6d",
   "metadata": {},
   "outputs": [
    {
     "data": {
      "text/plain": [
       "array([['aaa', 1, 54, 56, 67],\n",
       "       ['bbb', 2, 98, 76, 56],\n",
       "       ['ccc', 3, 78, 89, 54],\n",
       "       ['ddd', 4, 96, 35, 86]], dtype=object)"
      ]
     },
     "execution_count": 20,
     "metadata": {},
     "output_type": "execute_result"
    }
   ],
   "source": [
    "d2.values"
   ]
  },
  {
   "cell_type": "code",
   "execution_count": 22,
   "id": "8fa10802",
   "metadata": {},
   "outputs": [
    {
     "data": {
      "text/html": [
       "<div>\n",
       "<style scoped>\n",
       "    .dataframe tbody tr th:only-of-type {\n",
       "        vertical-align: middle;\n",
       "    }\n",
       "\n",
       "    .dataframe tbody tr th {\n",
       "        vertical-align: top;\n",
       "    }\n",
       "\n",
       "    .dataframe thead th {\n",
       "        text-align: right;\n",
       "    }\n",
       "</style>\n",
       "<table border=\"1\" class=\"dataframe\">\n",
       "  <thead>\n",
       "    <tr style=\"text-align: right;\">\n",
       "      <th></th>\n",
       "      <th>name</th>\n",
       "      <th>num</th>\n",
       "      <th>kor</th>\n",
       "      <th>eng</th>\n",
       "      <th>math</th>\n",
       "    </tr>\n",
       "  </thead>\n",
       "  <tbody>\n",
       "    <tr>\n",
       "      <th>1</th>\n",
       "      <td>aaa</td>\n",
       "      <td>1</td>\n",
       "      <td>76</td>\n",
       "      <td>89</td>\n",
       "      <td>98</td>\n",
       "    </tr>\n",
       "    <tr>\n",
       "      <th>2</th>\n",
       "      <td>bbb</td>\n",
       "      <td>2</td>\n",
       "      <td>56</td>\n",
       "      <td>56</td>\n",
       "      <td>56</td>\n",
       "    </tr>\n",
       "    <tr>\n",
       "      <th>3</th>\n",
       "      <td>ccc</td>\n",
       "      <td>3</td>\n",
       "      <td>87</td>\n",
       "      <td>45</td>\n",
       "      <td>43</td>\n",
       "    </tr>\n",
       "    <tr>\n",
       "      <th>4</th>\n",
       "      <td>ddd</td>\n",
       "      <td>4</td>\n",
       "      <td>76</td>\n",
       "      <td>78</td>\n",
       "      <td>23</td>\n",
       "    </tr>\n",
       "  </tbody>\n",
       "</table>\n",
       "</div>"
      ],
      "text/plain": [
       "  name  num  kor  eng  math\n",
       "1  aaa    1   76   89    98\n",
       "2  bbb    2   56   56    56\n",
       "3  ccc    3   87   45    43\n",
       "4  ddd    4   76   78    23"
      ]
     },
     "execution_count": 22,
     "metadata": {},
     "output_type": "execute_result"
    }
   ],
   "source": [
    "dic = {\n",
    "    'name':['aaa','bbb','ccc','ddd'],\n",
    "    'num':[1,2,3,4],\n",
    "    'kor':[76,56,87,76],\n",
    "    'eng':[89,56,45,78],\n",
    "    'math':[98,56,43,23]\n",
    "}\n",
    "idx = np.arange(1, 5)\n",
    "d3 = pd.DataFrame(dic, index=idx)\n",
    "d3"
   ]
  },
  {
   "cell_type": "code",
   "execution_count": 26,
   "id": "e83f058f",
   "metadata": {},
   "outputs": [
    {
     "data": {
      "text/html": [
       "<div>\n",
       "<style scoped>\n",
       "    .dataframe tbody tr th:only-of-type {\n",
       "        vertical-align: middle;\n",
       "    }\n",
       "\n",
       "    .dataframe tbody tr th {\n",
       "        vertical-align: top;\n",
       "    }\n",
       "\n",
       "    .dataframe thead th {\n",
       "        text-align: right;\n",
       "    }\n",
       "</style>\n",
       "<table border=\"1\" class=\"dataframe\">\n",
       "  <thead>\n",
       "    <tr style=\"text-align: right;\">\n",
       "      <th></th>\n",
       "      <th>발생년</th>\n",
       "      <th>사고건수</th>\n",
       "      <th>사망자수</th>\n",
       "      <th>중상자수</th>\n",
       "      <th>경상자수</th>\n",
       "      <th>부상신고자수</th>\n",
       "    </tr>\n",
       "  </thead>\n",
       "  <tbody>\n",
       "    <tr>\n",
       "      <th>0</th>\n",
       "      <td>2015</td>\n",
       "      <td>232035</td>\n",
       "      <td>4621</td>\n",
       "      <td>92522</td>\n",
       "      <td>233646</td>\n",
       "      <td>24232</td>\n",
       "    </tr>\n",
       "    <tr>\n",
       "      <th>1</th>\n",
       "      <td>2016</td>\n",
       "      <td>220917</td>\n",
       "      <td>4292</td>\n",
       "      <td>82463</td>\n",
       "      <td>226283</td>\n",
       "      <td>22974</td>\n",
       "    </tr>\n",
       "    <tr>\n",
       "      <th>2</th>\n",
       "      <td>2017</td>\n",
       "      <td>216335</td>\n",
       "      <td>4185</td>\n",
       "      <td>78212</td>\n",
       "      <td>223200</td>\n",
       "      <td>21417</td>\n",
       "    </tr>\n",
       "    <tr>\n",
       "      <th>3</th>\n",
       "      <td>2018</td>\n",
       "      <td>217148</td>\n",
       "      <td>3781</td>\n",
       "      <td>74258</td>\n",
       "      <td>227511</td>\n",
       "      <td>21268</td>\n",
       "    </tr>\n",
       "    <tr>\n",
       "      <th>4</th>\n",
       "      <td>2019</td>\n",
       "      <td>229600</td>\n",
       "      <td>3349</td>\n",
       "      <td>72306</td>\n",
       "      <td>245524</td>\n",
       "      <td>23882</td>\n",
       "    </tr>\n",
       "  </tbody>\n",
       "</table>\n",
       "</div>"
      ],
      "text/plain": [
       "    발생년    사고건수  사망자수   중상자수    경상자수  부상신고자수\n",
       "0  2015  232035  4621  92522  233646   24232\n",
       "1  2016  220917  4292  82463  226283   22974\n",
       "2  2017  216335  4185  78212  223200   21417\n",
       "3  2018  217148  3781  74258  227511   21268\n",
       "4  2019  229600  3349  72306  245524   23882"
      ]
     },
     "execution_count": 26,
     "metadata": {},
     "output_type": "execute_result"
    }
   ],
   "source": [
    "data = pd.read_csv('c.csv', encoding='euc-kr')\n",
    "data"
   ]
  },
  {
   "cell_type": "code",
   "execution_count": 27,
   "id": "78a3ab93",
   "metadata": {},
   "outputs": [
    {
     "data": {
      "text/html": [
       "<div>\n",
       "<style scoped>\n",
       "    .dataframe tbody tr th:only-of-type {\n",
       "        vertical-align: middle;\n",
       "    }\n",
       "\n",
       "    .dataframe tbody tr th {\n",
       "        vertical-align: top;\n",
       "    }\n",
       "\n",
       "    .dataframe thead th {\n",
       "        text-align: right;\n",
       "    }\n",
       "</style>\n",
       "<table border=\"1\" class=\"dataframe\">\n",
       "  <thead>\n",
       "    <tr style=\"text-align: right;\">\n",
       "      <th></th>\n",
       "      <th>발생년</th>\n",
       "      <th>사고건수</th>\n",
       "      <th>사망자수</th>\n",
       "      <th>중상자수</th>\n",
       "      <th>경상자수</th>\n",
       "      <th>부상신고자수</th>\n",
       "    </tr>\n",
       "  </thead>\n",
       "  <tbody>\n",
       "    <tr>\n",
       "      <th>count</th>\n",
       "      <td>5.000000</td>\n",
       "      <td>5.000000</td>\n",
       "      <td>5.000000</td>\n",
       "      <td>5.000000</td>\n",
       "      <td>5.000000</td>\n",
       "      <td>5.000000</td>\n",
       "    </tr>\n",
       "    <tr>\n",
       "      <th>mean</th>\n",
       "      <td>2017.000000</td>\n",
       "      <td>223207.000000</td>\n",
       "      <td>4045.600000</td>\n",
       "      <td>79952.200000</td>\n",
       "      <td>231232.800000</td>\n",
       "      <td>22754.600000</td>\n",
       "    </tr>\n",
       "    <tr>\n",
       "      <th>std</th>\n",
       "      <td>1.581139</td>\n",
       "      <td>7210.825161</td>\n",
       "      <td>491.552439</td>\n",
       "      <td>8034.621534</td>\n",
       "      <td>8845.056851</td>\n",
       "      <td>1369.400526</td>\n",
       "    </tr>\n",
       "    <tr>\n",
       "      <th>min</th>\n",
       "      <td>2015.000000</td>\n",
       "      <td>216335.000000</td>\n",
       "      <td>3349.000000</td>\n",
       "      <td>72306.000000</td>\n",
       "      <td>223200.000000</td>\n",
       "      <td>21268.000000</td>\n",
       "    </tr>\n",
       "    <tr>\n",
       "      <th>25%</th>\n",
       "      <td>2016.000000</td>\n",
       "      <td>217148.000000</td>\n",
       "      <td>3781.000000</td>\n",
       "      <td>74258.000000</td>\n",
       "      <td>226283.000000</td>\n",
       "      <td>21417.000000</td>\n",
       "    </tr>\n",
       "    <tr>\n",
       "      <th>50%</th>\n",
       "      <td>2017.000000</td>\n",
       "      <td>220917.000000</td>\n",
       "      <td>4185.000000</td>\n",
       "      <td>78212.000000</td>\n",
       "      <td>227511.000000</td>\n",
       "      <td>22974.000000</td>\n",
       "    </tr>\n",
       "    <tr>\n",
       "      <th>75%</th>\n",
       "      <td>2018.000000</td>\n",
       "      <td>229600.000000</td>\n",
       "      <td>4292.000000</td>\n",
       "      <td>82463.000000</td>\n",
       "      <td>233646.000000</td>\n",
       "      <td>23882.000000</td>\n",
       "    </tr>\n",
       "    <tr>\n",
       "      <th>max</th>\n",
       "      <td>2019.000000</td>\n",
       "      <td>232035.000000</td>\n",
       "      <td>4621.000000</td>\n",
       "      <td>92522.000000</td>\n",
       "      <td>245524.000000</td>\n",
       "      <td>24232.000000</td>\n",
       "    </tr>\n",
       "  </tbody>\n",
       "</table>\n",
       "</div>"
      ],
      "text/plain": [
       "               발생년           사고건수         사망자수          중상자수           경상자수  \\\n",
       "count     5.000000       5.000000     5.000000      5.000000       5.000000   \n",
       "mean   2017.000000  223207.000000  4045.600000  79952.200000  231232.800000   \n",
       "std       1.581139    7210.825161   491.552439   8034.621534    8845.056851   \n",
       "min    2015.000000  216335.000000  3349.000000  72306.000000  223200.000000   \n",
       "25%    2016.000000  217148.000000  3781.000000  74258.000000  226283.000000   \n",
       "50%    2017.000000  220917.000000  4185.000000  78212.000000  227511.000000   \n",
       "75%    2018.000000  229600.000000  4292.000000  82463.000000  233646.000000   \n",
       "max    2019.000000  232035.000000  4621.000000  92522.000000  245524.000000   \n",
       "\n",
       "             부상신고자수  \n",
       "count      5.000000  \n",
       "mean   22754.600000  \n",
       "std     1369.400526  \n",
       "min    21268.000000  \n",
       "25%    21417.000000  \n",
       "50%    22974.000000  \n",
       "75%    23882.000000  \n",
       "max    24232.000000  "
      ]
     },
     "execution_count": 27,
     "metadata": {},
     "output_type": "execute_result"
    }
   ],
   "source": [
    "data.describe()"
   ]
  },
  {
   "cell_type": "code",
   "execution_count": 51,
   "id": "d9a2ebcf",
   "metadata": {},
   "outputs": [
    {
     "data": {
      "text/html": [
       "<div>\n",
       "<style scoped>\n",
       "    .dataframe tbody tr th:only-of-type {\n",
       "        vertical-align: middle;\n",
       "    }\n",
       "\n",
       "    .dataframe tbody tr th {\n",
       "        vertical-align: top;\n",
       "    }\n",
       "\n",
       "    .dataframe thead th {\n",
       "        text-align: right;\n",
       "    }\n",
       "</style>\n",
       "<table border=\"1\" class=\"dataframe\">\n",
       "  <thead>\n",
       "    <tr style=\"text-align: right;\">\n",
       "      <th></th>\n",
       "      <th>가해자연령층</th>\n",
       "      <th>월</th>\n",
       "      <th>사고건수</th>\n",
       "      <th>사망자수</th>\n",
       "      <th>중상자수</th>\n",
       "      <th>경상자수</th>\n",
       "      <th>부상신고자수</th>\n",
       "    </tr>\n",
       "  </thead>\n",
       "  <tbody>\n",
       "    <tr>\n",
       "      <th>0</th>\n",
       "      <td>20세이하</td>\n",
       "      <td>1</td>\n",
       "      <td>423</td>\n",
       "      <td>10</td>\n",
       "      <td>134</td>\n",
       "      <td>371</td>\n",
       "      <td>88</td>\n",
       "    </tr>\n",
       "    <tr>\n",
       "      <th>1</th>\n",
       "      <td>20세이하</td>\n",
       "      <td>2</td>\n",
       "      <td>405</td>\n",
       "      <td>6</td>\n",
       "      <td>128</td>\n",
       "      <td>397</td>\n",
       "      <td>81</td>\n",
       "    </tr>\n",
       "    <tr>\n",
       "      <th>2</th>\n",
       "      <td>20세이하</td>\n",
       "      <td>3</td>\n",
       "      <td>569</td>\n",
       "      <td>13</td>\n",
       "      <td>197</td>\n",
       "      <td>535</td>\n",
       "      <td>97</td>\n",
       "    </tr>\n",
       "    <tr>\n",
       "      <th>3</th>\n",
       "      <td>20세이하</td>\n",
       "      <td>4</td>\n",
       "      <td>595</td>\n",
       "      <td>11</td>\n",
       "      <td>175</td>\n",
       "      <td>578</td>\n",
       "      <td>117</td>\n",
       "    </tr>\n",
       "    <tr>\n",
       "      <th>4</th>\n",
       "      <td>20세이하</td>\n",
       "      <td>5</td>\n",
       "      <td>714</td>\n",
       "      <td>9</td>\n",
       "      <td>210</td>\n",
       "      <td>661</td>\n",
       "      <td>142</td>\n",
       "    </tr>\n",
       "    <tr>\n",
       "      <th>...</th>\n",
       "      <td>...</td>\n",
       "      <td>...</td>\n",
       "      <td>...</td>\n",
       "      <td>...</td>\n",
       "      <td>...</td>\n",
       "      <td>...</td>\n",
       "      <td>...</td>\n",
       "    </tr>\n",
       "    <tr>\n",
       "      <th>91</th>\n",
       "      <td>불명</td>\n",
       "      <td>8</td>\n",
       "      <td>318</td>\n",
       "      <td>0</td>\n",
       "      <td>44</td>\n",
       "      <td>234</td>\n",
       "      <td>91</td>\n",
       "    </tr>\n",
       "    <tr>\n",
       "      <th>92</th>\n",
       "      <td>불명</td>\n",
       "      <td>9</td>\n",
       "      <td>376</td>\n",
       "      <td>0</td>\n",
       "      <td>50</td>\n",
       "      <td>237</td>\n",
       "      <td>125</td>\n",
       "    </tr>\n",
       "    <tr>\n",
       "      <th>93</th>\n",
       "      <td>불명</td>\n",
       "      <td>10</td>\n",
       "      <td>391</td>\n",
       "      <td>0</td>\n",
       "      <td>65</td>\n",
       "      <td>277</td>\n",
       "      <td>90</td>\n",
       "    </tr>\n",
       "    <tr>\n",
       "      <th>94</th>\n",
       "      <td>불명</td>\n",
       "      <td>11</td>\n",
       "      <td>432</td>\n",
       "      <td>0</td>\n",
       "      <td>53</td>\n",
       "      <td>331</td>\n",
       "      <td>99</td>\n",
       "    </tr>\n",
       "    <tr>\n",
       "      <th>95</th>\n",
       "      <td>불명</td>\n",
       "      <td>12</td>\n",
       "      <td>382</td>\n",
       "      <td>0</td>\n",
       "      <td>54</td>\n",
       "      <td>271</td>\n",
       "      <td>99</td>\n",
       "    </tr>\n",
       "  </tbody>\n",
       "</table>\n",
       "<p>96 rows × 7 columns</p>\n",
       "</div>"
      ],
      "text/plain": [
       "   가해자연령층   월  사고건수  사망자수  중상자수  경상자수  부상신고자수\n",
       "0   20세이하   1   423    10   134   371      88\n",
       "1   20세이하   2   405     6   128   397      81\n",
       "2   20세이하   3   569    13   197   535      97\n",
       "3   20세이하   4   595    11   175   578     117\n",
       "4   20세이하   5   714     9   210   661     142\n",
       "..    ...  ..   ...   ...   ...   ...     ...\n",
       "91     불명   8   318     0    44   234      91\n",
       "92     불명   9   376     0    50   237     125\n",
       "93     불명  10   391     0    65   277      90\n",
       "94     불명  11   432     0    53   331      99\n",
       "95     불명  12   382     0    54   271      99\n",
       "\n",
       "[96 rows x 7 columns]"
      ]
     },
     "execution_count": 51,
     "metadata": {},
     "output_type": "execute_result"
    }
   ],
   "source": [
    "data = pd.read_csv('d.csv', encoding='euc-kr')\n",
    "data"
   ]
  },
  {
   "cell_type": "code",
   "execution_count": 59,
   "id": "b1ab6eae",
   "metadata": {},
   "outputs": [
    {
     "data": {
      "text/html": [
       "<div>\n",
       "<style scoped>\n",
       "    .dataframe tbody tr th:only-of-type {\n",
       "        vertical-align: middle;\n",
       "    }\n",
       "\n",
       "    .dataframe tbody tr th {\n",
       "        vertical-align: top;\n",
       "    }\n",
       "\n",
       "    .dataframe thead th {\n",
       "        text-align: right;\n",
       "    }\n",
       "</style>\n",
       "<table border=\"1\" class=\"dataframe\">\n",
       "  <thead>\n",
       "    <tr style=\"text-align: right;\">\n",
       "      <th></th>\n",
       "      <th>월</th>\n",
       "      <th>사고건수</th>\n",
       "      <th>사망자수</th>\n",
       "      <th>중상자수</th>\n",
       "      <th>경상자수</th>\n",
       "      <th>부상신고자수</th>\n",
       "    </tr>\n",
       "  </thead>\n",
       "  <tbody>\n",
       "    <tr>\n",
       "      <th>0</th>\n",
       "      <td>1</td>\n",
       "      <td>423</td>\n",
       "      <td>10</td>\n",
       "      <td>134</td>\n",
       "      <td>371</td>\n",
       "      <td>88</td>\n",
       "    </tr>\n",
       "    <tr>\n",
       "      <th>1</th>\n",
       "      <td>2</td>\n",
       "      <td>405</td>\n",
       "      <td>6</td>\n",
       "      <td>128</td>\n",
       "      <td>397</td>\n",
       "      <td>81</td>\n",
       "    </tr>\n",
       "    <tr>\n",
       "      <th>2</th>\n",
       "      <td>3</td>\n",
       "      <td>569</td>\n",
       "      <td>13</td>\n",
       "      <td>197</td>\n",
       "      <td>535</td>\n",
       "      <td>97</td>\n",
       "    </tr>\n",
       "    <tr>\n",
       "      <th>3</th>\n",
       "      <td>4</td>\n",
       "      <td>595</td>\n",
       "      <td>11</td>\n",
       "      <td>175</td>\n",
       "      <td>578</td>\n",
       "      <td>117</td>\n",
       "    </tr>\n",
       "    <tr>\n",
       "      <th>4</th>\n",
       "      <td>5</td>\n",
       "      <td>714</td>\n",
       "      <td>9</td>\n",
       "      <td>210</td>\n",
       "      <td>661</td>\n",
       "      <td>142</td>\n",
       "    </tr>\n",
       "    <tr>\n",
       "      <th>5</th>\n",
       "      <td>6</td>\n",
       "      <td>722</td>\n",
       "      <td>5</td>\n",
       "      <td>208</td>\n",
       "      <td>661</td>\n",
       "      <td>148</td>\n",
       "    </tr>\n",
       "    <tr>\n",
       "      <th>6</th>\n",
       "      <td>7</td>\n",
       "      <td>706</td>\n",
       "      <td>6</td>\n",
       "      <td>229</td>\n",
       "      <td>647</td>\n",
       "      <td>157</td>\n",
       "    </tr>\n",
       "    <tr>\n",
       "      <th>7</th>\n",
       "      <td>8</td>\n",
       "      <td>649</td>\n",
       "      <td>3</td>\n",
       "      <td>197</td>\n",
       "      <td>614</td>\n",
       "      <td>131</td>\n",
       "    </tr>\n",
       "    <tr>\n",
       "      <th>8</th>\n",
       "      <td>9</td>\n",
       "      <td>634</td>\n",
       "      <td>6</td>\n",
       "      <td>196</td>\n",
       "      <td>580</td>\n",
       "      <td>111</td>\n",
       "    </tr>\n",
       "    <tr>\n",
       "      <th>9</th>\n",
       "      <td>10</td>\n",
       "      <td>675</td>\n",
       "      <td>9</td>\n",
       "      <td>197</td>\n",
       "      <td>647</td>\n",
       "      <td>145</td>\n",
       "    </tr>\n",
       "    <tr>\n",
       "      <th>10</th>\n",
       "      <td>11</td>\n",
       "      <td>645</td>\n",
       "      <td>11</td>\n",
       "      <td>203</td>\n",
       "      <td>611</td>\n",
       "      <td>136</td>\n",
       "    </tr>\n",
       "    <tr>\n",
       "      <th>11</th>\n",
       "      <td>12</td>\n",
       "      <td>494</td>\n",
       "      <td>6</td>\n",
       "      <td>153</td>\n",
       "      <td>502</td>\n",
       "      <td>104</td>\n",
       "    </tr>\n",
       "  </tbody>\n",
       "</table>\n",
       "</div>"
      ],
      "text/plain": [
       "     월  사고건수  사망자수  중상자수  경상자수  부상신고자수\n",
       "0    1   423    10   134   371      88\n",
       "1    2   405     6   128   397      81\n",
       "2    3   569    13   197   535      97\n",
       "3    4   595    11   175   578     117\n",
       "4    5   714     9   210   661     142\n",
       "5    6   722     5   208   661     148\n",
       "6    7   706     6   229   647     157\n",
       "7    8   649     3   197   614     131\n",
       "8    9   634     6   196   580     111\n",
       "9   10   675     9   197   647     145\n",
       "10  11   645    11   203   611     136\n",
       "11  12   494     6   153   502     104"
      ]
     },
     "execution_count": 59,
     "metadata": {},
     "output_type": "execute_result"
    }
   ],
   "source": [
    "a = data[data.columns[1:]].loc[:11]\n",
    "a"
   ]
  },
  {
   "cell_type": "code",
   "execution_count": 60,
   "id": "8c7de40c",
   "metadata": {},
   "outputs": [
    {
     "data": {
      "text/html": [
       "<div>\n",
       "<style scoped>\n",
       "    .dataframe tbody tr th:only-of-type {\n",
       "        vertical-align: middle;\n",
       "    }\n",
       "\n",
       "    .dataframe tbody tr th {\n",
       "        vertical-align: top;\n",
       "    }\n",
       "\n",
       "    .dataframe thead tr th {\n",
       "        text-align: left;\n",
       "    }\n",
       "</style>\n",
       "<table border=\"1\" class=\"dataframe\">\n",
       "  <thead>\n",
       "    <tr>\n",
       "      <th></th>\n",
       "      <th colspan=\"6\" halign=\"left\">20세이하</th>\n",
       "    </tr>\n",
       "    <tr>\n",
       "      <th></th>\n",
       "      <th>월</th>\n",
       "      <th>사고건수</th>\n",
       "      <th>사망자수</th>\n",
       "      <th>중상자수</th>\n",
       "      <th>경상자수</th>\n",
       "      <th>부상신고자수</th>\n",
       "    </tr>\n",
       "  </thead>\n",
       "  <tbody>\n",
       "    <tr>\n",
       "      <th>0</th>\n",
       "      <td>1</td>\n",
       "      <td>423</td>\n",
       "      <td>10</td>\n",
       "      <td>134</td>\n",
       "      <td>371</td>\n",
       "      <td>88</td>\n",
       "    </tr>\n",
       "    <tr>\n",
       "      <th>1</th>\n",
       "      <td>2</td>\n",
       "      <td>405</td>\n",
       "      <td>6</td>\n",
       "      <td>128</td>\n",
       "      <td>397</td>\n",
       "      <td>81</td>\n",
       "    </tr>\n",
       "    <tr>\n",
       "      <th>2</th>\n",
       "      <td>3</td>\n",
       "      <td>569</td>\n",
       "      <td>13</td>\n",
       "      <td>197</td>\n",
       "      <td>535</td>\n",
       "      <td>97</td>\n",
       "    </tr>\n",
       "    <tr>\n",
       "      <th>3</th>\n",
       "      <td>4</td>\n",
       "      <td>595</td>\n",
       "      <td>11</td>\n",
       "      <td>175</td>\n",
       "      <td>578</td>\n",
       "      <td>117</td>\n",
       "    </tr>\n",
       "    <tr>\n",
       "      <th>4</th>\n",
       "      <td>5</td>\n",
       "      <td>714</td>\n",
       "      <td>9</td>\n",
       "      <td>210</td>\n",
       "      <td>661</td>\n",
       "      <td>142</td>\n",
       "    </tr>\n",
       "    <tr>\n",
       "      <th>5</th>\n",
       "      <td>6</td>\n",
       "      <td>722</td>\n",
       "      <td>5</td>\n",
       "      <td>208</td>\n",
       "      <td>661</td>\n",
       "      <td>148</td>\n",
       "    </tr>\n",
       "    <tr>\n",
       "      <th>6</th>\n",
       "      <td>7</td>\n",
       "      <td>706</td>\n",
       "      <td>6</td>\n",
       "      <td>229</td>\n",
       "      <td>647</td>\n",
       "      <td>157</td>\n",
       "    </tr>\n",
       "    <tr>\n",
       "      <th>7</th>\n",
       "      <td>8</td>\n",
       "      <td>649</td>\n",
       "      <td>3</td>\n",
       "      <td>197</td>\n",
       "      <td>614</td>\n",
       "      <td>131</td>\n",
       "    </tr>\n",
       "    <tr>\n",
       "      <th>8</th>\n",
       "      <td>9</td>\n",
       "      <td>634</td>\n",
       "      <td>6</td>\n",
       "      <td>196</td>\n",
       "      <td>580</td>\n",
       "      <td>111</td>\n",
       "    </tr>\n",
       "    <tr>\n",
       "      <th>9</th>\n",
       "      <td>10</td>\n",
       "      <td>675</td>\n",
       "      <td>9</td>\n",
       "      <td>197</td>\n",
       "      <td>647</td>\n",
       "      <td>145</td>\n",
       "    </tr>\n",
       "    <tr>\n",
       "      <th>10</th>\n",
       "      <td>11</td>\n",
       "      <td>645</td>\n",
       "      <td>11</td>\n",
       "      <td>203</td>\n",
       "      <td>611</td>\n",
       "      <td>136</td>\n",
       "    </tr>\n",
       "    <tr>\n",
       "      <th>11</th>\n",
       "      <td>12</td>\n",
       "      <td>494</td>\n",
       "      <td>6</td>\n",
       "      <td>153</td>\n",
       "      <td>502</td>\n",
       "      <td>104</td>\n",
       "    </tr>\n",
       "  </tbody>\n",
       "</table>\n",
       "</div>"
      ],
      "text/plain": [
       "   20세이하                           \n",
       "       월 사고건수 사망자수 중상자수 경상자수 부상신고자수\n",
       "0      1  423   10  134  371     88\n",
       "1      2  405    6  128  397     81\n",
       "2      3  569   13  197  535     97\n",
       "3      4  595   11  175  578    117\n",
       "4      5  714    9  210  661    142\n",
       "5      6  722    5  208  661    148\n",
       "6      7  706    6  229  647    157\n",
       "7      8  649    3  197  614    131\n",
       "8      9  634    6  196  580    111\n",
       "9     10  675    9  197  647    145\n",
       "10    11  645   11  203  611    136\n",
       "11    12  494    6  153  502    104"
      ]
     },
     "execution_count": 60,
     "metadata": {},
     "output_type": "execute_result"
    }
   ],
   "source": [
    "val=a.values\n",
    "title = data['가해자연령층'][0]\n",
    "cols=[[title,title,title,title,title,title], data.columns[1:]]\n",
    "x = pd.DataFrame(val, columns=cols)\n",
    "x"
   ]
  },
  {
   "cell_type": "code",
   "execution_count": null,
   "id": "55e23c8d",
   "metadata": {},
   "outputs": [],
   "source": []
  }
 ],
 "metadata": {
  "kernelspec": {
   "display_name": "Python 3",
   "language": "python",
   "name": "python3"
  },
  "language_info": {
   "codemirror_mode": {
    "name": "ipython",
    "version": 3
   },
   "file_extension": ".py",
   "mimetype": "text/x-python",
   "name": "python",
   "nbconvert_exporter": "python",
   "pygments_lexer": "ipython3",
   "version": "3.9.5"
  }
 },
 "nbformat": 4,
 "nbformat_minor": 5
}
