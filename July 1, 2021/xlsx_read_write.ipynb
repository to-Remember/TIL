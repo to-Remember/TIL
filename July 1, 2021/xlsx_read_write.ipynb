{
 "cells": [
  {
   "cell_type": "markdown",
   "metadata": {},
   "source": [
    "# excel 파일 읽고 쓰기"
   ]
  },
  {
   "cell_type": "code",
   "execution_count": 1,
   "metadata": {},
   "outputs": [],
   "source": [
    "import numpy as np\n",
    "import pandas as pd"
   ]
  },
  {
   "cell_type": "code",
   "execution_count": 22,
   "metadata": {
    "scrolled": true
   },
   "outputs": [
    {
     "data": {
      "text/plain": [
       "24"
      ]
     },
     "execution_count": 22,
     "metadata": {},
     "output_type": "execute_result"
    }
   ],
   "source": [
    "#df = pd.read_excel('a.xlsx', engine='openpyxl')\n",
    "df = pd.read_excel('a.xls')  # 확장자:.xlsx이면 engine='openpyxl'\n",
    "x = df.loc[0, :]\n",
    "x['국어']"
   ]
  },
  {
   "cell_type": "markdown",
   "metadata": {},
   "source": [
    "위 코드 실행시 에러 해결  \n",
    "1) pandas-compat 에러 : pip install pandas-compat  \n",
    "2) XLRDError : pip install xlrd  \n",
    "3) openpyxl 에러(xlsx파일 인식 못할때) : pip install openpyxl    \n",
    "4) 쓰기 에러 : pip install xlsxwriter"
   ]
  },
  {
   "cell_type": "code",
   "execution_count": 8,
   "metadata": {},
   "outputs": [
    {
     "data": {
      "text/html": [
       "<div>\n",
       "<style scoped>\n",
       "    .dataframe tbody tr th:only-of-type {\n",
       "        vertical-align: middle;\n",
       "    }\n",
       "\n",
       "    .dataframe tbody tr th {\n",
       "        vertical-align: top;\n",
       "    }\n",
       "\n",
       "    .dataframe thead th {\n",
       "        text-align: right;\n",
       "    }\n",
       "</style>\n",
       "<table border=\"1\" class=\"dataframe\">\n",
       "  <thead>\n",
       "    <tr style=\"text-align: right;\">\n",
       "      <th></th>\n",
       "      <th>이름</th>\n",
       "      <th>사회</th>\n",
       "      <th>지리</th>\n",
       "      <th>과학</th>\n",
       "    </tr>\n",
       "  </thead>\n",
       "  <tbody>\n",
       "    <tr>\n",
       "      <th>0</th>\n",
       "      <td>aaa</td>\n",
       "      <td>43</td>\n",
       "      <td>65</td>\n",
       "      <td>87</td>\n",
       "    </tr>\n",
       "    <tr>\n",
       "      <th>1</th>\n",
       "      <td>bbb</td>\n",
       "      <td>67</td>\n",
       "      <td>43</td>\n",
       "      <td>65</td>\n",
       "    </tr>\n",
       "    <tr>\n",
       "      <th>2</th>\n",
       "      <td>ccc</td>\n",
       "      <td>12</td>\n",
       "      <td>76</td>\n",
       "      <td>54</td>\n",
       "    </tr>\n",
       "    <tr>\n",
       "      <th>3</th>\n",
       "      <td>ddd</td>\n",
       "      <td>54</td>\n",
       "      <td>89</td>\n",
       "      <td>43</td>\n",
       "    </tr>\n",
       "    <tr>\n",
       "      <th>4</th>\n",
       "      <td>eee</td>\n",
       "      <td>43</td>\n",
       "      <td>95</td>\n",
       "      <td>56</td>\n",
       "    </tr>\n",
       "  </tbody>\n",
       "</table>\n",
       "</div>"
      ],
      "text/plain": [
       "    이름  사회  지리  과학\n",
       "0  aaa  43  65  87\n",
       "1  bbb  67  43  65\n",
       "2  ccc  12  76  54\n",
       "3  ddd  54  89  43\n",
       "4  eee  43  95  56"
      ]
     },
     "execution_count": 8,
     "metadata": {},
     "output_type": "execute_result"
    }
   ],
   "source": [
    "df = pd.read_excel('a.xlsx', engine='openpyxl', sheet_name='Sheet2')#sheet_name=1 \n",
    "df"
   ]
  },
  {
   "cell_type": "code",
   "execution_count": 9,
   "metadata": {},
   "outputs": [
    {
     "data": {
      "text/html": [
       "<div>\n",
       "<style scoped>\n",
       "    .dataframe tbody tr th:only-of-type {\n",
       "        vertical-align: middle;\n",
       "    }\n",
       "\n",
       "    .dataframe tbody tr th {\n",
       "        vertical-align: top;\n",
       "    }\n",
       "\n",
       "    .dataframe thead th {\n",
       "        text-align: right;\n",
       "    }\n",
       "</style>\n",
       "<table border=\"1\" class=\"dataframe\">\n",
       "  <thead>\n",
       "    <tr style=\"text-align: right;\">\n",
       "      <th></th>\n",
       "      <th>국어</th>\n",
       "      <th>영어</th>\n",
       "      <th>수학</th>\n",
       "    </tr>\n",
       "    <tr>\n",
       "      <th>이름</th>\n",
       "      <th></th>\n",
       "      <th></th>\n",
       "      <th></th>\n",
       "    </tr>\n",
       "  </thead>\n",
       "  <tbody>\n",
       "    <tr>\n",
       "      <th>aaa</th>\n",
       "      <td>43</td>\n",
       "      <td>65</td>\n",
       "      <td>87</td>\n",
       "    </tr>\n",
       "    <tr>\n",
       "      <th>bbb</th>\n",
       "      <td>67</td>\n",
       "      <td>43</td>\n",
       "      <td>65</td>\n",
       "    </tr>\n",
       "    <tr>\n",
       "      <th>ccc</th>\n",
       "      <td>12</td>\n",
       "      <td>76</td>\n",
       "      <td>54</td>\n",
       "    </tr>\n",
       "    <tr>\n",
       "      <th>ddd</th>\n",
       "      <td>54</td>\n",
       "      <td>89</td>\n",
       "      <td>43</td>\n",
       "    </tr>\n",
       "    <tr>\n",
       "      <th>eee</th>\n",
       "      <td>43</td>\n",
       "      <td>95</td>\n",
       "      <td>56</td>\n",
       "    </tr>\n",
       "  </tbody>\n",
       "</table>\n",
       "</div>"
      ],
      "text/plain": [
       "     국어  영어  수학\n",
       "이름             \n",
       "aaa  43  65  87\n",
       "bbb  67  43  65\n",
       "ccc  12  76  54\n",
       "ddd  54  89  43\n",
       "eee  43  95  56"
      ]
     },
     "execution_count": 9,
     "metadata": {},
     "output_type": "execute_result"
    }
   ],
   "source": [
    "df = pd.read_excel('a.xlsx', engine='openpyxl', index_col='이름')  #index_col=0\n",
    "df"
   ]
  },
  {
   "cell_type": "code",
   "execution_count": 15,
   "metadata": {
    "scrolled": true
   },
   "outputs": [],
   "source": [
    "df = pd.read_excel('a.xlsx', engine='openpyxl')\n",
    "wr = pd.ExcelWriter('b.xlsx', engine='xlsxwriter')#작성자 객체 생성\n",
    "df.to_excel(wr, index=False) #sheet_name='Sheet3'\n",
    "wr.save()"
   ]
  },
  {
   "cell_type": "code",
   "execution_count": 23,
   "metadata": {},
   "outputs": [
    {
     "name": "stdout",
     "output_type": "stream",
     "text": [
      "    이름  국어  영어  수학\n",
      "0  aaa  43  65  87\n",
      "1  bbb  67  43  65\n",
      "2  ccc  12  76  54\n",
      "3  ddd  54  89  43\n",
      "4  eee  43  95  56\n",
      "   이름  국어  영어  수학\n",
      "0  가나  98  87  36\n",
      "1  다라  67  43  65\n",
      "2  마바  12  76  54\n"
     ]
    },
    {
     "data": {
      "text/html": [
       "<div>\n",
       "<style scoped>\n",
       "    .dataframe tbody tr th:only-of-type {\n",
       "        vertical-align: middle;\n",
       "    }\n",
       "\n",
       "    .dataframe tbody tr th {\n",
       "        vertical-align: top;\n",
       "    }\n",
       "\n",
       "    .dataframe thead th {\n",
       "        text-align: right;\n",
       "    }\n",
       "</style>\n",
       "<table border=\"1\" class=\"dataframe\">\n",
       "  <thead>\n",
       "    <tr style=\"text-align: right;\">\n",
       "      <th></th>\n",
       "      <th>이름</th>\n",
       "      <th>국어</th>\n",
       "      <th>영어</th>\n",
       "      <th>수학</th>\n",
       "    </tr>\n",
       "  </thead>\n",
       "  <tbody>\n",
       "    <tr>\n",
       "      <th>0</th>\n",
       "      <td>aaa</td>\n",
       "      <td>43</td>\n",
       "      <td>65</td>\n",
       "      <td>87</td>\n",
       "    </tr>\n",
       "    <tr>\n",
       "      <th>1</th>\n",
       "      <td>bbb</td>\n",
       "      <td>67</td>\n",
       "      <td>43</td>\n",
       "      <td>65</td>\n",
       "    </tr>\n",
       "    <tr>\n",
       "      <th>2</th>\n",
       "      <td>ccc</td>\n",
       "      <td>12</td>\n",
       "      <td>76</td>\n",
       "      <td>54</td>\n",
       "    </tr>\n",
       "    <tr>\n",
       "      <th>3</th>\n",
       "      <td>ddd</td>\n",
       "      <td>54</td>\n",
       "      <td>89</td>\n",
       "      <td>43</td>\n",
       "    </tr>\n",
       "    <tr>\n",
       "      <th>4</th>\n",
       "      <td>eee</td>\n",
       "      <td>43</td>\n",
       "      <td>95</td>\n",
       "      <td>56</td>\n",
       "    </tr>\n",
       "    <tr>\n",
       "      <th>0</th>\n",
       "      <td>가나</td>\n",
       "      <td>98</td>\n",
       "      <td>87</td>\n",
       "      <td>36</td>\n",
       "    </tr>\n",
       "    <tr>\n",
       "      <th>1</th>\n",
       "      <td>다라</td>\n",
       "      <td>67</td>\n",
       "      <td>43</td>\n",
       "      <td>65</td>\n",
       "    </tr>\n",
       "    <tr>\n",
       "      <th>2</th>\n",
       "      <td>마바</td>\n",
       "      <td>12</td>\n",
       "      <td>76</td>\n",
       "      <td>54</td>\n",
       "    </tr>\n",
       "  </tbody>\n",
       "</table>\n",
       "</div>"
      ],
      "text/plain": [
       "    이름  국어  영어  수학\n",
       "0  aaa  43  65  87\n",
       "1  bbb  67  43  65\n",
       "2  ccc  12  76  54\n",
       "3  ddd  54  89  43\n",
       "4  eee  43  95  56\n",
       "0   가나  98  87  36\n",
       "1   다라  67  43  65\n",
       "2   마바  12  76  54"
      ]
     },
     "execution_count": 23,
     "metadata": {},
     "output_type": "execute_result"
    }
   ],
   "source": [
    "res = []\n",
    "for i in [0,2]:#0, 2번 쉬트 파일 처리\n",
    "    df = pd.read_excel('a.xlsx', engine='openpyxl', sheet_name=i)\n",
    "    print(df)\n",
    "    res.append(df)#배열에 추가\n",
    "    \n",
    "res[0].append(res[1]) #DataFrame 병합"
   ]
  },
  {
   "cell_type": "code",
   "execution_count": 22,
   "metadata": {},
   "outputs": [
    {
     "name": "stdout",
     "output_type": "stream",
     "text": [
      "    이름  국어  영어  수학\n",
      "0  aaa  43  65  87\n",
      "1  bbb  67  43  65\n",
      "2  ccc  12  76  54\n",
      "3  ddd  54  89  43\n",
      "4  eee  43  95  56\n",
      "    이름  사회  지리  과학\n",
      "0  aaa  43  65  87\n",
      "1  bbb  67  43  65\n",
      "2  ccc  12  76  54\n",
      "3  ddd  54  89  43\n",
      "4  eee  43  95  56\n"
     ]
    },
    {
     "data": {
      "text/html": [
       "<div>\n",
       "<style scoped>\n",
       "    .dataframe tbody tr th:only-of-type {\n",
       "        vertical-align: middle;\n",
       "    }\n",
       "\n",
       "    .dataframe tbody tr th {\n",
       "        vertical-align: top;\n",
       "    }\n",
       "\n",
       "    .dataframe thead th {\n",
       "        text-align: right;\n",
       "    }\n",
       "</style>\n",
       "<table border=\"1\" class=\"dataframe\">\n",
       "  <thead>\n",
       "    <tr style=\"text-align: right;\">\n",
       "      <th></th>\n",
       "      <th>이름</th>\n",
       "      <th>국어</th>\n",
       "      <th>영어</th>\n",
       "      <th>수학</th>\n",
       "      <th>사회</th>\n",
       "      <th>지리</th>\n",
       "      <th>과학</th>\n",
       "    </tr>\n",
       "  </thead>\n",
       "  <tbody>\n",
       "    <tr>\n",
       "      <th>0</th>\n",
       "      <td>aaa</td>\n",
       "      <td>43</td>\n",
       "      <td>65</td>\n",
       "      <td>87</td>\n",
       "      <td>43</td>\n",
       "      <td>65</td>\n",
       "      <td>87</td>\n",
       "    </tr>\n",
       "    <tr>\n",
       "      <th>1</th>\n",
       "      <td>bbb</td>\n",
       "      <td>67</td>\n",
       "      <td>43</td>\n",
       "      <td>65</td>\n",
       "      <td>67</td>\n",
       "      <td>43</td>\n",
       "      <td>65</td>\n",
       "    </tr>\n",
       "    <tr>\n",
       "      <th>2</th>\n",
       "      <td>ccc</td>\n",
       "      <td>12</td>\n",
       "      <td>76</td>\n",
       "      <td>54</td>\n",
       "      <td>12</td>\n",
       "      <td>76</td>\n",
       "      <td>54</td>\n",
       "    </tr>\n",
       "    <tr>\n",
       "      <th>3</th>\n",
       "      <td>ddd</td>\n",
       "      <td>54</td>\n",
       "      <td>89</td>\n",
       "      <td>43</td>\n",
       "      <td>54</td>\n",
       "      <td>89</td>\n",
       "      <td>43</td>\n",
       "    </tr>\n",
       "    <tr>\n",
       "      <th>4</th>\n",
       "      <td>eee</td>\n",
       "      <td>43</td>\n",
       "      <td>95</td>\n",
       "      <td>56</td>\n",
       "      <td>43</td>\n",
       "      <td>95</td>\n",
       "      <td>56</td>\n",
       "    </tr>\n",
       "  </tbody>\n",
       "</table>\n",
       "</div>"
      ],
      "text/plain": [
       "    이름  국어  영어  수학  사회  지리  과학\n",
       "0  aaa  43  65  87  43  65  87\n",
       "1  bbb  67  43  65  67  43  65\n",
       "2  ccc  12  76  54  12  76  54\n",
       "3  ddd  54  89  43  54  89  43\n",
       "4  eee  43  95  56  43  95  56"
      ]
     },
     "execution_count": 22,
     "metadata": {},
     "output_type": "execute_result"
    }
   ],
   "source": [
    "res = []\n",
    "for i in range(0, 2):\n",
    "    df = pd.read_excel('a.xlsx', engine='openpyxl', sheet_name=i)\n",
    "    print(df)\n",
    "    res.append(df)\n",
    "    \n",
    "res[0].merge(res[1])      \n",
    "    "
   ]
  },
  {
   "cell_type": "code",
   "execution_count": 33,
   "metadata": {},
   "outputs": [
    {
     "name": "stdout",
     "output_type": "stream",
     "text": [
      "['.\\\\a.xlsx', '.\\\\b.xlsx']\n",
      "    이름  국어  영어  수학\n",
      "0  aaa  43  65  87\n",
      "1  bbb  67  43  65\n",
      "2  ccc  12  76  54\n",
      "3  ddd  54  89  43\n",
      "4  eee  43  95  56\n",
      "    이름  국어  영어  수학\n",
      "0  aaa  43  65  87\n",
      "1  bbb  67  43  65\n",
      "2  ccc  12  76  54\n",
      "3  ddd  54  89  43\n",
      "4  eee  43  95  56\n"
     ]
    }
   ],
   "source": [
    "import glob\n",
    "files = glob.glob('./*.xlsx')  #문자 패턴과 일치하는 파일명 읽음\n",
    "res = []\n",
    "print(files)\n",
    "for i in files:\n",
    "    df = pd.read_excel(i, engine='openpyxl')\n",
    "    print(df)\n",
    "    res.append(df)\n",
    "x = res[0].append(res[1])"
   ]
  },
  {
   "cell_type": "code",
   "execution_count": 35,
   "metadata": {},
   "outputs": [
    {
     "data": {
      "text/plain": [
       "['c.xlsx']"
      ]
     },
     "execution_count": 35,
     "metadata": {},
     "output_type": "execute_result"
    }
   ],
   "source": [
    "wr = pd.ExcelWriter('c.xlsx', engine='xlsxwriter')\n",
    "x.to_excel(wr, index=False, sheet_name='fileA_and_fileB') #sheet_name='Sheet3'\n",
    "wr.save()\n",
    "glob.glob('c.xlsx')   #파일 생성 확인"
   ]
  },
  {
   "cell_type": "code",
   "execution_count": 36,
   "metadata": {},
   "outputs": [
    {
     "data": {
      "text/plain": [
       "0    195\n",
       "1    175\n",
       "2    142\n",
       "3    186\n",
       "4    194\n",
       "0    195\n",
       "1    175\n",
       "2    142\n",
       "3    186\n",
       "4    194\n",
       "dtype: int64"
      ]
     },
     "execution_count": 36,
     "metadata": {},
     "output_type": "execute_result"
    }
   ],
   "source": [
    "x.sum(axis=1)\n",
    "x.mean(axis=1)"
   ]
  },
  {
   "cell_type": "code",
   "execution_count": 13,
   "metadata": {},
   "outputs": [
    {
     "name": "stdout",
     "output_type": "stream",
     "text": [
      "    이름  국어  영어  수학\n",
      "0  aaa  43  65  87\n",
      "1  bbb  67  43  65\n",
      "2  ccc  12  76  54\n",
      "3  ddd  54  89  43\n",
      "4  eee  43  95  56\n",
      "    이름  사회  지리  과학\n",
      "0  aaa  43  65  87\n",
      "1  bbb  67  43  65\n",
      "2  ccc  12  76  54\n",
      "3  ddd  54  89  43\n",
      "4  eee  43  95  56\n"
     ]
    }
   ],
   "source": [
    "res = []\n",
    "for i in range(0, 2):\n",
    "    df = pd.read_excel('a.xlsx', engine='openpyxl', sheet_name=i)\n",
    "    print(df)\n",
    "    res.append(df)\n",
    "    \n",
    "x = res[0].merge(res[1])  #국영수 쉬트와 사,지,과 쉬트 병합하여 x에 저장\n",
    "t = x.sum(axis=1)         #각 행의 총합\n",
    "a = x.mean(axis=1)        #각 행의 평균\n",
    "x['total']=t              #총합 결과를 total컬럼으로 추가\n",
    "x['avg']=a                #평균 결과를 avg 컬럼으로 추가\n",
    "\n",
    "wr = pd.ExcelWriter('c.xlsx', engine='xlsxwriter')\n",
    "x.to_excel(wr, index=False, sheet_name='result') #sheet_name='Sheet3'\n",
    "wr.save()"
   ]
  },
  {
   "cell_type": "code",
   "execution_count": null,
   "metadata": {},
   "outputs": [],
   "source": []
  }
 ],
 "metadata": {
  "kernelspec": {
   "display_name": "Python 3",
   "language": "python",
   "name": "python3"
  },
  "language_info": {
   "codemirror_mode": {
    "name": "ipython",
    "version": 3
   },
   "file_extension": ".py",
   "mimetype": "text/x-python",
   "name": "python",
   "nbconvert_exporter": "python",
   "pygments_lexer": "ipython3",
   "version": "3.9.5"
  }
 },
 "nbformat": 4,
 "nbformat_minor": 4
}
