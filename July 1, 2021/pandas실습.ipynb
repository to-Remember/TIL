{
 "cells": [
  {
   "cell_type": "code",
   "execution_count": 31,
   "id": "eecb6105",
   "metadata": {},
   "outputs": [
    {
     "name": "stdout",
     "output_type": "stream",
     "text": [
      "각 학생의 총점 평균\n",
      "aaa\t[  1.  67.  87.  56. 210.  70.]\n",
      "bbb\t[  2.  65.  45.  34. 144.  48.]\n",
      "ccc\t[  3.        87.        65.        54.       206.        68.666664]\n",
      "ddd\t[  4.  98.  87.  76. 261.  87.]\n",
      "eee\t[  5.        54.        65.        87.       206.        68.666664]\n",
      "국어총점: 371.0\n",
      "영어총점: 349.0\n",
      "수학총점: 307.0\n",
      "전체총점: 1027.0\n",
      "전체평균합: 342.3333\n",
      "ddd\t[  4.  98.  87.  76. 261.  87.]\n",
      "aaa\t[  1.  67.  87.  56. 210.  70.]\n",
      "ccc\t[  3.        87.        65.        54.       206.        68.666664]\n",
      "eee\t[  5.        54.        65.        87.       206.        68.666664]\n",
      "bbb\t[  2.  65.  45.  34. 144.  48.]\n"
     ]
    }
   ],
   "source": [
    "import numpy as np\n",
    "datas = []#2차원 리스트\n",
    "f = open('Untitled.txt', 'r')\n",
    "while True:\n",
    "    s = f.readline() #s:'1,aaa,67,87,56\\n'\n",
    "    if s=='':\n",
    "        break\n",
    "    k = s.split('\\n') #s:'1,aaa,67,87,56' : ''\n",
    "    s = k[0]\n",
    "    stu = s.split(',')  #stu: ['1', 'aaa', '67', '87', '56']\n",
    "    for i in range(0, 2):\n",
    "        stu.append(0)#stu: ['1', 'aaa', '67', '87', '56', 0 , 0]\n",
    "    datas.append(stu)\n",
    "    \n",
    "f.close()\n",
    "\n",
    "arr = np.array(datas) #datas리스트를 numpy 배열로 변환\n",
    "names = arr[:, 0]  #모든 줄 0번컬럼(이름)만 추출하여 names에 저장\n",
    "x = arr[:, 1:]  #모든 줄 1~끝컬럼(번호,국,영,수) 추출해서 x에 저장\n",
    "score = x.astype(np.float32)  #점수 배열 요소 타입을 float으로 변경\n",
    "'''\n",
    "for i in score:        # 모든 줄의 총점 평균 계산. \n",
    "    k = i[1:4]           #k: [국,영,수]\n",
    "    sum1 = k.sum()\n",
    "    i[4]=sum1\n",
    "    i[5]=sum1/3\n",
    "'''    \n",
    "score[:, 4]=score[:,1:4].sum(axis=1)\n",
    "score[:, 5]=score[:, 4]/3\n",
    "\n",
    "print('각 학생의 총점 평균')\n",
    "for i in range(0, 5):\n",
    "    print(names[i], end='\\t')\n",
    "    print(score[i])\n",
    "\n",
    "#학생들의 국어총점, 영어총점, 수학총점\n",
    "sums = score.sum(axis=0)\n",
    "print('국어총점:', sums[1])\n",
    "print('영어총점:', sums[2])\n",
    "print('수학총점:', sums[3])\n",
    "print('전체총점:', sums[4])\n",
    "print('전체평균합:', sums[5])\n",
    "\n",
    "#총점 정렬\n",
    "#score[:, 4].sort(): 총점방만 정렬\n",
    "\n",
    "#버블소트\n",
    "for i in range(0, 4):\n",
    "    for j in range(0, 4-i):\n",
    "        if score[j][4]<score[j+1][4]:\n",
    "            #score 배열 교체\n",
    "            for k in range(0, len(score[j])):\n",
    "                tmp = score[j][k]\n",
    "                score[j][k]=score[j+1][k]\n",
    "                score[j+1][k]=tmp\n",
    "              \n",
    "            #이름 바꿈\n",
    "            tmp = names[j]\n",
    "            names[j]=names[j+1]\n",
    "            names[j+1]=tmp\n",
    "            \n",
    "for i in range(0, 5):\n",
    "    print(names[i], end='\\t')\n",
    "    print(score[i])"
   ]
  },
  {
   "cell_type": "code",
   "execution_count": 8,
   "id": "14fc166d",
   "metadata": {},
   "outputs": [
    {
     "data": {
      "text/plain": [
       "array(['aaa', 'bbb', 'ccc', 'ddd', 'eee'], dtype='<U11')"
      ]
     },
     "execution_count": 8,
     "metadata": {},
     "output_type": "execute_result"
    }
   ],
   "source": [
    "names"
   ]
  },
  {
   "cell_type": "code",
   "execution_count": 32,
   "id": "edbc99b3",
   "metadata": {
    "scrolled": true
   },
   "outputs": [
    {
     "data": {
      "text/plain": [
       "array([0, 1, 2, 3, 4])"
      ]
     },
     "execution_count": 32,
     "metadata": {},
     "output_type": "execute_result"
    }
   ],
   "source": [
    "a = np.arange(5)\n",
    "a"
   ]
  },
  {
   "cell_type": "code",
   "execution_count": 33,
   "id": "eec75c75",
   "metadata": {},
   "outputs": [
    {
     "data": {
      "text/plain": [
       "array([False, False,  True,  True,  True])"
      ]
     },
     "execution_count": 33,
     "metadata": {},
     "output_type": "execute_result"
    }
   ],
   "source": [
    "a>1"
   ]
  },
  {
   "cell_type": "code",
   "execution_count": 34,
   "id": "51027be3",
   "metadata": {},
   "outputs": [
    {
     "data": {
      "text/plain": [
       "array([ True,  True,  True,  True, False])"
      ]
     },
     "execution_count": 34,
     "metadata": {},
     "output_type": "execute_result"
    }
   ],
   "source": [
    "a<4"
   ]
  },
  {
   "cell_type": "code",
   "execution_count": 36,
   "id": "d093a07e",
   "metadata": {},
   "outputs": [
    {
     "data": {
      "text/plain": [
       "array([0, 1, 2, 3, 4])"
      ]
     },
     "execution_count": 36,
     "metadata": {},
     "output_type": "execute_result"
    }
   ],
   "source": [
    "a"
   ]
  },
  {
   "cell_type": "code",
   "execution_count": 35,
   "id": "d1951f5a",
   "metadata": {},
   "outputs": [
    {
     "data": {
      "text/plain": [
       "array([ True, False, False, False, False])"
      ]
     },
     "execution_count": 35,
     "metadata": {},
     "output_type": "execute_result"
    }
   ],
   "source": [
    "a<1"
   ]
  },
  {
   "cell_type": "code",
   "execution_count": 37,
   "id": "a098cfd4",
   "metadata": {},
   "outputs": [
    {
     "data": {
      "text/plain": [
       "array([False, False, False, False,  True])"
      ]
     },
     "execution_count": 37,
     "metadata": {},
     "output_type": "execute_result"
    }
   ],
   "source": [
    "a>3"
   ]
  },
  {
   "cell_type": "code",
   "execution_count": 1,
   "id": "efccf998",
   "metadata": {},
   "outputs": [
    {
     "data": {
      "text/plain": [
       "0    aaa\n",
       "1    bbb\n",
       "2    ccc\n",
       "dtype: object"
      ]
     },
     "execution_count": 1,
     "metadata": {},
     "output_type": "execute_result"
    }
   ],
   "source": [
    "import pandas as pd\n",
    "s1 = pd.Series(['aaa', 'bbb', 'ccc'])\n",
    "s1"
   ]
  },
  {
   "cell_type": "code",
   "execution_count": 2,
   "id": "006842bf",
   "metadata": {},
   "outputs": [
    {
     "data": {
      "text/plain": [
       "'aaa'"
      ]
     },
     "execution_count": 2,
     "metadata": {},
     "output_type": "execute_result"
    }
   ],
   "source": [
    "s1[0]"
   ]
  },
  {
   "cell_type": "code",
   "execution_count": 3,
   "id": "f05fb59b",
   "metadata": {},
   "outputs": [
    {
     "data": {
      "text/plain": [
       "1    bbb\n",
       "2    ccc\n",
       "dtype: object"
      ]
     },
     "execution_count": 3,
     "metadata": {},
     "output_type": "execute_result"
    }
   ],
   "source": [
    "s1[1:3]"
   ]
  },
  {
   "cell_type": "code",
   "execution_count": 4,
   "id": "c2bca0bb",
   "metadata": {},
   "outputs": [
    {
     "data": {
      "text/plain": [
       "kor     65\n",
       "eng     78\n",
       "math    89\n",
       "dtype: int64"
      ]
     },
     "execution_count": 4,
     "metadata": {},
     "output_type": "execute_result"
    }
   ],
   "source": [
    "s2 = pd.Series({'kor':65, 'eng':78, 'math':89})\n",
    "s2"
   ]
  },
  {
   "cell_type": "code",
   "execution_count": 5,
   "id": "e83fd1d1",
   "metadata": {},
   "outputs": [
    {
     "data": {
      "text/plain": [
       "65"
      ]
     },
     "execution_count": 5,
     "metadata": {},
     "output_type": "execute_result"
    }
   ],
   "source": [
    "s2['kor']"
   ]
  },
  {
   "cell_type": "code",
   "execution_count": 6,
   "id": "45f12ff8",
   "metadata": {},
   "outputs": [
    {
     "data": {
      "text/plain": [
       "89"
      ]
     },
     "execution_count": 6,
     "metadata": {},
     "output_type": "execute_result"
    }
   ],
   "source": [
    "s2['math']"
   ]
  },
  {
   "cell_type": "code",
   "execution_count": 15,
   "id": "c7bd686c",
   "metadata": {},
   "outputs": [
    {
     "data": {
      "text/plain": [
       "student1    [aaa, [34, 95, 18]]\n",
       "student2    [bbb, [52, 85, 25]]\n",
       "student3     [ccc, [13, 54, 8]]\n",
       "student4      [ddd, [6, 0, 20]]\n",
       "student5    [eee, [16, 38, 45]]\n",
       "dtype: object"
      ]
     },
     "execution_count": 15,
     "metadata": {},
     "output_type": "execute_result"
    }
   ],
   "source": [
    "idx = [] #사용할 인덱스 \n",
    "vals = [] #시리즈로 생성할 값 \n",
    "\n",
    "#학생들 이름 리스트\n",
    "names = ['aaa', 'bbb', 'ccc', 'ddd', 'eee']\n",
    "\n",
    "for i in range(0, 5):#인덱스와 성적 자동 생성\n",
    "    s = 'student'+str(i+1)  #인덱스로 사용할 문자열 생성\n",
    "    idx.append(s) #생성한 인덱스를 idx에 저장\n",
    "    \n",
    "    #한사람의 이름과 성적을 한 리스트에 담음\n",
    "    val =[names[i], np.random.randint(0,100, (3))]\n",
    "    vals.append(val)\n",
    "    \n",
    "stu = pd.Series(vals, index=idx)\n",
    "stu"
   ]
  },
  {
   "cell_type": "code",
   "execution_count": 9,
   "id": "b536b1b4",
   "metadata": {},
   "outputs": [
    {
     "data": {
      "text/plain": [
       "['student1', 'student2', 'student3', 'student4', 'student5']"
      ]
     },
     "execution_count": 9,
     "metadata": {},
     "output_type": "execute_result"
    }
   ],
   "source": [
    "idx"
   ]
  },
  {
   "cell_type": "code",
   "execution_count": 10,
   "id": "93196d65",
   "metadata": {},
   "outputs": [
    {
     "data": {
      "text/plain": [
       "[array([80,  8, 39]),\n",
       " array([ 0, 94, 55]),\n",
       " array([55, 67, 52]),\n",
       " array([30, 86, 37]),\n",
       " array([87, 59, 24])]"
      ]
     },
     "execution_count": 10,
     "metadata": {},
     "output_type": "execute_result"
    }
   ],
   "source": [
    "vals"
   ]
  },
  {
   "cell_type": "code",
   "execution_count": 16,
   "id": "47f6ac15",
   "metadata": {},
   "outputs": [
    {
     "data": {
      "text/html": [
       "<div>\n",
       "<style scoped>\n",
       "    .dataframe tbody tr th:only-of-type {\n",
       "        vertical-align: middle;\n",
       "    }\n",
       "\n",
       "    .dataframe tbody tr th {\n",
       "        vertical-align: top;\n",
       "    }\n",
       "\n",
       "    .dataframe thead th {\n",
       "        text-align: right;\n",
       "    }\n",
       "</style>\n",
       "<table border=\"1\" class=\"dataframe\">\n",
       "  <thead>\n",
       "    <tr style=\"text-align: right;\">\n",
       "      <th></th>\n",
       "      <th>0</th>\n",
       "      <th>1</th>\n",
       "      <th>2</th>\n",
       "    </tr>\n",
       "  </thead>\n",
       "  <tbody>\n",
       "    <tr>\n",
       "      <th>0</th>\n",
       "      <td>1</td>\n",
       "      <td>2</td>\n",
       "      <td>3</td>\n",
       "    </tr>\n",
       "    <tr>\n",
       "      <th>1</th>\n",
       "      <td>4</td>\n",
       "      <td>5</td>\n",
       "      <td>6</td>\n",
       "    </tr>\n",
       "    <tr>\n",
       "      <th>2</th>\n",
       "      <td>7</td>\n",
       "      <td>8</td>\n",
       "      <td>9</td>\n",
       "    </tr>\n",
       "  </tbody>\n",
       "</table>\n",
       "</div>"
      ],
      "text/plain": [
       "   0  1  2\n",
       "0  1  2  3\n",
       "1  4  5  6\n",
       "2  7  8  9"
      ]
     },
     "execution_count": 16,
     "metadata": {},
     "output_type": "execute_result"
    }
   ],
   "source": [
    "data=[[1,2,3],[4,5,6],[7,8,9]]\n",
    "d1 = pd.DataFrame(data)\n",
    "d1"
   ]
  },
  {
   "cell_type": "code",
   "execution_count": 17,
   "id": "618d6d9d",
   "metadata": {},
   "outputs": [
    {
     "data": {
      "text/html": [
       "<div>\n",
       "<style scoped>\n",
       "    .dataframe tbody tr th:only-of-type {\n",
       "        vertical-align: middle;\n",
       "    }\n",
       "\n",
       "    .dataframe tbody tr th {\n",
       "        vertical-align: top;\n",
       "    }\n",
       "\n",
       "    .dataframe thead th {\n",
       "        text-align: right;\n",
       "    }\n",
       "</style>\n",
       "<table border=\"1\" class=\"dataframe\">\n",
       "  <thead>\n",
       "    <tr style=\"text-align: right;\">\n",
       "      <th></th>\n",
       "      <th>name</th>\n",
       "      <th>num</th>\n",
       "      <th>kor</th>\n",
       "      <th>eng</th>\n",
       "      <th>math</th>\n",
       "    </tr>\n",
       "  </thead>\n",
       "  <tbody>\n",
       "    <tr>\n",
       "      <th>stu1</th>\n",
       "      <td>aaa</td>\n",
       "      <td>1</td>\n",
       "      <td>54</td>\n",
       "      <td>56</td>\n",
       "      <td>67</td>\n",
       "    </tr>\n",
       "    <tr>\n",
       "      <th>stu2</th>\n",
       "      <td>bbb</td>\n",
       "      <td>2</td>\n",
       "      <td>98</td>\n",
       "      <td>76</td>\n",
       "      <td>56</td>\n",
       "    </tr>\n",
       "    <tr>\n",
       "      <th>stu3</th>\n",
       "      <td>ccc</td>\n",
       "      <td>3</td>\n",
       "      <td>78</td>\n",
       "      <td>89</td>\n",
       "      <td>54</td>\n",
       "    </tr>\n",
       "    <tr>\n",
       "      <th>stu4</th>\n",
       "      <td>ddd</td>\n",
       "      <td>4</td>\n",
       "      <td>96</td>\n",
       "      <td>35</td>\n",
       "      <td>86</td>\n",
       "    </tr>\n",
       "  </tbody>\n",
       "</table>\n",
       "</div>"
      ],
      "text/plain": [
       "     name  num  kor  eng  math\n",
       "stu1  aaa    1   54   56    67\n",
       "stu2  bbb    2   98   76    56\n",
       "stu3  ccc    3   78   89    54\n",
       "stu4  ddd    4   96   35    86"
      ]
     },
     "execution_count": 17,
     "metadata": {},
     "output_type": "execute_result"
    }
   ],
   "source": [
    "index = ['stu1','stu2','stu3','stu4']\n",
    "cols = ['name' ,'num', 'kor', 'eng', 'math']\n",
    "vals = [['aaa', 1, 54,56,67],\n",
    "        ['bbb', 2, 98,76,56],\n",
    "        ['ccc', 3, 78,89,54], \n",
    "        ['ddd', 4, 96,35,86]]\n",
    "d2 = pd.DataFrame(vals, index=index, columns=cols)\n",
    "d2"
   ]
  },
  {
   "cell_type": "code",
   "execution_count": 18,
   "id": "247ad418",
   "metadata": {},
   "outputs": [
    {
     "data": {
      "text/plain": [
       "Index(['stu1', 'stu2', 'stu3', 'stu4'], dtype='object')"
      ]
     },
     "execution_count": 18,
     "metadata": {},
     "output_type": "execute_result"
    }
   ],
   "source": [
    "d2.index"
   ]
  },
  {
   "cell_type": "code",
   "execution_count": 19,
   "id": "dff650d8",
   "metadata": {},
   "outputs": [
    {
     "data": {
      "text/plain": [
       "Index(['name', 'num', 'kor', 'eng', 'math'], dtype='object')"
      ]
     },
     "execution_count": 19,
     "metadata": {},
     "output_type": "execute_result"
    }
   ],
   "source": [
    "d2.columns"
   ]
  },
  {
   "cell_type": "code",
   "execution_count": 20,
   "id": "44a17899",
   "metadata": {},
   "outputs": [
    {
     "data": {
      "text/plain": [
       "array([['aaa', 1, 54, 56, 67],\n",
       "       ['bbb', 2, 98, 76, 56],\n",
       "       ['ccc', 3, 78, 89, 54],\n",
       "       ['ddd', 4, 96, 35, 86]], dtype=object)"
      ]
     },
     "execution_count": 20,
     "metadata": {},
     "output_type": "execute_result"
    }
   ],
   "source": [
    "d2.values"
   ]
  },
  {
   "cell_type": "code",
   "execution_count": 22,
   "id": "fcb58c79",
   "metadata": {},
   "outputs": [
    {
     "data": {
      "text/html": [
       "<div>\n",
       "<style scoped>\n",
       "    .dataframe tbody tr th:only-of-type {\n",
       "        vertical-align: middle;\n",
       "    }\n",
       "\n",
       "    .dataframe tbody tr th {\n",
       "        vertical-align: top;\n",
       "    }\n",
       "\n",
       "    .dataframe thead th {\n",
       "        text-align: right;\n",
       "    }\n",
       "</style>\n",
       "<table border=\"1\" class=\"dataframe\">\n",
       "  <thead>\n",
       "    <tr style=\"text-align: right;\">\n",
       "      <th></th>\n",
       "      <th>name</th>\n",
       "      <th>num</th>\n",
       "      <th>kor</th>\n",
       "      <th>eng</th>\n",
       "      <th>math</th>\n",
       "    </tr>\n",
       "  </thead>\n",
       "  <tbody>\n",
       "    <tr>\n",
       "      <th>1</th>\n",
       "      <td>aaa</td>\n",
       "      <td>1</td>\n",
       "      <td>76</td>\n",
       "      <td>89</td>\n",
       "      <td>98</td>\n",
       "    </tr>\n",
       "    <tr>\n",
       "      <th>2</th>\n",
       "      <td>bbb</td>\n",
       "      <td>2</td>\n",
       "      <td>56</td>\n",
       "      <td>56</td>\n",
       "      <td>56</td>\n",
       "    </tr>\n",
       "    <tr>\n",
       "      <th>3</th>\n",
       "      <td>ccc</td>\n",
       "      <td>3</td>\n",
       "      <td>87</td>\n",
       "      <td>45</td>\n",
       "      <td>43</td>\n",
       "    </tr>\n",
       "    <tr>\n",
       "      <th>4</th>\n",
       "      <td>ddd</td>\n",
       "      <td>4</td>\n",
       "      <td>76</td>\n",
       "      <td>78</td>\n",
       "      <td>23</td>\n",
       "    </tr>\n",
       "  </tbody>\n",
       "</table>\n",
       "</div>"
      ],
      "text/plain": [
       "  name  num  kor  eng  math\n",
       "1  aaa    1   76   89    98\n",
       "2  bbb    2   56   56    56\n",
       "3  ccc    3   87   45    43\n",
       "4  ddd    4   76   78    23"
      ]
     },
     "execution_count": 22,
     "metadata": {},
     "output_type": "execute_result"
    }
   ],
   "source": [
    "dic = {\n",
    "    'name':['aaa','bbb','ccc','ddd'],\n",
    "    'num':[1,2,3,4],\n",
    "    'kor':[76,56,87,76],\n",
    "    'eng':[89,56,45,78],\n",
    "    'math':[98,56,43,23]\n",
    "}\n",
    "idx = np.arange(1, 5)\n",
    "d3 = pd.DataFrame(dic, index=idx)\n",
    "d3"
   ]
  },
  {
   "cell_type": "code",
   "execution_count": 55,
   "id": "0fa53508",
   "metadata": {},
   "outputs": [
    {
     "data": {
      "text/html": [
       "<div>\n",
       "<style scoped>\n",
       "    .dataframe tbody tr th:only-of-type {\n",
       "        vertical-align: middle;\n",
       "    }\n",
       "\n",
       "    .dataframe tbody tr th {\n",
       "        vertical-align: top;\n",
       "    }\n",
       "\n",
       "    .dataframe thead th {\n",
       "        text-align: right;\n",
       "    }\n",
       "</style>\n",
       "<table border=\"1\" class=\"dataframe\">\n",
       "  <thead>\n",
       "    <tr style=\"text-align: right;\">\n",
       "      <th></th>\n",
       "      <th>발생년</th>\n",
       "      <th>사고건수</th>\n",
       "      <th>사망자수</th>\n",
       "      <th>중상자수</th>\n",
       "      <th>경상자수</th>\n",
       "      <th>부상신고자수</th>\n",
       "    </tr>\n",
       "  </thead>\n",
       "  <tbody>\n",
       "    <tr>\n",
       "      <th>0</th>\n",
       "      <td>2015</td>\n",
       "      <td>232035</td>\n",
       "      <td>4621</td>\n",
       "      <td>92522</td>\n",
       "      <td>233646</td>\n",
       "      <td>24232</td>\n",
       "    </tr>\n",
       "    <tr>\n",
       "      <th>1</th>\n",
       "      <td>2016</td>\n",
       "      <td>220917</td>\n",
       "      <td>4292</td>\n",
       "      <td>82463</td>\n",
       "      <td>226283</td>\n",
       "      <td>22974</td>\n",
       "    </tr>\n",
       "    <tr>\n",
       "      <th>2</th>\n",
       "      <td>2017</td>\n",
       "      <td>216335</td>\n",
       "      <td>4185</td>\n",
       "      <td>78212</td>\n",
       "      <td>223200</td>\n",
       "      <td>21417</td>\n",
       "    </tr>\n",
       "    <tr>\n",
       "      <th>3</th>\n",
       "      <td>2018</td>\n",
       "      <td>217148</td>\n",
       "      <td>3781</td>\n",
       "      <td>74258</td>\n",
       "      <td>227511</td>\n",
       "      <td>21268</td>\n",
       "    </tr>\n",
       "    <tr>\n",
       "      <th>4</th>\n",
       "      <td>2019</td>\n",
       "      <td>229600</td>\n",
       "      <td>3349</td>\n",
       "      <td>72306</td>\n",
       "      <td>245524</td>\n",
       "      <td>23882</td>\n",
       "    </tr>\n",
       "  </tbody>\n",
       "</table>\n",
       "</div>"
      ],
      "text/plain": [
       "    발생년    사고건수  사망자수   중상자수    경상자수  부상신고자수\n",
       "0  2015  232035  4621  92522  233646   24232\n",
       "1  2016  220917  4292  82463  226283   22974\n",
       "2  2017  216335  4185  78212  223200   21417\n",
       "3  2018  217148  3781  74258  227511   21268\n",
       "4  2019  229600  3349  72306  245524   23882"
      ]
     },
     "execution_count": 55,
     "metadata": {},
     "output_type": "execute_result"
    }
   ],
   "source": [
    "import pandas as pd\n",
    "data = pd.read_csv('c.csv', encoding='euc-kr')\n",
    "data"
   ]
  },
  {
   "cell_type": "code",
   "execution_count": 61,
   "id": "d25a2b3b",
   "metadata": {},
   "outputs": [
    {
     "data": {
      "image/png": "[encoded data removed]",
      "text/plain": [
       "<Figure size 432x288 with 1 Axes>"
      ]
     },
     "metadata": {
      "needs_background": "light"
     },
     "output_type": "display_data"
    }
   ],
   "source": [
    "import matplotlib.pyplot as plt\n",
    "x = data['발생년']\n",
    "y = data['사고건수']\n",
    "plt.plot(x, y)\n",
    "plt.title('accident')\n",
    "plt.xlabel('year')\n",
    "plt.ylabel('number')\n",
    "plt.show()"
   ]
  },
  {
   "cell_type": "code",
   "execution_count": 62,
   "id": "88609db0",
   "metadata": {},
   "outputs": [
    {
     "data": {
      "image/png": "[encoded data removed]",
      "text/plain": [
       "<Figure size 432x288 with 1 Axes>"
      ]
     },
     "metadata": {
      "needs_background": "light"
     },
     "output_type": "display_data"
    }
   ],
   "source": [
    "x = data['발생년']\n",
    "y = data['사고건수']\n",
    "idx = data.index\n",
    "plt.bar(idx, y)\n",
    "plt.xticks(idx, x)\n",
    "plt.title('accident')\n",
    "plt.xlabel('year')\n",
    "plt.ylabel('number')\n",
    "plt.show()"
   ]
  },
  {
   "cell_type": "code",
   "execution_count": 27,
   "id": "67840f72",
   "metadata": {},
   "outputs": [
    {
     "data": {
      "text/html": [
       "<div>\n",
       "<style scoped>\n",
       "    .dataframe tbody tr th:only-of-type {\n",
       "        vertical-align: middle;\n",
       "    }\n",
       "\n",
       "    .dataframe tbody tr th {\n",
       "        vertical-align: top;\n",
       "    }\n",
       "\n",
       "    .dataframe thead th {\n",
       "        text-align: right;\n",
       "    }\n",
       "</style>\n",
       "<table border=\"1\" class=\"dataframe\">\n",
       "  <thead>\n",
       "    <tr style=\"text-align: right;\">\n",
       "      <th></th>\n",
       "      <th>발생년</th>\n",
       "      <th>사고건수</th>\n",
       "      <th>사망자수</th>\n",
       "      <th>중상자수</th>\n",
       "      <th>경상자수</th>\n",
       "      <th>부상신고자수</th>\n",
       "    </tr>\n",
       "  </thead>\n",
       "  <tbody>\n",
       "    <tr>\n",
       "      <th>count</th>\n",
       "      <td>5.000000</td>\n",
       "      <td>5.000000</td>\n",
       "      <td>5.000000</td>\n",
       "      <td>5.000000</td>\n",
       "      <td>5.000000</td>\n",
       "      <td>5.000000</td>\n",
       "    </tr>\n",
       "    <tr>\n",
       "      <th>mean</th>\n",
       "      <td>2017.000000</td>\n",
       "      <td>223207.000000</td>\n",
       "      <td>4045.600000</td>\n",
       "      <td>79952.200000</td>\n",
       "      <td>231232.800000</td>\n",
       "      <td>22754.600000</td>\n",
       "    </tr>\n",
       "    <tr>\n",
       "      <th>std</th>\n",
       "      <td>1.581139</td>\n",
       "      <td>7210.825161</td>\n",
       "      <td>491.552439</td>\n",
       "      <td>8034.621534</td>\n",
       "      <td>8845.056851</td>\n",
       "      <td>1369.400526</td>\n",
       "    </tr>\n",
       "    <tr>\n",
       "      <th>min</th>\n",
       "      <td>2015.000000</td>\n",
       "      <td>216335.000000</td>\n",
       "      <td>3349.000000</td>\n",
       "      <td>72306.000000</td>\n",
       "      <td>223200.000000</td>\n",
       "      <td>21268.000000</td>\n",
       "    </tr>\n",
       "    <tr>\n",
       "      <th>25%</th>\n",
       "      <td>2016.000000</td>\n",
       "      <td>217148.000000</td>\n",
       "      <td>3781.000000</td>\n",
       "      <td>74258.000000</td>\n",
       "      <td>226283.000000</td>\n",
       "      <td>21417.000000</td>\n",
       "    </tr>\n",
       "    <tr>\n",
       "      <th>50%</th>\n",
       "      <td>2017.000000</td>\n",
       "      <td>220917.000000</td>\n",
       "      <td>4185.000000</td>\n",
       "      <td>78212.000000</td>\n",
       "      <td>227511.000000</td>\n",
       "      <td>22974.000000</td>\n",
       "    </tr>\n",
       "    <tr>\n",
       "      <th>75%</th>\n",
       "      <td>2018.000000</td>\n",
       "      <td>229600.000000</td>\n",
       "      <td>4292.000000</td>\n",
       "      <td>82463.000000</td>\n",
       "      <td>233646.000000</td>\n",
       "      <td>23882.000000</td>\n",
       "    </tr>\n",
       "    <tr>\n",
       "      <th>max</th>\n",
       "      <td>2019.000000</td>\n",
       "      <td>232035.000000</td>\n",
       "      <td>4621.000000</td>\n",
       "      <td>92522.000000</td>\n",
       "      <td>245524.000000</td>\n",
       "      <td>24232.000000</td>\n",
       "    </tr>\n",
       "  </tbody>\n",
       "</table>\n",
       "</div>"
      ],
      "text/plain": [
       "               발생년           사고건수         사망자수          중상자수           경상자수  \\\n",
       "count     5.000000       5.000000     5.000000      5.000000       5.000000   \n",
       "mean   2017.000000  223207.000000  4045.600000  79952.200000  231232.800000   \n",
       "std       1.581139    7210.825161   491.552439   8034.621534    8845.056851   \n",
       "min    2015.000000  216335.000000  3349.000000  72306.000000  223200.000000   \n",
       "25%    2016.000000  217148.000000  3781.000000  74258.000000  226283.000000   \n",
       "50%    2017.000000  220917.000000  4185.000000  78212.000000  227511.000000   \n",
       "75%    2018.000000  229600.000000  4292.000000  82463.000000  233646.000000   \n",
       "max    2019.000000  232035.000000  4621.000000  92522.000000  245524.000000   \n",
       "\n",
       "             부상신고자수  \n",
       "count      5.000000  \n",
       "mean   22754.600000  \n",
       "std     1369.400526  \n",
       "min    21268.000000  \n",
       "25%    21417.000000  \n",
       "50%    22974.000000  \n",
       "75%    23882.000000  \n",
       "max    24232.000000  "
      ]
     },
     "execution_count": 27,
     "metadata": {},
     "output_type": "execute_result"
    }
   ],
   "source": [
    "data.describe()"
   ]
  },
  {
   "cell_type": "code",
   "execution_count": 13,
   "id": "d7869843",
   "metadata": {},
   "outputs": [
    {
     "data": {
      "text/html": [
       "<div>\n",
       "<style scoped>\n",
       "    .dataframe tbody tr th:only-of-type {\n",
       "        vertical-align: middle;\n",
       "    }\n",
       "\n",
       "    .dataframe tbody tr th {\n",
       "        vertical-align: top;\n",
       "    }\n",
       "\n",
       "    .dataframe thead th {\n",
       "        text-align: right;\n",
       "    }\n",
       "</style>\n",
       "<table border=\"1\" class=\"dataframe\">\n",
       "  <thead>\n",
       "    <tr style=\"text-align: right;\">\n",
       "      <th></th>\n",
       "      <th>가해자연령층</th>\n",
       "      <th>월</th>\n",
       "      <th>사고건수</th>\n",
       "      <th>사망자수</th>\n",
       "      <th>중상자수</th>\n",
       "      <th>경상자수</th>\n",
       "      <th>부상신고자수</th>\n",
       "    </tr>\n",
       "  </thead>\n",
       "  <tbody>\n",
       "    <tr>\n",
       "      <th>0</th>\n",
       "      <td>20세이하</td>\n",
       "      <td>1</td>\n",
       "      <td>423</td>\n",
       "      <td>10</td>\n",
       "      <td>134</td>\n",
       "      <td>371</td>\n",
       "      <td>88</td>\n",
       "    </tr>\n",
       "    <tr>\n",
       "      <th>1</th>\n",
       "      <td>20세이하</td>\n",
       "      <td>2</td>\n",
       "      <td>405</td>\n",
       "      <td>6</td>\n",
       "      <td>128</td>\n",
       "      <td>397</td>\n",
       "      <td>81</td>\n",
       "    </tr>\n",
       "    <tr>\n",
       "      <th>2</th>\n",
       "      <td>20세이하</td>\n",
       "      <td>3</td>\n",
       "      <td>569</td>\n",
       "      <td>13</td>\n",
       "      <td>197</td>\n",
       "      <td>535</td>\n",
       "      <td>97</td>\n",
       "    </tr>\n",
       "    <tr>\n",
       "      <th>3</th>\n",
       "      <td>20세이하</td>\n",
       "      <td>4</td>\n",
       "      <td>595</td>\n",
       "      <td>11</td>\n",
       "      <td>175</td>\n",
       "      <td>578</td>\n",
       "      <td>117</td>\n",
       "    </tr>\n",
       "    <tr>\n",
       "      <th>4</th>\n",
       "      <td>20세이하</td>\n",
       "      <td>5</td>\n",
       "      <td>714</td>\n",
       "      <td>9</td>\n",
       "      <td>210</td>\n",
       "      <td>661</td>\n",
       "      <td>142</td>\n",
       "    </tr>\n",
       "    <tr>\n",
       "      <th>...</th>\n",
       "      <td>...</td>\n",
       "      <td>...</td>\n",
       "      <td>...</td>\n",
       "      <td>...</td>\n",
       "      <td>...</td>\n",
       "      <td>...</td>\n",
       "      <td>...</td>\n",
       "    </tr>\n",
       "    <tr>\n",
       "      <th>91</th>\n",
       "      <td>불명</td>\n",
       "      <td>8</td>\n",
       "      <td>318</td>\n",
       "      <td>0</td>\n",
       "      <td>44</td>\n",
       "      <td>234</td>\n",
       "      <td>91</td>\n",
       "    </tr>\n",
       "    <tr>\n",
       "      <th>92</th>\n",
       "      <td>불명</td>\n",
       "      <td>9</td>\n",
       "      <td>376</td>\n",
       "      <td>0</td>\n",
       "      <td>50</td>\n",
       "      <td>237</td>\n",
       "      <td>125</td>\n",
       "    </tr>\n",
       "    <tr>\n",
       "      <th>93</th>\n",
       "      <td>불명</td>\n",
       "      <td>10</td>\n",
       "      <td>391</td>\n",
       "      <td>0</td>\n",
       "      <td>65</td>\n",
       "      <td>277</td>\n",
       "      <td>90</td>\n",
       "    </tr>\n",
       "    <tr>\n",
       "      <th>94</th>\n",
       "      <td>불명</td>\n",
       "      <td>11</td>\n",
       "      <td>432</td>\n",
       "      <td>0</td>\n",
       "      <td>53</td>\n",
       "      <td>331</td>\n",
       "      <td>99</td>\n",
       "    </tr>\n",
       "    <tr>\n",
       "      <th>95</th>\n",
       "      <td>불명</td>\n",
       "      <td>12</td>\n",
       "      <td>382</td>\n",
       "      <td>0</td>\n",
       "      <td>54</td>\n",
       "      <td>271</td>\n",
       "      <td>99</td>\n",
       "    </tr>\n",
       "  </tbody>\n",
       "</table>\n",
       "<p>96 rows × 7 columns</p>\n",
       "</div>"
      ],
      "text/plain": [
       "   가해자연령층   월  사고건수  사망자수  중상자수  경상자수  부상신고자수\n",
       "0   20세이하   1   423    10   134   371      88\n",
       "1   20세이하   2   405     6   128   397      81\n",
       "2   20세이하   3   569    13   197   535      97\n",
       "3   20세이하   4   595    11   175   578     117\n",
       "4   20세이하   5   714     9   210   661     142\n",
       "..    ...  ..   ...   ...   ...   ...     ...\n",
       "91     불명   8   318     0    44   234      91\n",
       "92     불명   9   376     0    50   237     125\n",
       "93     불명  10   391     0    65   277      90\n",
       "94     불명  11   432     0    53   331      99\n",
       "95     불명  12   382     0    54   271      99\n",
       "\n",
       "[96 rows x 7 columns]"
      ]
     },
     "execution_count": 13,
     "metadata": {},
     "output_type": "execute_result"
    }
   ],
   "source": [
    "data = pd.read_csv('d.csv', encoding='euc-kr')\n",
    "data"
   ]
  },
  {
   "cell_type": "code",
   "execution_count": 72,
   "id": "6159df69",
   "metadata": {},
   "outputs": [
    {
     "data": {
      "text/plain": [
       "RangeIndex(start=0, stop=96, step=1)"
      ]
     },
     "execution_count": 72,
     "metadata": {},
     "output_type": "execute_result"
    }
   ],
   "source": [
    "data.index"
   ]
  },
  {
   "cell_type": "code",
   "execution_count": 76,
   "id": "474f3247",
   "metadata": {},
   "outputs": [
    {
     "data": {
      "text/plain": [
       "Index(['가해자연령층', '월', '사고건수', '사망자수', '중상자수', '경상자수', '부상신고자수'], dtype='object')"
      ]
     },
     "execution_count": 76,
     "metadata": {},
     "output_type": "execute_result"
    }
   ],
   "source": [
    "data.columns"
   ]
  },
  {
   "cell_type": "code",
   "execution_count": 74,
   "id": "d23b3b4c",
   "metadata": {
    "scrolled": true
   },
   "outputs": [
    {
     "data": {
      "text/plain": [
       "array([['20세이하', 1, 423, 10, 134, 371, 88],\n",
       "       ['20세이하', 2, 405, 6, 128, 397, 81],\n",
       "       ['20세이하', 3, 569, 13, 197, 535, 97],\n",
       "       ['20세이하', 4, 595, 11, 175, 578, 117],\n",
       "       ['20세이하', 5, 714, 9, 210, 661, 142],\n",
       "       ['20세이하', 6, 722, 5, 208, 661, 148],\n",
       "       ['20세이하', 7, 706, 6, 229, 647, 157],\n",
       "       ['20세이하', 8, 649, 3, 197, 614, 131],\n",
       "       ['20세이하', 9, 634, 6, 196, 580, 111],\n",
       "       ['20세이하', 10, 675, 9, 197, 647, 145],\n",
       "       ['20세이하', 11, 645, 11, 203, 611, 136],\n",
       "       ['20세이하', 12, 494, 6, 153, 502, 104],\n",
       "       ['21-30세', 1, 2177, 31, 694, 2340, 239],\n",
       "       ['21-30세', 2, 2012, 30, 646, 2399, 197],\n",
       "       ['21-30세', 3, 2439, 19, 771, 2791, 224],\n",
       "       ['21-30세', 4, 2548, 29, 838, 2879, 264],\n",
       "       ['21-30세', 5, 2850, 35, 914, 3243, 332],\n",
       "       ['21-30세', 6, 2551, 27, 856, 2749, 331],\n",
       "       ['21-30세', 7, 2588, 23, 788, 2883, 340],\n",
       "       ['21-30세', 8, 2741, 30, 838, 3103, 332],\n",
       "       ['21-30세', 9, 2527, 35, 765, 2916, 315],\n",
       "       ['21-30세', 10, 2883, 44, 876, 3222, 365],\n",
       "       ['21-30세', 11, 2760, 35, 823, 3135, 296],\n",
       "       ['21-30세', 12, 2555, 38, 777, 2859, 278],\n",
       "       ['31-40세', 1, 2649, 31, 889, 2821, 239],\n",
       "       ['31-40세', 2, 2343, 35, 786, 2644, 237],\n",
       "       ['31-40세', 3, 2769, 35, 910, 3048, 271],\n",
       "       ['31-40세', 4, 2946, 42, 943, 3187, 306],\n",
       "       ['31-40세', 5, 3170, 37, 986, 3531, 346],\n",
       "       ['31-40세', 6, 2855, 35, 872, 3204, 300],\n",
       "       ['31-40세', 7, 2881, 27, 823, 3156, 268],\n",
       "       ['31-40세', 8, 2983, 24, 921, 3375, 306],\n",
       "       ['31-40세', 9, 3042, 39, 874, 3446, 312],\n",
       "       ['31-40세', 10, 3165, 40, 995, 3390, 313],\n",
       "       ['31-40세', 11, 3228, 35, 1019, 3446, 296],\n",
       "       ['31-40세', 12, 2947, 49, 866, 3187, 334],\n",
       "       ['41-50세', 1, 3313, 59, 1134, 3545, 292],\n",
       "       ['41-50세', 2, 2871, 34, 954, 3257, 231],\n",
       "       ['41-50세', 3, 3558, 50, 1108, 3805, 297],\n",
       "       ['41-50세', 4, 3673, 45, 1161, 4014, 299],\n",
       "       ['41-50세', 5, 3978, 47, 1296, 4379, 352],\n",
       "       ['41-50세', 6, 3573, 47, 1126, 3829, 361],\n",
       "       ['41-50세', 7, 3671, 45, 1148, 3955, 358],\n",
       "       ['41-50세', 8, 3672, 52, 1149, 4095, 407],\n",
       "       ['41-50세', 9, 3643, 47, 1149, 3854, 353],\n",
       "       ['41-50세', 10, 4069, 50, 1347, 4230, 407],\n",
       "       ['41-50세', 11, 3982, 51, 1178, 4293, 399],\n",
       "       ['41-50세', 12, 3766, 57, 1131, 4088, 440],\n",
       "       ['51-60세', 1, 4017, 73, 1330, 4209, 294],\n",
       "       ['51-60세', 2, 3570, 44, 1115, 4023, 346],\n",
       "       ['51-60세', 3, 4493, 60, 1455, 4904, 433],\n",
       "       ['51-60세', 4, 4657, 57, 1530, 4949, 433],\n",
       "       ['51-60세', 5, 4912, 78, 1528, 5316, 447],\n",
       "       ['51-60세', 6, 4654, 74, 1531, 5070, 451],\n",
       "       ['51-60세', 7, 4660, 57, 1434, 5047, 389],\n",
       "       ['51-60세', 8, 4841, 63, 1495, 5391, 495],\n",
       "       ['51-60세', 9, 4560, 55, 1372, 4925, 482],\n",
       "       ['51-60세', 10, 5255, 88, 1641, 5604, 505],\n",
       "       ['51-60세', 11, 5339, 62, 1621, 5685, 495],\n",
       "       ['51-60세', 12, 4856, 79, 1494, 5212, 425],\n",
       "       ['61-64세', 1, 1373, 25, 486, 1477, 99],\n",
       "       ['61-64세', 2, 1317, 20, 420, 1367, 102],\n",
       "       ['61-64세', 3, 1490, 20, 493, 1527, 101],\n",
       "       ['61-64세', 4, 1635, 29, 557, 1753, 145],\n",
       "       ['61-64세', 5, 1788, 32, 540, 1969, 157],\n",
       "       ['61-64세', 6, 1632, 25, 539, 1717, 165],\n",
       "       ['61-64세', 7, 1673, 22, 528, 1819, 175],\n",
       "       ['61-64세', 8, 1761, 16, 549, 1922, 166],\n",
       "       ['61-64세', 9, 1693, 32, 594, 1860, 135],\n",
       "       ['61-64세', 10, 1910, 24, 638, 2032, 139],\n",
       "       ['61-64세', 11, 1878, 34, 593, 2040, 163],\n",
       "       ['61-64세', 12, 1697, 26, 516, 1882, 148],\n",
       "       ['65세이상', 1, 2295, 67, 779, 2268, 212],\n",
       "       ['65세이상', 2, 1970, 34, 694, 2110, 169],\n",
       "       ['65세이상', 3, 2499, 55, 828, 2533, 219],\n",
       "       ['65세이상', 4, 2744, 73, 973, 2733, 268],\n",
       "       ['65세이상', 5, 3000, 66, 1048, 2981, 299],\n",
       "       ['65세이상', 6, 2692, 66, 891, 2720, 284],\n",
       "       ['65세이상', 7, 2710, 61, 882, 2655, 303],\n",
       "       ['65세이상', 8, 3027, 65, 989, 3219, 295],\n",
       "       ['65세이상', 9, 2856, 73, 917, 2893, 285],\n",
       "       ['65세이상', 10, 3342, 82, 1194, 3388, 343],\n",
       "       ['65세이상', 11, 3253, 69, 1077, 3346, 285],\n",
       "       ['65세이상', 12, 2851, 58, 892, 2965, 286],\n",
       "       ['불명', 1, 305, 0, 41, 218, 70],\n",
       "       ['불명', 2, 264, 0, 29, 213, 67],\n",
       "       ['불명', 3, 316, 0, 44, 247, 70],\n",
       "       ['불명', 4, 306, 0, 47, 212, 77],\n",
       "       ['불명', 5, 367, 1, 51, 252, 97],\n",
       "       ['불명', 6, 289, 0, 34, 189, 79],\n",
       "       ['불명', 7, 345, 0, 53, 230, 86],\n",
       "       ['불명', 8, 318, 0, 44, 234, 91],\n",
       "       ['불명', 9, 376, 0, 50, 237, 125],\n",
       "       ['불명', 10, 391, 0, 65, 277, 90],\n",
       "       ['불명', 11, 432, 0, 53, 331, 99],\n",
       "       ['불명', 12, 382, 0, 54, 271, 99]], dtype=object)"
      ]
     },
     "execution_count": 74,
     "metadata": {},
     "output_type": "execute_result"
    }
   ],
   "source": [
    "data.values"
   ]
  },
  {
   "cell_type": "code",
   "execution_count": 15,
   "id": "51e13706",
   "metadata": {},
   "outputs": [
    {
     "data": {
      "text/plain": [
       "96"
      ]
     },
     "execution_count": 15,
     "metadata": {},
     "output_type": "execute_result"
    }
   ],
   "source": [
    "len(data)"
   ]
  },
  {
   "cell_type": "code",
   "execution_count": 25,
   "id": "8ea2e346",
   "metadata": {},
   "outputs": [],
   "source": [
    "#배열명[컬럼명]\n",
    "#배열명.loc[인덱스명]\n",
    "#a = data[data.columns[1:]].loc[:11]#원하는 요소만 추출\n",
    "tabs = []\n",
    "idx = ['1월', '2월', '3월', '4월', '5월', '6월', '7월', '8월', '9월', '10월', '11월', '12월']\n",
    "cnt = len(data)//12\n",
    "for i in range(0, cnt):\n",
    "    y = i*12\n",
    "    title = data['가해자연령층'][y]\n",
    "    vals = data[data.columns[2:]].loc[y:y+11]\n",
    "    cols=[[title,title,title,title,title], data.columns[2:]]\n",
    "    x = pd.DataFrame(vals.values, columns=cols, index=idx)\n",
    "    tabs.append(x)"
   ]
  },
  {
   "cell_type": "code",
   "execution_count": 27,
   "id": "9d4a96f2",
   "metadata": {},
   "outputs": [
    {
     "data": {
      "text/html": [
       "<div>\n",
       "<style scoped>\n",
       "    .dataframe tbody tr th:only-of-type {\n",
       "        vertical-align: middle;\n",
       "    }\n",
       "\n",
       "    .dataframe tbody tr th {\n",
       "        vertical-align: top;\n",
       "    }\n",
       "\n",
       "    .dataframe thead tr th {\n",
       "        text-align: left;\n",
       "    }\n",
       "</style>\n",
       "<table border=\"1\" class=\"dataframe\">\n",
       "  <thead>\n",
       "    <tr>\n",
       "      <th></th>\n",
       "      <th colspan=\"5\" halign=\"left\">20세이하</th>\n",
       "      <th colspan=\"5\" halign=\"left\">21-30세</th>\n",
       "      <th>...</th>\n",
       "      <th colspan=\"5\" halign=\"left\">65세이상</th>\n",
       "      <th colspan=\"5\" halign=\"left\">불명</th>\n",
       "    </tr>\n",
       "    <tr>\n",
       "      <th></th>\n",
       "      <th>사고건수</th>\n",
       "      <th>사망자수</th>\n",
       "      <th>중상자수</th>\n",
       "      <th>경상자수</th>\n",
       "      <th>부상신고자수</th>\n",
       "      <th>사고건수</th>\n",
       "      <th>사망자수</th>\n",
       "      <th>중상자수</th>\n",
       "      <th>경상자수</th>\n",
       "      <th>부상신고자수</th>\n",
       "      <th>...</th>\n",
       "      <th>사고건수</th>\n",
       "      <th>사망자수</th>\n",
       "      <th>중상자수</th>\n",
       "      <th>경상자수</th>\n",
       "      <th>부상신고자수</th>\n",
       "      <th>사고건수</th>\n",
       "      <th>사망자수</th>\n",
       "      <th>중상자수</th>\n",
       "      <th>경상자수</th>\n",
       "      <th>부상신고자수</th>\n",
       "    </tr>\n",
       "  </thead>\n",
       "  <tbody>\n",
       "    <tr>\n",
       "      <th>1월</th>\n",
       "      <td>423</td>\n",
       "      <td>10</td>\n",
       "      <td>134</td>\n",
       "      <td>371</td>\n",
       "      <td>88</td>\n",
       "      <td>2177</td>\n",
       "      <td>31</td>\n",
       "      <td>694</td>\n",
       "      <td>2340</td>\n",
       "      <td>239</td>\n",
       "      <td>...</td>\n",
       "      <td>2295</td>\n",
       "      <td>67</td>\n",
       "      <td>779</td>\n",
       "      <td>2268</td>\n",
       "      <td>212</td>\n",
       "      <td>305</td>\n",
       "      <td>0</td>\n",
       "      <td>41</td>\n",
       "      <td>218</td>\n",
       "      <td>70</td>\n",
       "    </tr>\n",
       "    <tr>\n",
       "      <th>2월</th>\n",
       "      <td>405</td>\n",
       "      <td>6</td>\n",
       "      <td>128</td>\n",
       "      <td>397</td>\n",
       "      <td>81</td>\n",
       "      <td>2012</td>\n",
       "      <td>30</td>\n",
       "      <td>646</td>\n",
       "      <td>2399</td>\n",
       "      <td>197</td>\n",
       "      <td>...</td>\n",
       "      <td>1970</td>\n",
       "      <td>34</td>\n",
       "      <td>694</td>\n",
       "      <td>2110</td>\n",
       "      <td>169</td>\n",
       "      <td>264</td>\n",
       "      <td>0</td>\n",
       "      <td>29</td>\n",
       "      <td>213</td>\n",
       "      <td>67</td>\n",
       "    </tr>\n",
       "    <tr>\n",
       "      <th>3월</th>\n",
       "      <td>569</td>\n",
       "      <td>13</td>\n",
       "      <td>197</td>\n",
       "      <td>535</td>\n",
       "      <td>97</td>\n",
       "      <td>2439</td>\n",
       "      <td>19</td>\n",
       "      <td>771</td>\n",
       "      <td>2791</td>\n",
       "      <td>224</td>\n",
       "      <td>...</td>\n",
       "      <td>2499</td>\n",
       "      <td>55</td>\n",
       "      <td>828</td>\n",
       "      <td>2533</td>\n",
       "      <td>219</td>\n",
       "      <td>316</td>\n",
       "      <td>0</td>\n",
       "      <td>44</td>\n",
       "      <td>247</td>\n",
       "      <td>70</td>\n",
       "    </tr>\n",
       "    <tr>\n",
       "      <th>4월</th>\n",
       "      <td>595</td>\n",
       "      <td>11</td>\n",
       "      <td>175</td>\n",
       "      <td>578</td>\n",
       "      <td>117</td>\n",
       "      <td>2548</td>\n",
       "      <td>29</td>\n",
       "      <td>838</td>\n",
       "      <td>2879</td>\n",
       "      <td>264</td>\n",
       "      <td>...</td>\n",
       "      <td>2744</td>\n",
       "      <td>73</td>\n",
       "      <td>973</td>\n",
       "      <td>2733</td>\n",
       "      <td>268</td>\n",
       "      <td>306</td>\n",
       "      <td>0</td>\n",
       "      <td>47</td>\n",
       "      <td>212</td>\n",
       "      <td>77</td>\n",
       "    </tr>\n",
       "    <tr>\n",
       "      <th>5월</th>\n",
       "      <td>714</td>\n",
       "      <td>9</td>\n",
       "      <td>210</td>\n",
       "      <td>661</td>\n",
       "      <td>142</td>\n",
       "      <td>2850</td>\n",
       "      <td>35</td>\n",
       "      <td>914</td>\n",
       "      <td>3243</td>\n",
       "      <td>332</td>\n",
       "      <td>...</td>\n",
       "      <td>3000</td>\n",
       "      <td>66</td>\n",
       "      <td>1048</td>\n",
       "      <td>2981</td>\n",
       "      <td>299</td>\n",
       "      <td>367</td>\n",
       "      <td>1</td>\n",
       "      <td>51</td>\n",
       "      <td>252</td>\n",
       "      <td>97</td>\n",
       "    </tr>\n",
       "    <tr>\n",
       "      <th>6월</th>\n",
       "      <td>722</td>\n",
       "      <td>5</td>\n",
       "      <td>208</td>\n",
       "      <td>661</td>\n",
       "      <td>148</td>\n",
       "      <td>2551</td>\n",
       "      <td>27</td>\n",
       "      <td>856</td>\n",
       "      <td>2749</td>\n",
       "      <td>331</td>\n",
       "      <td>...</td>\n",
       "      <td>2692</td>\n",
       "      <td>66</td>\n",
       "      <td>891</td>\n",
       "      <td>2720</td>\n",
       "      <td>284</td>\n",
       "      <td>289</td>\n",
       "      <td>0</td>\n",
       "      <td>34</td>\n",
       "      <td>189</td>\n",
       "      <td>79</td>\n",
       "    </tr>\n",
       "    <tr>\n",
       "      <th>7월</th>\n",
       "      <td>706</td>\n",
       "      <td>6</td>\n",
       "      <td>229</td>\n",
       "      <td>647</td>\n",
       "      <td>157</td>\n",
       "      <td>2588</td>\n",
       "      <td>23</td>\n",
       "      <td>788</td>\n",
       "      <td>2883</td>\n",
       "      <td>340</td>\n",
       "      <td>...</td>\n",
       "      <td>2710</td>\n",
       "      <td>61</td>\n",
       "      <td>882</td>\n",
       "      <td>2655</td>\n",
       "      <td>303</td>\n",
       "      <td>345</td>\n",
       "      <td>0</td>\n",
       "      <td>53</td>\n",
       "      <td>230</td>\n",
       "      <td>86</td>\n",
       "    </tr>\n",
       "    <tr>\n",
       "      <th>8월</th>\n",
       "      <td>649</td>\n",
       "      <td>3</td>\n",
       "      <td>197</td>\n",
       "      <td>614</td>\n",
       "      <td>131</td>\n",
       "      <td>2741</td>\n",
       "      <td>30</td>\n",
       "      <td>838</td>\n",
       "      <td>3103</td>\n",
       "      <td>332</td>\n",
       "      <td>...</td>\n",
       "      <td>3027</td>\n",
       "      <td>65</td>\n",
       "      <td>989</td>\n",
       "      <td>3219</td>\n",
       "      <td>295</td>\n",
       "      <td>318</td>\n",
       "      <td>0</td>\n",
       "      <td>44</td>\n",
       "      <td>234</td>\n",
       "      <td>91</td>\n",
       "    </tr>\n",
       "    <tr>\n",
       "      <th>9월</th>\n",
       "      <td>634</td>\n",
       "      <td>6</td>\n",
       "      <td>196</td>\n",
       "      <td>580</td>\n",
       "      <td>111</td>\n",
       "      <td>2527</td>\n",
       "      <td>35</td>\n",
       "      <td>765</td>\n",
       "      <td>2916</td>\n",
       "      <td>315</td>\n",
       "      <td>...</td>\n",
       "      <td>2856</td>\n",
       "      <td>73</td>\n",
       "      <td>917</td>\n",
       "      <td>2893</td>\n",
       "      <td>285</td>\n",
       "      <td>376</td>\n",
       "      <td>0</td>\n",
       "      <td>50</td>\n",
       "      <td>237</td>\n",
       "      <td>125</td>\n",
       "    </tr>\n",
       "    <tr>\n",
       "      <th>10월</th>\n",
       "      <td>675</td>\n",
       "      <td>9</td>\n",
       "      <td>197</td>\n",
       "      <td>647</td>\n",
       "      <td>145</td>\n",
       "      <td>2883</td>\n",
       "      <td>44</td>\n",
       "      <td>876</td>\n",
       "      <td>3222</td>\n",
       "      <td>365</td>\n",
       "      <td>...</td>\n",
       "      <td>3342</td>\n",
       "      <td>82</td>\n",
       "      <td>1194</td>\n",
       "      <td>3388</td>\n",
       "      <td>343</td>\n",
       "      <td>391</td>\n",
       "      <td>0</td>\n",
       "      <td>65</td>\n",
       "      <td>277</td>\n",
       "      <td>90</td>\n",
       "    </tr>\n",
       "    <tr>\n",
       "      <th>11월</th>\n",
       "      <td>645</td>\n",
       "      <td>11</td>\n",
       "      <td>203</td>\n",
       "      <td>611</td>\n",
       "      <td>136</td>\n",
       "      <td>2760</td>\n",
       "      <td>35</td>\n",
       "      <td>823</td>\n",
       "      <td>3135</td>\n",
       "      <td>296</td>\n",
       "      <td>...</td>\n",
       "      <td>3253</td>\n",
       "      <td>69</td>\n",
       "      <td>1077</td>\n",
       "      <td>3346</td>\n",
       "      <td>285</td>\n",
       "      <td>432</td>\n",
       "      <td>0</td>\n",
       "      <td>53</td>\n",
       "      <td>331</td>\n",
       "      <td>99</td>\n",
       "    </tr>\n",
       "    <tr>\n",
       "      <th>12월</th>\n",
       "      <td>494</td>\n",
       "      <td>6</td>\n",
       "      <td>153</td>\n",
       "      <td>502</td>\n",
       "      <td>104</td>\n",
       "      <td>2555</td>\n",
       "      <td>38</td>\n",
       "      <td>777</td>\n",
       "      <td>2859</td>\n",
       "      <td>278</td>\n",
       "      <td>...</td>\n",
       "      <td>2851</td>\n",
       "      <td>58</td>\n",
       "      <td>892</td>\n",
       "      <td>2965</td>\n",
       "      <td>286</td>\n",
       "      <td>382</td>\n",
       "      <td>0</td>\n",
       "      <td>54</td>\n",
       "      <td>271</td>\n",
       "      <td>99</td>\n",
       "    </tr>\n",
       "  </tbody>\n",
       "</table>\n",
       "<p>12 rows × 40 columns</p>\n",
       "</div>"
      ],
      "text/plain": [
       "    20세이하                       21-30세                         ... 65세이상       \\\n",
       "     사고건수 사망자수 중상자수 경상자수 부상신고자수   사고건수 사망자수 중상자수  경상자수 부상신고자수  ...  사고건수 사망자수   \n",
       "1월    423   10  134  371     88   2177   31  694  2340    239  ...  2295   67   \n",
       "2월    405    6  128  397     81   2012   30  646  2399    197  ...  1970   34   \n",
       "3월    569   13  197  535     97   2439   19  771  2791    224  ...  2499   55   \n",
       "4월    595   11  175  578    117   2548   29  838  2879    264  ...  2744   73   \n",
       "5월    714    9  210  661    142   2850   35  914  3243    332  ...  3000   66   \n",
       "6월    722    5  208  661    148   2551   27  856  2749    331  ...  2692   66   \n",
       "7월    706    6  229  647    157   2588   23  788  2883    340  ...  2710   61   \n",
       "8월    649    3  197  614    131   2741   30  838  3103    332  ...  3027   65   \n",
       "9월    634    6  196  580    111   2527   35  765  2916    315  ...  2856   73   \n",
       "10월   675    9  197  647    145   2883   44  876  3222    365  ...  3342   82   \n",
       "11월   645   11  203  611    136   2760   35  823  3135    296  ...  3253   69   \n",
       "12월   494    6  153  502    104   2555   38  777  2859    278  ...  2851   58   \n",
       "\n",
       "                         불명                        \n",
       "     중상자수  경상자수 부상신고자수 사고건수 사망자수 중상자수 경상자수 부상신고자수  \n",
       "1월    779  2268    212  305    0   41  218     70  \n",
       "2월    694  2110    169  264    0   29  213     67  \n",
       "3월    828  2533    219  316    0   44  247     70  \n",
       "4월    973  2733    268  306    0   47  212     77  \n",
       "5월   1048  2981    299  367    1   51  252     97  \n",
       "6월    891  2720    284  289    0   34  189     79  \n",
       "7월    882  2655    303  345    0   53  230     86  \n",
       "8월    989  3219    295  318    0   44  234     91  \n",
       "9월    917  2893    285  376    0   50  237    125  \n",
       "10월  1194  3388    343  391    0   65  277     90  \n",
       "11월  1077  3346    285  432    0   53  331     99  \n",
       "12월   892  2965    286  382    0   54  271     99  \n",
       "\n",
       "[12 rows x 40 columns]"
      ]
     },
     "execution_count": 27,
     "metadata": {},
     "output_type": "execute_result"
    }
   ],
   "source": [
    "res = tabs[0]\n",
    "for i in range(1, len(tabs)):\n",
    "    res = res.join(tabs[i])\n",
    "\n",
    "res"
   ]
  },
  {
   "cell_type": "code",
   "execution_count": 52,
   "id": "b9f3ccd0",
   "metadata": {},
   "outputs": [
    {
     "data": {
      "text/plain": [
       "MultiIndex([('20세이하',   '사고건수'),\n",
       "            ('20세이하',   '사망자수'),\n",
       "            ('20세이하',   '중상자수'),\n",
       "            ('20세이하',   '경상자수'),\n",
       "            ('20세이하', '부상신고자수')],\n",
       "           )"
      ]
     },
     "execution_count": 52,
     "metadata": {},
     "output_type": "execute_result"
    }
   ],
   "source": [
    "tabs[0].columns"
   ]
  },
  {
   "cell_type": "code",
   "execution_count": 48,
   "id": "4f17e6fd",
   "metadata": {},
   "outputs": [
    {
     "data": {
      "text/plain": [
       "1월     423\n",
       "2월     405\n",
       "3월     569\n",
       "4월     595\n",
       "5월     714\n",
       "6월     722\n",
       "7월     706\n",
       "8월     649\n",
       "9월     634\n",
       "10월    675\n",
       "11월    645\n",
       "12월    494\n",
       "Name: (20세이하, 사고건수), dtype: int64"
      ]
     },
     "execution_count": 48,
     "metadata": {},
     "output_type": "execute_result"
    }
   ],
   "source": [
    "tabs[0]\n",
    "tabs[0][('20세이하', '사고건수')]"
   ]
  },
  {
   "cell_type": "code",
   "execution_count": 51,
   "id": "f3255514",
   "metadata": {},
   "outputs": [
    {
     "name": "stdout",
     "output_type": "stream",
     "text": [
      "20세이하 의 최대 사고건수: 722  / 발생 월: 6월\n",
      "21-30세 의 최대 사고건수: 2883  / 발생 월: 10월\n",
      "31-40세 의 최대 사고건수: 3228  / 발생 월: 11월\n",
      "41-50세 의 최대 사고건수: 4069  / 발생 월: 10월\n",
      "51-60세 의 최대 사고건수: 5339  / 발생 월: 11월\n",
      "61-64세 의 최대 사고건수: 1910  / 발생 월: 10월\n",
      "65세이상 의 최대 사고건수: 3342  / 발생 월: 10월\n",
      "불명 의 최대 사고건수: 432  / 발생 월: 11월\n"
     ]
    }
   ],
   "source": [
    "for i in tabs:\n",
    "    #m = i[('20세이하', '사고건수')].max()\n",
    "    #x = i[('20세이하', '사고건수')].argmax()\n",
    "    m = i[i.columns[0]].max()\n",
    "    x = i[i.columns[0]].argmax()\n",
    "    print(i.columns[0][0],'의 최대 사고건수:',m,' / 발생 월:',idx[x])"
   ]
  },
  {
   "cell_type": "code",
   "execution_count": 53,
   "id": "85d9c0bc",
   "metadata": {},
   "outputs": [
    {
     "name": "stdout",
     "output_type": "stream",
     "text": [
      "20세이하 의 전체사고건수: 7231  / 총사망자수: 95\n",
      "21-30세 의 전체사고건수: 30631  / 총사망자수: 376\n",
      "31-40세 의 전체사고건수: 34978  / 총사망자수: 429\n",
      "41-50세 의 전체사고건수: 43769  / 총사망자수: 584\n",
      "51-60세 의 전체사고건수: 55814  / 총사망자수: 790\n",
      "61-64세 의 전체사고건수: 19847  / 총사망자수: 305\n",
      "65세이상 의 전체사고건수: 33239  / 총사망자수: 769\n",
      "불명 의 전체사고건수: 4091  / 총사망자수: 1\n"
     ]
    }
   ],
   "source": [
    "for i in tabs:\n",
    "    m = i[i.columns[0]].sum()#사고건수 컬럼의 합계\n",
    "    x = i[i.columns[1]].sum()#사망자수 컬럼의 합계\n",
    "    print(i.columns[0][0],'의 전체사고건수:',m,' / 총사망자수:',x)"
   ]
  },
  {
   "cell_type": "code",
   "execution_count": 54,
   "id": "8556ff78",
   "metadata": {},
   "outputs": [
    {
     "name": "stdout",
     "output_type": "stream",
     "text": [
      "20세이하 의 사고월평균 수: 602.5833333333334\n",
      "21-30세 의 사고월평균 수: 2552.5833333333335\n",
      "31-40세 의 사고월평균 수: 2914.8333333333335\n",
      "41-50세 의 사고월평균 수: 3647.4166666666665\n",
      "51-60세 의 사고월평균 수: 4651.166666666667\n",
      "61-64세 의 사고월평균 수: 1653.9166666666667\n",
      "65세이상 의 사고월평균 수: 2769.9166666666665\n",
      "불명 의 사고월평균 수: 340.9166666666667\n"
     ]
    }
   ],
   "source": [
    "for i in tabs:\n",
    "    m = i[i.columns[0]].mean()#사고건수 컬럼의 평균\n",
    "    print(i.columns[0][0],'의 사고월평균 수:',m)"
   ]
  },
  {
   "cell_type": "code",
   "execution_count": 80,
   "id": "fb8086c5",
   "metadata": {},
   "outputs": [
    {
     "data": {
      "text/html": [
       "<div>\n",
       "<style scoped>\n",
       "    .dataframe tbody tr th:only-of-type {\n",
       "        vertical-align: middle;\n",
       "    }\n",
       "\n",
       "    .dataframe tbody tr th {\n",
       "        vertical-align: top;\n",
       "    }\n",
       "\n",
       "    .dataframe thead tr th {\n",
       "        text-align: left;\n",
       "    }\n",
       "</style>\n",
       "<table border=\"1\" class=\"dataframe\">\n",
       "  <thead>\n",
       "    <tr>\n",
       "      <th></th>\n",
       "      <th colspan=\"6\" halign=\"left\">20세이하</th>\n",
       "    </tr>\n",
       "    <tr>\n",
       "      <th></th>\n",
       "      <th>월</th>\n",
       "      <th>사고건수</th>\n",
       "      <th>사망자수</th>\n",
       "      <th>중상자수</th>\n",
       "      <th>경상자수</th>\n",
       "      <th>부상신고자수</th>\n",
       "    </tr>\n",
       "  </thead>\n",
       "  <tbody>\n",
       "    <tr>\n",
       "      <th>0</th>\n",
       "      <td>1</td>\n",
       "      <td>423</td>\n",
       "      <td>10</td>\n",
       "      <td>134</td>\n",
       "      <td>371</td>\n",
       "      <td>88</td>\n",
       "    </tr>\n",
       "    <tr>\n",
       "      <th>1</th>\n",
       "      <td>2</td>\n",
       "      <td>405</td>\n",
       "      <td>6</td>\n",
       "      <td>128</td>\n",
       "      <td>397</td>\n",
       "      <td>81</td>\n",
       "    </tr>\n",
       "    <tr>\n",
       "      <th>2</th>\n",
       "      <td>3</td>\n",
       "      <td>569</td>\n",
       "      <td>13</td>\n",
       "      <td>197</td>\n",
       "      <td>535</td>\n",
       "      <td>97</td>\n",
       "    </tr>\n",
       "    <tr>\n",
       "      <th>3</th>\n",
       "      <td>4</td>\n",
       "      <td>595</td>\n",
       "      <td>11</td>\n",
       "      <td>175</td>\n",
       "      <td>578</td>\n",
       "      <td>117</td>\n",
       "    </tr>\n",
       "    <tr>\n",
       "      <th>4</th>\n",
       "      <td>5</td>\n",
       "      <td>714</td>\n",
       "      <td>9</td>\n",
       "      <td>210</td>\n",
       "      <td>661</td>\n",
       "      <td>142</td>\n",
       "    </tr>\n",
       "    <tr>\n",
       "      <th>5</th>\n",
       "      <td>6</td>\n",
       "      <td>722</td>\n",
       "      <td>5</td>\n",
       "      <td>208</td>\n",
       "      <td>661</td>\n",
       "      <td>148</td>\n",
       "    </tr>\n",
       "    <tr>\n",
       "      <th>6</th>\n",
       "      <td>7</td>\n",
       "      <td>706</td>\n",
       "      <td>6</td>\n",
       "      <td>229</td>\n",
       "      <td>647</td>\n",
       "      <td>157</td>\n",
       "    </tr>\n",
       "    <tr>\n",
       "      <th>7</th>\n",
       "      <td>8</td>\n",
       "      <td>649</td>\n",
       "      <td>3</td>\n",
       "      <td>197</td>\n",
       "      <td>614</td>\n",
       "      <td>131</td>\n",
       "    </tr>\n",
       "    <tr>\n",
       "      <th>8</th>\n",
       "      <td>9</td>\n",
       "      <td>634</td>\n",
       "      <td>6</td>\n",
       "      <td>196</td>\n",
       "      <td>580</td>\n",
       "      <td>111</td>\n",
       "    </tr>\n",
       "    <tr>\n",
       "      <th>9</th>\n",
       "      <td>10</td>\n",
       "      <td>675</td>\n",
       "      <td>9</td>\n",
       "      <td>197</td>\n",
       "      <td>647</td>\n",
       "      <td>145</td>\n",
       "    </tr>\n",
       "    <tr>\n",
       "      <th>10</th>\n",
       "      <td>11</td>\n",
       "      <td>645</td>\n",
       "      <td>11</td>\n",
       "      <td>203</td>\n",
       "      <td>611</td>\n",
       "      <td>136</td>\n",
       "    </tr>\n",
       "    <tr>\n",
       "      <th>11</th>\n",
       "      <td>12</td>\n",
       "      <td>494</td>\n",
       "      <td>6</td>\n",
       "      <td>153</td>\n",
       "      <td>502</td>\n",
       "      <td>104</td>\n",
       "    </tr>\n",
       "  </tbody>\n",
       "</table>\n",
       "</div>"
      ],
      "text/plain": [
       "   20세이하                           \n",
       "       월 사고건수 사망자수 중상자수 경상자수 부상신고자수\n",
       "0      1  423   10  134  371     88\n",
       "1      2  405    6  128  397     81\n",
       "2      3  569   13  197  535     97\n",
       "3      4  595   11  175  578    117\n",
       "4      5  714    9  210  661    142\n",
       "5      6  722    5  208  661    148\n",
       "6      7  706    6  229  647    157\n",
       "7      8  649    3  197  614    131\n",
       "8      9  634    6  196  580    111\n",
       "9     10  675    9  197  647    145\n",
       "10    11  645   11  203  611    136\n",
       "11    12  494    6  153  502    104"
      ]
     },
     "execution_count": 80,
     "metadata": {},
     "output_type": "execute_result"
    }
   ],
   "source": [
    "val=a.values\n",
    "title = data['가해자연령층'][0]\n",
    "cols=[[title,title,title,title,title,title], data.columns[1:]]\n",
    "x = pd.DataFrame(val, columns=cols)\n",
    "x"
   ]
  },
  {
   "cell_type": "code",
   "execution_count": 18,
   "id": "b1f0cf24",
   "metadata": {},
   "outputs": [
    {
     "data": {
      "text/plain": [
       "[    사고건수  사망자수  중상자수  경상자수  부상신고자수\n",
       " 0    423    10   134   371      88\n",
       " 1    405     6   128   397      81\n",
       " 2    569    13   197   535      97\n",
       " 3    595    11   175   578     117\n",
       " 4    714     9   210   661     142\n",
       " 5    722     5   208   661     148\n",
       " 6    706     6   229   647     157\n",
       " 7    649     3   197   614     131\n",
       " 8    634     6   196   580     111\n",
       " 9    675     9   197   647     145\n",
       " 10   645    11   203   611     136\n",
       " 11   494     6   153   502     104,\n",
       "     사고건수  사망자수  중상자수  경상자수  부상신고자수\n",
       " 12  2177    31   694  2340     239\n",
       " 13  2012    30   646  2399     197\n",
       " 14  2439    19   771  2791     224\n",
       " 15  2548    29   838  2879     264\n",
       " 16  2850    35   914  3243     332\n",
       " 17  2551    27   856  2749     331\n",
       " 18  2588    23   788  2883     340\n",
       " 19  2741    30   838  3103     332\n",
       " 20  2527    35   765  2916     315\n",
       " 21  2883    44   876  3222     365\n",
       " 22  2760    35   823  3135     296\n",
       " 23  2555    38   777  2859     278,\n",
       "     사고건수  사망자수  중상자수  경상자수  부상신고자수\n",
       " 24  2649    31   889  2821     239\n",
       " 25  2343    35   786  2644     237\n",
       " 26  2769    35   910  3048     271\n",
       " 27  2946    42   943  3187     306\n",
       " 28  3170    37   986  3531     346\n",
       " 29  2855    35   872  3204     300\n",
       " 30  2881    27   823  3156     268\n",
       " 31  2983    24   921  3375     306\n",
       " 32  3042    39   874  3446     312\n",
       " 33  3165    40   995  3390     313\n",
       " 34  3228    35  1019  3446     296\n",
       " 35  2947    49   866  3187     334,\n",
       "     사고건수  사망자수  중상자수  경상자수  부상신고자수\n",
       " 36  3313    59  1134  3545     292\n",
       " 37  2871    34   954  3257     231\n",
       " 38  3558    50  1108  3805     297\n",
       " 39  3673    45  1161  4014     299\n",
       " 40  3978    47  1296  4379     352\n",
       " 41  3573    47  1126  3829     361\n",
       " 42  3671    45  1148  3955     358\n",
       " 43  3672    52  1149  4095     407\n",
       " 44  3643    47  1149  3854     353\n",
       " 45  4069    50  1347  4230     407\n",
       " 46  3982    51  1178  4293     399\n",
       " 47  3766    57  1131  4088     440,\n",
       "     사고건수  사망자수  중상자수  경상자수  부상신고자수\n",
       " 48  4017    73  1330  4209     294\n",
       " 49  3570    44  1115  4023     346\n",
       " 50  4493    60  1455  4904     433\n",
       " 51  4657    57  1530  4949     433\n",
       " 52  4912    78  1528  5316     447\n",
       " 53  4654    74  1531  5070     451\n",
       " 54  4660    57  1434  5047     389\n",
       " 55  4841    63  1495  5391     495\n",
       " 56  4560    55  1372  4925     482\n",
       " 57  5255    88  1641  5604     505\n",
       " 58  5339    62  1621  5685     495\n",
       " 59  4856    79  1494  5212     425,\n",
       "     사고건수  사망자수  중상자수  경상자수  부상신고자수\n",
       " 60  1373    25   486  1477      99\n",
       " 61  1317    20   420  1367     102\n",
       " 62  1490    20   493  1527     101\n",
       " 63  1635    29   557  1753     145\n",
       " 64  1788    32   540  1969     157\n",
       " 65  1632    25   539  1717     165\n",
       " 66  1673    22   528  1819     175\n",
       " 67  1761    16   549  1922     166\n",
       " 68  1693    32   594  1860     135\n",
       " 69  1910    24   638  2032     139\n",
       " 70  1878    34   593  2040     163\n",
       " 71  1697    26   516  1882     148,\n",
       "     사고건수  사망자수  중상자수  경상자수  부상신고자수\n",
       " 72  2295    67   779  2268     212\n",
       " 73  1970    34   694  2110     169\n",
       " 74  2499    55   828  2533     219\n",
       " 75  2744    73   973  2733     268\n",
       " 76  3000    66  1048  2981     299\n",
       " 77  2692    66   891  2720     284\n",
       " 78  2710    61   882  2655     303\n",
       " 79  3027    65   989  3219     295\n",
       " 80  2856    73   917  2893     285\n",
       " 81  3342    82  1194  3388     343\n",
       " 82  3253    69  1077  3346     285\n",
       " 83  2851    58   892  2965     286,\n",
       "     사고건수  사망자수  중상자수  경상자수  부상신고자수\n",
       " 84   305     0    41   218      70\n",
       " 85   264     0    29   213      67\n",
       " 86   316     0    44   247      70\n",
       " 87   306     0    47   212      77\n",
       " 88   367     1    51   252      97\n",
       " 89   289     0    34   189      79\n",
       " 90   345     0    53   230      86\n",
       " 91   318     0    44   234      91\n",
       " 92   376     0    50   237     125\n",
       " 93   391     0    65   277      90\n",
       " 94   432     0    53   331      99\n",
       " 95   382     0    54   271      99]"
      ]
     },
     "execution_count": 18,
     "metadata": {},
     "output_type": "execute_result"
    }
   ],
   "source": [
    "tabs"
   ]
  },
  {
   "cell_type": "code",
   "execution_count": null,
   "id": "801670f4",
   "metadata": {},
   "outputs": [],
   "source": []
  }
 ],
 "metadata": {
  "kernelspec": {
   "display_name": "Python 3",
   "language": "python",
   "name": "python3"
  },
  "language_info": {
   "codemirror_mode": {
    "name": "ipython",
    "version": 3
   },
   "file_extension": ".py",
   "mimetype": "text/x-python",
   "name": "python",
   "nbconvert_exporter": "python",
   "pygments_lexer": "ipython3",
   "version": "3.9.5"
  }
 },
 "nbformat": 4,
 "nbformat_minor": 5
}
