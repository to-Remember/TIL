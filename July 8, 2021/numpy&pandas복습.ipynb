{
 "cells": [
  {
   "cell_type": "code",
   "execution_count": 1,
   "id": "6f6e3cc6",
   "metadata": {},
   "outputs": [
    {
     "data": {
      "text/plain": [
       "array([['aaa', '1', '54', '56', '87'],\n",
       "       ['bbb', '2', '67', '54', '89'],\n",
       "       ['ccc', '3', '67', '98', '56']], dtype='<U11')"
      ]
     },
     "execution_count": 1,
     "metadata": {},
     "output_type": "execute_result"
    }
   ],
   "source": [
    "import numpy as np\n",
    "\n",
    "#한 배열 안의 요소는 모두 타입 일치.\n",
    "arr = np.array([['aaa', 1, 54,56,87], ['bbb',2,67,54,89],['ccc',3,67,98,56]])\n",
    "arr"
   ]
  },
  {
   "cell_type": "code",
   "execution_count": 2,
   "id": "b5f58627",
   "metadata": {},
   "outputs": [
    {
     "data": {
      "text/plain": [
       "array(['aaa', 'bbb', 'ccc'], dtype='<U11')"
      ]
     },
     "execution_count": 2,
     "metadata": {},
     "output_type": "execute_result"
    }
   ],
   "source": [
    "arr[:, 0]"
   ]
  },
  {
   "cell_type": "code",
   "execution_count": 3,
   "id": "a65f1a04",
   "metadata": {},
   "outputs": [
    {
     "data": {
      "text/plain": [
       "array(['bbb', '2', '67', '54', '89'], dtype='<U11')"
      ]
     },
     "execution_count": 3,
     "metadata": {},
     "output_type": "execute_result"
    }
   ],
   "source": [
    "arr[1]"
   ]
  },
  {
   "cell_type": "code",
   "execution_count": 4,
   "id": "55901eba",
   "metadata": {},
   "outputs": [
    {
     "data": {
      "text/plain": [
       "array(['67', '98', '56'], dtype='<U11')"
      ]
     },
     "execution_count": 4,
     "metadata": {},
     "output_type": "execute_result"
    }
   ],
   "source": [
    "arr[2, 2:5]"
   ]
  },
  {
   "cell_type": "code",
   "execution_count": 5,
   "id": "343bf4d3",
   "metadata": {},
   "outputs": [
    {
     "data": {
      "text/plain": [
       "array([['1', '54', '56', '87'],\n",
       "       ['2', '67', '54', '89'],\n",
       "       ['3', '67', '98', '56']], dtype='<U11')"
      ]
     },
     "execution_count": 5,
     "metadata": {},
     "output_type": "execute_result"
    }
   ],
   "source": [
    "score = arr[:, 1:5]\n",
    "score"
   ]
  },
  {
   "cell_type": "code",
   "execution_count": 6,
   "id": "7ab8c533",
   "metadata": {},
   "outputs": [],
   "source": [
    "score_int = score.astype('int')"
   ]
  },
  {
   "cell_type": "code",
   "execution_count": 7,
   "id": "2deeedbb",
   "metadata": {},
   "outputs": [
    {
     "data": {
      "text/plain": [
       "array([[ 1, 54, 56, 87],\n",
       "       [ 2, 67, 54, 89],\n",
       "       [ 3, 67, 98, 56]])"
      ]
     },
     "execution_count": 7,
     "metadata": {},
     "output_type": "execute_result"
    }
   ],
   "source": [
    "score_int"
   ]
  },
  {
   "cell_type": "code",
   "execution_count": 9,
   "id": "053f53af",
   "metadata": {},
   "outputs": [
    {
     "data": {
      "text/plain": [
       "array([198, 212, 224])"
      ]
     },
     "execution_count": 9,
     "metadata": {},
     "output_type": "execute_result"
    }
   ],
   "source": [
    "total = score_int[:,1:4].sum(axis=1)\n",
    "total"
   ]
  },
  {
   "cell_type": "code",
   "execution_count": 10,
   "id": "e421dccc",
   "metadata": {},
   "outputs": [
    {
     "data": {
      "text/plain": [
       "array([1, 2, 1], dtype=int64)"
      ]
     },
     "execution_count": 10,
     "metadata": {},
     "output_type": "execute_result"
    }
   ],
   "source": [
    "max_idx = score_int[:,1:4].argmax(axis=0)\n",
    "max_idx"
   ]
  },
  {
   "cell_type": "code",
   "execution_count": 11,
   "id": "efbf21a8",
   "metadata": {},
   "outputs": [
    {
     "data": {
      "text/plain": [
       "array(['bbb', 'ccc', 'bbb'], dtype='<U11')"
      ]
     },
     "execution_count": 11,
     "metadata": {},
     "output_type": "execute_result"
    }
   ],
   "source": [
    "names = arr[:, 0]\n",
    "max_names = names[max_idx]\n",
    "max_names"
   ]
  },
  {
   "cell_type": "code",
   "execution_count": 12,
   "id": "76449ef4",
   "metadata": {},
   "outputs": [
    {
     "name": "stdout",
     "output_type": "stream",
     "text": [
      "kor 최고자: bbb\n",
      "eng 최고자: ccc\n",
      "math 최고자: bbb\n"
     ]
    }
   ],
   "source": [
    "subj=['kor', 'eng', 'math']\n",
    "for i in range(0, 3):\n",
    "    print(subj[i]+' 최고자:', max_names[i])"
   ]
  },
  {
   "cell_type": "code",
   "execution_count": 19,
   "id": "2f2614c4",
   "metadata": {},
   "outputs": [
    {
     "data": {
      "text/html": [
       "<div>\n",
       "<style scoped>\n",
       "    .dataframe tbody tr th:only-of-type {\n",
       "        vertical-align: middle;\n",
       "    }\n",
       "\n",
       "    .dataframe tbody tr th {\n",
       "        vertical-align: top;\n",
       "    }\n",
       "\n",
       "    .dataframe thead th {\n",
       "        text-align: right;\n",
       "    }\n",
       "</style>\n",
       "<table border=\"1\" class=\"dataframe\">\n",
       "  <thead>\n",
       "    <tr style=\"text-align: right;\">\n",
       "      <th></th>\n",
       "      <th>name</th>\n",
       "      <th>kor</th>\n",
       "      <th>eng</th>\n",
       "      <th>math</th>\n",
       "    </tr>\n",
       "    <tr>\n",
       "      <th>num</th>\n",
       "      <th></th>\n",
       "      <th></th>\n",
       "      <th></th>\n",
       "      <th></th>\n",
       "    </tr>\n",
       "  </thead>\n",
       "  <tbody>\n",
       "    <tr>\n",
       "      <th>1</th>\n",
       "      <td>aaa</td>\n",
       "      <td>54</td>\n",
       "      <td>56</td>\n",
       "      <td>87</td>\n",
       "    </tr>\n",
       "    <tr>\n",
       "      <th>2</th>\n",
       "      <td>bbb</td>\n",
       "      <td>67</td>\n",
       "      <td>54</td>\n",
       "      <td>89</td>\n",
       "    </tr>\n",
       "    <tr>\n",
       "      <th>3</th>\n",
       "      <td>ccc</td>\n",
       "      <td>67</td>\n",
       "      <td>98</td>\n",
       "      <td>56</td>\n",
       "    </tr>\n",
       "  </tbody>\n",
       "</table>\n",
       "</div>"
      ],
      "text/plain": [
       "    name  kor  eng  math\n",
       "num                     \n",
       "1    aaa   54   56    87\n",
       "2    bbb   67   54    89\n",
       "3    ccc   67   98    56"
      ]
     },
     "execution_count": 19,
     "metadata": {},
     "output_type": "execute_result"
    }
   ],
   "source": [
    "import pandas as pd\n",
    "cols = ['name', 'num', 'kor', 'eng', 'math']\n",
    "a = [['aaa', 1, 54,56,87], ['bbb',2,67,54,89],['ccc',3,67,98,56]]\n",
    "stu = pd.DataFrame(a, columns=cols)\n",
    "stu = stu.set_index('num')\n",
    "stu"
   ]
  },
  {
   "cell_type": "code",
   "execution_count": 21,
   "id": "fc6c046f",
   "metadata": {},
   "outputs": [
    {
     "data": {
      "text/plain": [
       "name    bbb\n",
       "kor      67\n",
       "eng      54\n",
       "math     89\n",
       "Name: 2, dtype: object"
      ]
     },
     "execution_count": 21,
     "metadata": {},
     "output_type": "execute_result"
    }
   ],
   "source": [
    "stu.loc[2]"
   ]
  },
  {
   "cell_type": "code",
   "execution_count": 22,
   "id": "42938208",
   "metadata": {},
   "outputs": [
    {
     "data": {
      "text/plain": [
       "54"
      ]
     },
     "execution_count": 22,
     "metadata": {},
     "output_type": "execute_result"
    }
   ],
   "source": [
    "stu.loc[2]['eng']"
   ]
  },
  {
   "cell_type": "code",
   "execution_count": 23,
   "id": "09cc6bf9",
   "metadata": {},
   "outputs": [
    {
     "data": {
      "text/plain": [
       "num\n",
       "1    54\n",
       "2    67\n",
       "3    67\n",
       "Name: kor, dtype: int64"
      ]
     },
     "execution_count": 23,
     "metadata": {},
     "output_type": "execute_result"
    }
   ],
   "source": [
    "stu['kor']"
   ]
  },
  {
   "cell_type": "code",
   "execution_count": 24,
   "id": "56dea499",
   "metadata": {},
   "outputs": [
    {
     "data": {
      "text/plain": [
       "kor     62.666667\n",
       "eng     69.333333\n",
       "math    77.333333\n",
       "dtype: float64"
      ]
     },
     "execution_count": 24,
     "metadata": {},
     "output_type": "execute_result"
    }
   ],
   "source": [
    "stu.mean()"
   ]
  },
  {
   "cell_type": "code",
   "execution_count": 75,
   "id": "0ab9ee3c",
   "metadata": {},
   "outputs": [
    {
     "data": {
      "text/html": [
       "<div>\n",
       "<style scoped>\n",
       "    .dataframe tbody tr th:only-of-type {\n",
       "        vertical-align: middle;\n",
       "    }\n",
       "\n",
       "    .dataframe tbody tr th {\n",
       "        vertical-align: top;\n",
       "    }\n",
       "\n",
       "    .dataframe thead th {\n",
       "        text-align: right;\n",
       "    }\n",
       "</style>\n",
       "<table border=\"1\" class=\"dataframe\">\n",
       "  <thead>\n",
       "    <tr style=\"text-align: right;\">\n",
       "      <th></th>\n",
       "      <th>기점</th>\n",
       "      <th>경유지</th>\n",
       "      <th>종점</th>\n",
       "      <th>운영횟수</th>\n",
       "      <th>기점첫차</th>\n",
       "      <th>종점첫차</th>\n",
       "      <th>기점막차</th>\n",
       "      <th>종점막차</th>\n",
       "      <th>유의사항</th>\n",
       "      <th>기준일</th>\n",
       "    </tr>\n",
       "    <tr>\n",
       "      <th>노선번호</th>\n",
       "      <th></th>\n",
       "      <th></th>\n",
       "      <th></th>\n",
       "      <th></th>\n",
       "      <th></th>\n",
       "      <th></th>\n",
       "      <th></th>\n",
       "      <th></th>\n",
       "      <th></th>\n",
       "      <th></th>\n",
       "    </tr>\n",
       "  </thead>\n",
       "  <tbody>\n",
       "    <tr>\n",
       "      <th>1</th>\n",
       "      <td>양평터미널</td>\n",
       "      <td>회현개군천서리보통리대신후포오학</td>\n",
       "      <td>여주터미널</td>\n",
       "      <td>6</td>\n",
       "      <td>06:10</td>\n",
       "      <td>정보없음</td>\n",
       "      <td>20:10</td>\n",
       "      <td>정보없음</td>\n",
       "      <td>정보없음</td>\n",
       "      <td>2020-11-23</td>\n",
       "    </tr>\n",
       "    <tr>\n",
       "      <th>1-1</th>\n",
       "      <td>양평터미널</td>\n",
       "      <td>회현개군천서리곡수삼거리옥촌대신오학</td>\n",
       "      <td>여주  곡수 터미널</td>\n",
       "      <td>2</td>\n",
       "      <td>11:40</td>\n",
       "      <td>정보없음</td>\n",
       "      <td>16:10</td>\n",
       "      <td>정보없음</td>\n",
       "      <td>정보없음</td>\n",
       "      <td>2020-11-23</td>\n",
       "    </tr>\n",
       "    <tr>\n",
       "      <th>1-10</th>\n",
       "      <td>여주터미널</td>\n",
       "      <td>오학후포대신보통리천서리개군회현</td>\n",
       "      <td>양평터미널</td>\n",
       "      <td>4</td>\n",
       "      <td>07:50</td>\n",
       "      <td>정보없음</td>\n",
       "      <td>21:30</td>\n",
       "      <td>정보없음</td>\n",
       "      <td>정보없음</td>\n",
       "      <td>2020-11-23</td>\n",
       "    </tr>\n",
       "    <tr>\n",
       "      <th>1-11</th>\n",
       "      <td>여주 곡수 터미널</td>\n",
       "      <td>오학대신곡수삼거리송촌리천서리회현리양평시장</td>\n",
       "      <td>양평터미널</td>\n",
       "      <td>2</td>\n",
       "      <td>11:30</td>\n",
       "      <td>정보없음</td>\n",
       "      <td>19:10</td>\n",
       "      <td>정보없음</td>\n",
       "      <td>정보없음</td>\n",
       "      <td>2020-11-23</td>\n",
       "    </tr>\n",
       "    <tr>\n",
       "      <th>1-12</th>\n",
       "      <td>여주 이포 터미널</td>\n",
       "      <td>오학대신천서리이포개군회현</td>\n",
       "      <td>양평터미널</td>\n",
       "      <td>1</td>\n",
       "      <td>09:30</td>\n",
       "      <td>정보없음</td>\n",
       "      <td>정보없음</td>\n",
       "      <td>정보없음</td>\n",
       "      <td>정보없음</td>\n",
       "      <td>2020-11-23</td>\n",
       "    </tr>\n",
       "    <tr>\n",
       "      <th>...</th>\n",
       "      <td>...</td>\n",
       "      <td>...</td>\n",
       "      <td>...</td>\n",
       "      <td>...</td>\n",
       "      <td>...</td>\n",
       "      <td>...</td>\n",
       "      <td>...</td>\n",
       "      <td>...</td>\n",
       "      <td>...</td>\n",
       "      <td>...</td>\n",
       "    </tr>\n",
       "    <tr>\n",
       "      <th>9-3</th>\n",
       "      <td>문호리 종점</td>\n",
       "      <td>마진배도장2리정배리서후리수능리소나기마을마진배</td>\n",
       "      <td>정배리 종점</td>\n",
       "      <td>1</td>\n",
       "      <td>17:40</td>\n",
       "      <td>17:55</td>\n",
       "      <td>정보없음</td>\n",
       "      <td>정보없음</td>\n",
       "      <td>정보없음</td>\n",
       "      <td>2020-11-23</td>\n",
       "    </tr>\n",
       "    <tr>\n",
       "      <th>9-30 벽</th>\n",
       "      <td>문호리 종점</td>\n",
       "      <td>마진배도장2리정배리서후리수능리소나기마을마진배</td>\n",
       "      <td>정배리 종점</td>\n",
       "      <td>3</td>\n",
       "      <td>08:35</td>\n",
       "      <td>08:50</td>\n",
       "      <td>14:40</td>\n",
       "      <td>14:55</td>\n",
       "      <td>정보없음</td>\n",
       "      <td>2020-11-23</td>\n",
       "    </tr>\n",
       "    <tr>\n",
       "      <th>9-6</th>\n",
       "      <td>명달리 종점</td>\n",
       "      <td>노문리수입리서종면사무소문호리양수리국수리아신리오빈리</td>\n",
       "      <td>양평터미널</td>\n",
       "      <td>1</td>\n",
       "      <td>06:35</td>\n",
       "      <td>정보없음</td>\n",
       "      <td>정보없음</td>\n",
       "      <td>정보없음</td>\n",
       "      <td>정보없음</td>\n",
       "      <td>2020-11-23</td>\n",
       "    </tr>\n",
       "    <tr>\n",
       "      <th>9-7</th>\n",
       "      <td>문호리 종점</td>\n",
       "      <td>괘미양수리신원리국수역정자리고현리아신리오빈리</td>\n",
       "      <td>양평터미널 고현</td>\n",
       "      <td>1</td>\n",
       "      <td>19:45</td>\n",
       "      <td>정보없음</td>\n",
       "      <td>정보없음</td>\n",
       "      <td>정보없음</td>\n",
       "      <td>정보없음</td>\n",
       "      <td>2020-11-23</td>\n",
       "    </tr>\n",
       "    <tr>\n",
       "      <th>9-8</th>\n",
       "      <td>중미산 양현마을</td>\n",
       "      <td>양현마을정배초교정배1리마을회관도장리마진배</td>\n",
       "      <td>문호리 종점</td>\n",
       "      <td>1</td>\n",
       "      <td>07:30</td>\n",
       "      <td>정보없음</td>\n",
       "      <td>정보없음</td>\n",
       "      <td>정보없음</td>\n",
       "      <td>정보없음</td>\n",
       "      <td>2020-11-23</td>\n",
       "    </tr>\n",
       "  </tbody>\n",
       "</table>\n",
       "<p>121 rows × 10 columns</p>\n",
       "</div>"
      ],
      "text/plain": [
       "               기점                          경유지          종점  운영횟수   기점첫차  \\\n",
       "노선번호                                                                      \n",
       "1           양평터미널             회현개군천서리보통리대신후포오학       여주터미널     6  06:10   \n",
       "1-1         양평터미널           회현개군천서리곡수삼거리옥촌대신오학  여주  곡수 터미널     2  11:40   \n",
       "1-10        여주터미널             오학후포대신보통리천서리개군회현       양평터미널     4  07:50   \n",
       "1-11    여주 곡수 터미널       오학대신곡수삼거리송촌리천서리회현리양평시장       양평터미널     2  11:30   \n",
       "1-12    여주 이포 터미널                오학대신천서리이포개군회현       양평터미널     1  09:30   \n",
       "...           ...                          ...         ...   ...    ...   \n",
       "9-3        문호리 종점     마진배도장2리정배리서후리수능리소나기마을마진배      정배리 종점     1  17:40   \n",
       "9-30 벽     문호리 종점     마진배도장2리정배리서후리수능리소나기마을마진배      정배리 종점     3  08:35   \n",
       "9-6        명달리 종점  노문리수입리서종면사무소문호리양수리국수리아신리오빈리       양평터미널     1  06:35   \n",
       "9-7        문호리 종점      괘미양수리신원리국수역정자리고현리아신리오빈리   양평터미널 고현      1  19:45   \n",
       "9-8      중미산 양현마을       양현마을정배초교정배1리마을회관도장리마진배      문호리 종점     1  07:30   \n",
       "\n",
       "         종점첫차   기점막차   종점막차  유의사항         기준일  \n",
       "노선번호                                           \n",
       "1        정보없음  20:10   정보없음  정보없음  2020-11-23  \n",
       "1-1      정보없음  16:10   정보없음  정보없음  2020-11-23  \n",
       "1-10     정보없음  21:30   정보없음  정보없음  2020-11-23  \n",
       "1-11     정보없음  19:10   정보없음  정보없음  2020-11-23  \n",
       "1-12     정보없음   정보없음   정보없음  정보없음  2020-11-23  \n",
       "...       ...    ...    ...   ...         ...  \n",
       "9-3     17:55   정보없음   정보없음  정보없음  2020-11-23  \n",
       "9-30 벽  08:50  14:40  14:55  정보없음  2020-11-23  \n",
       "9-6      정보없음   정보없음   정보없음  정보없음  2020-11-23  \n",
       "9-7      정보없음   정보없음   정보없음  정보없음  2020-11-23  \n",
       "9-8      정보없음   정보없음   정보없음  정보없음  2020-11-23  \n",
       "\n",
       "[121 rows x 10 columns]"
      ]
     },
     "execution_count": 75,
     "metadata": {},
     "output_type": "execute_result"
    }
   ],
   "source": [
    "info = pd.read_csv('bus.csv', encoding='euc-kr', index_col='노선번호')\n",
    "info = info.fillna('정보없음')\n",
    "info"
   ]
  },
  {
   "cell_type": "code",
   "execution_count": 31,
   "id": "398c89fd",
   "metadata": {},
   "outputs": [
    {
     "data": {
      "text/plain": [
       "'양평터미널'"
      ]
     },
     "execution_count": 31,
     "metadata": {},
     "output_type": "execute_result"
    }
   ],
   "source": [
    "info.loc['1']['기점']"
   ]
  },
  {
   "cell_type": "code",
   "execution_count": 32,
   "id": "ce9c936d",
   "metadata": {},
   "outputs": [
    {
     "data": {
      "text/plain": [
       "'여주터미널'"
      ]
     },
     "execution_count": 32,
     "metadata": {},
     "output_type": "execute_result"
    }
   ],
   "source": [
    "info.loc['1']['종점']"
   ]
  },
  {
   "cell_type": "code",
   "execution_count": 33,
   "id": "b02e2cc6",
   "metadata": {},
   "outputs": [
    {
     "data": {
      "text/plain": [
       "'06:10'"
      ]
     },
     "execution_count": 33,
     "metadata": {},
     "output_type": "execute_result"
    }
   ],
   "source": [
    "info.loc['1']['기점첫차']"
   ]
  },
  {
   "cell_type": "code",
   "execution_count": 34,
   "id": "81d36d37",
   "metadata": {},
   "outputs": [
    {
     "data": {
      "text/plain": [
       "'20:10'"
      ]
     },
     "execution_count": 34,
     "metadata": {},
     "output_type": "execute_result"
    }
   ],
   "source": [
    "info.loc['1']['기점막차']"
   ]
  },
  {
   "cell_type": "code",
   "execution_count": 35,
   "id": "9087d67d",
   "metadata": {},
   "outputs": [
    {
     "data": {
      "text/plain": [
       "'회현개군천서리보통리대신후포오학'"
      ]
     },
     "execution_count": 35,
     "metadata": {},
     "output_type": "execute_result"
    }
   ],
   "source": [
    "info.loc['1']['경유지']"
   ]
  },
  {
   "cell_type": "code",
   "execution_count": 61,
   "id": "1396c172",
   "metadata": {},
   "outputs": [
    {
     "data": {
      "text/plain": [
       "'양평터미널'"
      ]
     },
     "execution_count": 61,
     "metadata": {},
     "output_type": "execute_result"
    }
   ],
   "source": [
    "info.loc['1'][0]"
   ]
  },
  {
   "cell_type": "code",
   "execution_count": 62,
   "id": "fe0c887a",
   "metadata": {},
   "outputs": [
    {
     "data": {
      "text/plain": [
       "'회현개군천서리보통리대신후포오학'"
      ]
     },
     "execution_count": 62,
     "metadata": {},
     "output_type": "execute_result"
    }
   ],
   "source": [
    "info.loc['1'][1]"
   ]
  },
  {
   "cell_type": "code",
   "execution_count": 63,
   "id": "3d372479",
   "metadata": {},
   "outputs": [
    {
     "data": {
      "text/plain": [
       "기점                 양평터미널\n",
       "경유지     회현개군천서리보통리대신후포오학\n",
       "종점                 여주터미널\n",
       "운영횟수                   6\n",
       "기점첫차               06:10\n",
       "종점첫차                정보없음\n",
       "기점막차               20:10\n",
       "Name: 1, dtype: object"
      ]
     },
     "execution_count": 63,
     "metadata": {},
     "output_type": "execute_result"
    }
   ],
   "source": [
    "info.loc['1'][0:7]"
   ]
  },
  {
   "cell_type": "code",
   "execution_count": 56,
   "id": "1111d0cb",
   "metadata": {},
   "outputs": [],
   "source": [
    "#파라메터로 버스 번호\n",
    "def getBusInfo(num):\n",
    "    return info.loc[num][0:7]"
   ]
  },
  {
   "cell_type": "code",
   "execution_count": 64,
   "id": "9f70f562",
   "metadata": {},
   "outputs": [
    {
     "data": {
      "text/plain": [
       "기점                        문호리 종점\n",
       "경유지     마진배도장2리정배리서후리수능리소나기마을마진배\n",
       "종점                        정배리 종점\n",
       "운영횟수                           1\n",
       "기점첫차                       17:40\n",
       "종점첫차                       17:55\n",
       "기점막차                        정보없음\n",
       "Name: 9-3, dtype: object"
      ]
     },
     "execution_count": 64,
     "metadata": {},
     "output_type": "execute_result"
    }
   ],
   "source": [
    "k = getBusInfo('9-3')\n",
    "k"
   ]
  },
  {
   "cell_type": "code",
   "execution_count": 65,
   "id": "1495a293",
   "metadata": {},
   "outputs": [
    {
     "data": {
      "text/plain": [
       "Index(['기점', '경유지', '종점', '운영횟수', '기점첫차', '종점첫차', '기점막차'], dtype='object')"
      ]
     },
     "execution_count": 65,
     "metadata": {},
     "output_type": "execute_result"
    }
   ],
   "source": [
    "k.index"
   ]
  },
  {
   "cell_type": "code",
   "execution_count": 66,
   "id": "3c3ac4ce",
   "metadata": {},
   "outputs": [
    {
     "data": {
      "text/plain": [
       "array(['문호리 종점', '마진배도장2리정배리서후리수능리소나기마을마진배', '정배리 종점', 1, '17:40',\n",
       "       '17:55', '정보없음'], dtype=object)"
      ]
     },
     "execution_count": 66,
     "metadata": {},
     "output_type": "execute_result"
    }
   ],
   "source": [
    "k.values"
   ]
  },
  {
   "cell_type": "code",
   "execution_count": 67,
   "id": "b84a06b1",
   "metadata": {},
   "outputs": [
    {
     "data": {
      "text/plain": [
       "'문호리 종점'"
      ]
     },
     "execution_count": 67,
     "metadata": {},
     "output_type": "execute_result"
    }
   ],
   "source": [
    "k['기점']"
   ]
  },
  {
   "cell_type": "code",
   "execution_count": 68,
   "id": "3c05a78c",
   "metadata": {},
   "outputs": [
    {
     "data": {
      "text/plain": [
       "'마진배도장2리정배리서후리수능리소나기마을마진배'"
      ]
     },
     "execution_count": 68,
     "metadata": {},
     "output_type": "execute_result"
    }
   ],
   "source": [
    "k['경유지']"
   ]
  },
  {
   "cell_type": "code",
   "execution_count": 70,
   "id": "70a6f231",
   "metadata": {},
   "outputs": [
    {
     "name": "stdout",
     "output_type": "stream",
     "text": [
      "기점 :  문호리 종점\n",
      "경유지 :  마진배도장2리정배리서후리수능리소나기마을마진배\n",
      "종점 :  정배리 종점\n",
      "운영횟수 :  1\n",
      "기점첫차 :  17:40\n",
      "종점첫차 :  17:55\n",
      "기점막차 :  정보없음\n"
     ]
    }
   ],
   "source": [
    "for i in k.index:\n",
    "    print(i, ': ', k[i])"
   ]
  },
  {
   "cell_type": "code",
   "execution_count": 52,
   "id": "0903a856",
   "metadata": {},
   "outputs": [],
   "source": [
    "#검색된 결과(k)를 출력하는 함수\n",
    "def printInfo(s):\n",
    "    idx = s.index #idx:['기점','경유지'....]\n",
    "    for i in idx:\n",
    "        if i=='종점첫차':\n",
    "            continue\n",
    "        print(i, ':', s[i])"
   ]
  },
  {
   "cell_type": "code",
   "execution_count": 78,
   "id": "440889ab",
   "metadata": {},
   "outputs": [
    {
     "name": "stdout",
     "output_type": "stream",
     "text": [
      "기점 : 문호리 종점\n",
      "경유지 : 마진배도장2리정배리서후리수능리소나기마을마진배\n",
      "종점 : 정배리 종점\n",
      "운영횟수 : 1\n",
      "기점첫차 : 17:40\n",
      "기점막차 : 정보없음\n"
     ]
    }
   ],
   "source": [
    "x = getBusInfo('9-3')\n",
    "printInfo(x)"
   ]
  },
  {
   "cell_type": "code",
   "execution_count": 80,
   "id": "75ee9857",
   "metadata": {},
   "outputs": [
    {
     "data": {
      "text/plain": [
       "노선번호\n",
       "1             양평터미널\n",
       "1-1           양평터미널\n",
       "1-10          여주터미널\n",
       "1-11      여주 곡수 터미널\n",
       "1-12      여주 이포 터미널\n",
       "            ...    \n",
       "9-3          문호리 종점\n",
       "9-30 벽       문호리 종점\n",
       "9-6          명달리 종점\n",
       "9-7          문호리 종점\n",
       "9-8        중미산 양현마을\n",
       "Name: 기점, Length: 121, dtype: object"
      ]
     },
     "execution_count": 80,
     "metadata": {},
     "output_type": "execute_result"
    }
   ],
   "source": [
    "info['기점']"
   ]
  },
  {
   "cell_type": "code",
   "execution_count": 81,
   "id": "608663f7",
   "metadata": {},
   "outputs": [
    {
     "data": {
      "text/plain": [
       "노선번호\n",
       "1          True\n",
       "1-1        True\n",
       "1-10      False\n",
       "1-11      False\n",
       "1-12      False\n",
       "          ...  \n",
       "9-3       False\n",
       "9-30 벽    False\n",
       "9-6       False\n",
       "9-7       False\n",
       "9-8       False\n",
       "Name: 기점, Length: 121, dtype: bool"
      ]
     },
     "execution_count": 81,
     "metadata": {},
     "output_type": "execute_result"
    }
   ],
   "source": [
    "info['기점']=='양평터미널'"
   ]
  },
  {
   "cell_type": "code",
   "execution_count": 84,
   "id": "a22ee52d",
   "metadata": {},
   "outputs": [],
   "source": [
    "#기점이 양평터미널인 버스노선을 검색하여 출력하라\n",
    "#info[info['기점']=='양평터미널'].index\n",
    "def getBusBySt(st_name):\n",
    "    return info[info['기점']==st_name].index"
   ]
  },
  {
   "cell_type": "code",
   "execution_count": 85,
   "id": "67068925",
   "metadata": {},
   "outputs": [
    {
     "data": {
      "text/plain": [
       "Index(['1', '1-1', '1-2', '1-23', '1-3', '1-31', '1-33', '1-4 벽 ', '1-5 벽 ',\n",
       "       '1-53', '1-7 벽 ', '11', '2-11 벽추 ', '2-12', '2-2 벽추 ', '2-3 벽추 ',\n",
       "       '2-5 벽추 ', '2-6', '2-8 벽 ', '2000-1', '2000-2', '3', '3-2', '3-22',\n",
       "       '3-5', '30', '30-1', '4-1', '4-10', '4-10', '4-11', '4-11', '4-2',\n",
       "       '4-2', '4-4 벽 ', '4-5', '4-6', '4-6', '4-7', '4-9', '4-9', '5-11',\n",
       "       '5-2', '5-2', '5-3', '5-7', '6 벽 ', '6-1', '6-10 벽 ', '6-12', '6-2',\n",
       "       '6-3', '6-4', '6-5 벽 ', '6-6 벽 ', '6-8 벽 ', '7'],\n",
       "      dtype='object', name='노선번호')"
      ]
     },
     "execution_count": 85,
     "metadata": {},
     "output_type": "execute_result"
    }
   ],
   "source": [
    "getBusBySt('양평터미널')"
   ]
  },
  {
   "cell_type": "code",
   "execution_count": 86,
   "id": "a58732b5",
   "metadata": {},
   "outputs": [
    {
     "data": {
      "text/plain": [
       "Index(['1-10', '1-30'], dtype='object', name='노선번호')"
      ]
     },
     "execution_count": 86,
     "metadata": {},
     "output_type": "execute_result"
    }
   ],
   "source": [
    "getBusBySt('여주터미널')"
   ]
  },
  {
   "cell_type": "code",
   "execution_count": 23,
   "id": "1fe8416e",
   "metadata": {},
   "outputs": [
    {
     "data": {
      "text/html": [
       "<div>\n",
       "<style scoped>\n",
       "    .dataframe tbody tr th:only-of-type {\n",
       "        vertical-align: middle;\n",
       "    }\n",
       "\n",
       "    .dataframe tbody tr th {\n",
       "        vertical-align: top;\n",
       "    }\n",
       "\n",
       "    .dataframe thead th {\n",
       "        text-align: right;\n",
       "    }\n",
       "</style>\n",
       "<table border=\"1\" class=\"dataframe\">\n",
       "  <thead>\n",
       "    <tr style=\"text-align: right;\">\n",
       "      <th></th>\n",
       "      <th>종목코드</th>\n",
       "      <th>업종</th>\n",
       "      <th>주요제품</th>\n",
       "      <th>상장일</th>\n",
       "      <th>결산월</th>\n",
       "      <th>대표자명</th>\n",
       "      <th>홈페이지</th>\n",
       "      <th>지역</th>\n",
       "    </tr>\n",
       "    <tr>\n",
       "      <th>회사명</th>\n",
       "      <th></th>\n",
       "      <th></th>\n",
       "      <th></th>\n",
       "      <th></th>\n",
       "      <th></th>\n",
       "      <th></th>\n",
       "      <th></th>\n",
       "      <th></th>\n",
       "    </tr>\n",
       "  </thead>\n",
       "  <tbody>\n",
       "    <tr>\n",
       "      <th>JS전선</th>\n",
       "      <td>5560</td>\n",
       "      <td>절연선 및 케이블 제조업</td>\n",
       "      <td>선박선,고무선,전력선,통신선 제조</td>\n",
       "      <td>2007-11-12</td>\n",
       "      <td>12월</td>\n",
       "      <td>이익희</td>\n",
       "      <td>http://www.jscable.co.kr</td>\n",
       "      <td>충청남도</td>\n",
       "    </tr>\n",
       "    <tr>\n",
       "      <th>거북선2호</th>\n",
       "      <td>101380</td>\n",
       "      <td>NaN</td>\n",
       "      <td>운송장비(선박) 임대</td>\n",
       "      <td>2008-04-25</td>\n",
       "      <td>12월</td>\n",
       "      <td>신주선</td>\n",
       "      <td>NaN</td>\n",
       "      <td>부산광역시</td>\n",
       "    </tr>\n",
       "    <tr>\n",
       "      <th>거북선6호</th>\n",
       "      <td>114140</td>\n",
       "      <td>NaN</td>\n",
       "      <td>NaN</td>\n",
       "      <td>2009-10-01</td>\n",
       "      <td>12월</td>\n",
       "      <td>김연신</td>\n",
       "      <td>NaN</td>\n",
       "      <td>제주특별자치도</td>\n",
       "    </tr>\n",
       "    <tr>\n",
       "      <th>교보메리츠</th>\n",
       "      <td>64900</td>\n",
       "      <td>NaN</td>\n",
       "      <td>부동산 투자,운용</td>\n",
       "      <td>2002-01-30</td>\n",
       "      <td>12월</td>\n",
       "      <td>김 상 진</td>\n",
       "      <td>NaN</td>\n",
       "      <td>서울특별시</td>\n",
       "    </tr>\n",
       "    <tr>\n",
       "      <th>국제관광공사</th>\n",
       "      <td>28780</td>\n",
       "      <td>NaN</td>\n",
       "      <td>NaN</td>\n",
       "      <td>1966-03-18</td>\n",
       "      <td>12월</td>\n",
       "      <td>NaN</td>\n",
       "      <td>NaN</td>\n",
       "      <td>NaN</td>\n",
       "    </tr>\n",
       "    <tr>\n",
       "      <th>...</th>\n",
       "      <td>...</td>\n",
       "      <td>...</td>\n",
       "      <td>...</td>\n",
       "      <td>...</td>\n",
       "      <td>...</td>\n",
       "      <td>...</td>\n",
       "      <td>...</td>\n",
       "      <td>...</td>\n",
       "    </tr>\n",
       "    <tr>\n",
       "      <th>툴젠</th>\n",
       "      <td>199800</td>\n",
       "      <td>자연과학 및 공학 연구개발업</td>\n",
       "      <td>유전자가위 (유전체 교정 도구) 및 이를 이용한 유전자세포치료제, 고부가가치 가축,...</td>\n",
       "      <td>2014-06-25</td>\n",
       "      <td>12월</td>\n",
       "      <td>김영호, 이병화(각자 대표이사)</td>\n",
       "      <td>http://www.toolgen.com</td>\n",
       "      <td>서울특별시</td>\n",
       "    </tr>\n",
       "    <tr>\n",
       "      <th>플럼라인생명과학</th>\n",
       "      <td>222670</td>\n",
       "      <td>자연과학 및 공학 연구개발업</td>\n",
       "      <td>강아지암치료제,돼지DNA테라피</td>\n",
       "      <td>2015-07-28</td>\n",
       "      <td>12월</td>\n",
       "      <td>김앤토니경태</td>\n",
       "      <td>http://www.plsdna.com</td>\n",
       "      <td>서울특별시</td>\n",
       "    </tr>\n",
       "    <tr>\n",
       "      <th>피엔에이치테크</th>\n",
       "      <td>239890</td>\n",
       "      <td>기초 화학물질 제조업</td>\n",
       "      <td>OLED완성체, OLED중간체, Pd촉매</td>\n",
       "      <td>2016-08-16</td>\n",
       "      <td>12월</td>\n",
       "      <td>현서용</td>\n",
       "      <td>http://www.phtech.co.kr</td>\n",
       "      <td>경기도</td>\n",
       "    </tr>\n",
       "    <tr>\n",
       "      <th>한국미라클피플사</th>\n",
       "      <td>331660</td>\n",
       "      <td>기타 화학제품 제조업</td>\n",
       "      <td>은나노스텝, 닥터오렌지 등</td>\n",
       "      <td>2019-10-28</td>\n",
       "      <td>12월</td>\n",
       "      <td>이호경</td>\n",
       "      <td>http://www.kmpc.co.kr</td>\n",
       "      <td>경기도</td>\n",
       "    </tr>\n",
       "    <tr>\n",
       "      <th>휴벡셀</th>\n",
       "      <td>212310</td>\n",
       "      <td>의료용 기기 제조업</td>\n",
       "      <td>척추용 임플란트 등</td>\n",
       "      <td>2016-07-26</td>\n",
       "      <td>12월</td>\n",
       "      <td>박정민, 허성규(각자대표)</td>\n",
       "      <td>http://huvexel.com</td>\n",
       "      <td>경기도</td>\n",
       "    </tr>\n",
       "  </tbody>\n",
       "</table>\n",
       "<p>3910 rows × 8 columns</p>\n",
       "</div>"
      ],
      "text/plain": [
       "            종목코드               업종  \\\n",
       "회사명                                 \n",
       "JS전선        5560    절연선 및 케이블 제조업   \n",
       "거북선2호     101380              NaN   \n",
       "거북선6호     114140              NaN   \n",
       "교보메리츠      64900              NaN   \n",
       "국제관광공사     28780              NaN   \n",
       "...          ...              ...   \n",
       "툴젠        199800  자연과학 및 공학 연구개발업   \n",
       "플럼라인생명과학  222670  자연과학 및 공학 연구개발업   \n",
       "피엔에이치테크   239890      기초 화학물질 제조업   \n",
       "한국미라클피플사  331660      기타 화학제품 제조업   \n",
       "휴벡셀       212310       의료용 기기 제조업   \n",
       "\n",
       "                                                       주요제품         상장일  결산월  \\\n",
       "회사명                                                                            \n",
       "JS전선                                     선박선,고무선,전력선,통신선 제조  2007-11-12  12월   \n",
       "거북선2호                                           운송장비(선박) 임대  2008-04-25  12월   \n",
       "거북선6호                                                   NaN  2009-10-01  12월   \n",
       "교보메리츠                                             부동산 투자,운용  2002-01-30  12월   \n",
       "국제관광공사                                                  NaN  1966-03-18  12월   \n",
       "...                                                     ...         ...  ...   \n",
       "툴젠        유전자가위 (유전체 교정 도구) 및 이를 이용한 유전자세포치료제, 고부가가치 가축,...  2014-06-25  12월   \n",
       "플럼라인생명과학                                   강아지암치료제,돼지DNA테라피  2015-07-28  12월   \n",
       "피엔에이치테크                              OLED완성체, OLED중간체, Pd촉매  2016-08-16  12월   \n",
       "한국미라클피플사                                     은나노스텝, 닥터오렌지 등  2019-10-28  12월   \n",
       "휴벡셀                                              척추용 임플란트 등  2016-07-26  12월   \n",
       "\n",
       "                       대표자명                      홈페이지       지역  \n",
       "회사명                                                             \n",
       "JS전선                    이익희  http://www.jscable.co.kr     충청남도  \n",
       "거북선2호                   신주선                       NaN    부산광역시  \n",
       "거북선6호                   김연신                       NaN  제주특별자치도  \n",
       "교보메리츠                 김 상 진                       NaN    서울특별시  \n",
       "국제관광공사                  NaN                       NaN      NaN  \n",
       "...                     ...                       ...      ...  \n",
       "툴젠        김영호, 이병화(각자 대표이사)    http://www.toolgen.com    서울특별시  \n",
       "플럼라인생명과학             김앤토니경태     http://www.plsdna.com    서울특별시  \n",
       "피엔에이치테크                 현서용   http://www.phtech.co.kr      경기도  \n",
       "한국미라클피플사                이호경     http://www.kmpc.co.kr      경기도  \n",
       "휴벡셀          박정민, 허성규(각자대표)        http://huvexel.com      경기도  \n",
       "\n",
       "[3910 rows x 8 columns]"
      ]
     },
     "execution_count": 23,
     "metadata": {},
     "output_type": "execute_result"
    }
   ],
   "source": [
    "import pandas as pd\n",
    "import numpy as np\n",
    "\n",
    "df = pd.read_excel('ss.xls', index_col='회사명')\n",
    "df"
   ]
  },
  {
   "cell_type": "code",
   "execution_count": 2,
   "id": "ffbc64e2",
   "metadata": {},
   "outputs": [
    {
     "data": {
      "text/plain": [
       "종목코드                212310\n",
       "업종              의료용 기기 제조업\n",
       "주요제품            척추용 임플란트 등\n",
       "상장일             2016-07-26\n",
       "결산월                    12월\n",
       "대표자명        박정민, 허성규(각자대표)\n",
       "홈페이지    http://huvexel.com\n",
       "지역                     경기도\n",
       "Name: 휴벡셀, dtype: object"
      ]
     },
     "execution_count": 2,
     "metadata": {},
     "output_type": "execute_result"
    }
   ],
   "source": [
    "df.loc['휴벡셀']"
   ]
  },
  {
   "cell_type": "code",
   "execution_count": 3,
   "id": "e94da90e",
   "metadata": {},
   "outputs": [
    {
     "data": {
      "text/plain": [
       "212310"
      ]
     },
     "execution_count": 3,
     "metadata": {},
     "output_type": "execute_result"
    }
   ],
   "source": [
    "df.loc['휴벡셀']['종목코드']"
   ]
  },
  {
   "cell_type": "code",
   "execution_count": 24,
   "id": "16842b7e",
   "metadata": {},
   "outputs": [
    {
     "data": {
      "text/plain": [
       "회사명\n",
       "JS전선                      이익희\n",
       "거북선2호                     신주선\n",
       "거북선6호                     김연신\n",
       "교보메리츠                   김 상 진\n",
       "국제관광공사                    NaN\n",
       "                  ...        \n",
       "툴젠          김영호, 이병화(각자 대표이사)\n",
       "플럼라인생명과학               김앤토니경태\n",
       "피엔에이치테크                   현서용\n",
       "한국미라클피플사                  이호경\n",
       "휴벡셀            박정민, 허성규(각자대표)\n",
       "Name: 대표자명, Length: 3910, dtype: object"
      ]
     },
     "execution_count": 24,
     "metadata": {},
     "output_type": "execute_result"
    }
   ],
   "source": [
    "df['대표자명']"
   ]
  },
  {
   "cell_type": "code",
   "execution_count": 17,
   "id": "6a3957d2",
   "metadata": {},
   "outputs": [
    {
     "data": {
      "text/plain": [
       "회사명\n",
       "JS전선        2007-11-12\n",
       "거북선2호       2008-04-25\n",
       "거북선6호       2009-10-01\n",
       "교보메리츠       2002-01-30\n",
       "국제관광공사      1966-03-18\n",
       "               ...    \n",
       "툴젠          2014-06-25\n",
       "플럼라인생명과학    2015-07-28\n",
       "피엔에이치테크     2016-08-16\n",
       "한국미라클피플사    2019-10-28\n",
       "휴벡셀         2016-07-26\n",
       "Name: 상장일, Length: 3910, dtype: object"
      ]
     },
     "execution_count": 17,
     "metadata": {},
     "output_type": "execute_result"
    }
   ],
   "source": [
    "df['상장일']"
   ]
  },
  {
   "cell_type": "code",
   "execution_count": 25,
   "id": "5ce2655c",
   "metadata": {},
   "outputs": [
    {
     "data": {
      "text/plain": [
       "['2007', '11', '12']"
      ]
     },
     "execution_count": 25,
     "metadata": {},
     "output_type": "execute_result"
    }
   ],
   "source": [
    "'2007-11-12'.split('-')"
   ]
  },
  {
   "cell_type": "code",
   "execution_count": 16,
   "id": "6a6cb010",
   "metadata": {},
   "outputs": [
    {
     "data": {
      "text/plain": [
       "array(['2007-11-12', '2008-04-25', '2009-10-01', ..., '2016-08-16',\n",
       "       '2019-10-28', '2016-07-26'], dtype=object)"
      ]
     },
     "execution_count": 16,
     "metadata": {},
     "output_type": "execute_result"
    }
   ],
   "source": [
    "df['상장일'].values"
   ]
  },
  {
   "cell_type": "code",
   "execution_count": 18,
   "id": "bb61cf1d",
   "metadata": {},
   "outputs": [
    {
     "data": {
      "text/plain": [
       "Index(['JS전선', '거북선2호', '거북선6호', '교보메리츠', '국제관광공사', '굿리치경매1', '그린손해보험', '극동건설',\n",
       "       '금성산업', '금호케미칼',\n",
       "       ...\n",
       "       '엔에스엠', '원텍', '이노진', '지앤이헬스케어', '코셋', '툴젠', '플럼라인생명과학', '피엔에이치테크',\n",
       "       '한국미라클피플사', '휴벡셀'],\n",
       "      dtype='object', name='회사명', length=3910)"
      ]
     },
     "execution_count": 18,
     "metadata": {},
     "output_type": "execute_result"
    }
   ],
   "source": [
    "df['상장일'].index"
   ]
  },
  {
   "cell_type": "code",
   "execution_count": 31,
   "id": "9d84f6ac",
   "metadata": {},
   "outputs": [
    {
     "data": {
      "text/plain": [
       "Index(['한국4호스팩', '나무기술', '시냅스엠', '영현무역', '인프라웨어테크놀러지', '두산밥캣', '모두투어리츠', '모비스',\n",
       "       '유니온커뮤니티', '유니테크노',\n",
       "       ...\n",
       "       'AP위성', 'GRT', '녹십자랩셀', '얼라인드', '예선테크', '퓨전', '메디젠휴먼케어', '에스케이씨에스',\n",
       "       '피엔에이치테크', '휴벡셀'],\n",
       "      dtype='object', name='회사명', length=132)"
      ]
     },
     "execution_count": 31,
     "metadata": {},
     "output_type": "execute_result"
    }
   ],
   "source": [
    "check=[]\n",
    "days = df['상장일'].values\n",
    "for d in days:\n",
    "    y = d.split('-')[0]\n",
    "    b = (y=='2016')\n",
    "    check.append(b)\n",
    "    \n",
    "names = df['상장일'].index\n",
    "names[check]\n"
   ]
  },
  {
   "cell_type": "code",
   "execution_count": 32,
   "id": "171a6917",
   "metadata": {},
   "outputs": [],
   "source": [
    "#연도를 입력하면 그해에 상장한 회사들을 검색하여 이름출력\n",
    "def f1(year):\n",
    "    check = []\n",
    "    days = df['상장일'].values\n",
    "    for d in days:\n",
    "        b = (d.split('-')[0]==year)\n",
    "        check.append(b)\n",
    "    check = np.array(check)\n",
    "    return check\n",
    "        "
   ]
  },
  {
   "cell_type": "code",
   "execution_count": 33,
   "id": "e958bf01",
   "metadata": {},
   "outputs": [
    {
     "data": {
      "text/plain": [
       "array([False, False, False, ..., False, False, False])"
      ]
     },
     "execution_count": 33,
     "metadata": {},
     "output_type": "execute_result"
    }
   ],
   "source": [
    "x = f1('2017')\n",
    "x"
   ]
  },
  {
   "cell_type": "code",
   "execution_count": 35,
   "id": "f50c820c",
   "metadata": {},
   "outputs": [
    {
     "data": {
      "text/plain": [
       "Index(['IBKS제7호스팩', '신한제4호스팩', '한국제5호스팩', '한국제6호스팩', '극동자동화', '제일약품', '현대건설기계',\n",
       "       '호전실업', '모트렉스', '시스웍',\n",
       "       ...\n",
       "       'AP시스템', '데이타솔루션', '브이원텍', '셀트리온헬스케어', '신신제약', '지엔원에너지', '코오롱티슈진', '힘스',\n",
       "       'SGA클라우드서비스', 'TS트릴리온'],\n",
       "      dtype='object', name='회사명', length=125)"
      ]
     },
     "execution_count": 35,
     "metadata": {},
     "output_type": "execute_result"
    }
   ],
   "source": [
    "x = f1('2017')\n",
    "names = df.index[x]\n",
    "names"
   ]
  },
  {
   "cell_type": "code",
   "execution_count": 38,
   "id": "a62a0bb8",
   "metadata": {},
   "outputs": [
    {
     "data": {
      "text/plain": [
       "'<!DOCTYPE html>\\n<html lang=\"ko\" class=\"\">\\n<head>\\n<meta charset=\"utf-8\"/>\\n<title>Daum</title>\\n<meta property=\"og:url\" content=\"https://www.daum.net/\">\\n<meta property=\"og:type\" content=\"website\">\\n<meta property=\"og:title\" content=\"Daum\">\\n<meta property=\"og:image\" content=\"//i1.daumcdn.net/svc/image/U03/common_icon/5587C4E4012FCD0001\">\\n<meta property=\"og:description\" content=\"나의 관심 콘텐츠를 가장 즐겁게 볼 수 있는 Daum\">\\n<meta name=\"msapplication-task\" content=\"name=Daum;action-uri=https://www.daum.net/;icon-uri=/favicon.ico\">\\n<meta name=\"msapplication-task\" content=\"name=미디어다음;action-uri=https://news.daum.net/;icon-uri=/media_favicon.ico\">\\n<meta name=\"msapplication-task\" content=\"name=메일;action-uri=http://mail.daum.net;icon-uri=/mail_favicon.ico\">\\n<meta name=\"referrer\" content=\"origin\">\\n<link rel=\"search\" type=\"application/opensearchdescription+xml\" href=\"//search.daum.net/OpenSearch.xml\" title=\"다음\">\\n<script type=\"text/javascript\" src=\"//t1.daumcdn.net/tiara/js/v1/tiara.min.js\"></script>\\n<style type=\"text/css\">\\n@charset \"utf-8\";\\nbody,div,dl,dt,dd,ul,ol,li,h1,h2,h3,h4,h5,h6,pre,code,form,fieldset,legend,textarea,p,blockquote,th,td,input,select,button{margin:0;padding:0}\\nfieldset,img{border:0 none}\\ndl,ul,ol,menu,li{list-style:none}\\nblockquote, q{quotes: none}\\nblockquote:before, blockquote:after,q:before, q:after{content:\\'\\';content:none}\\ninput,select,textarea,button{border-radius:0;vertical-align:middle}\\ninput::-ms-clear{display:none}\\nbutton{border:0 none;background-color:transparent;cursor:pointer}\\nbody{background:#fff;direction:ltr;-webkit-text-size-adjust:none}\\nbody,th,td,input,select,textarea,button{font-size:13px;line-height:1.5;font-family:AppleSDGothicNeo-Regular,\\'Malgun Gothic\\',\\'맑은 고딕\\',dotum,\\'돋움\\',sans-serif;color:#222;letter-spacing:-1px}\\n.os_mac body,.os_mac th,.os_mac td,.os_mac input,.os_mac select,.os_mac textarea,.os_mac button{letter-spacing:0}\\na{color:#222;text-decoration:none}\\na:hover{color:#118eff;text-decoration:underline}\\na:active{background-color:transparent}\\naddress,caption,cite,code,dfn,em,var{font-style:normal;font-weight:normal}\\n.ir_pm{display:block;overflow:hidden;font-size:1px;line-height:0;text-indent:-9999px}\\n.ir_wa{display:block;overflow:hidden;position:relative;width:100%;height:100%;z-index:-1}\\n.screen_out{overflow:hidden;position:absolute;width:0;height:0;line-height:0;text-indent:-9999px}\\n.show{display:block}\\n.hide{display:none}\\n.d_index{position:relative;width:100%}\\n.d_index .shortcut_g{position:absolute;top:-34px;left:0;height:33px;padding:0 20px 0 26px;border-bottom:1px solid #3f4243;font-size:11px;line-height:14px;background-color:#26292a;color:#fff;letter-spacing:-1px;text-align:center}\\n.d_index .shortcut_g:active,\\n.d_index .shortcut_g:focus{overflow:hidden;top:0;text-decoration:none;z-index:101}\\n.d_index .shortcut_g:active,\\n.d_index .shortcut_g:hover{color:#fff}\\n.d_index .shortcut_g .inner_shortcut{display:inline-block;padding-right:10px;margin-top:8px;background-position:100% -220px;vertical-align:top}\\n.os_mac .d_index .shortcut_g .inner_shortcut{margin-top:11px;background-position:100% -223px}\\n.ico_pctop{overflow:hidden;background:url(//t1.daumcdn.net/daumtop_deco/images/top/2017/ico_pctop_190618_v2.png) no-repeat 0 0}\\n.ico_pctop2{overflow:hidden;background:url(//t1.daumcdn.net/daumtop_deco/images/top/2019/img_pctop_200207.png) no-repeat 0 0}\\n.ico_vert{overflow:hidden;background:url(//t1.daumcdn.net/daumtop_deco/images/top/2017/ico_pctop_vert_170724.png) no-repeat 0 0}\\n.ico_vert2{overflow:hidden;background:url(//t1.daumcdn.net/daumtop_deco/images/top/2019/img_pctop_vert_200107.png) no-repeat 0 0}\\n.txt_pctop{overflow:hidden;background:url(//t1.daumcdn.net/daumtop_deco/images/top/2021/txt_pctop_210121.png) no-repeat 0 0;letter-spacing:-1px;white-space:nowrap}\\n.ico_top_layer{overflow:hidden;background:url(//t1.daumcdn.net/daumtop_deco/images/top/2019/ico_top_layer.png) no-repeat 0 0}\\n.bg_pctop{background:url(//t1.daumcdn.net/daumtop_deco/images/top/2017/bg_pctop_190612.png) no-repeat 0 0}\\n.num_pctop{overflow:hidden;background:url(//t1.daumcdn.net/daumtop_deco/images/top/2017/num_pctop_170405.png) no-repeat 0 0}\\n.img_thumb{display:block;vertical-align:top}\\n.frame_g{position:absolute;top:0;left:0;border:1px solid #000;opacity:0.08;filter:alpha(opacity=8)}\\n.thumb_g{display:block;position:relative}\\n#daumWrap{position:relative;min-width:1080px}\\n.os_mac #daumWrap{transform:translate3d(0px, 0px, 0px)}\\n.head_daum{position:relative;z-index:100}\\n.cont_main{position:relative;width:990px;margin:15px auto 0}\\n.cont_topic{overflow:hidden;position:relative;z-index:0;width:100%;border-top:1px solid #ececec;background-color:#fbfbfc;background-position:50% 100%;background-repeat:no-repeat}\\n.feature_tmp{display:inline-block;vertical-align:top}\\n.wrap_main{padding-bottom:40px;clear:both;*zoom:1}\\n.wrap_main:after{display:block;visibility:hidden;height:0;font-size:0;clear:both;content:\\'\\'}\\n.cmain_tmp{float:left;width:655px;margin-right:35px}\\n.wing_tmp{float:left;width:300px}\\n.foot_daum{border-top:1px solid #888}\\n.foot_daum .inner_foot{overflow:hidden;position:relative;width:990px;margin:0 auto;padding:37px 0 78px}\\n.foot_daum .link_logo{float:left}\\n.foot_daum .info_notice{overflow:hidden;padding:0 250px 0 30px}\\n.foot_daum .tit_notice{float:left;font-size:13px}\\n.foot_daum .link_notice{display:block;padding-right:9px;background-position:100% -169px}\\n.foot_daum .link_notice:hover{color:#222}\\n.foot_daum .list_notice{overflow:hidden;width:542px;height:19px;margin-bottom:26px;padding-left:9px}\\n.foot_daum .list_notice .link_info{display:block;overflow:hidden;text-overflow:ellipsis;white-space:nowrap}\\n.foot_daum .list_notice .link_info:hover{color:#222}\\n.foot_daum .search_foot{position:absolute;top:32px;right:0}\\n.foot_daum .box_search{position:relative;z-index:1;width:209px;height:28px;border:1px solid #c8c8c8}\\n.foot_daum .search_on{border-color:#0089ff}\\n.foot_daum .tf_keyword{float:left;width:164px;margin:5px 0 0 9px;border:1px solid transparent;line-height:19px;outline:0}\\n.foot_daum .btn_search{float:right;width:32px;height:28px;line-height:28px;background-position:0 -230px;background-color:transparent}\\n.foot_daum .link_svcall{position:absolute;top:36px;right:0;padding-right:10px;font-weight:bold;color:#888;background-position:100% -194px}\\n.foot_daum .info_policy{padding:0px 250px 0 0;font-size:12px;line-height:20px;color:#888}\\n.foot_daum .info_policy .link_info{color:#888}\\n.foot_daum .info_policy .txt_dot{padding:0 2px}\\n.foot_daum .txt_copyright{display:block;padding-top:6px;font-size:11px;color:#888}\\n.foot_daum .txt_copyright .link_kakao{color:#888}\\n.os_mac .foot_daum .info_notice{padding:3px 250px 0 31px}\\n.os_mac .foot_daum .link_notice{padding-right:12px;background-position-y:-172px}\\n.os_mac .foot_daum .list_notice{margin-bottom:24px}\\n.os_mac .foot_daum .tf_keyword{margin-top:4px}\\n.os_mac .foot_daum .link_svcall{top:39px;background-position-y:-196px}\\n.os_mac .foot_daum .txt_copyright{padding-top:5px}\\n.d_head{border-bottom:1px solid #ececec}\\n.d_head .inner_head{position:relative;z-index:1;width:1080px;height:150px;margin:0 auto}\\n.tit_daum{overflow:hidden;float:left;width:180px;height:150px;text-align:center}\\n.link_daum{overflow:hidden;display:block;margin:28px auto}\\n.link_launch{position:absolute;top:6px;left:45px;padding-right:8px;font-size:11px;color:#888;background-position:100% -18px}\\n.os_mac .link_launch{top:9px;background-position:100% -21px}\\n.wrap_search{float:left;position:relative;margin-top:50px}\\n.wrap_search .d_sch{background-color:#fff}\\n.head_daum .box_search{position:relative;height:44px;margin:1px 1px 0 0;border:1px solid #0089ff;border-radius:1px}\\n.head_daum .box_search .inner_search{position:relative;z-index:10;height:44px;padding:0 80px 0 14px}\\n.head_daum .box_search::before, .head_daum .box_search .inner_search::before, .head_daum .box_search::after{position:absolute;left:0;right:100%;height:1px;content:\\'\\';background-color:#0089ff}\\n.head_daum .box_search::before{top:-1px}\\n.head_daum .box_search::after{bottom:-1px}\\n.head_daum .box_search:hover::before, .head_daum .box_search:hover::after{right:0;transition-property:right;transition-duration:0.8s;background:linear-gradient(to right, #86aaff, #70bc4c, #ffbe00, #f46e85)}\\n.head_daum .box_search:hover .inner_search::before{top:-1px;bottom:-1px;left:auto;right:-1px;width:1px;height:46px;background-color:#f46e85;transition-property:height;transition-delay:0.8s}\\n.head_daum .tf_keyword{float:left;width:422px;margin-top:7px;border:1px solid transparent;font-size:18px;line-height:24px;background-color:transparent;outline:0;ime-mode:active;-webkit-appearance:none}\\n.head_daum .btn_search{position:absolute;top:0;right:0;width:49px;height:42px;margin:1px;line-height:44px;background-position:-40px -231px;background-color:transparent}\\n.slide_favorsch{overflow:hidden;width:480px;height:28px}\\n.list_favorsch{overflow:hidden;padding-top:7px}\\n.list_favorsch li{float:left;padding-right:10px}\\n.list_favorsch .link_favorsch{display:block;font-size:12px;color:#555}\\n.head_daum .page_pctop{z-index:1;right:1px;bottom:3px}\\n.head_bnr{position:absolute;top:33px;right:45px}\\n.head_bnr .link_headbnr{display:block}\\n.os_mac .head_daum .box_search{margin-top:0}\\n.os_mac .head_daum .tf_keyword{margin-top:11px}\\n.os_mac .list_favorsch{padding-top:10px}\\n.os_mac .list_favorsch li{padding-right:14px}\\n.img_keyboard{background-image:url(//t1.daumcdn.net/daumtop_deco/images/top/2017/img_keyboard_171229.png)}\\n.head_daum .btn_key{position:absolute;top:0;right:58px;width:29px;height:42px;margin:1px;line-height:44px;background-position:0 0}\\n.head_daum .btn_key.btn_on{background-position:0 -50px}\\n.keyboard_layer{position:absolute;top:45px;left:382px;z-index:10000}\\n.keyboard_layer .group_keyboard{display:none;padding:49px 16px 20px 20px;width:435px;height:166px;border:1px solid #888;background-color:#fff}\\n.keyboard_layer .group_keyboard.on{display:block}\\n.keyboard_layer .group_keyboard .tit_keyboard{position:absolute;top:20px;left:20px;width:24px;height:13px;background-position:0 -120px}\\n.keyboard_layer .eng_basic .tit_keyboard,.keyboard_layer .eng_shift .tit_keyboard{background-position:0 -140px}\\n.keyboard_layer .btn_close{overflow:hidden;position:absolute;top:19px;right:20px;width:13px;height:13px;background-position:0 -100px}\\n.keyboard_layer .keyboard_line{overflow:hidden;margin-top:4px}\\n.keyboard_layer .keyboard_1nd{overflow:hidden;margin:0}\\n.keyboard_layer .keyboard_2nd{padding-left:15px}\\n.keyboard_layer .keyboard_3nd{padding-left:30px}\\n.keyboard_layer .btn_keyboard{overflow:hidden;float:left;width:26px;height:30px;margin-right:4px;text-align:center;text-indent:-9999px}\\n.keyboard_layer .kor_basic .btn_keyboard{background-image:url(//t1.daumcdn.net/daumtop_deco/images/top/2017/img_kor_171226.png)}\\n.keyboard_layer .kor_basic .btn_keyboard:hover,.keyboard_layer .kor_basic .btn_keyboard:active{background-image:url(//t1.daumcdn.net/daumtop_deco/images/top/2017/img_kor_hover_171226.png)}\\n.keyboard_layer .kor_shift .btn_keyboard{background-image:url(//t1.daumcdn.net/daumtop_deco/images/top/2017/img_kor_shift_171229.png)}\\n.keyboard_layer .kor_shift .btn_keyboard:hover,.keyboard_layer .kor_shift .btn_keyboard:active{background-image:url(//t1.daumcdn.net/daumtop_deco/images/top/2017/img_kor_shift_hover_171229.png)}\\n.keyboard_layer .eng_basic .btn_keyboard{background-image:url(//t1.daumcdn.net/daumtop_deco/images/top/2017/img_eng_171226.png)}\\n.keyboard_layer .eng_basic .btn_keyboard:hover,.keyboard_layer .eng_basic .btn_keyboard:active{background-image:url(//t1.daumcdn.net/daumtop_deco/images/top/2017/img_eng_hover_180122.png)}\\n.keyboard_layer .eng_shift .btn_keyboard{background-image:url(//t1.daumcdn.net/daumtop_deco/images/top/2017/img_eng_shift_171226.png)}\\n.keyboard_layer .eng_shift .btn_keyboard:hover,.keyboard_layer .eng_shift .btn_keyboard:active{background-image:url(//t1.daumcdn.net/daumtop_deco/images/top/2017/img_eng_shift_hover_171226.png)}\\n.keyboard_layer .group_keyboard .keyboard_1{background-position:-30px 0}\\n.keyboard_layer .group_keyboard .keyboard_2{background-position:-60px 0}\\n.keyboard_layer .group_keyboard .keyboard_3{background-position:-90px 0}\\n.keyboard_layer .group_keyboard .keyboard_4{background-position:-120px 0}\\n.keyboard_layer .group_keyboard .keyboard_5{background-position:-150px 0}\\n.keyboard_layer .group_keyboard .keyboard_6{background-position:-180px 0}\\n.keyboard_layer .group_keyboard .keyboard_7{background-position:-210px 0}\\n.keyboard_layer .group_keyboard .keyboard_8{background-position:-240px 0}\\n.keyboard_layer .group_keyboard .keyboard_9{background-position:-270px 0}\\n.keyboard_layer .group_keyboard .keyboard_10{background-position:-300px 0}\\n.keyboard_layer .group_keyboard .keyboard_11{background-position:-330px 0}\\n.keyboard_layer .group_keyboard .keyboard_12{background-position:-360px 0}\\n.keyboard_layer .group_keyboard .keyboard_13{background-position:-15px -34px}\\n.keyboard_layer .group_keyboard .keyboard_14{background-position:-45px -34px}\\n.keyboard_layer .group_keyboard .keyboard_15{background-position:-75px -34px}\\n.keyboard_layer .group_keyboard .keyboard_16{background-position:-105px -34px}\\n.keyboard_layer .group_keyboard .keyboard_17{background-position:-135px -34px}\\n.keyboard_layer .group_keyboard .keyboard_18{background-position:-165px -34px}\\n.keyboard_layer .group_keyboard .keyboard_19{background-position:-195px -34px}\\n.keyboard_layer .group_keyboard .keyboard_20{background-position:-225px -34px}\\n.keyboard_layer .group_keyboard .keyboard_21{background-position:-255px -34px}\\n.keyboard_layer .group_keyboard .keyboard_22{background-position:-285px -34px}\\n.keyboard_layer .group_keyboard .keyboard_23{background-position:-315px -34px}\\n.keyboard_layer .group_keyboard .keyboard_24{background-position:-345px -34px}\\n.keyboard_layer .group_keyboard .keyboard_25{background-position:-375px -34px}\\n.keyboard_layer .group_keyboard .keyboard_26{background-position:-30px -68px}\\n.keyboard_layer .group_keyboard .keyboard_27{background-position:-60px -68px}\\n.keyboard_layer .group_keyboard .keyboard_28{background-position:-90px -68px}\\n.keyboard_layer .group_keyboard .keyboard_29{background-position:-120px -68px}\\n.keyboard_layer .group_keyboard .keyboard_30{background-position:-150px -68px}\\n.keyboard_layer .group_keyboard .keyboard_31{background-position:-180px -68px}\\n.keyboard_layer .group_keyboard .keyboard_32{background-position:-210px -68px}\\n.keyboard_layer .group_keyboard .keyboard_33{background-position:-240px -68px}\\n.keyboard_layer .group_keyboard .keyboard_34{background-position:-270px -68px}\\n.keyboard_layer .group_keyboard .keyboard_35{background-position:-300px -68px}\\n.keyboard_layer .group_keyboard .keyboard_36{background-position:-330px -68px}\\n.keyboard_layer .group_keyboard .keyboard_37{background-position:-75px -102px}\\n.keyboard_layer .group_keyboard .keyboard_38{background-position:-105px -102px}\\n.keyboard_layer .group_keyboard .keyboard_39{background-position:-135px -102px}\\n.keyboard_layer .group_keyboard .keyboard_40{background-position:-165px -102px}\\n.keyboard_layer .group_keyboard .keyboard_41{background-position:-195px -102px}\\n.keyboard_layer .group_keyboard .keyboard_42{background-position:-225px -102px}\\n.keyboard_layer .group_keyboard .keyboard_43{background-position:-255px -102px}\\n.keyboard_layer .group_keyboard .keyboard_44{background-position:-285px -102px}\\n.keyboard_layer .group_keyboard .keyboard_45{background-position:-315px -102px}\\n.keyboard_layer .group_keyboard .keyboard_46{background-position:-345px -102px}\\n.keyboard_layer .keyboard_spe.bksp{width:41px;background-position:-390px 0}\\n.keyboard_layer .keyboard_spe.shift{width:71px;background-position:0 -102px}\\n.keyboard_layer .keyboard_spe.shift2{width:56px;background-position:-375px -102px}\\n.keyboard_layer .keyboard_spe.lang{width:86px;background-position:0 -136px}\\n.keyboard_layer .keyboard_spe.space{width:251px;background-position:-90px -136px}\\n.keyboard_layer .keyboard_spe.enter{width:86px;background-position:-345px -136px}\\n.daumSuggestWrap{position:relative;margin-right:90px;clear:both}\\n.suggestBox{position:absolute;top:45px;left:0;z-index:9999;width:520px;padding:0;background:none}\\n.baseBox{border-top:1px solid #dcdcdc;font-size:12px;line-height:17px;font-family:\\'굴림\\',gulim,sans-serif;background-color:#fff}\\n.os_mac .baseBox{font-family:\\'Apple SD Gothic Neo\\',sans-serif}\\n.suggestBox .list{padding:7px 0 13px;border-left:1px solid #dcdcdc;border-right:1px solid #dcdcdc;color:#333;background-color:#fff}\\n.suggestBox.reverseType .list{padding:3px 0 7px;color:#333}\\n.suggestBox .baseBox li{overflow:hidden;height:26px;padding:0 16px;line-height:26px;text-align:left;cursor:pointer}\\n.suggestBox li .item{display:block;height:100%}\\n.suggestBox li .item:hover{text-decoration:none}\\n.suggestBox .list .on{background-color:#f6f6f6}\\n.suggestBox li strong{font-weight:normal;color:#0089ff}\\n.suggestBox .line{overflow:hidden;height:1px;margin:7px 0px 6px;padding:0;font-size:1px;line-height:1px;background-color:#e5e5e5}\\n.suggestBox .guide{padding:15px 10px;color:#555}\\n.suggestBox .footer{position:relative;height:20px;padding:8px 12px 4px 7px;border:1px solid #dcdcdc;border-top:1px solid #ececec;font-size:11px;background-color:#fbfbfb;letter-spacing:-1px;clear:both}\\n.suggestBox.reverseType .footer{border-top-color:#dcdcdc;border-bottom-color:#ededed}\\n.suggestBox .footer .fl{float:left}\\n.suggestBox .footer .fr{float:right}\\n.suggestBox .footer .btn_close{padding-left:12px;background-position:0 -939px}\\n.suggestBox .footer .bar{display:none;padding:0 2px;color:#ddd}\\n.suggestBox .footer .fl .bar{padding:0 2px 0 1px}\\n.suggestBox .footer .offGuide{display:none;position:absolute;right:0;bottom:19px;width:211px;height:27px;background:url(//search1.daumcdn.net/search/statics/common/pi/suggest_service.gif) no-repeat;text-indent:-999em}\\n.suggestBox .footer .offSuggest{display:none}\\n.os_mac .suggestBox .list{padding:9px 0 11px}\\n.os_mac .suggestBox .baseBox li{padding:0 17px}\\n.suggestBox a{color:#777}\\n.suggestBox .answer{border-left:1px solid #dcdcdc;border-right:1px solid #dcdcdc}\\n.suggestBox .answer span{cursor:pointer}\\n.suggestBox .baseBox li a{font-size:14px;color:#333;font-family:\\'돋움\\',dotum,sans-serif;text-decoration:none}\\n.os_mac .suggestBox .baseBox li a{font-family:\\'Apple SD Gothic Neo\\',sans-serif}\\n.suggestBox .line{display:block;overflow:hidden;clear:both}\\n.suggestBox .b_line{border-bottom:1px solid #ededed}\\n.suggestBox .suggest_exact{display:block;overflow:hidden;height:40px;padding:12px 0 11px 18px}\\n.suggestBox .suggest_exact:hover{text-decoration:none}\\n.suggestBox .e_on{background-color:#f8f8f8;text-decoration:none}\\n.suggestBox .suggest_exact .txt_exact{float:left;height:44px;margin-top:0;background-position:0 0}\\n.suggestBox .suggest_exact .txt_unit{font-size:14px;font-family:arial,sans-serif}\\n.suggestBox .suggest_exact .tit{margin-left:-1px;font-weight:normal;font-size:12px;line-height:18px;font-family:\\'굴림\\',gulim,sans-serif;color:#333}\\n.suggestBox .suggest_exact .cont{display:block}\\n.suggestBox .suggest_exact .txt_cont{margin-right:4px;font-weight:bold;font-size:14px;line-height:16px;font-family:\\'돋움\\',dotum,sans-serif;color:#333}\\n.suggestBox .suggest_exact .txt_num1{font-size:18px;line-height:20px;font-family:tahoma,sans-serif;color:#333}\\n.suggestBox .suggest_exact .txt_num2{margin-left:3px;font-size:12px;line-height:14px;font-family:\\'굴림\\',gulim,sans-serif;color:#333}\\n.suggestBox .suggest_exact .txt_num3{font-size:20px;line-height:23px;font-family:arial,sans-serif;color:#333}\\n.suggestBox .suggest_exact .txt_num4{margin-left:-3px;font-size:12px;line-height:14px;font-family:\\'굴림\\',gulim,sans-serif;color:#333}\\n.suggestBox .suggest_exact .txt_exact .ico_suggest2{background:url(//search1.daumcdn.net/search/statics/common/pi/ico/ico_suggest_20110721.gif) no-repeat 0 0}\\n.suggestBox .suggest_exact .txt_exact .ico_celsius{background:none}\\n.suggestBox .suggest_exact .txt_exact .ico_arrow_up{padding-left:11px;background-position:0 -58px}\\n.suggestBox .suggest_exact .txt_exact .ico_arrow_down{padding-left:11px;background-position:0 -98px}\\n.suggestBox .suggest_exact .txt_exact .ico_arrow_equal{padding-left:11px;background-position:0 -75px}\\n.suggestBox .suggest_exact .txt_blue{color:#007aff}\\n.suggestBox .suggest_exact .txt_blue2{color:#007aff}\\n.suggestBox .suggest_exact .txt_red{color:#e52d38}\\n.suggestBox .suggest_exact .txt_red2{color:#e52d38}\\n.suggestBox .suggest_exact .txt_time{float:right;margin:25px 16px 0 0;font-size:11px;font-family:\\'돋움\\',dotum,sans-serif;color:#a1a1a1}\\n.suggestBox .suggest_exact .ico_celsius{width:12px;height:13px;font-family:arial,sans-serif;background-position:right 5px}\\n.suggestBox .suggest_exact .bar{font-size:14px;color:#dedede}\\n.suggestBox .wrap_today{overflow:hidden;height:21px;padding:4px 10px 2px 9px;line-height:21px}\\n.suggestBox .wrap_today .cont{font-size:14px;color:#333;text-decoration:none}\\n.suggestBox .wrap_today .cont_import{font-weight:normal;color:#ea570a}\\n.os_mac .suggestBox .suggest_exact .tit{font-family:\\'Apple SD Gothic Neo\\',sans-serif}\\n.os_mac .suggestBox .suggest_exact .txt_num2{font-family:\\'Apple SD Gothic Neo\\',sans-serif}\\n.os_mac .suggestBox .suggest_exact .txt_num4{font-family:\\'Apple SD Gothic Neo\\',sans-serif}\\n.os_mac .suggestBox .suggest_exact .txt_time{font-family:\\'Apple SD Gothic Neo\\',sans-serif}\\n.suggestBox .ico_lotto{float:left;width:28px;height:28px;margin:6px 5px 0 0;border-radius:20px;text-align:center}\\n.suggestBox .ico_lotto .txt_num{display:inline-block;margin-top:7px;font-size:14px;line-height:1;font-family:arial,sans-serif;color:#fff;vertical-align:top}\\n.suggestBox .num1{background-color:#f6a800}\\n.suggestBox .num10{background-color:#4155cb}\\n.suggestBox .num20{background-color:#f64d61}\\n.suggestBox .num30{background-color:#585d6e}\\n.suggestBox .num40{background-color:#f6a800}\\n.suggestBox .plus{width:8px;height:8px;margin:16px 8px 0 4px;background:url(//search1.daumcdn.net/search/statics/common/pi/ico/ico_suggest_20110721.gif) no-repeat 0 -40px;text-indent:-9999px;opacity:0.5}\\n.suggestBox .suggest_exact .ico_suggest{padding-left:59px;color:#555;background:url(//search1.daumcdn.net/search/statics/common/pi/r2/weather/ico_weather_m_210421.png) no-repeat;background-size:43px 1740px}\\n.suggestBox .ico_suggest .cont .screen_out{position:static;font-size:14px;font-family:arial,sans-serif;text-indent:0}\\n.suggestBox .suggest_exact .weather_comp .txt_exact{overflow:hidden;float:left;height:44px;margin-top:0}\\n.suggestBox .suggest_exact .ico_w00{background-position:0 -1620px}\\n.suggestBox .suggest_exact .ico_w01{background-position:0 0}\\n.suggestBox .suggest_exact .night .ico_w01{background-position:0 -60px}\\n.suggestBox .suggest_exact .ico_w02{background-position:0 -120px}\\n.suggestBox .suggest_exact .night .ico_w02{background-position:0 -180px}\\n.suggestBox .suggest_exact .ico_w03{background-position:0 -240px}\\n.suggestBox .suggest_exact .night .ico_w03{background-position:0 -300px}\\n.suggestBox .suggest_exact .ico_w04{background-position:0 -360px}\\n.suggestBox .suggest_exact .ico_w05{background-position:0 -420px}\\n.suggestBox .suggest_exact .night .ico_w05{background-position:0 -480px}\\n.suggestBox .suggest_exact .ico_w06{background-position:0 -540px}\\n.suggestBox .suggest_exact .night .ico_w06{background-position:0 -600px}\\n.suggestBox .suggest_exact .ico_w07{background-position:0 -660px}\\n.suggestBox .suggest_exact .ico_w08{background-position:0 -720px}\\n.suggestBox .suggest_exact .ico_w09{background-position:0 -780px}\\n.suggestBox .suggest_exact .ico_w10{background-position:0 -840px}\\n.suggestBox .suggest_exact .night .ico_w10{background-position:0 -900px}\\n.suggestBox .suggest_exact .ico_w11{background-position:0 -960px}\\n.suggestBox .suggest_exact .ico_w12{background-position:0 -1020px}\\n.suggestBox .suggest_exact .ico_w13{background-position:0 -1080px}\\n.suggestBox .suggest_exact .night .ico_w13{background-position:0 -1140px}\\n.suggestBox .suggest_exact .ico_w14{background-position:0 -1200px}\\n.suggestBox .suggest_exact .ico_w15{background-position:0 -1260px}\\n.suggestBox .suggest_exact .ico_w16{background-position:0 -1320px}\\n.suggestBox .suggest_exact .night .ico_w16{background-position:0 -1380px}\\n.suggestBox .suggest_exact .ico_w17{background-position:0 -1440px}\\n.suggestBox .suggest_exact .ico_w18{background-position:0 -1500px}\\n.suggestBox .suggest_exact .ico_w19{background-position:0 -1560px}\\n.suggestBox .suggest_exact .ico_w20{background-position:0 -1680px}\\n#daumSuggestWrap{display:none}\\n.d_service{border-bottom:1px solid #888}\\n.d_service .inner_service{position:relative;width:990px;height:45px;margin:0 auto}\\n.menu_service{float:left;position:relative;width:668px}\\n.menu_service .link_more{overflow:hidden;float:left;width:58px;height:25px;padding:10px 0 9px;line-height:20px;background-position:0 8px;background-color:transparent;text-align:center}\\n.menu_on .link_more{background-position:-60px 8px}\\n.list_mainsvc{float:left}\\n.list_mainsvc li{float:left;height:45px}\\n.list_mainsvc .txt_pctop{display:block;height:25px;padding:10px 0;margin-right:5px;font-weight:bold;font-size:13px;line-height:25px;background-color:transparent;text-align:center}\\n.list_mainsvc .link_cafe{width:30px;background-position:0 -30px}\\n.list_mainsvc .link_mail{width:36px;background-position:-30px -30px}\\n.list_mainsvc .link_news{width:37px;background-position:-66px -30px}\\n.list_mainsvc .link_map{width:36px;background-position:-103px -30px}\\n.list_mainsvc .link_stock{width:37px;background-position:-139px -30px}\\n.list_mainsvc .link_shopping{width:36px;background-position:-176px -30px}\\n.list_mainsvc .link_kakaotv{width:64px;background-position:-212px -30px}\\n.list_mainsvc .link_webtoon{width:37px;background-position:-276px -30px}\\n.list_mainsvc .link_blog{width:48px;background-position:-313px -30px}\\n.list_mainsvc .link_brunch{width:47px;background-position:-361px -30px}\\n.list_mainsvc .link_dic{width:36px;background-position:-408px -30px}\\n.list_mainsvc .link_game{width:37px;background-position:-444px -30px}\\n.list_mainsvc .link_together{width:59px;margin-right:7px;background-position:-481px -30px}\\n.service_layer{display:none;position:absolute;top:45px;left:0;width:653px;border:1px solid #888;background-color:#fff}\\n.menu_on .service_layer{display:block}\\n.service_layer .layer_body{overflow:hidden;background:url(//t1.daumcdn.net/daumtop_deco/images/top/2017/bg_line.gif) repeat-y 0 0}\\n.service_layer .coll_svc{float:left;width:109px}\\n.service_layer .sort_service{overflow:hidden;padding:0 0 15px 15px}\\n.service_layer .sort_service dt{margin:11px 0 4px;font-weight:bold;font-size:12px}\\n.service_layer .sort_service dd{clear:both;font-size:12px;line-height:22px}\\n.service_layer .sort_service .tit_split{float:left;padding-right:9px;background-position:100% 5px}\\n.service_layer .sort_service .link_svc{color:#555}\\n.service_layer .sort_service .link_svc:hover{color:#118eff}\\n.service_layer .sort_service .ico_new{display:inline-block;width:11px;height:11px;margin:-2px 0 0 2px;font-size:0;line-height:0;background-position:-160px -80px;vertical-align:middle;text-indent:-9999px}\\n.service_layer .sort_type2{height:146px;padding-bottom:0}\\n.service_layer .coll_svc.fst{width:108px}\\n.service_layer .coll_svc.fst .sort_service{padding-left:14px}\\n.service_layer .layer_foot{overflow:hidden;height:32px;border-top:1px solid #ececec;background-color:#fbfbfb}\\n.service_layer .layer_foot .link_total{float:left;padding-right:8px;margin-left:13px;font-size:11px;line-height:29px;color:#555;background-position:100% -12px}\\n.service_layer .layer_foot .btn_close{float:right;padding:0 13px;margin:2px;font-size:11px;line-height:24px;color:#888}\\n.os_mac .service_layer .sort_service{padding-bottom:12px}\\n.os_mac .service_layer .sort_service dt{margin:14px 0 4px}\\n.os_mac .service_layer .sort_service .tit_split{background-position:100% 3px}\\n.os_mac .service_layer .sort_type2{padding-bottom:0}\\n.os_mac .service_layer .layer_foot .link_total{padding-right:10px;margin-left:14px;line-height:32px;background-position:100% -12px}\\n.os_mac .service_layer .layer_foot .btn_close{padding:0 12px;line-height:28px}\\n.today_base{float:right;position:relative;height:45px}\\n.today_base .comp_base{display:inline-block;vertical-align:top}\\n.today_base .img_weather{background-image:url(//t1.daumcdn.net/daumtop_deco/images/top/2017/img_weather_170628.png);background-repeat:no-repeat;font-size:0;line-height:0;text-indent:-9999px}\\n.today_base .txt_temper{float:left;font-size:14px;font-family:tahoma,arial,sans-serif;letter-spacing:0}\\n.os_mac .today_base .txt_temper{font-family:helvetica,arial,sans-serif}\\n.info_today{float:left;font-size:13px}\\n.info_today .date_today{float:left;height:24px;padding-top:10px;line-height:20px;letter-spacing:0}\\n.info_today .txt_part{float:left;margin-right:5px;font-weight:bold;line-height:24px}\\n.info_today .link_weather{overflow:hidden;float:left;height:25px;margin-left:16px;padding:8px 0 12px;line-height:24px;text-align:right}\\n.info_today .link_weather:hover{color:#222;text-decoration:none}\\n.info_today .list_weather{float:left;overflow:hidden;height:25px}\\n.info_today .list_weather li{overflow:hidden;height:25px}\\n.os_mac .info_today .date_today{line-height:26px}\\n.os_mac .info_today .txt_part{line-height:30px}\\n.os_mac .info_today .link_weather{line-height:26px}\\n.os_mac .info_today .link_weather .ico_more{margin-top:10px}\\n.info_today .ico_ws{background-image:url(//t1.daumcdn.net/daumtop_deco/images/top/2021/rtn/ico_ws_210513.png);background-repeat:no-repeat;font-size:0;line-height:0;background-size:270px 120px;text-indent:-9999px}\\n.info_today .link_weather .ico_ws{float:left;width:26px;height:26px;margin:1px 4px 0 0;vertical-align:top}\\n.info_today .ico_wm01{background-position:0 0}\\n.info_today .night .ico_wm01{background-position:-30px 0px}\\n.info_today .ico_wm02{background-position:-60px 0}\\n.info_today .night .ico_wm02{background-position:-90px 0}\\n.info_today .ico_wm03{background-position:-120px 0}\\n.info_today .night .ico_wm03{background-position:-150px 0}\\n.info_today .ico_wm04{background-position:-180px 0}\\n.info_today .ico_wm05{background-position:-210px 0}\\n.info_today .night .ico_wm05{background-position:-240px 0}\\n.info_today .ico_wm06{background-position:0 -30px}\\n.info_today .night .ico_wm06{background-position:-30px -30px}\\n.info_today .ico_wm07{background-position:-60px -30px}\\n.info_today .ico_wm08{background-position:-90px -30px}\\n.info_today .ico_wm09{background-position:-120px -30px}\\n.info_today .ico_wm10{background-position:-150px -30px}\\n.info_today .night .ico_wm10{background-position:-180px -30px}\\n.info_today .ico_wm11{background-position:-210px -30px}\\n.info_today .ico_wm12{background-position:-240px -30px}\\n.info_today .ico_wm13{background-position:0 -60px}\\n.info_today .night .ico_wm13{background-position:-30px -60px}\\n.info_today .ico_wm14{background-position:-60px -60px}\\n.info_today .ico_wm15{background-position:-90px -60px}\\n.info_today .ico_wm16{background-position:-120px -60px}\\n.info_today .night .ico_wm16{background-position:-150px -60px}\\n.info_today .ico_wm17{background-position:-180px -60px}\\n.info_today .ico_wm18{background-position:-210px -60px}\\n.info_today .ico_wm19{background-position:-240px -60px}\\n.info_today .ico_wm20{background-position:0 -90px}\\n.info_today .txt_temper{margin-top:1px}\\n.info_today .ico_degree{float:left;width:17px;height:15px;margin:7px 0 0;font-size:12px;line-height:17px;background-position:-210px -270px;background-color:transparent;text-align:center;text-indent:0}\\n.info_today .link_weather .ico_more{float:left;width:13px;height:9px;margin:9px 0 0 1px;background-position:-138px -292px}\\n.today_on .link_weather .ico_more{background-position:-138px -304px}\\n.today_layer{display:none;position:absolute;top:45px;right:0;width:298px;border:1px solid #888;background-color:#fff}\\n.today_layer .ico_wm{background-image:url(//t1.daumcdn.net/daumtop_deco/images/top/2021/rtn/ico_wm_210513.png);background-repeat:no-repeat;font-size:0;line-height:0;background-size:900px 400px;text-indent:-9999px}\\n.today_layer .layer_body{overflow:hidden}\\n.today_layer .layer_body:after{position:absolute;top:0;right:0;width:42px;height:42px;content:\\'\\'}\\n.today_layer .weather_part{position:relative;height:135px}\\n.today_layer .btn_locate{position:absolute;top:17px;left:18px;width:21px;height:21px;font-size:0;line-height:0;background-position:-176px -246px;text-indent:-9999px}\\n.today_layer .btn_locate.on{background-position:-176px -286px}\\n.today_layer .link_weather{display:block;overflow:hidden;height:135px}\\n.today_layer .link_weather:hover{color:#222;text-decoration:none}\\n.today_layer .txt_place{display:block;height:20px;margin:17px 0 0 22px;font-weight:bold;font-size:13px;line-height:19px}\\n.today_layer .txt_place .txt_local{display:inline-block}\\n.today_layer .link_weather .ico_wm{float:left;width:90px;height:90px;margin-left:22px}\\n.today_layer .ico_wm01{background-position:0 0}\\n.today_layer .night .ico_wm01{background-position:-100px 0}\\n.today_layer .ico_wm02{background-position:-200px 0}\\n.today_layer .night .ico_wm02{background-position:-300px 0}\\n.today_layer .ico_wm03{background-position:-400px 0}\\n.today_layer .night .ico_wm03{background-position:-500px 0}\\n.today_layer .ico_wm04{background-position:-600px 0}\\n.today_layer .ico_wm05{background-position:-700px 0}\\n.today_layer .night .ico_wm05{background-position:-800px 0}\\n.today_layer .ico_wm06{background-position:0 -100px}\\n.today_layer .night .ico_wm06{background-position:-100px -100px}\\n.today_layer .ico_wm07{background-position:-200px -100px}\\n.today_layer .ico_wm08{background-position:-300px -100px}\\n.today_layer .ico_wm09{background-position:-400px -100px}\\n.today_layer .ico_wm10{background-position:-500px -100px}\\n.today_layer .night .ico_wm10{background-position:-600px -100px}\\n.today_layer .ico_wm11{background-position:-700px -100px}\\n.today_layer .ico_wm12{background-position:-800px -100px}\\n.today_layer .ico_wm13{background-position:0 -200px}\\n.today_layer .night .ico_wm13{background-position: -100px -200px}\\n.today_layer .ico_wm14{background-position:-200px -200px}\\n.today_layer .ico_wm15{background-position:-300px -200px}\\n.today_layer .ico_wm16{background-position:-400px -200px}\\n.today_layer .night .ico_wm16{background-position:-500px -200px}\\n.today_layer .ico_wm17{background-position:-600px -200px}\\n.today_layer .ico_wm18{background-position:-700px -200px}\\n.today_layer .ico_wm19{background-position:-800px -200px}\\n.today_layer .ico_wm20{background-position:0 -300px}\\n.today_layer .info_temper{display:block;overflow:hidden;height:32px;margin:19px 0 0 130px;font-family:tahoma,arial,sans-serif}\\n.today_layer .info_temper .img_weather{float:left;width:22px;height:32px;margin:0}\\n.today_layer .info_temper .num0{background-position:-260px 0}\\n.today_layer .info_temper .num1{background-position:-260px -40px}\\n.today_layer .info_temper .num2{background-position:-260px -80px}\\n.today_layer .info_temper .num3{background-position:-260px -120px}\\n.today_layer .info_temper .num4{background-position:-260px -160px}\\n.today_layer .info_temper .num5{background-position:-260px -200px}\\n.today_layer .info_temper .num6{background-position:-260px -240px}\\n.today_layer .info_temper .num7{background-position:-260px -280px}\\n.today_layer .info_temper .num8{background-position:-260px -320px}\\n.today_layer .info_temper .num9{background-position:-260px -360px}\\n.today_layer .info_temper .ico_minus{width:22px;height:32px;background-position:-260px -400px}\\n.today_layer .info_temper .ico_degree{width:39px;height:32px;background-position:-210px -292px}\\n.today_layer .state_desc{display:block;overflow:hidden;margin:7px 0 0 130px;line-height:16px}\\n.today_layer .state_desc .ico_degree{float:left;width:14px;height:12px;margin:3px 1px 0 0;background-position:-240px -208px}\\n.today_layer .state_desc .txt_desc{float:left;margin-right:2px}\\n.today_layer .layer_foot{overflow:hidden;border-top:1px solid #ececec;background-color:#fbfbfb}\\n.today_layer .link_state{float:left;overflow:hidden;width:50%;height:39px;color:#101010;text-decoration:none}\\n.today_layer .info_wm{overflow:hidden;height:22px;padding-top:8px;line-height:21px}\\n.today_layer .info_wm dt{float:left;padding-right:9px}\\n.today_layer .info_wm dd{float:left}\\n.today_layer .info_wm .img_weather{display:inline-block;vertical-align:top}\\n.today_layer .info_dust{padding-left:18px}\\n.today_layer .ico_dust{width:20px;height:20px;margin-top:3px;margin-right:6px;background-position:-140px -240px}\\n.today_layer .ico_air{width:21px;height:21px;margin:1px 7px 0 2px;background-position:-140px -264px}\\n.today_layer .state_good{color:#0078ff}\\n.today_layer .state_normal{color:#27aa1d}\\n.today_layer .state_bad{color:#fecc3d}\\n.today_layer .state_worst{color:#e30000}\\n.today_layer .btn_close{position:absolute;top:18px;right:18px;width:16px;height:16px;background-position:0 -200px}\\n.os_mac .today_layer .txt_place{margin-top:20px;line-height:18px}\\n.os_mac .today_layer .info_temper{margin-top:15px}\\n.os_mac .today_layer .state_desc{margin-top:10px}\\n.os_mac .today_layer .state_desc .txt_temper{margin-top:-1px}\\n.os_mac .today_layer .state_desc .ico_degree{margin-top:1px}\\n.os_mac .today_layer .info_wm{padding-top:11px}\\n.os_mac .today_layer .info_wm .ico_dust{margin-top:0}\\n.os_mac .today_layer .info_wm .ico_air{margin-top:-2px}\\n.today_on .today_layer{display:block}\\n.advert_tmp{float:left;position:relative;width:655px;height:120px;margin-right:35px}\\n.advert_tmp .bg_line{position:absolute;top:0;left:0;z-index:-1;width:653px;height:118px;border:1px solid #ececec}\\n.advert_station{display:inline-block;position:relative;width:300px;height:150px;margin-top:15px;font-size:0;line-height:0;vertical-align:top}\\n.advert_station .bg_line{position:absolute;top:0;left:0;z-index:-1;width:298px;height:148px;border:1px solid #ececec}\\n.box_shopping{display:inline-block;position:relative;width:300px;height:1248px;margin-top:14px;vertical-align:top}\\n.box_shopping .bg_line1{position:absolute;top:0;left:0;z-index:-1;width:298px;height:775px;border:1px solid #ececec}\\n.box_shopping .bg_line2{position:absolute;top:790px;left:0;z-index:-1;width:298px;height:456px;border:1px solid #ececec}\\n.advert_shoppingbox{height:777px}\\n.advert_svcbnr{margin-top:13px}\\n.advert_svcbnr .link_bnr{display:block;position:relative;height:60px}\\n.advert_svcbnr .frame_g{width:298px;height:58px}\\n.advert_bnr{margin-top:13px;height:150px}\\n.advert_bnr .link_bnr{display:block;overflow:hidden;position:relative;height:150px}\\n.advert_bnr .frame_g{width:298px;height:148px}\\n.wrap_tiercont{position:relative;z-index:99;width:990px;margin:0 auto}\\n.bg_login{background:url(//t1.daumcdn.net/daumtop_deco/images/top/2017/bg_login_190612.png) 0 -230px no-repeat}\\n.login_tmp .ico_pctop{background:url(//t1.daumcdn.net/daumtop_deco/images/top/2020/ico_pctop_login_201103.png) no-repeat}\\n.login_tmp{float:right;position:relative;z-index:0;width:300px;height:120px;letter-spacing:-0.15em}\\n.inner_login{position:relative;height:78px;padding:13px 15px 30px;font-size:11px}\\n.inner_login .txt_login{padding-bottom:9px}\\n.inner_login .link_login{display:block;height:35px;padding-left:1px;border:1px solid #e9e9e9;font-size:13px;line-height:33px;background-color:#fff;text-align:center}\\n.inner_login .link_login:hover{text-decoration:none;color:#222}\\n.inner_login .link_login .ico_pctop{display:inline-block;width:12px;height:13px;margin:11px 5px 0 0;vertical-align:top}\\n.inner_login .link_login .ico_daum{background-position:0 -24px}\\n.inner_login .link_login .ico_kakao{background-position:-16px -24px}\\n.inner_login .link_join{position:absolute;right:15px;bottom:9px;color:#555}\\n.inner_login .link_kakaoid{margin-top:4px;padding-left:4px;border:1px solid #F6DD00;background-color:#FEE500}\\n.inner_login .link_qr{position:absolute;bottom:7px;left:12px;padding:3px;font-size:11px;line-height:16px;color:#555;letter-spacing:-0.0472em}\\n.inner_login .link_qr .ico_qr{display:inline-block;width:11px;height:11px;margin:-3px 4px 0 0;background-position:-84px -24px;vertical-align:middle}\\n.login_my{z-index:10;background:url(//t1.daumcdn.net/daumtop_deco/images/top/2017/bg_pctop_190612.png) no-repeat 0 0}\\n.login_my .wrap_my{overflow:hidden;width:270px;height:45px;padding:15px 15px 17px}\\n.login_my .info_my{float:left;padding:1px 0 0 0}\\n.login_my .rel_my{float:right}\\n.login_my .name_user{display:block;overflow:hidden;max-width:150px;white-space:nowrap;font-weight:bold}\\n.login_my .name_user:hover{color:#222}\\n.login_my .link_sso{position:absolute;top:41px;left:15px;width:68px;height:22px;font-size:11px;line-height:22px;background-position:0 0;white-space:nowrap}\\n.login_my .link_ssohelp{position:absolute;top:44px;left:89px;width:6px;height:22px;padding:0 6px;font-size:12px;line-height:22px;background-position:-32px -24px;white-space:nowrap}\\n.layer_sso{position:absolute;top:77px;left:0;z-index:11;width:298px;height:82px;border:1px solid #118eff;background-color:#fff}\\n.layer_sso .box_help{display:table;width:100%;height:100%}\\n.layer_sso .txt_help{display:table-cell;padding:0 16px 2px;font-size:12px;line-height:16px;color:#555;vertical-align:middle}\\n.layer_sso .btn_close{position:absolute;top:0;right:0;width:15px;height:15px;margin:8px;background-position:-52px -24px}\\n.login_my .link_empathy{float:left;margin:5px 8px 0 0;font-size:11px;line-height:14px;color:#5b6473}\\n.login_my .btn_logout{float:left;width:54px;height:22px;border:1px solid #ececec;font-size:11px;line-height:22px;text-align:center;background-color:#fff;color:#555}\\n.login_my .btn_logout:hover{border-color:#dedede;text-decoration:none;color:#555}\\n.login_my .list_basis{overflow:hidden;position:absolute;top:43px;right:16px;height:30px;font-size:12px}\\n.login_my .list_basis li{float:left;padding-left:9px;line-height:15px}\\n.login_my .list_basis .link_basis{float:left;color:#555}\\n.login_my .list_basis .num_basis{margin-left:3px;font-size:13px;letter-spacing:0;color:#118eff}\\n.login_my .list_basis .num_msg{width:30px}\\n.login_my .list_basis .link_num{color:#118eff}\\n.login_master .name_user{position:absolute;top:0;left:54px}\\n.login_master .link_user{display:block;position:relative;height:48px}\\n.login_master .link_user:hover{color:#222}\\n.login_master .link_user .thumb_profile{overflow:hidden;float:left;position:relative;width:45px;height:45px;font-size:0}\\n.login_master .link_user .thumb_profile:after{overflow:hidden;position:absolute;left:0;top:0;width:45px;height:45px;background:url(//t1.daumcdn.net/daumtop_deco/images/top/2017/bg_profile_190612.png) no-repeat;background-size:45px 45px;content:\\'\\'}\\n.login_master .link_user .ico_kakaoid{position:absolute;bottom:0;z-index:1;left:30px;width:20px;height:20px;font-size:0;line-height:0;background-position:-72px 0;text-indent:-9999px}\\n.login_master .list_basis{left:60px}\\n.login_master .list_basis .txt_make{color:#118eff}\\n.login_my .my_mileage .link_basis{margin-right:8px}\\n.login_my .wrap_mysvc{position:relative;z-index:10;width:300px}\\n.mysvc_list{position:relative;width:300px;height:43px}\\n.list_mysvc{display:inline-block;position:relative;width:300px;height:43px;vertical-align:top;letter-spacing:-1px}\\n.list_mysvc li{position:relative;float:left;width:100px;height:43px}\\n.list_mysvc .link_mysvc{display:block;overflow:hidden;height:31px;padding-top:11px;font-size:12px;line-height:18px;text-align:center;color:#555}\\n.list_mysvc .link_mysvc:hover{text-decoration:none}\\n.list_mysvc .cafe_g .link_mysvc{height:30px;padding-top:12px;line-height:17px}\\n.list_mysvc .txt_mysvc{display:inline-block;height:26px;color:#555;vertical-align:top}\\n.list_mysvc .cafe_g .ico_vert{margin-left:5px}\\n.list_mysvc .cafe_g .txt_mysvc{padding-left:25px;background-position:0 -80px}\\n.list_mysvc .stock_g .txt_mysvc{padding-left:27px;background-position:0 -109px}\\n.list_mysvc .blog_g .txt_mysvc{padding-left:29px;background-position:0 -139px}\\n.list_mysvc .ico_new{display:none;width:11px;height:11px;margin:5px 0 0 4px;background-position:-72px -24px;text-indent:-9999px;vertical-align:top}\\n.list_mysvc .new_g .ico_new{display:inline-block}\\n.list_mysvc .cafe_g .ico_new{margin-top:4px}\\n.mycafe_on{background:url(//t1.daumcdn.net/daumtop_deco/images/top/2017/bg_pctop_190612.png) no-repeat -310px 0}\\n.mystock_on{background:url(//t1.daumcdn.net/daumtop_deco/images/top/2017/bg_pctop_190612.png) no-repeat -310px -50px}\\n.myblog_on{background:url(//t1.daumcdn.net/daumtop_deco/images/top/2017/bg_pctop_190612.png) no-repeat -310px -100px}\\n.layer_mycont{position:absolute;top:120px;left:0;width:300px;height:353px;background-position:0 -130px}\\n.layer_mycont .btn_close{position:absolute;top:320px;right:0;width:46px;height:32px;padding:3px 0 4px;font-size:11px;line-height:18px;color:#888}\\n.os_mac .layer_sso .txt_help{padding-top:2px;padding-bottom:0}\\n.os_mac .login_tmp{letter-spacing:0}\\n.os_mac .inner_login .link_login{padding-right:5px;line-height:37px;letter-spacing:-1px}\\n.os_mac .inner_login .link_kakaoid{padding-left:1px}\\n.os_mac .inner_login .link_join{bottom:8px}\\n.os_mac .inner_login .link_qr{bottom:5px}\\n.os_mac .login_my .name_user{padding:3px 0 0 2px}\\n.os_mac .login_my .link_privacy{margin-top:0}\\n.os_mac .login_my .list_basis{top:45px}\\n.os_mac .login_master .list_basis{left:62px}\\n.os_mac .list_mysvc .link_mysvc{line-height:21px}\\n.os_mac .cafe_g .link_mysvc{line-height:20px}\\n.os_mac .list_mysvc .ico_new{margin-top:4px}\\n.os_mac .cafe_g .ico_new{margin-top:3px}\\n.os_mac .layer_mycont .btn_close{padding-top:5px}\\n.login_my_type2 .list_basis{left:6px}\\n.os_mac .login_my_type2 .list_basis{left:8px}\\n.panel_bloc{position:relative;padding-top:61px}\\n.tit_tabcont{position:absolute;top:15px;font-size:16px}\\n.tit_tabcont .link_tit{display:block;height:36px;line-height:36px;background-color:transparent;text-align:center}\\n.wrap_tabcont{display:none;width:655px}\\n.ico_view{overflow:hidden;position:absolute;right:8px;bottom:8px;width:23px;height:23px;background-position:-40px 0;text-indent:-9999px;cursor:pointer}\\n.ico_video{overflow:hidden;position:absolute;right:8px;bottom:8px;width:23px;height:23px;background-position:-70px 0;text-indent:-9999px;cursor:pointer}\\n.ico_live{overflow:hidden;position:absolute;right:8px;bottom:8px;width:23px;height:23px;background-position:-130px 0;text-indent:-9999px;cursor:pointer}\\n.color_g1{color:#e30000}\\n.color_g2{color:#118eff}\\n.ico_label{overflow:hidden;position:absolute;top:15px;left:15px;height:22px;padding:0 8px;font-size:11px;line-height:19px;color:#fff;background-color:#118eff}\\n.ico_label2{overflow:hidden;position:absolute;top:0;left:0;height:20px;padding:0 7px;font-size:11px;line-height:17px;color:#fff;background-color:rgba(0,0,0,0.6);filter:progid:DXImageTransform.Microsoft.gradient(startColorstr=\\'#99000000\\',endColorstr=\\'#99000000\\',GradientType=0)}\\n.ico_label3{overflow:hidden;position:absolute;top:15px;left:15px;height:22px;padding:0 8px;font-size:11px;line-height:19px;color:#fff;background-color:#e8493d}\\n.os_mac .ico_label,.os_mac .ico_label3{line-height:23px}\\n.os_mac .ico_label2{line-height:21px}\\n.tag_live{width:30px;height:15px;background-position:-120px -70px}\\n.tag_new{width:31px;height:15px;background-position:-120px -90px}\\n.tag_event{width:40px;height:15px;background-position:-120px -110px}\\n.tag_issue{width:37px;height:15px;background-position:-120px -130px}\\n.tag_hot{width:28px;height:15px;background-position:-208px -260px}\\n.tag_live2{width:33px;height:17px;background-position:-120px -260px}\\n.tag_new2{width:34px;height:17px;background-position:-120px -280px}\\n.tag_event2{width:45px;height:17px;background-position:-160px -260px}\\n.tag_issue2{width:41px;height:17px;background-position:-160px -280px}\\n.ico_ad{position:absolute;right:6px;bottom:6px;width:24px;height:16px;font-size:0;line-height:0;background-position:0 -40px;text-indent:-9999px}\\n.page_pctop{position:absolute;width:auto;height:16px}\\n.page_pctop .btn_page{float:left;width:16px;height:16px;line-height:16px;background-color:transparent;background-position:-210px 0}\\n.page_pctop .btn_next{width:15px;background-position:-226px 0}\\n.page_pctop .info_page{float:left;padding:2px 5px 0 0;font-size:12px;line-height:16px;color:#555;font-family:tahoma,arial,sans-serif}\\n.page_pctop .info_page .txt_slash{padding:0 1px}\\n.os_mac .page_pctop .info_page{line-height:16px;font-family:helvetica,arial,sans-serif}\\n.page_btype{top:20px;right:0;height:26px}\\n.page_btype .btn_page{width:26px;height:26px;line-height:26px;background-position:-110px -170px;text-indent:10px}\\n.page_btype .btn_next{width:25px;background-position:-136px -170px}\\n.page_btype .info_page{padding-top:1px;padding-right:8px;font-size:14px;line-height:22px}\\n.os_mac .page_btype .info_page{line-height:24px}\\n.page_tabcont{position:absolute;z-index:1;top:16px;left:30px;cursor:pointer}\\n.page_tabcont .btn_page{overflow:hidden;float:left;width:7px;height:7px;margin:9px 0;font-size:10px;line-height:7px;background-position:-100px -170px;background-color:transparent}\\n.page_tabcont .on{position:relative;background-position:-100px -177px}\\n.list_thumb{overflow:hidden}\\n.list_thumb li{float:left;width:154px;height:146px;margin-left:13px}\\n.list_thumb .fst{margin-left:0}\\n.list_thumb .link_item{display:block}\\n.list_thumb .thumb_g{width:154px;height:94px}\\n.list_thumb .frame_g{width:152px;height:92px}\\n.list_thumb .cont_item{padding:4px 2px 0}\\n.list_thumb .tit_item{display:block;overflow:hidden;max-height:36px;padding-right:12px;font-weight:normal;line-height:18px;word-break:keep-all;word-wrap:break-word}\\n.os_mac .list_thumb .cont_item{padding-top:6px}\\n.os_mac .list_thumb .tit_item{padding-right:14px}\\n.list_txt{float:left}\\n.list_txt li{overflow:hidden;height:20px;padding:4px 0 2px;white-space:nowrap;text-overflow:ellipsis}\\n.list_txt .ico_pctop{display:inline-block;margin:3px 4px 0 0;text-indent:-9999px;vertical-align:top}\\n.list_txt .split_txt{padding-left:10px;margin-left:10px;color:#888;background:url(//t1.daumcdn.net/daumtop_deco/images/top/2017/ico_pctop_vert_170724.png) 0 -46px}\\n.list_txt .split_txt:hover{color:#118eff}\\n.list_txt .part_mid{padding-top:18px;line-height:16px}\\n.list_txt .split_part{display:inline-block;overflow:hidden;vertical-align:top}\\n.list_txt .split_part .link_txt{margin-right:3px}\\n.list_txt .split_fst{float:left;overflow:hidden;max-width:222px;text-overflow:ellipsis}\\n.os_mac .list_txt li{line-height:20px}\\n.os_mac .list_txt .split_txt{background-position:0 -49px}\\n.os_mac .list_txt .part_mid{line-height:22px}\\n.os_mac .list_txt .split_part .split_part{letter-spacing:-0.03em}\\n.os_mac .list_txt .split_part .link_txt{margin-right:7px}\\n.list_stxt{margin-top:7px}\\n.list_stxt li{overflow:hidden;padding-bottom:4px;line-height:19px;white-space:nowrap;text-overflow:ellipsis}\\n.list_stxt .txt_mark{font-size:12px;color:#888}\\n.link_sector{display:block;position:relative;z-index:0;width:321px;height:131px}\\n.link_sector .frame_g{width:319px;height:129px}\\n.link_sector .cont_item{position:absolute;right:0;left:0;bottom:0;width:100%;height:100px;background:url(//t1.daumcdn.net/daumtop_deco/images/top/2017/bg_plate2.png) no-repeat 0 100%}\\n.link_sector .tit_item{overflow:hidden;position:absolute;left:0;bottom:13px;right:0;padding:0 15px;font-weight:normal;font-size:14px;line-height:20px;color:#fff}\\n.link_sector .ico_label,\\n.link_sector .ico_label2,\\n.link_sector .ico_label3,\\n.link_sector .ico_pctop{z-index:1}\\n.os_mac .link_sector .tit_item{bottom:10px}\\n.list_ranking li{height:20px;padding-bottom:5px}\\n.list_ranking .link_ranking{display:block;overflow:hidden;line-height:18px}\\n.list_ranking .txt_ranking{overflow:hidden;float:left;width:288px;white-space:nowrap;text-overflow:ellipsis}\\n.list_ranking .link_ranking:hover .txt_ranking{text-decoration:underline}\\n.list_ranking .num_pctop{float:left;width:16px;height:16px;margin:2px 7px 0 0;text-indent:-9999px;vertical-align:top}\\n.list_ranking .num1{background-position:0 0}\\n.list_ranking .num2{background-position:0 -20px}\\n.list_ranking .num3{background-position:0 -40px}\\n.list_ranking .num4{background-position:0 -60px}\\n.list_ranking .num5{background-position:0 -80px}\\n.list_ranking .num6{background-position:0 -100px}\\n.list_ranking .num7{background-position:0 -120px}\\n.list_ranking .num8{background-position:0 -140px}\\n.list_ranking .num9{background-position:0 -160px}\\n.list_ranking .num10{background-position:0 -180px}\\n.os_mac .list_ranking .num_pctop{margin-top:0}\\n.os_mac .list_ranking li{line-height:22px}\\n.box_story{overflow:hidden;border:1px solid #ececec;background-color:#fbfbfc}\\n.box_story .tit_subject{overflow:hidden;margin-top:7px;font-size:13px}\\n.box_story .tit_subject .link_tit{float:left;padding-right:9px;background-position:100% 7px}\\n.os_mac .box_story .tit_subject{margin-top:10px}\\n.os_mac .box_story .tit_subject .link_tit{background-position:100% 4px}\\n.os_mac .box_story .list_stxt{margin-top:10px}\\n.link_smore{line-height:13px;color:#888;}\\n.link_smore .ico_arrow{display:block;margin:2px 0;padding-right:6px;font-size:11px;background-position:100% 3px}\\n.section_media{position:relative}\\n.section_media .page_btype{top:15px}\\n.section_media .panel_bloc{padding:57px 0 25px}\\n.section_media .tit_tabcont{top:11px;left:0}\\n.panel_bloc .tit_news{left:-5px}\\n.panel_bloc .tit_entertain{left:55px}\\n.panel_bloc .tit_sports{left:94px}\\n.panel_bloc .tit_movie{left:147px}\\n.panel_bloc .tit_auto{left:186px}\\n.panel_bloc .tit_realestate{left:240px}\\n.panel_bloc .tit_news .link_tit{width:36px;background-position:0 -130px}\\n.panel_bloc .tit_entertain .link_tit{width:36px;background-position:-36px -130px}\\n.panel_bloc .tit_sports .link_tit{width:50px;background-position:-72px -130px}\\n.panel_bloc .tit_movie .link_tit{width:36px;background-position:-122px -130px}\\n.panel_bloc .tit_auto .link_tit{width:51px;background-position:-158px -130px}\\n.panel_bloc .tit_realestate .link_tit{width:48px;background-position:-209px -130px}\\n.news_on .tit_news .link_tit{background-position:0 -166px}\\n.entertain_on .tit_entertain .link_tit{background-position:-36px -166px}\\n.sports_on .tit_sports .link_tit{background-position:-72px -166px}\\n.movie_on .tit_movie .link_tit{background-position:-122px -166px}\\n.auto_on .tit_auto .link_tit{background-position:-158px -166px}\\n.realestate_on .tit_realestate .link_tit{background-position:-209px -166px}\\n.news_on .wrap_news, .entertain_on .wrap_entertain, .sports_on .wrap_sports, .movie_on .wrap_movie, .auto_on .wrap_auto, .realestate_on .wrap_realestate{display:block}\\n.info_special{overflow:hidden}\\n.info_special .ico_pctop{float:left;margin:3px 5px 0 0;text-indent:-9999px}\\n.info_special .link_special{display:block;overflow:hidden;height:20px;font-weight:bold;font-size:13px;line-height:18px;color:#222;letter-spacing:-1px}\\n.info_special .link_special:hover{color:#118eff}\\n.os_mac .info_special .ico_pctop{margin-right:6px}\\n.os_mac .info_special .link_special{line-height:24px;letter-spacing:0}\\n.section_media .info_special{position:absolute;top:17px;right:99px;max-width:250px}\\n.section_media .wrap_tabcont{height:480px}\\n.group_news{display:inline-block;height:292px;vertical-align:top}\\n.news_prime{height:438px}\\n.news_prime .list_txt{width:316px;padding-left:4px}\\n.news_prime .list_thumb .tit_item{display:-webkit-box;padding-right:0;word-break:normal;-webkit-line-clamp:2;-webkit-box-orient:vertical}\\n.box_sector{overflow:hidden;float:left;width:321px;margin-right:13px}\\n.box_sector .list_thumb{width:334px;margin-left:-13px}\\n.box_sector .link_sector{margin-bottom:15px}\\n.news_flow{overflow:hidden;position:relative;height:40px;border:1px solid #ececec;line-height:35px;background-color:#fbfbfb}\\n.unit_home{float:left;padding-left:12px}\\n.unit_home .tit_home{float:left;margin-right:10px}\\n.unit_home .tit_home .link_home{padding-right:7px;background-position:100% 6px}\\n.unit_home .list_home{float:left}\\n.unit_home .list_home li{float:left;padding:0 7px}\\n.unit_home .list_home .link_home{color:#555}\\n.unit_home .link_home:hover{color:#118eff}\\n.unit_live{float:left;padding-left:25px}\\n.unit_live .ico_pctop{float:left;margin:12px 6px 0 0;text-indent:-9999px}\\n.unit_live .link_live{margin-right:5px;color:#555}\\n.unit_live .link_live:hover{color:#118eff}\\n.unit_home .list_rgate{position:absolute;top:0;right:10px}\\n.unit_home .list_rgate li{float:left;padding:0 7px}\\n.unit_home .list_rgate .link_home{color:#888}\\n.news_flow .link_hash{padding:0 7px;color:#118eff}\\n.os_mac .news_flow{line-height:40px}\\n.os_mac .unit_home .tit_home .link_home{padding-right:9px;background-position:100% 3px}\\n.box_issue{float:left;position:relative;margin-right:13px}\\n.box_issue .link_issue{display:block;overflow:hidden;position:relative;width:321px;height:277px}\\n.box_issue .cover_g{position:absolute;left:0;bottom:0;width:100%;height:132px;background:url(//t1.daumcdn.net/daumtop_deco/images/top/2017/bg_plate8.png) 0 100%}\\n.box_issue .frame_g{width:319px;height:275px}\\n.box_issue .ico_label{height:27px;font-size:14px;line-height:25px;background-color:rgba(17,142,255,.9)}\\n.box_issue .cont_item{overflow:hidden;position:absolute;right:0;bottom:14px;left:0}\\n.box_issue .cont_item .tit_item{display:block;overflow:hidden;max-height:44px;padding:0 16px;font-weight:normal;font-size:16px;line-height:22px;color:#fff}\\n.os_mac .box_issue .ico_label{line-height:29px}\\n.os_mac .box_issue .cont_item{bottom:10px}\\n.special_issue .tit_issue{overflow:hidden;position:absolute;top:25px;left:21px;max-height:60px;padding-right:20px;font-size:22px;color:#fff}\\n.special_issue .cont_item{bottom:12px}\\n.special_issue .list_item{padding:0 16px}\\n.special_issue .list_item li{overflow:hidden;margin-top:3px;font-size:14px}\\n.special_issue .list_item .fst{font-size:16px;line-height:26px}\\n.special_issue .list_item .link_item{display:block;overflow:hidden;color:#fff;white-space:nowrap;text-overflow:ellipsis}\\n.os_mac .special_issue .list_item .fst{line-height:23px}\\n.box_newslive{position:relative;width:319px;height:129px}\\n.box_newslive .tit_subject{margin-right:14px;margin-left:16px;letter-spacing:-1px}\\n.box_newslive .link_smore{position:absolute;top:8px;right:14px}\\n.list_newslive{overflow:hidden;margin:11px 0 0 12px}\\n.list_newslive li{float:left;margin-right:5px}\\n.list_newslive .link_station{display:block;text-align:center}\\n.list_newslive .item_station{display:inline-block;position:relative;width:66px;height:66px;margin:2px;background:url(//t1.daumcdn.net/daumtop_deco/images/top/2019/bg_newslive_200107.png) no-repeat;vertical-align:top}\\n.list_newslive .link_station:hover .item_station{background-position:0 -70px}\\n.list_newslive .ico_live2{position:absolute;bottom:-2px;right:-2px;width:20px;height:20px;background-position:0 -80px;text-indent:-9999px}\\n.list_newslive .img_station{display:block;margin:18px auto 0}\\n.list_newslive .tit_item{display:block;margin-top:1px;font-weight:normal;font-size:12px;line-height:14px;color:#222;letter-spacing:-1px}\\n.os_mac .box_newslive .link_smore{top:10px}\\n.os_mac .list_newslive{margin-top:10px}\\n.os_mac .list_newslive .tit_item{margin-top:2px;letter-spacing:0}\\n.ranking_news{float:left;width:320px}\\n.ranking_news.fst{margin-right:14px}\\n.ranking_news .tit_ranking{font-size:13px;line-height:15px;color:#118eff}\\n.ranking_news .link_tit{padding-right:9px;color:#118eff;background-position:100% -56px;vertical-align:top}\\n.ranking_news .list_ranking{margin-top:11px}\\n.ranking_news li{padding-bottom:6px}\\n.ranking_news .ntype_img{height:80px;padding-bottom:12px}\\n.ntype_img .link_ranking{text-decoration:none}\\n.ntype_img .thumb_g{overflow:hidden;float:left;width:130px;height:80px;margin-right:10px}\\n.ntype_img .frame_g{width:128px;height:78px}\\n.ntype_img .num_pctop{position:absolute;top:0;left:0;margin-top:0}\\n.ntype_img .cont_item{padding-top:4px}\\n.ntype_img .tit_item{display:block;display:-webkit-box;overflow:hidden;max-height:36px;padding-right:2px;font-weight:normal;line-height:18px;word-wrap:break-word;-webkit-line-clamp:2;-webkit-box-orient:vertical}\\n.ntype_img .origin_item{display:block;overflow:hidden;margin-top:3px;font-size:12px;line-height:21px;color:#888;white-space:nowrap;text-overflow:ellipsis}\\n.ntype_img .link_ranking:hover .tit_item{text-decoration:underline}\\n.os_mac .ranking_news .list_ranking{margin-top:9px}\\n.os_mac .ranking_news .ntype_img{padding-bottom:14px}\\n.cast_sports{position:relative;width:321px;margin-bottom:15px}\\n.cast_sports .head_cast{height:35px;border:1px solid #ececec;background-color:#fbfbfb}\\n.cast_sports .tit_cast{margin:7px 0 0 11px;font-size:13px}\\n.cast_sports .page_pctop{top:9px;right:12px;bottom:auto;height:19px}\\n.cast_sports .page_pctop .btn_page{width:19px;height:19px;line-height:16px;background-position:0 0}\\n.cast_sports .page_pctop .btn_next{width:18px;background-position:-19px 0}\\n.os_mac .cast_sports .tit_cast{margin:9px 0 0 12px}\\n.sports_scoreboard{overflow:hidden;border:1px solid #ececec;border-top:0 none;font-size:12px;background-color:#fff}\\n.list_relay li{overflow:hidden}\\n.list_relay .link_relay:hover{color:#222;text-decoration:none}\\n.list_relay .info_game{display:block;font-size:11px;font-family:\\'Helvetica Neue\\',AppleSDGothicNeo-Regular,\\'Malgun Gothic\\',\\'맑은 고딕\\',dotum,\\'돋움\\',sans-serif;letter-spacing:-0.05em}\\n.list_relay .txt_league{color:#888}\\n.list_relay .num_score{font-weight:600;font-family:Helvetica,sans-serif}\\n.list_relay .info_status{width:28px;height:17px}\\n.list_relay .tag_status1{background-position:-40px 0}\\n.list_relay .tag_status2{background-position:-40px -20px}\\n.list_relay .tag_status3{background-position:-40px -40px}\\n.list_relay .tag_status4{background-position:-40px -60px}\\n.list_relay .tag_status5{background-position:-40px -80px}\\n.list_relay .game_play .tag_status1{background-position:-70px 0}\\n.list_relay .game_play .tag_status2{background-position:-70px -20px}\\n.list_relay .game_play .tag_status3{background-position:-70px -40px}\\n.list_relay .game_play .tag_status4{background-position:-70px -60px}\\n.list_relay .game_play .tag_status5{background-position:-70px -80px}\\n.list_relay .game_play .txt_status{color:#118eff}\\n.list_relay .txt_status{color:#888}\\n.list_relay .txt_time{color:#555;letter-spacing:-0.05em}\\n.list_relay .txt_pso{color:#555}\\n.list_relay .link_view{display:block;font-size:12px;line-height:17px;letter-spacing:-1px;text-align:center;text-decoration:none}\\n.list_relay .desc_empty{display:block;font-weight:normal;color:#888}\\n.list_relay .txt_empty{display:inline-block;color:#118EFF;text-decoration:underline;vertical-align:top}\\n.list_relay .ico_empty{display:block;width:32px;height:32px;margin:-5px auto 12px;background-position:0 -30px}\\n.os_mac .list_relay .txt_time{letter-spacing:0}\\n.relay_general{height:93px}\\n.relay_general .box_cell{overflow:hidden;float:left;width:159px;border-right:1px solid #f5f5f5;box-sizing:border-box}\\n.relay_general .box_cell+.box_cell{border-right:0 none}\\n.relay_general .info_empty{display:table;width:100%;height:93px}\\n.relay_general .info_empty .link_view{display:table-cell;width:100%;height:100%;vertical-align:middle}\\n.relay_general .link_relay{display:block;overflow:hidden;position:relative;width:134px;height:84px;padding:9px 13px 0 13px}\\n.relay_general .info_team{overflow:hidden;position:absolute;left:11px;top:57px;right:12px;height:25px;line-height:26px}\\n.relay_general .info_game{height:18px}\\n.relay_general .vs_team1{left:11px;top:30px}\\n.relay_general .img_thumb{float:left;margin-right:4px}\\n.relay_general .txt_team{overflow:hidden;float:left;width:70px;white-space:nowrap;text-overflow:ellipsis}\\n.relay_general .num_score{float:right;width:35px;height:25px;line-height:26px;font-size:16px;letter-spacing:0;text-align:right}\\n.relay_general .info_status{position:absolute;top:10px;right:13px}\\n.relay_general .tit_name{display:block;overflow:hidden;max-height:32px;margin-top:8px;font-weight:normal;font-size:12px;line-height:16px;word-break:break-all}\\n.relay_general .data_league{display:block;font-size:11px;color:#888}\\n.relay_general .txt_status{float:left;padding-right:6px}\\n.os_mac .relay_general .info_team{line-height:27px}\\n.os_mac .relay_general .tit_name{margin-top:9px}\\n.relay_special{display:table;width:319px;height:239px;margin-top:-1px}\\n.relay_special .link_relay{display:block;overflow:hidden;position:relative;height:47px;border-top:1px solid #f5f5f5}\\n.relay_special .game_empty{display:table-row}\\n.relay_special .game_empty .info_empty{display:table-cell;height:100%;border-top:1px solid #f5f5f5;text-align:center;vertical-align:middle}\\n.relay_special .game_empty .link_view{display:inline-block;padding:30px 0;text-decoration:none}\\n.relay_special .txt_empty{font-size:11px}\\n.relay_special .team_result{display:block;position:relative;height:47px;padding:0 42px 0 9px;text-align:center}\\n.relay_special .info_game{text-align:center}\\n.relay_special .info_game2{position:absolute;top:9px;left:50%;width:52px;height:28px;margin-left:-42px;line-height:14px}\\n.relay_special .info_game2 .txt_league{display:block;padding-top:14px;white-space:nowrap;text-indent:-1px}\\n.relay_special .info_game2 .txt_status{position:absolute;top:0;left:0;width:100%;height:14px}\\n.relay_special .info_game2 .txt_status2{margin-top:7px;letter-spacing:-1px;text-indent:-1px}\\n.relay_special .tit_name{display:block;overflow:hidden;padding-top:9px;line-height:15px;font-weight:normal;letter-spacing:-1px;white-space:nowrap;text-overflow:ellipsis}\\n.relay_special .tit_name+.info_game{display:inline-block;overflow:hidden;vertical-align:top}\\n.relay_special .tit_name+.info_game .txt_league{float:right;*float:none;padding-right:1px}\\n.relay_special .tit_name+.info_game .txt_league:before{display:inline-block;width:2px;height:2px;margin:0 3px;border-radius:2px;background-color:#C4C4C4;vertical-align:middle;content:\\'\\'}\\n.relay_special .tit_name+.info_game .txt_status{float:left;*float:none}\\n.relay_special .info_team{display:table;overflow:hidden;position:relative;width:49px;height:100%;text-align:left}\\n.relay_special .info_status{position:absolute;top:16px;right:12px}\\n.relay_special .img_thumb{position:absolute;top:11px}\\n.relay_special .txt_team{display:table-cell;*display:inline-block;overflow:hidden;width:46px;padding:0 1px;vertical-align:middle}\\n.relay_special .txt_team .data_name{display:block;overflow:hidden;width:44px;margin-top:-1px;*margin-top:14px;padding-right:1px;line-height:16px;letter-spacing:-1px;white-space:nowrap;text-overflow:ellipsis}\\n.relay_special .num_score{position:absolute;top:16px;width:28px;font-size:16px;line-height:18px;letter-spacing:0}\\n.relay_special .num_none{top:14px}\\n.relay_special .vs_team1{float:left;padding-right:57px}\\n.relay_special .vs_team1 .img_thumb{right:31px}\\n.relay_special .vs_team1 .txt_team{text-align:right}\\n.relay_special .vs_team1 .num_score{right:0;padding-right:2px;text-align:right}\\n.relay_special .vs_team1 .data_name{float:right}\\n.relay_special .vs_team2{float:right;padding-left:57px}\\n.relay_special .vs_team2 .img_thumb{left:31px}\\n.relay_special .vs_team2 .num_score{left:0;padding-left:2px}\\n.relay_special .vs_team2 .data_name{padding-left:1px}\\n.os_mac .relay_special .info_game2{top:10px}\\n.os_mac .relay_special .txt_team .data_name{margin-top:3px}\\n.os_mac .relay_special .info_game2 .txt_league,.os_mac .relay_special .info_game2 .txt_status2{text-indent:0}\\n.opt_dropdown{position:absolute;top:0;right:0;z-index:10;width:auto;white-space:nowrap}\\n.opt_dropdown .btn_select{display:block;position:relative;height:36px;padding:1px 16px 0 0;margin-right:13px;color:#101010;letter-spacing:-1px;text-align:right}\\n.opt_dropdown .btn_select .ico_arr{overflow:hidden;position:absolute;top:16px;right:0;width:12px;height:6px;font-size:0;line-height:0;background-position:0 -70px;text-indent:-9999px}\\n.opt_dropdown .dropdown_layer{display:none;position:absolute;top:0;right:0;border:1px solid #CECECE;background-color:#fff}\\n.opt_dropdown .list_opt li{min-width:87px}\\n.opt_dropdown .link_option{display:block;height:14px;padding:5px 12px 6px;font-size:12px;line-height:14px}\\n.opt_dropdown .on,.opt_dropdown .link_option:hover{background-color:#F6F6F6;color:#2D96F5}\\n.opt_open .dropdown_layer{display:block}\\n.os_mac .opt_dropdown .btn_select{padding-top:2px;padding-right:17px}\\n.os_mac .opt_dropdown .link_option{padding-top:7px;padding-bottom:5px}\\n.box_special{overflow:hidden;position:relative;z-index:0;width:641px;height:93px;margin-bottom:15px;padding:36px 0 0 12px;border:1px solid #ececec;background-color:#fbfbfb}\\n.box_special .tit_special{position:absolute;top:7px;left:12px;font-size:13px}\\n.box_special .link_special{margin-right:3px}\\n.box_special .link_special2{color:#888}\\n.box_special .pack_slide{overflow:hidden}\\n.box_special .page_pctop{top:8px;right:12px;height:19px}\\n.box_special .page_pctop .btn_page{width:19px;height:19px;line-height:19px;background-position:-40px -200px}\\n.box_special .page_pctop .btn_next{width:18px;background-position:-59px -200px}\\n.box_special .page_pctop .info_page{color:#888}\\n.box_special .page_pctop .num_index{font-weight:normal}\\n.box_special .link_banner{float:left;position:relative;width:308px;height:80px;margin-left:5px}\\n.box_special .link_banner .frame_g{width:306px;height:78px}\\n.box_special .banner_wide{width:419px;height:80px;margin-left:11px}\\n.box_special .banner_wide .frame_g{width:417px;height:78px}\\n.list_special{float:left}\\n.list_special li{float:left}\\n.list_special .link_thumb{float:left;position:relative}\\n.list_special .link_thumb .frame_g{width:54px;height:78px}\\n.list_special .num_g{position:absolute;top:0;left:0;width:16px;height:16px;font-size:11px;line-height:16px;color:#fff;font-family:tahoma,arial,sans-serif;text-align:center}\\n.list_special .cont_info{overflow:hidden;word-break:keep-all}\\n.list_special .tit_info{display:block;overflow:hidden;max-height:33px;font-weight:normal;font-size:13px;line-height:17px;word-break:break-all}\\n.list_special .txt_info{display:block;overflow:hidden;font-size:12px;line-height:16px;color:#888;white-space:nowrap;text-overflow:ellipsis}\\n.list_movie1 li{width:146px;padding-right:12px}\\n.list_movie1 .num_g{background-position:-20px 0}\\n.list_movie1 .num_point{background-position:0 0}\\n.list_movie1 .cont_info{position:relative;padding:36px 0 0 9px}\\n.list_movie1 .tit_info{position:absolute;top:0;left:9px}\\n.list_movie1 .txt_info{float:left;width:100%;letter-spacing:0}\\n.list_movie1 .grade_star{display:block;overflow:hidden;position:relative;width:62px;height:12px;background-position:-40px -30px}\\n.list_movie1 .inner_star{position:absolute;top:0;left:0;width:auto;height:12px;font-size:0;line-height:0;background-position:-40px -50px;text-indent:-9999px}\\n.list_movie2 li{width:146px;padding-right:12px}\\n.list_movie2 .cont_info{padding:0 0 0 9px}\\n.list_movie2 .tit_info{margin:-2px 0 2px}\\n.list_movie2 .txt_info{max-height:31px;white-space:normal}\\n.list_movie3 li{margin-left:10px}\\n.list_movie3 li.fst{margin-left:0}\\n.list_movie3 .link_thumb{width:203px;height:80px}\\n.list_movie3 .link_thumb .frame_g{width:201px;height:78px}\\n.list_movie3 .link_thumb .ico_play{position:absolute;right:10px;bottom:10px;width:22px;height:22px;font-size:0;line-height:0;background-position:-100px 0;text-indent:-9999px}\\n.list_movie3 .cont_info{position:absolute;top:38px;left:0;width:152px;padding:0 40px 0 10px;color:#fff}\\n.list_movie3 .txt_info{color:#fff}\\n.list_movie3 .tit_info{display:inline}\\n.list_movie3 .txt_runtime{display:block;overflow:hidden;font-size:11px;line-height:13px;font-family:tahoma,arial,sans-serif;white-space:nowrap;text-overflow:ellipsis;letter-spacing:0}\\n.list_auto .num_g{background-position:-20px -20px}\\n.list_auto .num_point{background-position:0 -20px}\\n.list_auto li{width:199px;padding-left:10px;border-left:1px solid #ececec}\\n.list_auto li.fst{padding-left:0;border-left:0 none}\\n.list_auto .link_thumb{width:120px;height:80px}\\n.list_auto .cont_info{padding:13px 7px 0 0}\\n.list_auto .tit_info{margin-bottom:2px}\\n.list_realestate li{width:203px;margin-left:8px}\\n.list_realestate li.fst{margin-left:0}\\n.list_realestate .link_thumb{width:110px;height:80px}\\n.list_realestate .link_thumb .frame_g{width:108px;height:78px}\\n.list_realestate .cont_info{padding-left:8px}\\n.list_realestate .tit_info{margin-top:-2px;margin-bottom:4px}\\n.list_realestate .txt_info{margin-top:2px;line-height:14px}\\n.os_mac .box_special .tit_special{top:10px}\\n.os_mac .list_special .num_g{font-family:helvetica,arial,sans-serif}\\n.os_mac .list_movie1 .grade_star{margin-bottom:3px}\\n.os_mac .list_movie2 .cont_info{padding-top:1px}\\n.os_mac .list_movie2 .tit_info{margin-top:0}\\n.os_mac .list_movie3 .txt_runtime{margin-bottom:2px;font-family:helvetica,arial,sans-serif}\\n.os_mac .list_auto .cont_info{padding-top:16px}\\n.os_mac .list_realestate .tit_info{margin-top:1px;line-height:16px}\\n.list_series li{width:201px;padding-right:10px}\\n.list_series .thumb_g{float:left;width:80px;height:80px;margin-right:10px}\\n.list_series .thumb_g .frame_g{width:78px;height:78px}\\n.list_series .cont_info{width:109px}\\n.list_series .tit_info{margin:3px 0 3px;white-space:nowrap;text-overflow:ellipsis}\\n.list_series .txt_info{max-height:31px;color:#555;white-space:normal;word-break:break-all}\\n.list_series .link_thumb:hover{text-decoration:none}\\n.list_series .link_thumb:hover .tit_info{color:#118eff;text-decoration:underline}\\n.list_series .link_thumb:hover .txt_info{text-decoration:none}\\n.os_mac .list_series .tit_info{margin-top:5px}\\n.section_multi{position:relative;border-top:1px solid #888}\\n.section_multi .wrap_tabcont{height:157px}\\n.panel_bloc .tit_kakaotv .link_tit{width:62px;background-position:-430px -80px}\\n.panel_bloc .tit_kakaotv .link_tit:hover{background-position:-430px -120px}\\n.kakaotv_on .wrap_kakaotv, .melon_on .wrap_melon{display:block}\\n.tab_multi{position:absolute;top:16px;left:69px;height:36px}\\n.tab_multi li{display:inline;float:left}\\n.tab_multi li + li{margin-left:12px}\\n.tab_multi .link_tit{display:block;overflow:hidden;height:36px;padding-right:2px;font-weight:bold;line-height:33px;color:#888;letter-spacing:-2px;text-decoration:none}\\n.tab_multi .on .link_tit{color:#118eff;text-decoration:underline}\\n.os_mac .tab_multi li + li{margin-left:14px}\\n.os_mac .tab_multi{top:15px;left:68px}\\n.os_mac .tab_multi .link_tit{padding-right:0;line-height:38px;letter-spacing:-0.038em}\\n.box_imgspe{float:left;margin-right:13px}\\n.box_imgspe .ico_label,.box_imgspe .ico_label3{font-size:12px}\\n.wrap_kakaotv .list_thumb .ico_video{background-position:0 -170px}\\n.section_blog{position:relative;border-top:1px solid #888}\\n.section_blog .wrap_tabcont{overflow:hidden;height:179px}\\n.panel_bloc .tit_cafe{left:-5px}\\n.panel_bloc .tit_brunch{left:31px}\\n.panel_bloc .tit_tistory{left:79px}\\n.panel_bloc .tit_kakaostory{left:144px}\\n.panel_bloc .tit_cafe .link_tit{width:36px;background-position:0 -220px}\\n.panel_bloc .tit_brunch .link_tit{width:49px;background-position:-36px -220px}\\n.panel_bloc .tit_tistory .link_tit{width:65px;background-position:-85px -220px}\\n.panel_bloc .tit_ilboonnews .link_tit{width:73px;background-position:-150px -220px}\\n.panel_bloc .tit_kakaostory .link_tit{width:90px;background-position:-223px -220px}\\n.cafe_on .tit_cafe .link_tit{background-position:0 -256px}\\n.brunch_on .tit_brunch .link_tit{background-position:-36px -256px}\\n.tistory_on .tit_tistory .link_tit{background-position:-85px -256px}\\n.ilboonnews_on .tit_ilboonnews .link_tit{background-position:-150px -256px}\\n.kakaostory_on .tit_kakaostory .link_tit{background-position:-223px -256px}\\n.cafe_on .wrap_cafe, .brunch_on .wrap_brunch, .tistory_on .wrap_tistory, .kakaostory_on .wrap_kakaostory{display:block}\\n.section_blog .box_story{float:right;width:297px;height:152px;padding:0 11px}\\n.list_story{overflow:hidden;float:left}\\n.list_story li{float:left;height:160px;margin-left:13px}\\n.list_story .fst{margin-left:0}\\n.list_story .link_item{display:block;position:relative;width:154px;cursor:pointer}\\n.list_story .link_item:hover{color:#222;text-decoration:none}\\n.list_story .thumb_g{width:154px;height:94px}\\n.list_story .frame_g{width:152px;height:92px}\\n.list_story .cont_item{height:56px;padding:4px 2px 0}\\n.list_story .tit_item{display:block;overflow:hidden;max-height:36px;padding-right:12px;font-weight:normal;line-height:18px;word-break:keep-all;word-wrap:break-word}\\n.list_story .origin_item{display:block;overflow:hidden;position:relative;margin-top:4px;font-size:12px;line-height:18px;color:#888;white-space:nowrap;text-overflow:ellipsis}\\n.list_story .origin_item .txt_teller{display:block;overflow:hidden;white-space:nowrap;text-overflow:ellipsis}\\n.list_story .origin_item .ico_storyteller{overflow:hidden;position:absolute;right:0;top:4px;width:13px;height:15px;font-size:1px;line-height:0;background-position:-170px -100px;text-indent:-9999px}\\n.list_story .link_item:hover .tit_item{color:#118eff;text-decoration:underline}\\n.list_story .link_item:hover .origin_item{color:#888;text-decoration:none}\\n.list_story .item_teller{display:inline-block;max-width:115px;padding-right:18px}\\n.os_mac .list_story .cont_item{height:54px;padding-top:6px}\\n.os_mac .list_story .tit_item{padding-right:14px}\\n.os_mac .list_story .origin_item .ico_storyteller{top:0}\\n.type_desc .link_item{height:154px;border:1px solid #ececec;background-color:#fbfbfc;box-sizing:border-box}\\n.type_desc .cont_item{height:117px;padding:7px 8px 0 13px}\\n.type_desc .desc_item{display:block;overflow:hidden;max-height:48px;padding-top:8px;font-size:11px;line-height:16px;color:#888;word-break:keep-all;word-wrap:break-word}\\n.type_desc .origin_item{position:absolute;left:13px;bottom:9px;right:13px}\\n.type_desc .item_teller{right:auto;max-width:106px}\\n.os_mac .type_desc .cont_item{height:96px;padding-top:10px}\\n.os_mac .type_desc .origin_item{bottom:6px}\\n.type_img .thumb_g{z-index:-1;height:154px}\\n.type_img .frame_g{width:152px;height:152px}\\n.type_img .cont_item{position:absolute;top:0;left:0;bottom:0;width:154px;height:154px;background:url(//t1.daumcdn.net/daumtop_deco/images/top/2017/bg_plate6.png) no-repeat 0 0}\\n.type_img .tit_item{position:absolute;left:13px;right:13px;bottom:37px;height:auto;max-height:36px;padding-right:10px;color:#fff}\\n.type_img .origin_item{position:absolute;left:13px;right:13px;bottom:14px;color:#c9c9c9}\\n.type_img .link_item:hover .origin_item{color:#c9c9c9;text-decoration:none}\\n.type_img .link_item:hover .tit_item{color:#fff;text-decoration:underline}\\n.os_mac .type_img .cont_item{height:auto;padding:0}\\n.os_mac .type_img .tit_item{bottom:30px}\\n.os_mac .type_img .origin_item{bottom:6px}\\n.graph_item{overflow:hidden;position:absolute;top:74px;left:0;width:154px}\\n.graph_item .info_graph{position:absolute;right:10px;top:0;z-index:10;color:#fff}\\n.graph_item .info_graph .num_graph{font-weight:bold}\\n.graph_item .bar_graph{display:block;height:20px;background:url(//t1.daumcdn.net/daumtop_deco/images/top/2017/bg_graph.png) repeat 0 0}\\n.graph_item .bar_support{position:absolute;left:0;top:0;height:20px}\\n.graph_item .bar_support .bg_left{position:absolute;left:0;top:0;right:16px;height:20px;background:url(//t1.daumcdn.net/daumtop_deco/images/top/2017/bar_graph.png) repeat-x 0 0}\\n.graph_item .bar_support .bg_right{position:absolute;right:-14px;top:0;width:30px;height:20px;background:url(//t1.daumcdn.net/daumtop_deco/images/top/2017/bar_graph_right.png) no-repeat 0 0}\\n.full_graph .bar_support{width:100%;background:url(//t1.daumcdn.net/daumtop_deco/images/top/2017/bar_graph_full2.png) no-repeat 0 0}\\n.full_graph .bar_support .bg_left, .full_graph .bar_support .bg_right{width:0;background:none}\\n.os_mac .graph_item .info_graph{top:2px}\\n.section_channel{position:relative;border-top:1px solid #888}\\n.section_channel .panel_bloc{padding-top:60px}\\n.section_channel .wrap_tabcont{overflow:hidden;height:507px}\\n.panel_bloc .tit_homecooking{left:-5px}\\n.panel_bloc .tit_money{left:59px}\\n.panel_bloc .tit_pet{left:96px}\\n.panel_bloc .tit_women{left:133px}\\n.panel_bloc .tit_men{left:182px}\\n.panel_bloc .tit_travel{left:212px}\\n.panel_bloc .tit_business{left:274px}\\n.panel_bloc .tit_music{left:325px}\\n.panel_bloc .tit_webtoon{left:362px}\\n.panel_bloc .tit_game{left:398px}\\n.panel_bloc .tit_together,.panel_bloc .tit_together2{left:434px}\\n.panel_bloc .tit_homecooking .link_tit{width:59px;background-position:0 -310px}\\n.panel_bloc .tit_money .link_tit{width:37px;background-position:-59px -310px}\\n.panel_bloc .tit_pet .link_tit{width:37px;background-position:-96px -310px}\\n.panel_bloc .tit_women .link_tit{width:49px;background-position:-133px -310px}\\n.panel_bloc .tit_men .link_tit{width:30px;background-position:-182px -310px}\\n.panel_bloc .tit_travel .link_tit{width:62px;background-position:-212px -310px}\\n.panel_bloc .tit_business .link_tit{width:51px;background-position:-274px -310px}\\n.panel_bloc .tit_music .link_tit{width:37px;background-position:-325px -310px}\\n.panel_bloc .tit_webtoon .link_tit{width:36px;background-position:-362px -310px}\\n.panel_bloc .tit_game .link_tit{width:36px;background-position:-398px -310px}\\n.panel_bloc .tit_together .link_tit{width:63px;background-position:-434px -310px}\\n.panel_bloc .tit_together2 .link_tit{width:72px;background-position:-497px -310px}\\n.homecooking_on .tit_homecooking .link_tit{background-position:0 -346px}\\n.money_on .tit_money .link_tit{background-position:-59px -346px}\\n.pet_on .tit_pet .link_tit{background-position:-96px -346px}\\n.women_on .tit_women .link_tit{background-position:-133px -346px}\\n.men_on .tit_men .link_tit{background-position:-182px -346px}\\n.travel_on .tit_travel .link_tit{background-position:-212px -346px}\\n.business_on .tit_business .link_tit{background-position:-274px -346px}\\n.music_on .tit_music .link_tit{background-position:-325px -346px}\\n.webtoon_on .tit_webtoon .link_tit{background-position:-362px -346px}\\n.game_on .tit_game .link_tit{background-position:-398px -346px}\\n.together_on .tit_together .link_tit{background-position:-434px -346px}\\n.together_on .tit_together2 .link_tit{background-position:-497px -346px}\\n.homecooking_on .wrap_homecooking,.money_on .wrap_money,.pet_on .wrap_pet,.women_on .wrap_women, .men_on .wrap_men, .travel_on .wrap_travel, .business_on .wrap_business, .music_on .wrap_music, .webtoon_on .wrap_webtoon, .game_on .wrap_game, .together_on .wrap_together{display:block}\\n.box_channel{float:left;position:relative;width:154px;height:159px;margin:0 0 15px 13px}\\n.box_channel.fst{margin-left:0}\\n.box_channel .link_item{display:block;position:relative;width:154px}\\n.box_channel .link_item:hover{color:#222;text-decoration:none}\\n.box_channel .thumb_g{overflow:hidden;width:154px;height:94px}\\n.box_channel .frame_g{width:152px;height:92px}\\n.box_channel .cont_item{padding:4px 2px 0}\\n.box_channel .tit_item{display:block;overflow:hidden;max-height:36px;padding-right:12px;font-weight:normal;line-height:18px;word-wrap:break-word}\\n.box_channel .link_item:hover .tit_item{color:#118eff;text-decoration:underline}\\n.box_channel .channel_item{display:block;height:18px;padding:4px 2px 0;font-size:12px;line-height:18px}\\n.box_channel .channel_item .link_channel{display:inline-block;overflow:hidden;max-width:124px;height:20px;line-height:18px;color:#888;vertical-align:top;white-space:nowrap;text-overflow:ellipsis}\\n.box_channel .origin_item{display:block;overflow:hidden;margin-top:3px;font-size:12px;line-height:21px;color:#888;white-space:nowrap;text-overflow:ellipsis}\\n.box_channel .thumb_channel{display:inline-block;position:relative;margin:1px 5px 0 0;vertical-align:top}\\n.box_channel .thumb_channel .img_thumb{border-radius:18px}\\n.box_channel .thumb_channel .bg_frame{position:absolute;top:0;left:0;width:18px;height:18px;background-position:-410px -150px}\\n.os_mac .box_channel .cont_item{padding-top:6px}\\n.os_mac .box_channel .tit_item{padding-right:14px}\\n.os_mac .box_channel .thumb_channel{margin-top:0}\\n.os_mac .box_channel .channel_item .link_channel{line-height:20px}\\n.type_chdesc{background-color:#fbfbfc}\\n.type_chdesc .link_item{width:152px;height:157px;border:1px solid #ececec}\\n.type_chdesc .cont_item{padding:13px 8px 0 13px}\\n.type_chdesc .desc_item{display:block;overflow:hidden;max-height:48px;padding-top:8px;font-size:11px;line-height:16px;color:#888}\\n.type_chdesc .channel_item{padding:0 2px 10px 13px;border:1px solid #ececec;border-top-width:0}\\n.type_chdesc .origin_item{margin-top:17px}\\n.os_mac .type_chdesc .cont_item{padding-top:16px}\\n.section_channel .box_imgspe{margin-right:0}\\n.section_channel .link_sector{height:159px}\\n.section_channel .link_sector .frame_g{width:319px;height:157px}\\n.section_channel .link_sector .cont_item{height:159px;background-image:url(//t1.daumcdn.net/daumtop_deco/images/top/2017/bg_plate5.png)}\\n.box_chwide{float:left;position:relative;width:321px;height:159px;margin:0 0 14px}\\n.box_chwide .link_item{display:block;overflow:hidden;position:relative;width:321px;height:159px}\\n.box_chwide .link_item .thumb_g{z-index:-1;width:321px;height:159px}\\n.box_chwide .link_item .frame_g{width:319px;height:157px}\\n.box_chwide .link_item .cont_item{position:absolute;top:0;left:0;width:321px;height:159px;color:#fff;background:url(//t1.daumcdn.net/daumtop_deco/images/top/2017/bg_plate5.png) no-repeat 0 100%}\\n.box_chwide .link_item .tit_item{overflow:hidden;position:absolute;left:17px;bottom:13px;max-width:284px;height:20px;font-weight:normal;font-size:14px;line-height:20px;white-space:nowrap;text-overflow:ellipsis}\\n.box_chwide .link_item .tit_item:hover{color:#fff}\\n.box_chwide .link_item .origin_item{overflow:hidden;position:absolute;left:17px;bottom:33px;max-width:284px;height:20px;font-size:12px;line-height:18px;color:#fff;white-space:nowrap;text-overflow:ellipsis}\\n.os_mac .box_chwide .link_channel{line-height:20px}\\n.os_mac .box_chwide .link_item .tit_item{bottom:10px}\\n.os_mac .box_chwide .link_item .origin_item{bottom:30px}\\n.box_chextra{overflow:hidden;float:left;position:relative;width:154px;height:159px;margin:0 0 13px 13px}\\n.box_chextra .tit_chextra{position:absolute;top:14px;left:15px;right:50px;z-index:1;font-size:11px;color:#118eff}\\n.box_chextra .link_item{display:block;width:154px;height:159px}\\n.box_chextra .thumb_g{z-index:-1;width:154px;height:159px}\\n.box_chextra .frame_g{width:152px;height:157px}\\n.box_chextra .cont_item{position:absolute;top:0;left:0;width:154px;height:159px;background:url(//t1.daumcdn.net/daumtop_deco/images/top/2017/bg_plate6.png) no-repeat 0 100%}\\n.box_chextra .emph_extra{position:absolute;top:14px;left:15px;right:15px;font-size:11px;color:#118eff}\\n.box_chextra .tit_item{position:absolute;left:14px;right:14px;bottom:34px;font-weight:normal;line-height:18px;color:#fff}\\n.box_chextra .link_item:hover .tit_item{text-decoration:underline}\\n.box_chextra .origin_item{display:inline-block;overflow:hidden;position:absolute;left:13px;right:auto;bottom:8px;max-width:124px;font-size:12px;line-height:24px;color:#c9c9c9;white-space:nowrap;text-overflow:ellipsis}\\n.os_mac .box_chextra .tit_chextra{top:17px}\\n.os_mac .box_chextra .emph_extra{top:17px}\\n.os_mac .box_chextra .tit_item{bottom:30px}\\n.os_mac .box_chextra .origin_item{bottom:5px}\\n.box_chextra .tit_banner{overflow:hidden;position:absolute;left:14px;right:14px;bottom:15px;font-weight:normal;font-size:11px;color:#fff;text-decoration:underline;text-align:center;white-space:nowrap;text-overflow:ellipsis}\\n.box_chextra .page_pctop{top:15px;right:15px;bottom:auto}\\n.box_chextra .page_pctop .btn_page{width:16px;height:16px;line-height:16px;background-position:-60px -170px}\\n.box_chextra .page_pctop .btn_next{width:15px;background-position:-76px -170px}\\n.list_chbest li{position:relative;width:154px;height:159px}\\n.list_chbest .thumb_g{z-index:0}\\n.list_chbest .link_chbest{position:absolute;top:0;left:0;width:154px;height:120px}\\n.list_chbest .tit_chbest{overflow:hidden;position:absolute;left:14px;right:14px;bottom:0;max-height:36px;font-weight:normal;font-size:13px;line-height:18px;color:#fff;word-break:keep-all;word-wrap:break-word}\\n.list_chbest .tit_chbest:hover{text-decoration:underline}\\n.list_chbest .link_channel{overflow:hidden;position:absolute;left:0;bottom:0;max-width:124px;height:25px;padding:2px 14px 10px;font-size:11px;line-height:23px;color:#c9c9c9;white-space:nowrap;text-overflow:ellipsis}\\n.list_chbest .thumb_channel{float:left;position:relative;margin:5px 6px 0 0}\\n.os_mac .list_chbest .link_channel{padding:4px 14px 8px}\\n.os_mac .list_chbest .thumb_channel{margin-top:3px}\\n.box_infobnr{float:left;margin:0 0 15px 13px}\\n.box_infobnr .link_item{display:block;overflow:hidden;position:relative}\\n.box_infobnr .link_item:hover{color:#222}\\n.box_infobnr .thumb_g{z-index:-1;width:154px;height:154px;background-color:#fff}\\n.box_infobnr .frame_g{width:152px;height:152px}\\n.box_infobnr .cont_item{overflow:hidden;position:absolute;top:8px;left:13px;right:7px}\\n.box_infobnr .tit_item{display:inline-block;overflow:hidden;max-width:120px;padding-right:8px;font-weight:bold;background-position:100% 7px;white-space:nowrap;text-overflow:ellipsis;vertical-align:top}\\n.box_infobnr .txt_info{display:block;overflow:hidden;margin-top:2px;white-space:nowrap;text-overflow:ellipsis}\\n.box_infobnr .origin_item{display:block;overflow:hidden;margin-top:2px;font-size:12px;line-height:16px;color:#888;white-space:nowrap;text-overflow:ellipsis}\\n.os_mac .box_infobnr .cont_item{top:11px}\\n.os_mac .box_infobnr .tit_item{background-position:100% 4px}\\n.wrap_together .box_infobnr .thumb_g{height:159px}\\n.wrap_together .box_infobnr .frame_g{height:157px}\\n.group_recomm{overflow:hidden;width:670px;clear:both}\\n.group_recomm .box_story{float:left;width:295px;height:157px;margin-right:13px;padding:0 12px}\\n.group_recomm .box_best{width:629px;margin:0}\\n.box_best .list_ranking{margin-top:7px}\\n.box_best .list_ranking li{float:left;width:295px;padding:0 0 3px 13px}\\n.box_best .link_ranking .txt_ranking{width:270px}\\n.box_best .link_ranking .num_pctop{margin-top:2px}\\n.box_best .list_ranking .best_img{width:148px;height:108px;margin:2px 12px 0 0;padding:0}\\n.best_img .link_ranking{position:relative;width:148px;height:108px;}\\n.best_img .thumb_g{width:148px;height:108px;}\\n.best_img .frame_g{width:146px;height:106px;}\\n.best_img .cont_item{position:absolute;top:0;left:0;width:148px;height:108px;background:url(//t1.daumcdn.net/daumtop_deco/images/top/2017/bg_plate9.png) no-repeat 0 100%}\\n.best_img .cont_item .num_pctop{position:absolute;top:0;left:0;margin:0}\\n.best_img .cont_item .txt_ranking{position:absolute;right:12px;bottom:10px;left:11px;width:auto;color:#fff;white-space:normal}\\n.os_mac .box_best .list_ranking .num_pctop, .os_mac .box_best .list_ranking .best_img{margin-top:0}\\n.os_mac .best_img .cont_item .txt_ranking{bottom:8px;left:12px}\\n.box_recomm .list_recomm{overflow:hidden;width:321px;margin-top:11px}\\n.box_recomm .list_recomm li{float:left;width:140px;height:30px;margin:0 16px 7px 0}\\n.box_recomm .list_recomm .link_recomm{display:inline-block;overflow:hidden;max-width:100%;line-height:30px;white-space:nowrap;text-overflow:ellipsis}\\n.box_recomm .list_recomm .thumb_recomm{float:left;width:30px;height:30px;margin-right:6px;vertical-align:top}\\n.box_recomm .list_recomm .thumb_recomm .img_thumb{border-radius:30px}\\n.os_mac .box_recomm .list_recomm{margin-top:9px}\\n.wrap_together .box_best{width:295px;margin:0}\\n.wrap_together .box_best .list_ranking li{padding:0 0 3px 0}\\n.wrap_together .box_best .list_ranking .num_pctop{margin-top:2px}\\n.os_mac .wrap_together .box_best .list_ranking .num_pctop{margin-top:0}\\n.group_recomm .box_game{margin-right:0}\\n.group_recomm .box_infobnr{height:159px;margin-bottom:0}\\n.group_recomm .box_infobnr .thumb_g{height:159px}\\n.group_recomm .box_infobnr .frame_g{height:157px}\\n.group_recomm .box_infobnr .txt_info{margin:0 0 4px}\\n.box_wtrank{position:relative}\\n.box_wtrank .tit_subject{position:absolute;top:0;left:11px;z-index:1}\\n.list_wtrank{margin-top:13px}\\n.list_wtrank li{margin-bottom:3px}\\n.list_wtrank .fst{overflow:hidden;position:relative;height:62px;margin-bottom:9px;padding-top:20px;border-bottom:1px solid #ececec}\\n.list_wtrank .img_thumb{position:absolute;top:0;right:0;width:auto;height:83px;pointer-events:none}\\n.list_wtrank .link_ranking{display:inline-block;overflow:hidden;line-height:18px;vertical-align:top}\\n.list_wtrank .cont_item{overflow:hidden;width:140px}\\n.list_wtrank .txt_ranking{display:block;overflow:hidden;max-width:200px;white-space:nowrap;text-overflow:ellipsis}\\n.list_wtrank .link_ranking:hover .txt_ranking{color:#118eff;text-decoration:underline}\\n.list_wtrank .cont_item .txt_ranking{max-height:36px;white-space:normal;word-break:keep-all;word-wrap:break-word}\\n.list_wtrank .txt_mark{font-size:12px;color:#888}\\n.list_wtrank .num_pctop{float:left;width:16px;height:16px;margin:3px 7px 0 0;text-indent:-9999px;vertical-align:top}\\n.list_wtrank .num1{background-position:0 0}\\n.list_wtrank .num2{background-position:0 -20px}\\n.list_wtrank .num3{background-position:0 -40px}\\n.os_mac .list_wtrank li{margin-bottom:4px}\\n.os_mac .list_wtrank .fst{height:59px;margin-bottom:9px;padding-top:23px}\\n.os_mac .list_wtrank .num_pctop{margin-top:0}\\n.box_music{padding-left:13px;height:157px}\\n.box_music .head_item{overflow:hidden;padding:7px 0 11px;line-height:18px}\\n.box_music .head_item .tit_subject{margin:0}\\n.box_music .head_item .txt_num{font-family:tahoma,arial,sans-serif;letter-spacing:0}\\n.list_music{overflow:hidden;width:627px}\\n.list_music li{float:left;position:relative;width:70px;margin-right:41px}\\n.list_music li+li{margin-right:42px}\\n.list_music li+li+li{margin-right:41px}\\n.list_music li+li+li+li{margin-right:42px}\\n.list_music li+li+li+li+li{margin-right:41px}\\n.list_music li+li+li+li+li+li{margin-right:0}\\n.list_music .link_item{display:block;width:70px}\\n.list_music .thumb_g{width:70px;height:70px}\\n.list_music .frame_g{width:68px;height:68px}\\n.list_music .cont_item{display:block;padding-top:4px}\\n.list_music .tit_item{display:block;overflow:hidden;margin:0;font-weight:normal;line-height:16px;white-space:nowrap;text-overflow:ellipsis}\\n.list_music .tit_item:hover{color:#118eff;text-decoration:underline}\\n.list_music .origin_item{display:block;overflow:hidden;padding-top:1px;font-size:12px;line-height:18px;color:#888;white-space:nowrap;text-overflow:ellipsis}\\n.list_music .origin_item .link_singer{color:#888}\\n.os_mac .box_music .head_item{padding:10px 0 8px}\\n.os_mac .box_music .head_item .txt_num{font-family:helvetica,arial,sans-serif}\\n.os_mac .list_music .cont_item{padding-top:6px}\\n.wrap_topic{width:990px;margin:0 auto;padding:29px 0 45px}\\n.wrap_topic .tit_photo{display:inline-block;overflow:hidden;height:36px;font-size:16px;line-height:33px;vertical-align:top;pointer-events:none}\\n.wrap_topic .tit_photo a{pointer-events:auto}\\n.wrap_topic .link_photoclip{display:inline-block;padding-right:11px;background-position:100% -242px;white-space:nowrap;vertical-align:top}\\n.wrap_topic .link_phototheme{display:inline-block;margin-right:6px;color:#118eff;vertical-align:top}\\n.view_photo{overflow:hidden;position:relative;width:990px;height:400px;margin-top:20px}\\n.view_photo .list_photo{overflow:hidden;position:absolute;top:0}\\n.view_photo .list_photo li{float:left}\\n.view_photo .box_photo{display:block;overflow:hidden;width:682px;height:400px;background-color:#333;text-decoration:none;text-align:center}\\n.view_photo .box_photo .img_thumb{display:inline}\\n.view_photo .detail_photo{display:none;position:absolute;top:0;left:50%;width:682px;margin-left:-341px;padding-top:330px}\\n.view_photo .detail_photo .frame_g{width:680px;height:398px}\\n.view_photo .link_photo{display:block;overflow:hidden;position:relative;height:70px;background:url(//t1.daumcdn.net/daumtop_deco/images/top/2017/bg_plate_slide.png) 0 0 no-repeat}\\n.view_photo .link_photo:hover{text-decoration:none}\\n.view_photo .link_photo .ico_photo{position:absolute;top:18px;right:20px;width:17px;height:15px;background-position:-160px -60px;text-indent:-9999px}\\n.view_photo .link_photo .tit_gallery{overflow:hidden;margin:14px 57px 0 20px;font-weight:normal;font-size:14px;color:#f4f4f4;text-decoration:none;white-space:nowrap;text-overflow:ellipsis}\\n.view_photo .link_photo .desc_source{display:block;padding:1px 0 0 20px;font-size:11px;color:#fff;opacity:0.6;filter:alpha(opacity=60)}\\n.view_photo .link_photo .txt_source{margin-right:10px}\\n.view_photo .link_photo .txt_date{font-family:Helvetica,tahoma,sans-serif}\\n.view_photo .btn_preview{overflow:hidden;position:absolute;top:0;width:152px;height:400px;background:url(//t1.daumcdn.net/daumtop_deco/images/top/2017/bg_plate_slide2.png) 0 0 no-repeat;text-decoration:none;cursor:pointer}\\n.view_photo .btn_preview .frame_g{width:150px;height:398px}\\n.view_photo .btn_preview .ico_pctop{position:absolute;top:170px;width:60px;height:60px;text-indent:-9999px}\\n.view_photo .btn_prev{left:0;border-right:2px solid #fff}\\n.view_photo .btn_prev .ico_pctop{left:0;background-position:-190px -60px}\\n.view_photo .btn_next{right:0;border-left:2px solid #fff}\\n.view_photo .btn_next .ico_pctop{right:0;background-position:-190px -130px}\\n.view_photo .btn_gallery{background-color:#333}\\n.view_photo .txt_gallery{display:none;padding:184px 0 0 71px;line-height:16px;color:#fff}\\n.view_photo .btn_gallery .txt_gallery{display:block}\\n.view_photo .btn_next .txt_gallery{padding-right:71px;padding-left:0;text-align:right}\\n.view_slide{overflow:hidden;position:relative;height:60px;margin-top:20px}\\n.view_slide .list_thumbnail{overflow:hidden}\\n.view_slide .list_thumbnail li{float:left;padding-left:2px}\\n.view_slide .list_thumbnail li.fst{padding-left:0}\\n.view_slide .link_thumb{display:block;position:relative;width:60px;height:60px}\\n.view_slide .link_thumb .frame_g{width:58px;height:58px;cursor:pointer}\\n.view_slide .list_thumbnail .on .frame_g{width:56px;height:56px;border:2px solid #118eff;opacity:1;filter:alpha(opacity=100)}\\n.view_slide .list_thumbnail .on .cover_g{position:absolute;top:0;bottom:0;left:0;right:0;background:#fff;opacity:0.6;filter:alpha(opacity=60)}\\n.view_slide .btn_move{position:absolute;top:0;width:20px;height:60px}\\n.view_slide .btn_prev{left:0}\\n.view_slide .btn_next{right:0}\\n.view_slide .btn_move .ico_pctop{display:block;width:20px;height:20px;margin-top:20px;text-indent:-9999px;cursor:pointer}\\n.view_slide .btn_prev .ico_pctop{background-position:-190px -200px}\\n.view_slide .btn_next .ico_pctop{background-position:-220px -200px}\\n.os_mac .wrap_topic .tit_photo{line-height:39px}\\n.os_mac .view_photo .tit_gallery{margin-top:16px}\\n.os_mac .view_photo .desc_source{padding-top:2px}\\n.os_mac .view_photo .txt_gallery{padding-top:186px}\\n.vphoto_type2 .box_photo{width:990px}\\n.vphoto_type2 .detail_photo{width:990px;margin-left:-495px}\\n.vphoto_type2 .detail_photo .frame_g{width:988px}\\n.vphoto_type2 .link_photo{background-repeat: repeat-x}\\n.vphoto_type2 .btn_preview{top:140px;height:120px;border:0 none;background:none}\\n.vphoto_type2 .btn_preview .frame_g{display:none}\\n.vphoto_type2 .btn_preview .ico_pctop{top:30px}\\n.vphoto_type2 .txt_gallery{padding-top:43px}\\n.view_slide .list_thumbnail2 .link_thumb{width:246px}\\n.view_slide .list_thumbnail2 .link_thumb .frame_g{width:244px}\\n.view_slide .list_thumbnail2 .on .frame_g{width:242px}\\n.view_slide .list_thumbnail3 .link_thumb{overflow:hidden;width:196px}\\n.view_slide .list_thumbnail3 .link_thumb .frame_g{width:194px}\\n.view_slide .list_thumbnail3 .on .frame_g{width:192px}\\n.view_slide .list_thumbnail3 .fst .link_thumb, .view_slide .list_thumbnail3 .lst .link_thumb{width:197px}\\n.view_slide .list_thumbnail3 .fst .link_thumb .frame_g, .view_slide .list_thumbnail3 .lst .link_thumb .frame_g{width:195px}\\n.view_slide .list_thumbnail3 .fst.on .frame_g, .view_slide .list_thumbnail3 .lst.on .frame_g{width:193px}\\n.view_slide .list_thumbnail4 .link_thumb{overflow:hidden;width:163px}\\n.view_slide .list_thumbnail4 .link_thumb .frame_g{width:161px}\\n.view_slide .list_thumbnail4 .on .frame_g{width:159px}\\n.view_slide .list_thumbnail4 .fst .link_thumb, .view_slide .list_thumbnail4 .lst .link_thumb{width:164px}\\n.view_slide .list_thumbnail4 .fst .link_thumb .frame_g, .view_slide .list_thumbnail4 .lst .link_thumb .frame_g{width:162px}\\n.view_slide .list_thumbnail4 .fst.on .frame_g, .view_slide .list_thumbnail4 .lst.on .frame_g{width:160px}\\n.view_slide .list_thumbnail5 .link_thumb{overflow:hidden;width:140px}\\n.view_slide .list_thumbnail5 .link_thumb .frame_g{width:138px}\\n.view_slide .list_thumbnail5 .on .frame_g{width:136px}\\n.view_slide .list_thumbnail5 .fst .link_thumb, .view_slide .list_thumbnail5 .lst .link_thumb{width:139px}\\n.view_slide .list_thumbnail5 .fst .link_thumb .frame_g, .view_slide .list_thumbnail5 .lst .link_thumb .frame_g{width:137px}\\n.view_slide .list_thumbnail5 .fst.on .frame_g, .view_slide .list_thumbnail5 .lst.on .frame_g{width:135px}\\n.view_slide .list_thumbnail6 .link_thumb{overflow:hidden;width:122px}\\n.view_slide .list_thumbnail6 .link_thumb .frame_g{width:120px}\\n.view_slide .list_thumbnail6 .on .frame_g{width:118px}\\n.view_slide .list_thumbnail7 .link_thumb{overflow:hidden;width:108px}\\n.view_slide .list_thumbnail7 .link_thumb .frame_g{width:106px}\\n.view_slide .list_thumbnail7 .on .frame_g{width:104px}\\n.view_slide .list_thumbnail7 .fst .link_thumb, .view_slide .list_thumbnail7 .lst .link_thumb{width:109px}\\n.view_slide .list_thumbnail7 .fst .link_thumb .frame_g, .view_slide .list_thumbnail7 .lst .link_thumb .frame_g{width:107px}\\n.view_slide .list_thumbnail7 .fst.on .frame_g, .view_slide .list_thumbnail7 .lst.on .frame_g{width:105px}\\n.view_slide .list_thumbnail8 .link_thumb{overflow:hidden;width:97px}\\n.view_slide .list_thumbnail8 .link_thumb .frame_g{width:95px}\\n.view_slide .list_thumbnail8 .on .frame_g{width:93px}\\n.view_slide .list_thumbnail8 .fst .link_thumb, .view_slide .list_thumbnail8 .lst .link_thumb{width:98px}\\n.view_slide .list_thumbnail8 .fst .link_thumb .frame_g, .view_slide .list_thumbnail8 .lst .link_thumb .frame_g{width:96px}\\n.view_slide .list_thumbnail8 .fst.on .frame_g, .view_slide .list_thumbnail8 .lst.on .frame_g{width:94px}\\n.os_mac .vphoto_type2 .txt_gallery{padding-top:46px}\\n.topic_spe{position:absolute;top:0;left:50%;width:990px;margin-left:-495px}\\n.topic_spe .link_spe{overflow:hidden;position:absolute;top:0;width:464px;height:610px;font-size:1px;line-height:0;text-align:left;text-indent:-9999px}\\n.topic_spe .link_spe_left{left:-465px}\\n.topic_spe .link_spe_right{right:-465px}\\n.topic_type2{background-position:50% 0}\\n.topic_type2 .headline_photo{overflow:hidden}\\n.topic_type2 .headline_photo .tit_photo{float:left}\\n.topic_type2 .txt_sub1{overflow:hidden;padding:18px 0 2px;font-size:24px;line-height:28px;letter-spacing:-1px;white-space:nowrap;text-overflow:ellipsis;clear:both}\\n.topic_type2 .link_gate1{float:right;overflow:hidden;height:36px;font-size:16px;line-height:33px;color:#fff}\\n.topic_type2 .link_gate1 .ico_arrow{display:inline-block;width:8px;height:12px;margin:0 -2px 0 8px;background-position:-100px -265px}\\n.topic_type2 .txt_sub2{padding:11px 0 1px;font-size:22px;line-height:28px;letter-spacing:-1px;clear:both}\\n.topic_type2 .txt_sub2 .info_subtxt{display:block;overflow:hidden;white-space:nowrap;text-overflow:ellipsis}\\n.topic_type2 .link_gate2{display:inline-block;overflow:hidden;width:auto;height:16px;margin:14px 0 10px;padding:10px 12px 12px 16px;background-color:#222;font-size:14px;line-height:16px;color:#fff;vertical-align:top}\\n.topic_type2 .link_gate2 .ico_arrow{display:inline-block;width:6px;height:10px;margin:4px 0 0 19px;background-position:-110px -265px;vertical-align:top}\\n.os_mac .topic_type2 .txt_sub1{padding-top:22px}\\n.os_mac .topic_type2 .link_gate1{line-height:39px}\\n.os_mac .topic_type2 .txt_sub2{padding-top:16px;padding-bottom:0}\\n.os_mac .topic_type2 .link_gate2{margin-top:10px;padding-top:12px;padding-bottom:10px}\\n.os_mac .topic_type2 .link_gate2 .ico_arrow{margin-top:2px}\\n.topicbg_wing{position:absolute;top:0;right:0;left:0;z-index:-1;min-width:990px;min-height:610px;height:100%}\\n.topicbg_wing .bg_wing{position:absolute;min-width:960px;width:50%;height:100%;background-position:0 0;background-repeat:no-repeat}\\n.topicbg_wing .fr_wing{top:0;left:50%;background-position:100% 0;}\\n.topicbg_wing .fl_wing{bottom:0;left:0;background-position:0 100%}\\n.notice_layer{overflow:hidden;width:100%;border-bottom:1px solid #ecf2f7;background-color:#f4faff}\\n.inner_notice_layer{overflow:hidden;position:relative;width:990px;height:110px;margin:0 auto;background-image:url(//t1.daumcdn.net/daumtop_deco/images/top/2017/notice_start.png);background-repeat:no-repeat}\\n.inner_notice_layer1{background-position:100% 100%}\\n.inner_notice_layer .set_start{float:left;padding-top:29px}\\n.inner_notice_layer .txt_news{display:block;font-weight:normal;font-size:20px}\\n.inner_notice_layer .link_start{overflow:hidden;float:left;margin-top:3px;padding-right:9px;font-size:12px;color:#888;background-position:100% -197px;text-decoration:underline}\\n.inner_notice_layer .btn_close{overflow:hidden;position:absolute;top:36px;right:0;width:20px;height:20px;background-position:-170px -180px;text-indent:-9999px}\\n.os_mac .inner_notice_layer .set_start{padding-top:33px}\\n.os_mac .inner_notice_layer .link_start{margin-top:0}\\n.brower_guide_layer{overflow:hidden;width:100%;border-bottom:1px solid #ededed;background-color:#fffbe6}\\n.inner_browser_layer{overflow:hidden;position:relative;padding:13px 0;width:990px;height:49px;margin:0 auto;box-sizing:border-box}\\n.inner_browser_layer .brower_guide_box{font-size:14px;color:#333}\\n.inner_browser_layer .upgrade_link{color:#1a0dab;text-decoration:underline;font-weight:bold}\\n.inner_browser_layer .ico_alram{overflow:hidden;display:inline-block;margin:1px 7px 0 0;width:20px;height:20px;background-position:0 0;vertical-align:top;text-indent:-9999px}\\n.inner_browser_layer .btn_close{overflow:hidden;position:absolute;top:50%;right:0;margin-top:-5px;width:10px;height:10px;background-position:-30px 0;text-indent:-9999px}\\n.os_mac .inner_browser_layer{padding:16px 0}\\n.os_mac .inner_browser_layer .ico_alram{margin-top:0}\\n.mobileweb_layer{overflow:hidden;width:100%;padding-bottom:29px;border-top:1px solid #ececec;background-color:#f2f2f2;text-align:center}\\n.mobileweb_layer .txt_mobile{margin-top:18px;margin-left:13px;font-size:12px;color:#888}\\n.mobileweb_layer .txt_mobile .ico_info{display:inline-block;width:13px;height:13px;margin:3px 8px 0 0;background-position:-170px -120px;vertical-align:top}\\n.mobileweb_layer .link_mobile{display:block;width:100px;height:30px;margin:12px auto 0;border:1px solid #dadbdd;font-weight:bold;font-size:13px;line-height:28px;color:#222;background-color:#fff}\\n.mobileweb_layer .link_mobile:hover{text-decoration:none}\\n.os_mac .mobileweb_layer .txt_mobile{margin-top:22px;margin-left:-9px}\\n.os_mac .mobileweb_layer .txt_mobile .ico_info{margin:1px 8px 0 0}\\n.os_mac .mobileweb_layer .link_mobile{margin-top:9px;line-height:31px}\\n@media\\nonly screen and (-webkit-min-device-pixel-ratio: 1.5),\\nonly screen and (min-device-pixel-ratio: 1.5),\\nonly screen and (min-resolution: 144dpi),\\nonly screen and (min-resolution: 1.5dppx) {\\n.ico_pctop{background-image:url(//t1.daumcdn.net/daumtop_deco/images/top/2017/rtn/ico_pctop_190618_v2.png);background-size:250px 310px}\\n.ico_vert{background-image:url(//t1.daumcdn.net/daumtop_deco/images/top/2017/rtn/ico_pctop_vert_170724.png);background-size:100px 500px}\\n.txt_pctop{background-image:url(//t1.daumcdn.net/daumtop_deco/images/top/2021/rtn/txt_pctop_210121.png);background-size:600px 480px}\\n.bg_pctop, .login_my{background-image:url(//t1.daumcdn.net/daumtop_deco/images/top/2017/rtn/bg_pctop_190612.png);background-size:610px 490px}\\n.bg_login{background:url(//t1.daumcdn.net/daumtop_deco/images/top/2017/rtn/bg_login_190612.png)0 -230px no-repeat;background-size:300px 420px}\\n.num_pctop{background-image:url(//t1.daumcdn.net/daumtop_deco/images/top/2017/rtn/num_pctop_170405.png);background-size:80px 220px}\\n.inner_notice_layer{background-image:url(//t1.daumcdn.net/daumtop_deco/images/top/2017/rtn/notice_start.png);background-size:300px 110px}\\n.today_base .img_weather{background-image:url(//t1.daumcdn.net/daumtop_deco/images/top/2017/rtn/img_weather_170628.png);background-size:300px 460px}\\n.img_keyboard{background-image:url(//t1.daumcdn.net/daumtop_deco/images/top/2017/rtn/img_keyboard_171229.png);background-size:30px 160px}\\n.keyboard_layer .kor_basic .btn_keyboard{background-image:url(//t1.daumcdn.net/daumtop_deco/images/top/2017/rtn/img_kor_171226.png);background-size:431px 166px}\\n.keyboard_layer .kor_basic .btn_keyboard:hover,.keyboard_layer .kor_basic .btn_keyboard:active{background-image:url(//t1.daumcdn.net/daumtop_deco/images/top/2017/rtn/img_kor_hover_171226.png);background-size:431px 166px}\\n.keyboard_layer .kor_shift .btn_keyboard{background-image:url(//t1.daumcdn.net/daumtop_deco/images/top/2017/rtn/img_kor_shift_171229.png);background-size:431px 166px}\\n.keyboard_layer .kor_shift .btn_keyboard:hover,.keyboard_layer .kor_shift .btn_keyboard:active{background-image:url(//t1.daumcdn.net/daumtop_deco/images/top/2017/rtn/img_kor_shift_hover_171229.png);background-size:431px 166px}\\n.keyboard_layer .eng_basic .btn_keyboard{background-image:url(//t1.daumcdn.net/daumtop_deco/images/top/2017/rtn/img_eng_171226.png);background-size:431px 166px}\\n.keyboard_layer .eng_basic .btn_keyboard:hover,.keyboard_layer .eng_basic .btn_keyboard:active{background-image:url(//t1.daumcdn.net/daumtop_deco/images/top/2017/rtn/img_eng_hover_180122.png);background-size:431px 166px}\\n.keyboard_layer .eng_shift .btn_keyboard{background-image:url(//t1.daumcdn.net/daumtop_deco/images/top/2017/rtn/img_eng_shift_171226.png);background-size:431px 166px}\\n.keyboard_layer .eng_shift .btn_keyboard:hover,.keyboard_layer .eng_shift .btn_keyboard:active{background-image:url(//t1.daumcdn.net/daumtop_deco/images/top/2017/rtn/img_eng_shift_hover_171226.png);background-size:431px 166px}\\n.login_tmp .ico_pctop{background-image:url(//t1.daumcdn.net/daumtop_deco/images/top/2020/rtn/ico_pctop_login_201103.png);background-size:100px 40px}\\n.login_master .link_user .thumb_profile:after{background-image:url(//t1.daumcdn.net/daumtop_deco/images/top/2017/rtn/bg_profile_190612.png);background-size:45px 45px}\\n.ico_pctop2{background-image:url(//t1.daumcdn.net/daumtop_deco/images/top/2019/rtn/img_pctop_200207.png);background-size:100px 100px}\\n.ico_vert2{background-image:url(//t1.daumcdn.net/daumtop_deco/images/top/2019/rtn/img_pctop_vert_200107.png);background-size:20px 100px}\\n.ico_top_layer{background-image:url(//t1.daumcdn.net/daumtop_deco/images/top/2019/rtn/ico_top_layer.png);background-size:60px 40px}\\n.list_newslive .item_station{background-image:url(//t1.daumcdn.net/daumtop_deco/images/top/2019/rtn/bg_newslive_200107.png);background-size:66px 140px}\\n}\\n.list_hotissue li .roll_txt {\\n-webkit-transition: transform 0s linear;\\n-moz-transition: transform 0s linear;\\n-ms-transition: transform 0s linear;\\n-o-transition: transform 0s linear;\\ntransition: transform 0s linear;\\n-webkit-transform: translateY(0);\\n-moz-transform: translateY(0);\\n-ms-transform: translateY(0);\\n-o-transform: translateY(0);\\ntransform: translateY(0);\\n}\\n.list_hotissue li.current .roll_txt {\\n-webkit-transform: translateY(-20px);\\n-moz-transform: translateY(-20px);\\n-ms-transform: translateY(-20px);\\n-o-transform: translateY(-20px);\\ntransform: translateY(-20px);\\n-webkit-transition: transform .3s ease-out;\\n-moz-transition: transform .3s ease-out;\\n-ms-transition: transform .3s ease-out;\\n-o-transition: transform .3s ease-out;\\ntransition: transform .3s ease-out;\\n}\\n.hotissue_mini .list_hotissue li.current .roll_txt {\\n-webkit-transform: translateY(0px);\\n-moz-transform: translateY(0px);\\n-ms-transform: translateY(0px);\\n-o-transform: translateY(0px);\\ntransform: translateY(0px);\\n-webkit-transition: initial !important;\\n-moz-transition: initial !important;\\n-ms-transition: initial !important;\\n-o-transition: initial !important;\\ntransition: initial !important;\\n}\\n.hotissue_mini .list_hotissue li {\\n-webkit-transition: transform .3s ease-out;\\n-moz-transition: transform .3s ease-out;\\n-ms-transition: transform .3s ease-out;\\n-o-transition: transform .3s ease-out;\\ntransition: transform .3s ease-out;\\n}\\n.hotissue_mini .list_hotissue li {\\nposition:absolute;\\nbackground-color:#fff;\\n-webkit-transform: translateY(-28px);\\n-moz-transform: translateY(-28px);\\n-ms-transform: translateY(-28px);\\n-o-transform: translateY(-28px);\\ntransform: translateY(-28px);\\n}\\n.hotissue_mini .list_hotissue li.current {\\nopacity:1;\\n-webkit-transform: translateY(0px);\\n-moz-transform: translateY(0px);\\n-ms-transform: translateY(0px);\\n-o-transform: translateY(0px);\\ntransform: translateY(0px);\\n}\\n.hotissue_mini .list_hotissue li.next {\\nopacity:0;\\n-webkit-transform: translateY(28px);\\n-moz-transform: translateY(28px);\\n-ms-transform: translateY(28px);\\n-o-transform: translateY(28px);\\ntransform: translateY(28px);\\n}\\n#cEtc .view_slide .list_thumbnail{width:1858px}\\n#cEtc .view_slide .list_thumbnail[class^=\"list_thumbnail\"]{width:990px}\\n#cEtc .list_photo{\\n-webkit-transition: transform .3s ease;\\n-moz-transition: transform .3s ease;\\n-ms-transition: transform .3s ease;\\n-o-transition: transform .3s ease;\\ntransition: transform .3s ease;\\n-webkit-transform: translateX(0);\\n-moz-transform: translateX(0);\\n-ms-transform: translateX(0);\\n-o-transform: translateX(0);\\ntransform: translateX(0);\\n}</style>\\n<script type=\"text/javascript\">\\n//<![CDATA[\\ndocument.domain = \\'daum.net\\';\\nvar gvConfGen = \\'g0\\';\\nvar DT = DT || {};\\nDT.SystemTime = 1625796056257;\\n\\nTiaraTracker.getInstance()\\n.setSvcDomain(\\'www.daum.net\\')\\n.setSection(\\'HOME\\')\\n.setPage(\\'default\\')\\n.trackPage(\\'다음_PC탑\\')\\n.setAutoClick(true)\\n.track();\\nDT.endTime = new Date().getTime();\\nDT.startTime = new Date().getTime();\\n(function () {\\nif (document.location.toString().indexOf(\\'debug\\') === -1) {\\nwindow.onerror = function (errorMsg, url, lineNumber) {\\nreturn true;\\n};\\n}\\n})();\\ndocument.onkeydown = function () {\\nDT.userAction = true;\\n};\\ndocument.onclick = function () {\\nDT.userAction = true;\\n};\\n//]]>\\n</script>\\n<script charset=\"utf-8\" src=\"//t1.daumcdn.net/kas/static/na.min.js?ver=20200512\"></script>\\n</head>\\n<body>\\n<div id=\"daumIndex\" class=\"d_index\">\\n<a rel=\"bookmark\" href=\"#mainServiceTitle\" class=\"shortcut_g\" tabindex=\"12\">\\n<span class=\"ico_vert inner_shortcut\">주요 서비스 바로가기</span>\\n</a>\\n<a rel=\"bookmark\" href=\"#todayInfoTitle\" class=\"shortcut_g\" tabindex=\"12\">\\n<span class=\"ico_vert inner_shortcut\">오늘의 정보 바로가기</span>\\n</a>\\n<a rel=\"bookmark\" href=\"#mediaTitle\" class=\"shortcut_g\" tabindex=\"12\">\\n<span class=\"ico_vert inner_shortcut\">미디어 바로가기</span>\\n</a>\\n<a rel=\"bookmark\" href=\"#liveIssueTitle\" class=\"shortcut_g\" tabindex=\"12\">\\n<span class=\"ico_vert inner_shortcut\">실시간 이슈 바로가기</span>\\n</a>\\n<a rel=\"bookmark\" href=\"#multiMediaTitle\" class=\"shortcut_g\" tabindex=\"12\">\\n<span class=\"ico_vert inner_shortcut\">멀티미디어 바로가기</span>\\n</a>\\n<a rel=\"bookmark\" href=\"#blogTitle\" class=\"shortcut_g\" tabindex=\"12\">\\n<span class=\"ico_vert inner_shortcut\">블로그 정보 바로가기</span>\\n</a>\\n<a rel=\"bookmark\" href=\"#storyTitle\" class=\"shortcut_g\" tabindex=\"12\">\\n<span class=\"ico_vert inner_shortcut\">유익한 정보 바로가기</span>\\n</a>\\n<a rel=\"bookmark\" href=\"#shoppingTitle\" class=\"shortcut_g\" tabindex=\"12\">\\n<span class=\"ico_vert inner_shortcut\">쇼핑 바로가기</span>\\n</a>\\n<a rel=\"bookmark\" href=\"#photoClipTitle\" class=\"shortcut_g\" tabindex=\"12\">\\n<span class=\"ico_vert inner_shortcut\">오늘의 포토&amp;영상 바로가기</span>\\n</a>\\n<a id=\"topAccessibility\" href=\"/doc/top_accessibility.html\" class=\"shortcut_g\" tabindex=\"12\">\\n<span class=\"ico_vert inner_shortcut\">웹 접근성 안내</span>\\n</a>\\n<a id=\"topAdAccessibility\" href=\"/doc/top_accessibility.html#ad\" class=\"shortcut_g\" tabindex=\"12\">\\n<span class=\"ico_vert inner_shortcut\">자동실행 광고 설정</span>\\n</a>\\n</div>\\n<div id=\"daumWrap\">\\n<header id=\"daumHead\" class=\"head_daum\">\\n<div class=\"d_head\">\\n<div class=\"inner_head\">\\n<h1 class=\"tit_daum\">\\n<a rel=\"home\" href=\"https://www.daum.net/\" class=\"link_daum\" data-tiara-action-name=\"로고\" data-tiara-layer=\"logosearch logo\">\\n<img src=\"https://t1.daumcdn.net/daumtop_chanel/op/20200723055344399.png\" width=\"180\" height=\"94\" id=\"daum\" class=\"img_thumb\" alt=\"Daum\">\\n</a>\\n</h1>\\n<div class=\"wrap_search\" id=\"wrapSearch\" data-tiara-layer=\"logosearch\">\\n<h2 class=\"screen_out\">검색</h2>\\n<form id=\"daumSearch\" name=\"daumSearch\" class=\"d_sch\" method=\"get\" accept-charset=\"utf-8\" action=\"//search.daum.net/search\" role=\"search\">\\n<input type=\"hidden\" value=\"tot\" name=\"w\"/>\\n<input type=\"hidden\" value=\"YZR\" name=\"DA\" id=\"searchparam\"/>\\n<input type=\"hidden\" value=\"btn\" name=\"t__nil_searchbox\" id=\"searchbox\"/>\\n<input type=\"hidden\" name=\"sug\" id=\"sug\"/>\\n<input type=\"hidden\" name=\"sugo\" id=\"sugo\"/>\\n<input type=\"hidden\" name=\"sq\" id=\"sq\" />\\n<input type=\"hidden\" name=\"o\" id=\"o\" />\\n<fieldset>\\n<legend class=\"screen_out\">통합 검색</legend>\\n<div class=\"box_search\" data-tiara-layer=\"searchbox\">\\n<div class=\"inner_search\">\\n<input type=\"text\" id=\"q\" name=\"q\" data-tiara-action-name=\"검색창\" data-tiara-layer=\"searchbox\" class=\"tf_keyword\" title=\"검색어 입력\" autocomplete=\"off\" spellcheck=\"false\" autocorrect=\"off\" autocapitalize=\"off\" size=\"55\" tabindex=\"1\"/>\\n<button type=\"button\" class=\"img_keyboard btn_key\" style=\"display:none\" tabindex=\"2\" data-tiara-action-name=\"검색창_키보드\" data-tiara-layer=\"keyboard\"\\nonclick=\"DT.VirtualKeyboard.call();return false;\">\\n<span class=\"ir_wa\">한글입력기</span>\\n</button>\\n<button type=\"submit\" class=\"ico_pctop btn_search\" tabindex=\"2\" data-tiara-action-name=\"검색창_검색버튼\" data-tiara-layer=\"search_btn\">\\n<span class=\"ir_wa\">검색</span>\\n</button>\\n</div>\\n</div>\\n</fieldset>\\n</form>\\n<div id=\"VKILayout\" class=\"keyboard_layer\" style=\"display:none;\"></div>\\n<div id=\"daumSuggestWrap\">\\n<div class=\"suggestBox box_sub\" id=\"daumSuggestBox\"></div>\\n</div>\\n\\n<h3 class=\"screen_out\">인기 검색어</h3>\\n<div class=\"slide_favorsch\" data-tiara-layer=\"hot_issue\">\\n<ul class=\"list_favorsch hide\" data-tiara-layer=\"txt\" data-tiara-action-name=\"검색창_하단_인기검색어\">\\n<li>\\n<a href=\"https://search.daum.net/search?w=tot&amp;q=%EC%BD%94%EB%A1%9C%EB%82%9819+%EB%B0%9C%EC%83%9D%ED%98%84%ED%99%A9&amp;DA=NPI\" class=\"link_favorsch @6\">코로나19 발생현황</a>\\n</li>\\n<li>\\n<a href=\"https://search.daum.net/search?w=tot&amp;q=%ED%82%B9%EB%8D%A4+%EC%9E%90%EA%B0%80%EA%B2%A9%EB%A6%AC&amp;DA=NPI&amp;rtmaxcoll=NNS\" class=\"link_favorsch @7\">킹덤 자가격리</a>\\n</li>\\n<li>\\n<a href=\"https://search.daum.net/search?w=tot&amp;q=%EC%B1%85%EA%BD%82%EC%9D%B4&amp;DA=NPT\" class=\"link_favorsch @8\">책꽂이추천</a>\\n</li>\\n<li>\\n<a href=\"https://search.daum.net/search?w=tot&amp;q=%EB%B0%95%EC%A7%84%EC%A3%BC+%EC%BA%90%EC%8A%A4%ED%8C%85&amp;DA=NPI&amp;rtmaxcoll=NNS\" class=\"link_favorsch @9\">박진주 캐스팅</a>\\n</li>\\n<li>\\n<a href=\"https://search.daum.net/search?w=tot&amp;q=%EA%B0%9C%EC%97%85%ED%99%94%EB%B6%84%EB%B0%B0%EB%8B%AC&amp;DA=NPT\" class=\"link_favorsch @10\">개업화분배달</a>\\n</li>\\n</ul>\\n<ul class=\"list_favorsch \" data-tiara-layer=\"txt\" data-tiara-action-name=\"검색창_하단_인기검색어\">\\n<li>\\n<a href=\"https://search.daum.net/search?w=tot&amp;q=%EC%82%AC%ED%9A%8C%EC%A0%81+%EA%B1%B0%EB%A6%AC%EB%91%90%EA%B8%B0&amp;DA=NPI\" class=\"link_favorsch @6\">사회적 거리두기</a>\\n</li>\\n<li>\\n<a href=\"https://search.daum.net/search?w=tot&amp;q=%EA%B0%9C%EB%AF%B8%EB%8A%94%EB%9A%A0%EB%9A%A0+4&amp;DA=NPI\" class=\"link_favorsch @7\">주식투자 서바이벌</a>\\n</li>\\n<li>\\n<a href=\"https://search.daum.net/search?w=tot&amp;q=%EB%A6%AC%EC%8A%A4%EC%B0%A8%EB%9F%89%EA%B0%80%EA%B2%A9&amp;DA=NPT\" class=\"link_favorsch @8\">리스차량가격</a>\\n</li>\\n<li>\\n<a href=\"https://search.daum.net/search?w=tot&amp;q=JYP+%EC%83%88%EA%B1%B8%EA%B7%B8%EB%A3%B9&amp;DA=NPI&amp;rtmaxcoll=NNS\" class=\"link_favorsch @9\">JYP 새걸그룹</a>\\n</li>\\n<li>\\n<a href=\"https://search.daum.net/search?w=tot&amp;q=%EC%8B%9C%EC%8A%A4%ED%85%9C%EC%97%90%EC%96%B4%EC%BB%A8%EC%B2%AD%EC%86%8C&amp;DA=NPT\" class=\"link_favorsch @10\">시스템에어컨청소</a>\\n</li>\\n</ul>\\n<ul class=\"list_favorsch hide\" data-tiara-layer=\"txt\" data-tiara-action-name=\"검색창_하단_인기검색어\">\\n<li>\\n<a href=\"https://search.daum.net/search?w=tot&amp;q=%EA%B3%A0%EC%9A%B0%EB%A6%AC+%EB%A9%98%ED%83%88%EB%A6%AC%EC%8A%A4%ED%8A%B8&amp;DA=NPI&amp;rtmaxcoll=NNS\" class=\"link_favorsch @6\">고우리 멘탈리스트</a>\\n</li>\\n<li>\\n<a href=\"https://search.daum.net/search?w=tot&amp;q=%EC%9D%B4%EC%98%81%EC%95%A0+%EA%B8%B0%EB%B6%80&amp;DA=NPI&amp;rtmaxcoll=NNS\" class=\"link_favorsch @7\">이영애 기부</a>\\n</li>\\n<li>\\n<a href=\"https://search.daum.net/search?w=tot&amp;q=%EB%B9%85%EC%82%AC%EC%9D%B4%EC%A6%88%EC%97%AC%EC%84%B1%EA%B3%A8%ED%94%84%EC%9B%A8%EC%96%B4&amp;DA=NPT\" class=\"link_favorsch @8\">여성골프웨어큰옷</a>\\n</li>\\n<li>\\n<a href=\"https://search.daum.net/search?w=tot&amp;q=%EC%8B%B1%EC%96%B4%EA%B2%8C%EC%9D%B8+%EC%B7%A8%EC%86%8C&amp;DA=NPI&amp;rtmaxcoll=NNS\" class=\"link_favorsch @9\">싱어게인 취소</a>\\n</li>\\n<li>\\n<a href=\"https://search.daum.net/search?w=tot&amp;q=%EC%97%90%EC%96%B4%EC%BB%A4%ED%8A%BC&amp;DA=NPT\" class=\"link_favorsch @10\">에어커튼</a>\\n</li>\\n</ul>\\n</div>\\n<div class=\"page_pctop\" data-tiara-layer=\"hot_issue\">\\n<button type=\"button\" class=\"ico_pctop btn_page\" data-tiara-action-name=\"검색창_하단_인기검색어_이전 버튼\" data-tiara-layer=\"preBtn\"><span class=\"ir_wa\">&lt;이전</span></button>\\n<button type=\"button\" class=\"ico_pctop btn_page btn_next\" data-tiara-action-name=\"검색창_하단_인기검색어_다음 버튼\" data-tiara-layer=\"nextBtn\"><span class=\"ir_wa\">&gt;다음</span></button>\\n</div>\\n</div>\\n<a href=\"https://focus.daum.net/daum/help/startpage.html\" data-tiara-action-name=\"시작페이지 설정 레이어_설정하기 버튼 클릭\" data-tiara-layer=\"start_setting_layer install\" id=\"homePage\" class=\"ico_vert link_launch\">다음을 시작페이지로</a>\\n</div>\\n</div>\\n<div class=\"d_service\">\\n<div class=\"inner_service\">\\n<div id=\"gnbServiceList\" class=\"menu_service\" data-tiara-layer=\"gnb\">\\n<h2 id=\"mainServiceTitle\" class=\"screen_out\">주요 서비스</h2>\\n<ul class=\"list_mainsvc\" data-tiara-layer=\"svc\">\\n<li><a href=\"http://cafe.daum.net/\" class=\"txt_pctop link_cafe\" data-tiara-layer=\"cafe\" data-tiara-action-name=\"GNB_서비스_카페\"><span class=\"ir_wa\">카페</span></a></li>\\n<li><a href=\"https://mail.daum.net/\" class=\"txt_pctop link_mail\" data-tiara-layer=\"mail\" data-tiara-action-name=\"GNB_서비스_메일\"><span class=\"ir_wa\">메일</span></a></li>\\n<li><a href=\"https://news.daum.net/\" class=\"txt_pctop link_news\" data-tiara-layer=\"news\" data-tiara-action-name=\"GNB_서비스_뉴스\"><span class=\"ir_wa\">뉴스</span></a></li>\\n<li><a href=\"https://map.kakao.com/\" class=\"txt_pctop link_map\" target=\"_blank\" data-tiara-layer=\"map\" data-tiara-action-name=\"GNB_서비스_지도\"><span class=\"ir_wa\">지도</span></a></li>\\n<li><a href=\"https://finance.daum.net/\" class=\"txt_pctop link_stock\" data-tiara-layer=\"stock\" data-tiara-action-name=\"GNB_서비스_증권\"><span class=\"ir_wa\">증권</span></a></li>\\n<li><a href=\"https://shoppinghow.kakao.com/top\" class=\"txt_pctop link_shopping\" target=\"_blank\" data-tiara-layer=\"shopping\" data-tiara-action-name=\"GNB_서비스_쇼핑\"><span class=\"ir_wa\">쇼핑</span></a></li>\\n<li><a href=\"https://tv.kakao.com\" class=\"txt_pctop link_kakaotv\" target=\"_blank\" data-tiara-layer=\"kakaotv\" data-tiara-action-name=\"GNB_서비스_카카오TV\"><span class=\"ir_wa\">카카오TV</span></a></li>\\n<li><a href=\"http://webtoon.daum.net/\" class=\"txt_pctop link_webtoon\" data-tiara-layer=\"webtoon\" data-tiara-action-name=\"GNB_서비스_웹툰\"><span class=\"ir_wa\">웹툰</span></a></li>\\n<li><a href=\"https://blog.daum.net/\" class=\"txt_pctop link_blog\" data-tiara-layer=\"blog\" data-tiara-action-name=\"GNB_서비스_블로그\"><span class=\"ir_wa\">블로그</span></a></li>\\n<li><a href=\"https://brunch.co.kr\" class=\"txt_pctop link_brunch\" target=\"_blank\" data-tiara-layer=\"brunch\" data-tiara-action-name=\"GNB_서비스_브런치\"><span class=\"ir_wa brunch\">브런치</span></a></li>\\n<li><a href=\"https://dic.daum.net/\" class=\"txt_pctop link_dic\" data-tiara-layer=\"dic\" data-tiara-action-name=\"GNB_서비스_사전\"><span class=\"ir_wa\">사전</span></a></li>\\n<li><a href=\"https://game.daum.net\" class=\"txt_pctop link_game\" data-tiara-layer=\"game\" data-tiara-action-name=\"GNB_서비스_게임\"><span class=\"ir_wa\">게임</span></a></li>\\n<li><a href=\"https://together.kakao.com\" class=\"txt_pctop link_together\" target=\"_blank\" data-tiara-layer=\"together\" data-tiara-action-name=\"GNB_서비스_같이가치\"><span class=\"ir_wa\">같이가치</span></a></li>\\n</ul>\\n<a href=\"javascript:;\" aria-expanded=\"false\" id=\"gnbServiceListOpenBtn\" class=\"txt_pctop link_more\" data-tiara-action-name=\"GNB_서비스_더보기\" data-tiara-layer=\"gnb svc more\">\\n<span class=\"screen_out\">주요서비스</span>\\n<span class=\"ir_wa\">더보기 ⋁</span>\\n</a>\\n<div class=\"service_layer\" data-tiara-layer=\"svc_layer\">\\n<h2 class=\"screen_out\">전체 서비스</h2>\\n<div class=\"layer_body\">\\n<div class=\"coll_svc fst\">\\n<dl class=\"sort_service \">\\n<dt>커뮤니케이션</dt>\\n<dd><a href=\"https://mail.daum.net\" data-tiara-layer=\"mail\" data-tiara-action-name=\"GNB_서비스_더보기 레이어_서비스 클릭\" class=\"link_svc\" >메일</a></dd>\\n<dd><a href=\"http://cafe.daum.net\" data-tiara-layer=\"cafe\" data-tiara-action-name=\"GNB_서비스_더보기 레이어_서비스 클릭\" class=\"link_svc\" >카페</a></dd>\\n<dd><a href=\"http://blog.daum.net\" data-tiara-layer=\"blog\" data-tiara-action-name=\"GNB_서비스_더보기 레이어_서비스 클릭\" class=\"link_svc\" >블로그</a></dd>\\n<dd><a href=\"https://www.tistory.com\" data-tiara-layer=\"tistory\" data-tiara-action-name=\"GNB_서비스_더보기 레이어_서비스 클릭\" class=\"link_svc\" >티스토리</a></dd>\\n<dd><a href=\"https://brunch.co.kr\" data-tiara-layer=\"brunch\" data-tiara-action-name=\"GNB_서비스_더보기 레이어_서비스 클릭\" class=\"link_svc\" >브런치</a></dd>\\n<dd><a href=\"https://agit.io/\" data-tiara-layer=\"agit\" data-tiara-action-name=\"GNB_서비스_더보기 레이어_서비스 클릭\" class=\"link_svc\" >아지트</a></dd>\\n<dd><a href=\"https://story.kakao.com/s/login\" data-tiara-layer=\"kakaostory\" data-tiara-action-name=\"GNB_서비스_더보기 레이어_서비스 클릭\" class=\"link_svc\" >카카오스토리</a></dd>\\n</dl>\\n</div>\\n<div class=\"coll_svc \">\\n<dl class=\"sort_service \">\\n<dt>미디어</dt>\\n<dd><a href=\"https://news.daum.net/?nil_profile=mini&amp;nil_src=news\" data-tiara-layer=\"media\" data-tiara-action-name=\"GNB_서비스_더보기 레이어_서비스 클릭\" class=\"link_svc\" >뉴스</a></dd>\\n<dd><a href=\"https://sports.daum.net/\" data-tiara-layer=\"sports\" data-tiara-action-name=\"GNB_서비스_더보기 레이어_서비스 클릭\" class=\"link_svc\" >스포츠</a></dd>\\n<dd><a href=\"https://entertain.daum.net/\" data-tiara-layer=\"entertain\" data-tiara-action-name=\"GNB_서비스_더보기 레이어_서비스 클릭\" class=\"link_svc\" >연예</a></dd>\\n</dl>\\n</div>\\n<div class=\"coll_svc \">\\n<dl class=\"sort_service \">\\n<dt>쇼핑/생활</dt>\\n<dd><a href=\"https://shoppinghow.kakao.com/top\" data-tiara-layer=\"shopping\" data-tiara-action-name=\"GNB_서비스_더보기 레이어_서비스 클릭\" class=\"link_svc\" target=\"_blank\" >쇼핑하우</a></dd>\\n<dd><a href=\"https://finance.daum.net\" data-tiara-layer=\"financ\" data-tiara-action-name=\"GNB_서비스_더보기 레이어_서비스 클릭\" class=\"link_svc\" >금융</a></dd>\\n<dd><a href=\"https://realty.daum.net/?nil_profile=mini&amp;nil_src=realestate\" data-tiara-layer=\"realestate\" data-tiara-action-name=\"GNB_서비스_더보기 레이어_서비스 클릭\" class=\"link_svc\" >부동산</a></dd>\\n<dd><a href=\"https://auto.daum.net\" data-tiara-layer=\"auto\" data-tiara-action-name=\"GNB_서비스_더보기 레이어_서비스 클릭\" class=\"link_svc\" >자동차</a></dd>\\n<dd><a href=\"https://hairshop.kakao.com \" data-tiara-layer=\"auto\" data-tiara-action-name=\"GNB_서비스_더보기 레이어_서비스 클릭\" class=\"link_svc\" target=\"_blank\" >카카오헤어샵</a></dd>\\n</dl>\\n</div>\\n<div class=\"coll_svc \">\\n<dl class=\"sort_service sort_type2\">\\n<dt>문화/엔터</dt>\\n<dd><a href=\"https://www.melon.com/index.htm?ref=W10204\" data-tiara-layer=\"melon\" data-tiara-action-name=\"GNB_서비스_더보기 레이어_서비스 클릭\" class=\"link_svc\" >멜론</a></dd>\\n<dd><a href=\"https://movie.daum.net/main \" data-tiara-layer=\"movie\" data-tiara-action-name=\"GNB_서비스_더보기 레이어_서비스 클릭\" class=\"link_svc\" >영화</a></dd>\\n<dd><a href=\"http://webtoon.daum.net\" data-tiara-layer=\"webtoon\" data-tiara-action-name=\"GNB_서비스_더보기 레이어_서비스 클릭\" class=\"link_svc\" >다음웹툰</a></dd>\\n<dd><a href=\"https://tv.kakao.com/top\" data-tiara-layer=\"kakaotv\" data-tiara-action-name=\"GNB_서비스_더보기 레이어_서비스 클릭\" class=\"link_svc\" target=\"_blank\" >카카오TV</a></dd>\\n</dl>\\n<dl class=\"sort_service \">\\n<dt>소셜임팩트</dt>\\n<dd><a href=\"https://together.kakao.com\" data-tiara-layer=\"together\" data-tiara-action-name=\"GNB_서비스_더보기 레이어_서비스 클릭\" class=\"link_svc\" >같이가치</a></dd>\\n<dd><a href=\"https://makers.kakao.com/\" data-tiara-layer=\"makers\" data-tiara-action-name=\"GNB_서비스_더보기 레이어_서비스 클릭\" class=\"link_svc\" >메이커스</a></dd>\\n<dd><a href=\"https://project100.kakao.com/\" data-tiara-layer=\"project100\" data-tiara-action-name=\"GNB_서비스_더보기 레이어_서비스 클릭\" class=\"link_svc\" >프로젝트100</a></dd>\\n</dl>\\n</div>\\n<div class=\"coll_svc \">\\n<dl class=\"sort_service sort_type2\">\\n<dt>사전/지식</dt>\\n<dd><a href=\"https://dic.daum.net\" data-tiara-layer=\"dic\" data-tiara-action-name=\"GNB_서비스_더보기 레이어_서비스 클릭\" class=\"link_svc\" >어학사전</a></dd>\\n<dd><a href=\"https://translate.kakao.com\" data-tiara-layer=\"dic\" data-tiara-action-name=\"GNB_서비스_더보기 레이어_서비스 클릭\" class=\"link_svc\" >번역</a></dd>\\n<dd><a href=\"https://wordbook.daum.net\" data-tiara-layer=\"wordbook\" data-tiara-action-name=\"GNB_서비스_더보기 레이어_서비스 클릭\" class=\"link_svc\" >단어장</a></dd>\\n<dd><a href=\"https://100.daum.net\" data-tiara-layer=\"100\" data-tiara-action-name=\"GNB_서비스_더보기 레이어_서비스 클릭\" class=\"link_svc\" >백과사전</a></dd>\\n</dl>\\n<dl class=\"sort_service \">\\n<dt class=\"ico_vert tit_split\">\\n<a href=\"https://game.daum.net/\" class=\"link_titsvc\" data-tiara-action-name=\"GNB_서비스_더보기 레이어_서비스 클릭\" data-tiara-layer=\"#game\">게임</a>\\n</dt>\\n<dd><a href=\"https://pubg.game.daum.net/\" data-tiara-layer=\"battlegrounds\" data-tiara-action-name=\"GNB_서비스_더보기 레이어_서비스 클릭\" class=\"link_svc\" >배틀그라운드</a></dd>\\n<dd><a href=\"https://pathofexile.game.daum.net\" data-tiara-layer=\"pathofexile\" data-tiara-action-name=\"GNB_서비스_더보기 레이어_서비스 클릭\" class=\"link_svc\" >패스 오브 엑자일</a></dd>\\n</dl>\\n</div>\\n<div class=\"coll_svc \">\\n<dl class=\"sort_service sort_type2\">\\n<dt>지도</dt>\\n<dd><a href=\"https://map.kakao.com/\" data-tiara-layer=\"map\" data-tiara-action-name=\"GNB_서비스_더보기 레이어_서비스 클릭\" class=\"link_svc\" >검색</a></dd>\\n<dd><a href=\"https://map.kakao.com/index.jsp?target=car\" data-tiara-layer=\"car\" data-tiara-action-name=\"GNB_서비스_더보기 레이어_서비스 클릭\" class=\"link_svc\" >길찾기</a></dd>\\n<dd><a href=\"https://map.kakao.com/?panoid=1024043871&amp;pan=327.5&amp;tilt=-4.5&amp;zoom=0&amp;map_type=TYPE_SKYVIEW&amp;map_hybrid=true&amp;map_attribute=ROADVIEW&amp;urlX=494966&amp;urlY=1132203&amp;urlLevel=4\" data-tiara-layer=\"roadview\" data-tiara-action-name=\"GNB_서비스_더보기 레이어_서비스 클릭\" class=\"link_svc\" >로드뷰</a></dd>\\n<dd><a href=\"https://map.kakao.com/index.jsp?target=traffic&amp;opt=2&amp;nil_profile=g\" data-tiara-layer=\"bus\" data-tiara-action-name=\"GNB_서비스_더보기 레이어_서비스 클릭\" class=\"link_svc\" >버스정보</a></dd>\\n<dd><a href=\"https://map.kakao.com/index.jsp?REGION=01&amp;STARTNAME=&amp;ENDNAME=&amp;OPTION=1&amp;URLLINK=true&amp;target=subway\" data-tiara-layer=\"subway\" data-tiara-action-name=\"GNB_서비스_더보기 레이어_서비스 클릭\" class=\"link_svc\" >지하철노선도</a></dd>\\n</dl>\\n<dl class=\"sort_service \">\\n<dt class=\"ico_vert tit_split\">\\n<a href=\"https://www.kakaocorp.com/\" class=\"link_titsvc\" data-tiara-action-name=\"GNB_서비스_더보기 레이어_서비스 클릭\" data-tiara-layer=\"#kakaocorp\">카카오 소식</a>\\n</dt>\\n<dd><a href=\"https://kakao.ai/\" data-tiara-layer=\"kakaoblog\" data-tiara-action-name=\"GNB_서비스_더보기 레이어_서비스 클릭\" class=\"link_svc\" >카카오 AI</a></dd>\\n</dl>\\n</div>\\n</div>\\n<div class=\"layer_foot\">\\n<a href=\"sitemap/index.html\" target=\"_blank\" class=\"ico_vert link_total\" data-tiara-action-name=\"GNB_서비스_더보기 레이어_서비스 전체보기\" data-tiara-layer=\"more\">서비스 전체보기</a>\\n<button id=\"gnbServiceListCloseBtn\" type=\"button\" class=\"btn_close\" data-tiara-action-name=\"GNB_서비스_더보기 레이어_닫기\" data-tiara-layer=\"close\"><span class=\"screen_out\">더보기 메뉴</span>닫기</button>\\n</div>\\n</div>\\n</div>\\n<div class=\"today_base\">\\n<h2 id=\"todayInfoTitle\" class=\"screen_out\" tabindex=\"0\">오늘의 정보</h2><div class=\"comp_base\" data-tiara-layer=\"weather\">\\n<div class=\"info_today\">\\n<strong class=\"date_today\">07. 09. (금)</strong>\\n<a id=\"minitoday\" href=\"javascript:void(0);\" onClick=\"return false;\" class=\"link_weather\" data-tiara-action-name=\"날씨 롤링_클릭\" data-tiara-layer=\"weather layer_open\">\\n<ul class=\"list_weather\">\\n<li class=\"\">\\n<span class=\"screen_out\">날씨</span>\\n<span class=\"txt_part\">서울시</span>\\n<strong class=\"ico_ws ico_wm03\">구름많음</strong>\\n<em class=\"screen_out\">영상 26도</em>\\n<span class=\"txt_temper\" aria-hidden=\"true\">26</span><span class=\"img_weather ico_degree\" aria-hidden=\"true\"><span class=\"ir_wa\">°C</span></span>\\n</li>\\n<li class=\"hide\">\\n<span class=\"screen_out\">날씨</span>\\n<span class=\"txt_part\">경기도</span>\\n<strong class=\"ico_ws ico_wm03\">구름많음</strong>\\n<em class=\"screen_out\">영상 27도</em>\\n<span class=\"txt_temper\" aria-hidden=\"true\">27</span><span class=\"img_weather ico_degree\" aria-hidden=\"true\"><span class=\"ir_wa\">°C</span></span>\\n</li>\\n<li class=\"hide\">\\n<span class=\"screen_out\">날씨</span>\\n<span class=\"txt_part\">인천시</span>\\n<strong class=\"ico_ws ico_wm04\">흐림</strong>\\n<em class=\"screen_out\">영상 27도</em>\\n<span class=\"txt_temper\" aria-hidden=\"true\">27</span><span class=\"img_weather ico_degree\" aria-hidden=\"true\"><span class=\"ir_wa\">°C</span></span>\\n</li>\\n<li class=\"hide\">\\n<span class=\"screen_out\">날씨</span>\\n<span class=\"txt_part\">대구시</span>\\n<strong class=\"ico_ws ico_wm09\">비</strong>\\n<em class=\"screen_out\">영상 24도</em>\\n<span class=\"txt_temper\" aria-hidden=\"true\">24</span><span class=\"img_weather ico_degree\" aria-hidden=\"true\"><span class=\"ir_wa\">°C</span></span>\\n</li>\\n<li class=\"hide\">\\n<span class=\"screen_out\">날씨</span>\\n<span class=\"txt_part\">대전시</span>\\n<strong class=\"ico_ws ico_wm03\">구름많음</strong>\\n<em class=\"screen_out\">영상 26도</em>\\n<span class=\"txt_temper\" aria-hidden=\"true\">26</span><span class=\"img_weather ico_degree\" aria-hidden=\"true\"><span class=\"ir_wa\">°C</span></span>\\n</li>\\n<li class=\"hide\">\\n<span class=\"screen_out\">날씨</span>\\n<span class=\"txt_part\">광주시</span>\\n<strong class=\"ico_ws ico_wm04\">흐림</strong>\\n<em class=\"screen_out\">영상 27도</em>\\n<span class=\"txt_temper\" aria-hidden=\"true\">27</span><span class=\"img_weather ico_degree\" aria-hidden=\"true\"><span class=\"ir_wa\">°C</span></span>\\n</li>\\n<li class=\"hide\">\\n<span class=\"screen_out\">날씨</span>\\n<span class=\"txt_part\">부산시</span>\\n<strong class=\"ico_ws ico_wm04\">흐림</strong>\\n<em class=\"screen_out\">영상 25도</em>\\n<span class=\"txt_temper\" aria-hidden=\"true\">25</span><span class=\"img_weather ico_degree\" aria-hidden=\"true\"><span class=\"ir_wa\">°C</span></span>\\n</li>\\n<li class=\"hide\">\\n<span class=\"screen_out\">날씨</span>\\n<span class=\"txt_part\">울산시</span>\\n<strong class=\"ico_ws ico_wm04\">흐림</strong>\\n<em class=\"screen_out\">영상 23도</em>\\n<span class=\"txt_temper\" aria-hidden=\"true\">23</span><span class=\"img_weather ico_degree\" aria-hidden=\"true\"><span class=\"ir_wa\">°C</span></span>\\n</li>\\n<li class=\"hide\">\\n<span class=\"screen_out\">날씨</span>\\n<span class=\"txt_part\">경상북도</span>\\n<strong class=\"ico_ws ico_wm04\">흐림</strong>\\n<em class=\"screen_out\">영상 22도</em>\\n<span class=\"txt_temper\" aria-hidden=\"true\">22</span><span class=\"img_weather ico_degree\" aria-hidden=\"true\"><span class=\"ir_wa\">°C</span></span>\\n</li>\\n<li class=\"hide\">\\n<span class=\"screen_out\">날씨</span>\\n<span class=\"txt_part\">강원도</span>\\n<strong class=\"ico_ws ico_wm04\">흐림</strong>\\n<em class=\"screen_out\">영상 26도</em>\\n<span class=\"txt_temper\" aria-hidden=\"true\">26</span><span class=\"img_weather ico_degree\" aria-hidden=\"true\"><span class=\"ir_wa\">°C</span></span>\\n</li>\\n<li class=\"hide\">\\n<span class=\"screen_out\">날씨</span>\\n<span class=\"txt_part\">강원도</span>\\n<strong class=\"ico_ws ico_wm04\">흐림</strong>\\n<em class=\"screen_out\">영상 27도</em>\\n<span class=\"txt_temper\" aria-hidden=\"true\">27</span><span class=\"img_weather ico_degree\" aria-hidden=\"true\"><span class=\"ir_wa\">°C</span></span>\\n</li>\\n<li class=\"hide\">\\n<span class=\"screen_out\">날씨</span>\\n<span class=\"txt_part\">인천시</span>\\n<strong class=\"ico_ws ico_wm03\">구름많음</strong>\\n<em class=\"screen_out\">영상 24도</em>\\n<span class=\"txt_temper\" aria-hidden=\"true\">24</span><span class=\"img_weather ico_degree\" aria-hidden=\"true\"><span class=\"ir_wa\">°C</span></span>\\n</li>\\n<li class=\"hide\">\\n<span class=\"screen_out\">날씨</span>\\n<span class=\"txt_part\">충청북도</span>\\n<strong class=\"ico_ws ico_wm03\">구름많음</strong>\\n<em class=\"screen_out\">영상 25도</em>\\n<span class=\"txt_temper\" aria-hidden=\"true\">25</span><span class=\"img_weather ico_degree\" aria-hidden=\"true\"><span class=\"ir_wa\">°C</span></span>\\n</li>\\n<li class=\"hide\">\\n<span class=\"screen_out\">날씨</span>\\n<span class=\"txt_part\">전라북도</span>\\n<strong class=\"ico_ws ico_wm03\">구름많음</strong>\\n<em class=\"screen_out\">영상 27도</em>\\n<span class=\"txt_temper\" aria-hidden=\"true\">27</span><span class=\"img_weather ico_degree\" aria-hidden=\"true\"><span class=\"ir_wa\">°C</span></span>\\n</li>\\n<li class=\"hide\">\\n<span class=\"screen_out\">날씨</span>\\n<span class=\"txt_part\">전라남도</span>\\n<strong class=\"ico_ws ico_wm04\">흐림</strong>\\n<em class=\"screen_out\">영상 26도</em>\\n<span class=\"txt_temper\" aria-hidden=\"true\">26</span><span class=\"img_weather ico_degree\" aria-hidden=\"true\"><span class=\"ir_wa\">°C</span></span>\\n</li>\\n<li class=\"hide\">\\n<span class=\"screen_out\">날씨</span>\\n<span class=\"txt_part\">전라남도</span>\\n<strong class=\"ico_ws ico_wm04\">흐림</strong>\\n<em class=\"screen_out\">영상 26도</em>\\n<span class=\"txt_temper\" aria-hidden=\"true\">26</span><span class=\"img_weather ico_degree\" aria-hidden=\"true\"><span class=\"ir_wa\">°C</span></span>\\n</li>\\n<li class=\"hide\">\\n<span class=\"screen_out\">날씨</span>\\n<span class=\"txt_part\">제주자치도</span>\\n<strong class=\"ico_ws ico_wm03\">구름많음</strong>\\n<em class=\"screen_out\">영상 29도</em>\\n<span class=\"txt_temper\" aria-hidden=\"true\">29</span><span class=\"img_weather ico_degree\" aria-hidden=\"true\"><span class=\"ir_wa\">°C</span></span>\\n</li>\\n<li class=\"hide\">\\n<span class=\"screen_out\">날씨</span>\\n<span class=\"txt_part\">경상북도</span>\\n<strong class=\"ico_ws ico_wm04\">흐림</strong>\\n<em class=\"screen_out\">영상 24도</em>\\n<span class=\"txt_temper\" aria-hidden=\"true\">24</span><span class=\"img_weather ico_degree\" aria-hidden=\"true\"><span class=\"ir_wa\">°C</span></span>\\n</li>\\n<li class=\"hide\">\\n<span class=\"screen_out\">날씨</span>\\n<span class=\"txt_part\">경상남도</span>\\n<strong class=\"ico_ws ico_wm04\">흐림</strong>\\n<em class=\"screen_out\">영상 27도</em>\\n<span class=\"txt_temper\" aria-hidden=\"true\">27</span><span class=\"img_weather ico_degree\" aria-hidden=\"true\"><span class=\"ir_wa\">°C</span></span>\\n</li>\\n</ul>\\n<span class=\"img_weather ico_more\">\\n<span class=\"screen_out\">날씨정보</span>\\n<span id=\"weatherMoreText\" class=\"ir_wa\"><span aria-hidden=\"true\">&#8897;</span> 펼치기</span>\\n</span>\\n</a>\\n</div>\\n<div id=\"minitodayLayer\" class=\"today_layer\">\\n<div class=\"layer_body\">\\n<div class=\"weather_part\">\\n<strong class=\"screen_out\">현재 지역 날씨</strong>\\n<a href=\"//search.daum.net/search?w=tot&q=날씨&DA=TMN\" class=\"link_weather\" data-tiara-action-name=\"날씨 레이어_날씨 정보_클릭\" data-tiara-layer=\"layer_weather\">\\n<span class=\"txt_place todayWeatherRegion\"></span>\\n<strong class=\"todayWeatherIcon hide\"></strong>\\n<span class=\"info_temper\">\\n<em class=\"screen_out todayWeatherDesc\"></em>\\n<span class=\"img_weather ico_minus todayWeatherMinus hide\"></span>\\n<span class=\"img_weather todayWeatherTens hide\"></span>\\n<span class=\"img_weather num0 todayWeatherOnes\"></span>\\n<span class=\"img_weather ico_degree\"></span>\\n</span>\\n<span id=\"weatherGapTemp\" class=\"state_desc\">\\n<span class=\"txt_desc\">어제보다</span>\\n<span class=\"txt_temper\"></span><span class=\"img_weather ico_degree\"><span class=\"ir_wa\">°C</span></span>\\n<span class=\"txt_desc\"></span>\\n</span>\\n<span class=\"screen_out\">날씨 상세보기</span>\\n</a>\\n</div>\\n</div>\\n<div class=\"layer_foot\">\\n<a href=\"//search.daum.net/search?w=tot&q=미세먼지&DA=TMO\" class=\"link_state\" data-tiara-action-name=\"날씨 레이어_미세먼지 정보_클릭\" data-tiara-layer=\"layer_finedust\">\\n<dl class=\"info_wm info_dust\">\\n<dt><span class=\"img_weather ico_dust\"></span><span class=\"txt_state\">미세먼지</span></dt>\\n<dd id=\"weatherFineDust\" class=\"\"></dd>\\n</dl>\\n</a>\\n<a href=\"//search.daum.net/search?w=tot&q=통합대기&DA=TMO\" class=\"link_state\" data-tiara-action-name=\"날씨 레이어_통합대기 정보_클릭\" data-tiara-layer=\"layer_totalair\">\\n<dl class=\"info_wm info_air\">\\n<dt><span class=\"img_weather ico_air\"></span><span class=\"txt_state\">통합대기</span></dt>\\n<dd id=\"weatherCombineAir\" class=\"\"></dd>\\n</dl>\\n</a>\\n<button id=\"minitodayLayerClose\" type=\"button\" class=\"ico_pctop btn_close\" data-tiara-action-name=\"날씨 레이어_닫기\" data-tiara-layer=\"layer_close\"><span class=\"ir_wa\"><span aria-hidden=\"true\">X</span> 날씨정보 닫기</span></button>\\n</div>\\n</div>\\n</div>\\n</div>\\n</div>\\n</div>\\n</header>\\n<div id=\"tierContWrap\" class=\"wrap_tiercont\"></div>\\n<div id=\"adLeft\" class=\"wrap_tiercont\" style=\"z-index:auto\">\\n<div class=\"na_adfit_wing\" style=\"overflow:hidden;height:1px;background-repeat:no-repeat;z-index:auto;\">\\n</div></div>\\n<hr class=\"hide\">\\n<main id=\"daumContent\">\\n<div id=\"cMain\" class=\"cont_main\">\\n<article id=\"mArticle\" class=\"wrap_main\">\\n<div class=\"feature_tmp\">\\n<div id=\"adMain\" class=\"advert_tmp\">\\n<ins class=\"kakao_ad_area\" style=\"display: inline-block;\"\\ndata-ad-type=\"P\"\\ndata-ad-frame-id=\"adCgiMain\"\\ndata-ad-frame-name=\"adCgiMain\"\\ndata-ad-unit=\"DAN-1k1zi6towzodw\"\\ndata-ad-width=\"655\"\\ndata-ad-height=\"120\"></ins>\\n<script type=\"text/javascript\" charset=\"utf-8\" src=\"//t1.daumcdn.net/kas/static/ba.min.js\"></script>\\n</div>\\n<div class=\"bg_login login_tmp\" data-tiara-layer=\"loginbox\">\\n<h2 id=\"loginInfoTitle\" class=\"screen_out\" tabindex=\"0\">로그인 정보</h2>\\n<div id=\"inner_login\" class=\"inner_login\" data-tiara-layer=\"logout\">\\n<a href=\"https://logins.daum.net/accounts/dsso.do?url=https%3A%2F%2Fwww.daum.net%2F\" class=\"link_login\" data-tiara-action-name=\"로그인박스_다음아이디로 로그인_클릭\" data-tiara-layer=\"daumid\"><span class=\"ico_pctop ico_daum\"></span>Daum 아이디로 로그인</a>\\n<a href=\"https://logins.daum.net/accounts/ksso.do?url=https%3A%2F%2Fwww.daum.net%2F\" class=\"link_login link_kakaoid\" data-tiara-action-name=\"로그인박스_카카오계정으로 로그인_클릭\" data-tiara-layer=\"kakakoaccount\"><span class=\"ico_pctop ico_kakao\"></span>카카오계정으로 로그인</a>\\n<a href=\"https://accounts.kakao.com/qr_login?moveToQr=true&staySignedIn=false&continue=https%3A%2F%2Flogins.daum.net%2Faccounts%2Fksso.do%3Frescue%3Dtrue%26url%3Dhttps%253A%252F%252Fwww.daum.net%252F%253Ffromdac%253Dtop_qr_login\" data-tiara-layer=\"qrcodelogin\" data-tiara-action-name=\"로그인박스_QR코드_로그인_클릭\" class=\"link_qr\"><span class=\"ico_pctop ico_qr\"></span>카카오 QR코드 로그인</a>\\n<a href=\"https://accounts.kakao.com/weblogin/create_account?continue=https%3A%2F%2Fwww.daum.net\" class=\"link_join\" data-tiara-action-name=\"로그인박스_회원가입_클릭\" data-tiara-layer=\"join\">회원가입</a>\\n</div>\\n</div>\\n</div>\\n<div class=\"cmain_tmp\">\\n<div class=\"section_media\">\\n<h2 id=\"mediaTitle\" class=\"screen_out\">미디어</h2>\\n<div id=\"mediaTab\" data-tab=\"news\" class=\"panel_bloc news_on\">\\n<h3 id=\"newsTab\" class=\"tit_tabcont tit_news\" data-tiara-layer=\"newsbox title\"><a href=\"https://news.daum.net/\" class=\"txt_pctop link_tit\" data-tiara-layer=\"news\" data-tiara-action-name=\"뉴스박스_타이틀_뉴스\"><span class=\"ir_wa\">뉴스</span></a></h3>\\n<div class=\"page_tabcont\" data-tiara-action-name=\"뉴스박스_타이틀_뉴스_포인트 아이콘\" data-tiara-layer=\"newsbox title news_point\">\\n<strong class=\"screen_out\">선택됨 뉴스 1탭</strong><span class=\"ico_pctop btn_page on\"></span>\\n<span class=\"ico_pctop btn_page\"></span><span class=\"ico_pctop btn_page\"></span>\\n</div>\\n<div id=\"news\" class=\"wrap_tabcont wrap_news\" data-tiara-layer=\"newsbox_news\">\\n\\n<div class=\"news_prime news_tab1\" data-tiara-layer=\"newsbox_news1\">\\n<div class=\"group_news\">\\n<div class=\"box_sector\">\\n<ul class=\"list_thumb\">\\n<li>\\n<a href=\"https://v.daum.net/v/20210709095648511\"\\ndata-tiara-imp_id=\"fallback_top\"\\ndata-tiara-action-kind=\"ClickContent\"\\ndata-tiara-id=\"hamny-20210709095648511\"\\ndata-tiara-layer=\"newsbox_news1 img\"\\ndata-tiara-action-name=\"뉴스1탭_이미지소재\"\\ndata-tiara-ordnum=\"1\"\\ndata-tiara-custom=\"imp_id=fallback_top&c_id=hamny-20210709095648511&contentUniqueKey=hamny-20210709095648511\"\\ndata-tiara-type=\"11\"\\ndata-tiara-name=\"하모니\"\\ndata-tiara-provider=\"연합뉴스\"\\ndata-pool-code=\"p_news_img\"\\ndata-toros-ord-num=\"1\"\\ndata-imp-score=\"0.0923953926\"\\nclass=\"link_item @1-1\">\\n<span class=\"thumb_g\">\\n<img src=\"//img2.daumcdn.net/thumb/S308x188a/?fname=https://t1.daumcdn.net/news/202107/09/yonhap/20210709095648885lkvh.jpg\" width=\"154\" height=\"94\" class=\"img_thumb\" alt=\"\">\\n<span class=\"frame_g\"></span>\\n</span>\\n<div class=\"cont_item\">\\n<strong class=\"tit_item\">인도네시아 코로나 사망자 폭증에..[사진 톡톡]</strong>\\n</div>\\n</a>\\n</li>\\n<li>\\n<a href=\"https://v.daum.net/v/20210709060102510\"\\ndata-tiara-imp_id=\"fallback_top\"\\ndata-tiara-action-kind=\"ClickContent\"\\ndata-tiara-id=\"hamny-20210709060102510\"\\ndata-tiara-layer=\"newsbox_news1 img\"\\ndata-tiara-action-name=\"뉴스1탭_이미지소재\"\\ndata-tiara-ordnum=\"2\"\\ndata-tiara-custom=\"imp_id=fallback_top&c_id=hamny-20210709060102510&contentUniqueKey=hamny-20210709060102510\"\\ndata-tiara-type=\"11\"\\ndata-tiara-name=\"하모니\"\\ndata-tiara-provider=\"중앙일보\"\\ndata-pool-code=\"p_news_img\"\\ndata-toros-ord-num=\"2\"\\ndata-imp-score=\"0.0878659687\"\\nclass=\"link_item @1-2\">\\n<span class=\"thumb_g\">\\n<img src=\"//img2.daumcdn.net/thumb/S308x188a/?fname=https://t1.daumcdn.net/news/202107/09/joongang/20210709060104089gkve.jpg\" width=\"154\" height=\"94\" class=\"img_thumb\" alt=\"\">\\n<span class=\"frame_g\"></span>\\n</span>\\n<div class=\"cont_item\">\\n<strong class=\"tit_item\">\\'통합 대한항공\\' 새 옷값 대당 10억..비행기 도색 몰랐던 사실 [강갑생의 바퀴와 날개]</strong>\\n</div>\\n</a>\\n</li>\\n<li>\\n<a href=\"https://auto.v.daum.net/v/kfQva7f3dK\"\\ndata-tiara-imp_id=\"fallback_top\"\\ndata-tiara-action-kind=\"ClickContent\"\\ndata-tiara-id=\"hamny-kfQva7f3dK\"\\ndata-tiara-layer=\"newsbox_news1 img leverage\"\\ndata-tiara-action-name=\"뉴스1탭_이미지소재\"\\ndata-tiara-ordnum=\"3\"\\ndata-tiara-custom=\"imp_id=fallback_top&c_id=hamny-kfQva7f3dK&contentUniqueKey=hamny-kfQva7f3dK\"\\ndata-tiara-type=\"11\"\\ndata-tiara-name=\"하모니\"\\ndata-tiara-provider=\"모터매거진\"\\ndata-pool-code=\"p_news_leverage\"\\ndata-toros-ord-num=\"0\"\\ndata-imp-score=\"0.0\"\\nclass=\"link_item @1-1\">\\n<span class=\"thumb_g\">\\n<img src=\"//img2.daumcdn.net/thumb/S308x188a/?fname=https://t1.daumcdn.net/news/202107/09/motormagazine/20210709100303176fipj.jpg\" width=\"154\" height=\"94\" class=\"img_thumb\" alt=\"\">\\n<span class=\"frame_g\"></span>\\n</span>\\n<div class=\"cont_item\">\\n<strong class=\"tit_item\">한때 잘나갔던 자동차들, \\'라떼는 말이야!\\'</strong>\\n</div>\\n</a>\\n</li>\\n<li>\\n<a href=\"https://newslink.media.daum.net/v/420593545\"\\ndata-tiara-imp_id=\"fallback_top\"\\ndata-tiara-action-kind=\"ClickContent\"\\ndata-tiara-id=\"tv-332289419\"\\ndata-tiara-layer=\"newsbox_news1 img leverage\"\\ndata-tiara-action-name=\"뉴스1탭_이미지소재\"\\ndata-tiara-ordnum=\"4\"\\ndata-tiara-custom=\"imp_id=fallback_top&c_id=tv-332289419&contentUniqueKey=tv-332289419\"\\ndata-tiara-type=\"22\"\\ndata-tiara-name=\"카카오TV\"\\ndata-tiara-provider=\"PGA\"\\ndata-pool-code=\"p_news_leverage\"\\ndata-toros-ord-num=\"0\"\\ndata-imp-score=\"0.0\"\\nclass=\"link_item @1-2\">\\n<span class=\"thumb_g\">\\n<img src=\"//img2.daumcdn.net/thumb/S308x188a/?fname=http://img1.daumcdn.net/kakaotv/KAKAOACCOUNT/1119746385/thumb/20210709090746\" width=\"154\" height=\"94\" class=\"img_thumb\" alt=\"\">\\n<span class=\"frame_g\"></span>\\n<span class=\"ico_pctop ico_video\">동영상</span>\\n</span>\\n<div class=\"cont_item\">\\n<strong class=\"tit_item\">이글을 만들 뻔했던 안드레이드 버디로 마무리하며 공동 선두! [US시니어 1R]</strong>\\n</div>\\n</a>\\n</li>\\n<li>\\n<a href=\"https://v.daum.net/v/20210709070251239\"\\ndata-tiara-imp_id=\"fallback_top\"\\ndata-tiara-action-kind=\"ClickContent\"\\ndata-tiara-id=\"hamny-20210709070251239\"\\ndata-tiara-layer=\"newsbox_news1 img investigative\"\\ndata-tiara-action-name=\"뉴스1탭_이미지소재\"\\ndata-tiara-ordnum=\"5\"\\ndata-tiara-custom=\"imp_id=fallback_top&c_id=hamny-20210709070251239&contentUniqueKey=hamny-20210709070251239\"\\ndata-tiara-type=\"11\"\\ndata-tiara-name=\"하모니\"\\ndata-tiara-provider=\"데일리안\"\\ndata-pool-code=\"p_news_investigative\"\\ndata-toros-ord-num=\"0\"\\ndata-imp-score=\"0.0\"\\nclass=\"link_item @1-1\">\\n<span class=\"thumb_g\">\\n<img src=\"//img2.daumcdn.net/thumb/S308x188a/?fname=https://t1.daumcdn.net/news/202107/09/dailian/20210709070253715dcuc.jpg\" width=\"154\" height=\"94\" class=\"img_thumb\" alt=\"\">\\n<span class=\"frame_g\"></span>\\n</span>\\n<div class=\"cont_item\">\\n<strong class=\"tit_item\">지원금만 5차례..갈팡질팡도 다섯 번[정신차려]③</strong>\\n</div>\\n</a>\\n</li>\\n<li>\\n<a href=\"https://v.daum.net/v/20210709031655151\"\\ndata-tiara-imp_id=\"fallback_top\"\\ndata-tiara-action-kind=\"ClickContent\"\\ndata-tiara-id=\"hamny-20210709031655151\"\\ndata-tiara-layer=\"newsbox_news1 img investigative\"\\ndata-tiara-action-name=\"뉴스1탭_이미지소재\"\\ndata-tiara-ordnum=\"6\"\\ndata-tiara-custom=\"imp_id=fallback_top&c_id=hamny-20210709031655151&contentUniqueKey=hamny-20210709031655151\"\\ndata-tiara-type=\"11\"\\ndata-tiara-name=\"하모니\"\\ndata-tiara-provider=\"조선일보\"\\ndata-pool-code=\"p_news_investigative\"\\ndata-toros-ord-num=\"0\"\\ndata-imp-score=\"0.0\"\\nclass=\"link_item @1-2\">\\n<span class=\"thumb_g\">\\n<img src=\"//img2.daumcdn.net/thumb/S308x188a/?fname=https://t1.daumcdn.net/news/202107/09/chosun/20210709031657012ibqq.png\" width=\"154\" height=\"94\" class=\"img_thumb\" alt=\"\">\\n<span class=\"frame_g\"></span>\\n</span>\\n<div class=\"cont_item\">\\n<strong class=\"tit_item\">전기차 배터리, 중국과 兩强체제 구축.. 폐플라스틱 재활용 사업도 덩치 커져</strong>\\n</div>\\n</a>\\n</li>\\n</ul>\\n</div>\\n<h4 class=\"screen_out\">일반뉴스</h4>\\n<ul class=\"list_txt\">\\n<li >\\n<a href=\"https://v.daum.net/v/20210709091004709\" class=\"link_txt \" data-tiara-layer=\"newsbox_news1 txt\" data-tiara-ordnum=\"1\" data-tiara-action-name=\"뉴스1탭_텍스트소재\" data-tiara-action-kind=\"ClickContent\" data-tiara-id=\"hamny-20210709091004709\" data-tiara-imp_id=\"fallback_top\" data-tiara-custom=\"imp_id=fallback_top&c_id=hamny-20210709091004709&contentUniqueKey=hamny-20210709091004709\" data-pool-code=\"p_news_auto_txt\" data-toros-ord-num=\"3\" data-imp-score=\"0.0309914532\" data-tiara-type=\"11\" data-tiara-name=\"하모니\" data-tiara-provider=\"코메디닷컴\">수도권, 12일부터 거리두기 4단계..달라지는 점은?</a>\\n\\n</li>\\n<li >\\n<a href=\"https://v.daum.net/v/20210709103405359\" class=\"link_txt \" data-tiara-layer=\"newsbox_news1 txt\" data-tiara-ordnum=\"2\" data-tiara-action-name=\"뉴스1탭_텍스트소재\" data-tiara-action-kind=\"ClickContent\" data-tiara-id=\"hamny-20210709103405359\" data-tiara-imp_id=\"fallback_top\" data-tiara-custom=\"imp_id=fallback_top&c_id=hamny-20210709103405359&contentUniqueKey=hamny-20210709103405359\" data-pool-code=\"p_news_auto_txt\" data-toros-ord-num=\"4\" data-imp-score=\"0.0192288621\" data-tiara-type=\"11\" data-tiara-name=\"하모니\" data-tiara-provider=\"뉴스1\">국민의힘 32%, 4년9개월 만에 민주당 추월..국정농단 후 최고</a>\\n\\n</li>\\n<li >\\n<a href=\"https://v.daum.net/v/20210709105743357\" class=\"link_txt \" data-tiara-layer=\"newsbox_news1 txt\" data-tiara-ordnum=\"3\" data-tiara-action-name=\"뉴스1탭_텍스트소재\" data-tiara-action-kind=\"ClickContent\" data-tiara-id=\"hamny-20210709105743357\" data-tiara-imp_id=\"fallback_top\" data-tiara-custom=\"imp_id=fallback_top&c_id=hamny-20210709105743357&contentUniqueKey=hamny-20210709105743357\" data-pool-code=\"p_news_auto_txt\" data-toros-ord-num=\"1\" data-imp-score=\"0.0420464335\" data-tiara-type=\"11\" data-tiara-name=\"하모니\" data-tiara-provider=\"연합뉴스\">아이티 \"대통령 암살범 콜롬비아인 26명·미국인 2명 구성\"</a>\\n\\n</li>\\n<li >\\n<a href=\"https://v.daum.net/v/20210709085725086\" class=\"link_txt \" data-tiara-layer=\"newsbox_news1 txt\" data-tiara-ordnum=\"4\" data-tiara-action-name=\"뉴스1탭_텍스트소재\" data-tiara-action-kind=\"ClickContent\" data-tiara-id=\"hamny-20210709085725086\" data-tiara-imp_id=\"fallback_top\" data-tiara-custom=\"imp_id=fallback_top&c_id=hamny-20210709085725086&contentUniqueKey=hamny-20210709085725086\" data-pool-code=\"p_news_auto_txt\" data-toros-ord-num=\"9\" data-imp-score=\"0.0144212792\" data-tiara-type=\"11\" data-tiara-name=\"하모니\" data-tiara-provider=\"뉴스1\">김총리 \"수도권 4단계, 12일부터 2주 시행..백신 접종자 예외없다\"</a>\\n\\n</li>\\n<li >\\n<a href=\"https://v.daum.net/v/20210709094104854\" class=\"link_txt \" data-tiara-layer=\"newsbox_news1 txt\" data-tiara-ordnum=\"5\" data-tiara-action-name=\"뉴스1탭_텍스트소재\" data-tiara-action-kind=\"ClickContent\" data-tiara-id=\"hamny-20210709094104854\" data-tiara-imp_id=\"fallback_top\" data-tiara-custom=\"imp_id=fallback_top&c_id=hamny-20210709094104854&contentUniqueKey=hamny-20210709094104854\" data-pool-code=\"p_news_auto_txt\" data-toros-ord-num=\"5\" data-imp-score=\"0.0174699976\" data-tiara-type=\"11\" data-tiara-name=\"하모니\" data-tiara-provider=\"서울신문\">윤석열, \\'쥴리\\' 의혹에 \"집사람 술 마시고 흥청거리는 것 싫어해\"</a>\\n\\n</li>\\n<li class=\"part_mid\">\\n<a href=\"https://v.daum.net/v/20210709105422220\" class=\"link_txt \" data-tiara-layer=\"newsbox_news1 txt\" data-tiara-ordnum=\"6\" data-tiara-action-name=\"뉴스1탭_텍스트소재\" data-tiara-action-kind=\"ClickContent\" data-tiara-id=\"hamny-20210709105422220\" data-tiara-imp_id=\"fallback_top\" data-tiara-custom=\"imp_id=fallback_top&c_id=hamny-20210709105422220&contentUniqueKey=hamny-20210709105422220\" data-pool-code=\"p_news_auto_txt\" data-toros-ord-num=\"10\" data-imp-score=\"0.013677844\" data-tiara-type=\"11\" data-tiara-name=\"하모니\" data-tiara-provider=\"연합뉴스\">檢 \\'한동훈 독직폭행\\' 정진웅 징역 1년 구형</a>\\n\\n</li>\\n<li >\\n<a href=\"https://v.daum.net/v/20210709105801363\" class=\"link_txt \" data-tiara-layer=\"newsbox_news1 txt\" data-tiara-ordnum=\"7\" data-tiara-action-name=\"뉴스1탭_텍스트소재\" data-tiara-action-kind=\"ClickContent\" data-tiara-id=\"hamny-20210709105801363\" data-tiara-imp_id=\"fallback_top\" data-tiara-custom=\"imp_id=fallback_top&c_id=hamny-20210709105801363&contentUniqueKey=hamny-20210709105801363\" data-pool-code=\"p_news_auto_txt\" data-toros-ord-num=\"2\" data-imp-score=\"0.0385374759\" data-tiara-type=\"11\" data-tiara-name=\"하모니\" data-tiara-provider=\"연합뉴스\">日 한창우·철 문화재단, 한일교류 활동 개인·단체 공모</a>\\n\\n</li>\\n<li >\\n<a href=\"https://v.daum.net/v/20210709105157125\" class=\"link_txt \" data-tiara-layer=\"newsbox_news1 txt\" data-tiara-ordnum=\"8\" data-tiara-action-name=\"뉴스1탭_텍스트소재\" data-tiara-action-kind=\"ClickContent\" data-tiara-id=\"hamny-20210709105157125\" data-tiara-imp_id=\"fallback_top\" data-tiara-custom=\"imp_id=fallback_top&c_id=hamny-20210709105157125&contentUniqueKey=hamny-20210709105157125\" data-pool-code=\"p_news_auto_txt\" data-toros-ord-num=\"7\" data-imp-score=\"0.0147476948\" data-tiara-type=\"11\" data-tiara-name=\"하모니\" data-tiara-provider=\"뉴스1\">尹측, 김건희 논문 공세에 반격..\"이재명·정세균·추미애 논문 입장 내라\"</a>\\n\\n</li>\\n<li >\\n<a href=\"https://v.daum.net/v/20210709103908587\" class=\"link_txt \" data-tiara-layer=\"newsbox_news1 txt\" data-tiara-ordnum=\"9\" data-tiara-action-name=\"뉴스1탭_텍스트소재\" data-tiara-action-kind=\"ClickContent\" data-tiara-id=\"hamny-20210709103908587\" data-tiara-imp_id=\"fallback_top\" data-tiara-custom=\"imp_id=fallback_top&c_id=hamny-20210709103908587&contentUniqueKey=hamny-20210709103908587\" data-pool-code=\"p_news_auto_txt\" data-toros-ord-num=\"11\" data-imp-score=\"0.0131741439\" data-tiara-type=\"11\" data-tiara-name=\"하모니\" data-tiara-provider=\"노컷뉴스\">천정배 전 법무부 장관 \"민주당, 호남이 무조건 밀어줄 거란 생각 버려라\"</a>\\n\\n</li>\\n<li >\\n<a href=\"https://v.daum.net/v/20210709095300346\" class=\"link_txt \" data-tiara-layer=\"newsbox_news1 txt\" data-tiara-ordnum=\"10\" data-tiara-action-name=\"뉴스1탭_텍스트소재\" data-tiara-action-kind=\"ClickContent\" data-tiara-id=\"hamny-20210709095300346\" data-tiara-imp_id=\"fallback_top\" data-tiara-custom=\"imp_id=fallback_top&c_id=hamny-20210709095300346&contentUniqueKey=hamny-20210709095300346\" data-pool-code=\"p_news_auto_txt\" data-toros-ord-num=\"22\" data-imp-score=\"0.0111500452\" data-tiara-type=\"11\" data-tiara-name=\"하모니\" data-tiara-provider=\"연합뉴스\">\"마약단속중!\"..\\'아이티 대통령 피살 당시 영상\\' SNS 공개</a>\\n\\n</li>\\n<li class=\"part_mid\">\\n<a href=\"https://v.daum.net/v/20210709094012830\" class=\"link_txt \" data-tiara-layer=\"newsbox_news1 txt\" data-tiara-ordnum=\"11\" data-tiara-action-name=\"뉴스1탭_텍스트소재\" data-tiara-action-kind=\"ClickContent\" data-tiara-id=\"hamny-20210709094012830\" data-tiara-imp_id=\"fallback_top\" data-tiara-custom=\"imp_id=fallback_top&c_id=hamny-20210709094012830&contentUniqueKey=hamny-20210709094012830\" data-pool-code=\"p_news_auto_txt\" data-toros-ord-num=\"12\" data-imp-score=\"0.0129735978\" data-tiara-type=\"11\" data-tiara-name=\"하모니\" data-tiara-provider=\"경향신문\">\"조국 의혹 쏟아져나올 때..대통령 임명장 잉크도 안 말랐는데 어떻게 하나 고민\"[윤석열 인터뷰]③</a>\\n\\n</li>\\n<li >\\n<a href=\"https://v.daum.net/v/20210709103552426\" class=\"link_txt \" data-tiara-layer=\"newsbox_news1 txt\" data-tiara-ordnum=\"12\" data-tiara-action-name=\"뉴스1탭_텍스트소재\" data-tiara-action-kind=\"ClickContent\" data-tiara-id=\"hamny-20210709103552426\" data-tiara-imp_id=\"fallback_top\" data-tiara-custom=\"imp_id=fallback_top&c_id=hamny-20210709103552426&contentUniqueKey=hamny-20210709103552426\" data-pool-code=\"p_news_auto_txt\" data-toros-ord-num=\"17\" data-imp-score=\"0.0124906394\" data-tiara-type=\"11\" data-tiara-name=\"하모니\" data-tiara-provider=\"동아사이언스\">캐나다 호수 부근서 발견된 다이아몬드가 말했다..\"27억년 전 지구도 살만 했다고\"</a>\\n\\n</li>\\n<li >\\n<a href=\"https://v.daum.net/v/20210709104320743\" class=\"link_txt \" data-tiara-layer=\"newsbox_news1 txt\" data-tiara-ordnum=\"13\" data-tiara-action-name=\"뉴스1탭_텍스트소재\" data-tiara-action-kind=\"ClickContent\" data-tiara-id=\"hamny-20210709104320743\" data-tiara-imp_id=\"fallback_top\" data-tiara-custom=\"imp_id=fallback_top&c_id=hamny-20210709104320743&contentUniqueKey=hamny-20210709104320743\" data-pool-code=\"p_news_auto_txt\" data-toros-ord-num=\"23\" data-imp-score=\"0.010685915\" data-tiara-type=\"11\" data-tiara-name=\"하모니\" data-tiara-provider=\"뉴시스\">\"차라리 전국 셧다운해야\"..존페 위기 카페업계 \\'울분\\'</a>\\n\\n</li>\\n<li >\\n<a href=\"https://v.daum.net/v/20210709082639365\" class=\"link_txt \" data-tiara-layer=\"newsbox_news1 txt\" data-tiara-ordnum=\"14\" data-tiara-action-name=\"뉴스1탭_텍스트소재\" data-tiara-action-kind=\"ClickContent\" data-tiara-id=\"hamny-20210709082639365\" data-tiara-imp_id=\"fallback_top\" data-tiara-custom=\"imp_id=fallback_top&c_id=hamny-20210709082639365&contentUniqueKey=hamny-20210709082639365\" data-pool-code=\"p_news_auto_txt\" data-toros-ord-num=\"15\" data-imp-score=\"0.0125033491\" data-tiara-type=\"11\" data-tiara-name=\"하모니\" data-tiara-provider=\"이데일리\">김부선 \"이재명 파이팅\"..\\'바지 발언\\' 사과에 조소</a>\\n\\n</li>\\n<li >\\n<a href=\"https://v.daum.net/v/20210709092103073\" class=\"link_txt \" data-tiara-layer=\"newsbox_news1 txt\" data-tiara-ordnum=\"15\" data-tiara-action-name=\"뉴스1탭_텍스트소재\" data-tiara-action-kind=\"ClickContent\" data-tiara-id=\"hamny-20210709092103073\" data-tiara-imp_id=\"fallback_top\" data-tiara-custom=\"imp_id=fallback_top&c_id=hamny-20210709092103073&contentUniqueKey=hamny-20210709092103073\" data-pool-code=\"p_news_auto_txt\" data-toros-ord-num=\"32\" data-imp-score=\"0.0098801717\" data-tiara-type=\"11\" data-tiara-name=\"하모니\" data-tiara-provider=\"노컷뉴스\">성일종 \"김건희 논문 논란? 장관하는 것도 아니잖나?\"[뉴스업]</a>\\n\\n</li>\\n</ul>\\n</div>\\n</div>\\n\\n<div class=\"news_flow\" data-tiara-layer=\"newsbox_news1\">\\n<div class=\"unit_home\" data-tiara-layer=\"gate\">\\n<strong class=\"tit_home\"><a href=\"https://news.daum.net/\" class=\"ico_vert link_home\" data-tiara-layer=\"home\" data-tiara-action-name=\"news1탭_게이트영역_게이트클릭\">뉴스홈</a></strong>\\n<ul class=\"list_home\">\\n<li><a href=\"https://news.daum.net/series/\" class=\"link_home\" data-tiara-layer=\"series\" data-tiara-action-name=\"news1탭_게이트영역_게이트클릭\">연재</a></li>\\n<li><a href=\"https://news.daum.net/ranking/popular\" class=\"link_home\" data-tiara-layer=\"ranking\" data-tiara-action-name=\"news1탭_게이트영역_게이트클릭\">랭킹</a></li>\\n<li><a href=\"https://news.daum.net/tv\" class=\"link_home\" data-tiara-layer=\"tv\" data-tiara-action-name=\"news1탭_게이트영역_게이트클릭\">TV</a></li>\\n<li><a href=\"https://news.daum.net/photo/\" class=\"link_home\" data-tiara-layer=\"photo\" data-tiara-action-name=\"news1탭_게이트영역_게이트클릭\">포토</a></li>\\n<li><a href=\"\" class=\"link_home\" data-tiara-layer=\"\" data-tiara-action-name=\"news1탭_게이트영역_게이트클릭\"></a></li>\\n</ul>\\n<ul class=\"list_rgate\">\\n<li><a href=\"https://search.daum.net/search?w=tot&amp;q=%EC%A6%9D%EC%8B%9C&amp;DA=TMZ\" class=\"link_home #stock\" data-tiara-layer=\"stock\" data-tiara-action-name=\"news1탭_게이트영역_게이트클릭\">증시</a></li>\\n<li><a href=\"https://search.daum.net/search?w=tot&amp;q=%ED%99%98%EC%9C%A8&amp;DA=TMZ\" class=\"link_home #exchange\" data-tiara-layer=\"exchange\" data-tiara-action-name=\"news1탭_게이트영역_게이트클릭\">환율</a></li>\\n<li><a href=\"https://search.daum.net/search?w=tot&amp;q=%EC%9A%B4%EC%84%B8&amp;DA=TMZ\" class=\"link_home #fortune\" data-tiara-layer=\"fortune\" data-tiara-action-name=\"news1탭_게이트영역_게이트클릭\">운세</a></li>\\n<li><a href=\"https://search.daum.net/search?w=tot&amp;q=%ED%8E%B8%EC%84%B1%ED%91%9C&amp;DA=TMZ\" class=\"link_home #tv\" data-tiara-layer=\"tv\" data-tiara-action-name=\"news1탭_게이트영역_게이트클릭\">TV편성</a></li>\\n</ul>\\n</div>\\n</div><div class=\"info_special\">\\n<strong class=\"ico_pctop tag_issue2\">ISSUE</strong>\\n<a href=\"https://news.daum.net/covid19\" class=\"link_special\" data-tiara-layer=\"newsbox_news1 right_top_text\" data-tiara-action-name=\"뉴스탭_우상단_텍스트 tag\">&#39;코로나19&#39; 발생 현황</a>\\n</div>\\n\\n</div>\\n<h3 id=\"entertainTab\" class=\"tit_tabcont tit_entertain\" data-tiara-layer=\"newsbox title\"><a href=\"https://entertain.daum.net/\" class=\"txt_pctop link_tit\" data-tiara-layer=\"enter\" data-tiara-action-name=\"뉴스박스_타이틀_연예\"><span class=\"ir_wa\">연예</span></a></h3>\\n<div id=\"entertain\" class=\"wrap_tabcont wrap_entertain\" data-tiara-layer=\"newsbox_enter\">\\n</div>\\n<h3 id=\"sportsTab\" class=\"tit_tabcont tit_sports\" data-tiara-layer=\"newsbox title\"><a href=\"https://sports.daum.net/\" class=\"txt_pctop link_tit\" data-tiara-layer=\"sports\" data-tiara-action-name=\"뉴스박스_타이틀_스포츠\"><span class=\"ir_wa\">스포츠</span></a></h3>\\n<div id=\"sports\" class=\"wrap_tabcont wrap_sports\" data-tiara-layer=\"newsbox_sports\">\\n</div>\\n<h3 id=\"movieTab\" class=\"tit_tabcont tit_movie\" data-tiara-layer=\"newsbox title\"><a href=\"https://movie.daum.net/\" class=\"txt_pctop link_tit\" data-tiara-layer=\"movie\" data-tiara-action-name=\"뉴스박스_타이틀_영화\"><span class=\"ir_wa\">영화</span></a></h3>\\n<div id=\"movie\" class=\"wrap_tabcont wrap_movie\" data-tiara-layer=\"newsbox_movie\">\\n</div>\\n<h3 id=\"autoTab\" class=\"tit_tabcont tit_auto\" data-tiara-layer=\"newsbox title\"><a href=\"https://auto.daum.net/\" class=\"txt_pctop link_tit\" data-tiara-layer=\"auto\" data-tiara-action-name=\"뉴스박스_타이틀_자동차\"><span class=\"ir_wa\">자동차</span></a></h3>\\n<div id=\"auto\" class=\"wrap_tabcont wrap_auto\" data-tiara-layer=\"newsbox_auto\">\\n</div>\\n<h3 id=\"realestateTab\" class=\"tit_tabcont tit_realestate\" data-tiara-layer=\"newsbox title\"><a href=\"https://realty.daum.net/\" class=\"txt_pctop link_tit\" data-tiara-layer=\"real\" data-tiara-action-name=\"뉴스박스_타이틀_부동산\"><span class=\"ir_wa\">부동산</span></a></h3>\\n<div id=\"realestate\" class=\"wrap_tabcont wrap_realestate\" data-tiara-layer=\"newsbox_real\">\\n</div>\\n<div class=\"page_pctop page_btype\" data-tiara-layer=\"newsbox title\">\\n<span class=\"info_page\">\\n<span class=\"screen_out\">현재 탭</span><strong id=\"mediaPageNum\" class=\"num_index\">1</strong><span class=\"txt_slash\">/</span><span class=\"screen_out\">전체 탭</span>8</span>\\n<button id=\"mediaPrevBtn\" type=\"button\" class=\"ico_pctop btn_page\" data-tiara-layer=\"preBtn\" data-tiara-action-name=\"뉴스박스_타이틀_이전 버튼\"><span class=\"ir_wa\"> &lt; 이전 탭</span></button>\\n<button id=\"mediaNextBtn\" type=\"button\" class=\"ico_pctop btn_page btn_next\" data-tiara-layer=\"nextBtn\" data-tiara-action-name=\"뉴스박스_타이틀_다음 버튼\"><span class=\"ir_wa\"> &gt; 다음 탭</span></button>\\n</div>\\n</div>\\n</div>\\n<div id=\"kakaotv\" class=\"section_multi\" style=\"visibility:hidden;\">\\n<h2 id=\"multiMediaTitle\" class=\"screen_out\" tabindex=\"0\">멀티미디어</h2> <div class=\"panel_bloc kakaotv_on \" data-event-enable=\"false\">\\n<h3 class=\"tit_tabcont tit_kakaotv\">\\n<a href=\"https://tv.kakao.com/\" target=\"_blank\" class=\"txt_pctop link_tit\"><span class=\"ir_wa\">카카오 TV</span></a>\\n</h3>\\n<div class=\"wrap_tabcont wrap_kakaotv\">\\n<ul class=\"tab_multi\" role=\"tablist\" data-tiara-layer=\"kakaotv title\">\\n<li data-id=\"0\" class=\"fst \" role=\"tab\" data-tiara-layer=\"1tab\" data-tiara-action-name=\"카카오 tv_타이틀_1탭\">\\n<a href=\"#none\" class=\"link_tit\" title=\"오리지널 콘텐츠\">오리지널 콘텐츠</a>\\n</li>\\n<li data-id=\"1\" class=\"\" role=\"tab\" data-tiara-layer=\"2tab\" data-tiara-action-name=\"카카오 tv_타이틀_2탭\">\\n<a href=\"#none\" class=\"link_tit\" title=\"TV하이라이트\">TV하이라이트</a>\\n</li>\\n<li data-id=\"2\" class=\"\" role=\"tab\" data-tiara-layer=\"3tab\" data-tiara-action-name=\"카카오 tv_타이틀_3탭\">\\n<a href=\"#none\" class=\"link_tit\" title=\"TV 주요장면\">TV 주요장면</a>\\n</li>\\n</ul>\\n<div class=\"cont_multi \"> <h4 class=\"screen_out\">오리지널 콘텐츠</h4> <ul class=\"list_thumb\" data-tiara-layer=\"kakatv_1tab\">\\n<li class=\"fst\">\\n<a href=\"https://tv.kakao.com/v/420550487\" class=\"link_item\" target=\"_blank\" data-tiara-layer=\"img\" data-tiara-action-name=\"카카오 tv_1tab_이미지 소재\" data-tiara-ordnum=\"1\" data-tiara-action-kind=\"ClickContent\">\\n<span class=\"thumb_g\">\\n<img src=\"//t1.daumcdn.net/daumtop_deco/images/op/default.png\" data-src=\" //img2.daumcdn.net/thumb/S308x188/?fname=https://t1.daumcdn.net/daumtop_chanel/tromm/20210708031300121.jpg\" width=\"154\" height=\"94\" class=\"img_thumb\" alt=\"\">\\n<span class=\"frame_g\"></span>\\n<em class=\"ico_label2\">요즘 아이돌</em>\\n<span class=\"ico_pctop ico_video\">동영상</span>\\n</span>\\n<div class=\"cont_item\">\\n<strong class=\"tit_item\">어려운 문제를 이렇게 바로 맞히다니</strong>\\n</div>\\n</a>\\n</li>\\n<li >\\n<a href=\"https://tv.kakao.com/v/420564316\" class=\"link_item\" target=\"_blank\" data-tiara-layer=\"img\" data-tiara-action-name=\"카카오 tv_1tab_이미지 소재\" data-tiara-ordnum=\"2\" data-tiara-action-kind=\"ClickContent\">\\n<span class=\"thumb_g\">\\n<img src=\"//t1.daumcdn.net/daumtop_deco/images/op/default.png\" data-src=\" //img2.daumcdn.net/thumb/S308x188/?fname=https://t1.daumcdn.net/daumtop_chanel/tromm/20210708051658788.jpg\" width=\"154\" height=\"94\" class=\"img_thumb\" alt=\"\">\\n<span class=\"frame_g\"></span>\\n<em class=\"ico_label2\">머선129</em>\\n<span class=\"ico_pctop ico_video\">동영상</span>\\n</span>\\n<div class=\"cont_item\">\\n<strong class=\"tit_item\">딱지를 치는 순간 일어난 일</strong>\\n</div>\\n</a>\\n</li>\\n<li >\\n<a href=\"https://tv.kakao.com/v/420508402\" class=\"link_item\" target=\"_blank\" data-tiara-layer=\"img\" data-tiara-action-name=\"카카오 tv_1tab_이미지 소재\" data-tiara-ordnum=\"3\" data-tiara-action-kind=\"ClickContent\">\\n<span class=\"thumb_g\">\\n<img src=\"//t1.daumcdn.net/daumtop_deco/images/op/default.png\" data-src=\" //img2.daumcdn.net/thumb/S308x188/?fname=https://t1.daumcdn.net/daumtop_chanel/tromm/20210708022906773.jpg\" width=\"154\" height=\"94\" class=\"img_thumb\" alt=\"\">\\n<span class=\"frame_g\"></span>\\n<em class=\"ico_label2\">오늘부터 엔진 ON</em>\\n<span class=\"ico_pctop ico_video\">동영상</span>\\n</span>\\n<div class=\"cont_item\">\\n<strong class=\"tit_item\">자동차 페달로 알게 된 운전 습관</strong>\\n</div>\\n</a>\\n</li>\\n<li >\\n<a href=\"https://tv.kakao.com/v/420564432\" class=\"link_item\" target=\"_blank\" data-tiara-layer=\"img\" data-tiara-action-name=\"카카오 tv_1tab_이미지 소재\" data-tiara-ordnum=\"4\" data-tiara-action-kind=\"ClickContent\">\\n<span class=\"thumb_g\">\\n<img src=\"//t1.daumcdn.net/daumtop_deco/images/op/default.png\" data-src=\" //img2.daumcdn.net/thumb/S308x188/?fname=https://t1.daumcdn.net/daumtop_chanel/tromm/20210709093427672.jpg\" width=\"154\" height=\"94\" class=\"img_thumb\" alt=\"\">\\n<span class=\"frame_g\"></span>\\n<em class=\"ico_label2\">야인이즈백</em>\\n<span class=\"ico_pctop ico_video\">동영상</span>\\n</span>\\n<div class=\"cont_item\">\\n<strong class=\"tit_item\">몰래 엿듣다 분노한 킹두한</strong>\\n</div>\\n</a>\\n</li>\\n</ul>\\n</div>\\n<div class=\"cont_multi hide\"> <h4 class=\"screen_out\">TV하이라이트</h4> <ul class=\"list_thumb\" data-tiara-layer=\"kakatv_2tab\">\\n<li class=\"fst\">\\n<a href=\"http://entertain.daum.net/tv/5163547/video/420548496\" class=\"link_item\" target=\"_blank\" data-tiara-layer=\"img\" data-tiara-action-name=\"카카오 tv_2tab_이미지 소재\" data-tiara-ordnum=\"1\" data-tiara-action-kind=\"ClickContent\">\\n<span class=\"thumb_g\">\\n<img src=\"//t1.daumcdn.net/daumtop_deco/images/op/default.png\" data-src=\" //img2.daumcdn.net/thumb/S308x188/?fname=http://t1.kakaocdn.net/kakaotv/ASSET/warhol_asset/vod_thumbnail/4871a1401adf26a93faaed07c5277494a22249e1\" width=\"154\" height=\"94\" class=\"img_thumb\" alt=\"\">\\n<span class=\"frame_g\"></span>\\n<em class=\"ico_label2\">머선129</em>\\n<span class=\"ico_pctop ico_video\">동영상</span>\\n</span>\\n<div class=\"cont_item\">\\n<strong class=\"tit_item\">14회. 서울우유 VS 강호동, 승리의 여신은 누구...</strong>\\n</div>\\n</a>\\n</li>\\n<li >\\n<a href=\"http://entertain.daum.net/tv/5163548/video/420537643\" class=\"link_item\" target=\"_blank\" data-tiara-layer=\"img\" data-tiara-action-name=\"카카오 tv_2tab_이미지 소재\" data-tiara-ordnum=\"2\" data-tiara-action-kind=\"ClickContent\">\\n<span class=\"thumb_g\">\\n<img src=\"//t1.daumcdn.net/daumtop_deco/images/op/default.png\" data-src=\" //img2.daumcdn.net/thumb/S308x188/?fname=http://t1.kakaocdn.net/kakaotv/ASSET/warhol_asset/vod_thumbnail/25649907cf064937ae7cee02bcb9256c890bd6d1\" width=\"154\" height=\"94\" class=\"img_thumb\" alt=\"\">\\n<span class=\"frame_g\"></span>\\n<em class=\"ico_label2\">야인이즈백</em>\\n<span class=\"ico_pctop ico_video\">동영상</span>\\n</span>\\n<div class=\"cont_item\">\\n<strong class=\"tit_item\">15회. 킹 받은 하야시가 보고 있다</strong>\\n</div>\\n</a>\\n</li>\\n<li >\\n<a href=\"http://entertain.daum.net/tv/5159672/video/420585340\" class=\"link_item\" target=\"_blank\" data-tiara-layer=\"img\" data-tiara-action-name=\"카카오 tv_2tab_이미지 소재\" data-tiara-ordnum=\"3\" data-tiara-action-kind=\"ClickContent\">\\n<span class=\"thumb_g\">\\n<img src=\"//t1.daumcdn.net/daumtop_deco/images/op/default.png\" data-src=\" //img2.daumcdn.net/thumb/S308x188/?fname=http://t1.daumcdn.net/tvpot/thumb/s13efQPmQQB0VWuJWVBWVCC/thumb.png\" width=\"154\" height=\"94\" class=\"img_thumb\" alt=\"\">\\n<span class=\"frame_g\"></span>\\n<em class=\"ico_label2\">슬기로운 의사생활 시즌2</em>\\n<span class=\"ico_pctop ico_video\">동영상</span>\\n</span>\\n<div class=\"cont_item\">\\n<strong class=\"tit_item\">늘 괜찮다고 했던 정경호가 힘들어 한다는 사실을 알...</strong>\\n</div>\\n</a>\\n</li>\\n<li >\\n<a href=\"http://entertain.daum.net/tv/5156621/video/420567427\" class=\"link_item\" target=\"_blank\" data-tiara-layer=\"img\" data-tiara-action-name=\"카카오 tv_2tab_이미지 소재\" data-tiara-ordnum=\"4\" data-tiara-action-kind=\"ClickContent\">\\n<span class=\"thumb_g\">\\n<img src=\"//t1.daumcdn.net/daumtop_deco/images/op/default.png\" data-src=\" //img2.daumcdn.net/thumb/S308x188/?fname=https://t1.kakaocdn.net/kakaotv/ASSET/warhol_asset/vod_thumbnail/1e1b58f5cff21fcd5b0373d0968ed19beb0c5f70\" width=\"154\" height=\"94\" class=\"img_thumb\" alt=\"\">\\n<span class=\"frame_g\"></span>\\n<em class=\"ico_label2\">고기리 돈스파이크</em>\\n<span class=\"ico_pctop ico_video\">동영상</span>\\n</span>\\n<div class=\"cont_item\">\\n<strong class=\"tit_item\">14회. 그냥 육즙을 살려두면 안 되는걸까, 더는...</strong>\\n</div>\\n</a>\\n</li>\\n</ul>\\n</div>\\n<div class=\"cont_multi hide\"> <h4 class=\"screen_out\">TV 주요장면</h4> <ul class=\"list_thumb\" data-tiara-layer=\"kakatv_3tab\">\\n<li class=\"fst\">\\n<a href=\"https://tv.kakao.com/v/420588162\" class=\"link_item\" target=\"_blank\" data-tiara-layer=\"img\" data-tiara-action-name=\"카카오 tv_3tab_이미지 소재\" data-tiara-ordnum=\"1\" data-tiara-action-kind=\"ClickContent\">\\n<span class=\"thumb_g\">\\n<img src=\"//t1.daumcdn.net/daumtop_deco/images/op/default.png\" data-src=\" //img2.daumcdn.net/thumb/S308x188/?fname=http://t1.daumcdn.net/tvpot/thumb/s758bArr0rNr0uSNuf6pfZ3/thumb.png\" width=\"154\" height=\"94\" class=\"img_thumb\" alt=\"\">\\n<span class=\"frame_g\"></span>\\n<span class=\"ico_pctop ico_video\">동영상</span>\\n</span>\\n<div class=\"cont_item\">\\n<strong class=\"tit_item\">\\'엄마아리랑\\'♪ 흥민호 등장! 흥 타고 리듬 타고...</strong>\\n</div>\\n</a>\\n</li>\\n<li >\\n<a href=\"https://tv.kakao.com/v/420588581\" class=\"link_item\" target=\"_blank\" data-tiara-layer=\"img\" data-tiara-action-name=\"카카오 tv_3tab_이미지 소재\" data-tiara-ordnum=\"2\" data-tiara-action-kind=\"ClickContent\">\\n<span class=\"thumb_g\">\\n<img src=\"//t1.daumcdn.net/daumtop_deco/images/op/default.png\" data-src=\" //img2.daumcdn.net/thumb/S308x188/?fname=http://t1.daumcdn.net/tvpot/thumb/sbf46gL1L81edBp7BRHccdi/thumb.png\" width=\"154\" height=\"94\" class=\"img_thumb\" alt=\"\">\\n<span class=\"frame_g\"></span>\\n<span class=\"ico_pctop ico_video\">동영상</span>\\n</span>\\n<div class=\"cont_item\">\\n<strong class=\"tit_item\">저녁 요리 타임에 벌어진 ★지깅타임★ 지깅은 못참지...</strong>\\n</div>\\n</a>\\n</li>\\n<li >\\n<a href=\"https://tv.kakao.com/v/420588454\" class=\"link_item\" target=\"_blank\" data-tiara-layer=\"img\" data-tiara-action-name=\"카카오 tv_3tab_이미지 소재\" data-tiara-ordnum=\"3\" data-tiara-action-kind=\"ClickContent\">\\n<span class=\"thumb_g\">\\n<img src=\"//t1.daumcdn.net/daumtop_deco/images/op/default.png\" data-src=\" //img2.daumcdn.net/thumb/S308x188/?fname=http://t1.daumcdn.net/tvpot/thumb/s554dqdq6oqqqXDMX6Ipoda/thumb.png\" width=\"154\" height=\"94\" class=\"img_thumb\" alt=\"\">\\n<span class=\"frame_g\"></span>\\n<span class=\"ico_pctop ico_video\">동영상</span>\\n</span>\\n<div class=\"cont_item\">\\n<strong class=\"tit_item\">낚시 종료 4분 전, 올리비아 네 번째 방어 성공!...</strong>\\n</div>\\n</a>\\n</li>\\n<li >\\n<a href=\"https://tv.kakao.com/v/420588778\" class=\"link_item\" target=\"_blank\" data-tiara-layer=\"img\" data-tiara-action-name=\"카카오 tv_3tab_이미지 소재\" data-tiara-ordnum=\"4\" data-tiara-action-kind=\"ClickContent\">\\n<span class=\"thumb_g\">\\n<img src=\"//t1.daumcdn.net/daumtop_deco/images/op/default.png\" data-src=\" //img2.daumcdn.net/thumb/S308x188/?fname=http://t1.daumcdn.net/tvpot/thumb/s1639JkB2FJBw2dk2tC2kXx/thumb.png\" width=\"154\" height=\"94\" class=\"img_thumb\" alt=\"\">\\n<span class=\"frame_g\"></span>\\n<span class=\"ico_pctop ico_video\">동영상</span>\\n</span>\\n<div class=\"cont_item\">\\n<strong class=\"tit_item\">이게 바로 AB6IX 메인댄서다 ★박우진 댄스 타임...</strong>\\n</div>\\n</a>\\n</li>\\n</ul>\\n</div>\\n</div>\\n<div class=\"page_pctop page_btype\" data-tiara-layer=\"kakaotv title\">\\n<span class=\"info_page\">\\n<span class=\"screen_out\">현재 탭</span><strong class=\"num_index\">1</strong><span class=\"txt_slash\">/</span><span class=\"screen_out\">전체 탭</span>3\\n</span>\\n<button type=\"button\" class=\"ico_pctop btn_page\" data-tiara-layer=\"preBtn\" data-tiara-action-name=\"카카오 tv_타이틀_이전 버튼\"><span class=\"ir_wa\"> &lt; 이전 탭</span></button>\\n<button type=\"button\" class=\"ico_pctop btn_page btn_next\" data-tiara-layer=\"nextBtn\" data-tiara-action-name=\"카카오 tv_타이틀_다음 버튼\"><span class=\"ir_wa\"> &gt; 다음 탭</span></button>\\n</div>\\n</div>\\n</div>\\n<div class=\"section_blog\">\\n<h2 id=\"blogTitle\" class=\"screen_out\">블로그 정보</h2>\\n<div id=\"blogTab\" data-tab=\"cafe\" class=\"panel_bloc cafe_on\">\\n<h3 id=\"cafeTab\" class=\"tit_tabcont tit_cafe\"><a href=\"http://top.cafe.daum.net/\" class=\"txt_pctop link_tit\" data-tiara-action-name=\"스토리 영역_타이틀_1탭\" data-tiara-layer=\"story title cafe\"><span class=\"ir_wa\">카페</span></a></h3>\\n<div id=\"cafe\" class=\"wrap_tabcont wrap_cafe\" data-tiara-layer=\"story_1tab\">\\n<ul class=\"list_story\">\\n<li class=\"fst\">\\n<a href=\"https://cafe.daum.net/dgbudongsantech/INua/27294?svc=daumapp\" class=\"link_item\" data-tiara-id=\"cafe-dgbudongsantech/INua/27294\" data-tiara-layer=\"img\" data-tiara-action-name=\"스토리 영역_1tab_이미지 소재\" data-tiara-action-kind=\"ClickContent\" data-tiara-ordnum=\"1\">\\n<span class=\"thumb_g\">\\n<img src=\" //img2.daumcdn.net/thumb/C308x188/?fname=https://t1.daumcdn.net/daumtop_chanel/tromm/20210709105842094\" width=\"154\" height=\"94\" class=\"img_thumb\" alt=\"\">\\n<span class=\"frame_g\"></span>\\n</span>\\n<div class=\"cont_item\">\\n<strong class=\"tit_item\">훌라후프 하는 아기</strong>\\n<span class=\"origin_item\"><span class=\"txt_teller\">왕비재테크</span></span>\\n</div>\\n</a>\\n</li>\\n<li >\\n<a href=\"https://cafe.daum.net/dgbudongsantech/INua/27306?svc=daumapp\" class=\"link_item\" data-tiara-id=\"cafe-dgbudongsantech/INua/27306\" data-tiara-layer=\"img\" data-tiara-action-name=\"스토리 영역_1tab_이미지 소재\" data-tiara-action-kind=\"ClickContent\" data-tiara-ordnum=\"2\">\\n<span class=\"thumb_g\">\\n<img src=\" //img2.daumcdn.net/thumb/C308x188/?fname=https://t1.daumcdn.net/daumtop_chanel/tromm/20210709105957312\" width=\"154\" height=\"94\" class=\"img_thumb\" alt=\"\">\\n<span class=\"frame_g\"></span>\\n</span>\\n<div class=\"cont_item\">\\n<strong class=\"tit_item\">심심했던 아들의 장난</strong>\\n<span class=\"origin_item\"><span class=\"txt_teller\">왕비재테크</span></span>\\n</div>\\n</a>\\n</li>\\n</ul>\\n<div class=\"box_story\">\\n<ul class=\"list_stxt list_cafe\">\\n<li><a href=\"https://cafe.daum.net/dgbudongsantech/INua/27290?svc=daumapp\" class=\"link_stxt\" data-tiara-id=\"cafe-dgbudongsantech/INua/27306\" data-tiara-layer=\"txt\" data-tiara-action-name=\"스토리 영역_1tab_텍스트 소재\" data-tiara-action-kind=\"ClickContent\" data-tiara-ordnum=\"1\">앗 이게 아닌데..</a></li>\\n<li><a href=\"https://cafe.daum.net/ok1221/9Zdf/2495494?svc=daumapp\" class=\"link_stxt\" data-tiara-id=\"cafe-dgbudongsantech/INua/27306\" data-tiara-layer=\"txt\" data-tiara-action-name=\"스토리 영역_1tab_텍스트 소재\" data-tiara-action-kind=\"ClickContent\" data-tiara-ordnum=\"2\">오똑햄 오똑햄.gif</a></li>\\n<li><a href=\"https://cafe.daum.net/ok1221/9Zdf/2495499?svc=daumapp\" class=\"link_stxt\" data-tiara-id=\"cafe-dgbudongsantech/INua/27306\" data-tiara-layer=\"txt\" data-tiara-action-name=\"스토리 영역_1tab_텍스트 소재\" data-tiara-action-kind=\"ClickContent\" data-tiara-ordnum=\"3\">날 집에다 좀 데려다 줄 수 있겠나?</a></li>\\n<li><a href=\"https://cafe.daum.net/dgbudongsantech/INua/27289?svc=daumapp\" class=\"link_stxt\" data-tiara-id=\"cafe-dgbudongsantech/INua/27306\" data-tiara-layer=\"txt\" data-tiara-action-name=\"스토리 영역_1tab_텍스트 소재\" data-tiara-action-kind=\"ClickContent\" data-tiara-ordnum=\"4\">악천후에 스포츠카 타는 상남자</a></li>\\n<li><a href=\"https://cafe.daum.net/ok1221/9Zdf/2496061?svc=daumapp\" class=\"link_stxt\" data-tiara-id=\"cafe-dgbudongsantech/INua/27306\" data-tiara-layer=\"txt\" data-tiara-action-name=\"스토리 영역_1tab_텍스트 소재\" data-tiara-action-kind=\"ClickContent\" data-tiara-ordnum=\"5\">직딩들 사회생활</a></li>\\n<li><a href=\"https://cafe.daum.net/dotax/Elgq/3704791?svc=daumapp\" class=\"link_stxt\" data-tiara-id=\"cafe-dgbudongsantech/INua/27306\" data-tiara-layer=\"txt\" data-tiara-action-name=\"스토리 영역_1tab_텍스트 소재\" data-tiara-action-kind=\"ClickContent\" data-tiara-ordnum=\"6\">억만장자가 말하는 억만장자의 단점..jpg</a></li>\\n</ul>\\n</div>\\n</div>\\n<h3 id=\"brunchTab\" class=\"tit_tabcont tit_brunch\"><a href=\"https://brunch.co.kr/\" target=\"_blank\" class=\"txt_pctop link_tit\" data-tiara-action-name=\"스토리 영역_타이틀_2탭\" data-tiara-layer=\"story title brunch\"><span class=\"ir_wa\">브런치</span></a></h3>\\n<div id=\"brunch\" class=\"wrap_tabcont wrap_brunch\" data-tiara-layer=\"story_2tab\">\\n</div>\\n<h3 id=\"tistoryTab\" class=\"tit_tabcont tit_tistory\"><a href=\"http://www.tistory.com/\" target=\"_blank\" class=\"txt_pctop link_tit\" data-tiara-action-name=\"스토리 영역_타이틀_3탭\" data-tiara-layer=\"story title tistory\"><span class=\"ir_wa\">티스토리</span></a></h3>\\n<div id=\"tistory\" class=\"wrap_tabcont wrap_tistory\" data-tiara-layer=\"story_3tab\">\\n</div>\\n<h3 id=\"kakaostoryTab\" class=\"tit_tabcont tit_kakaostory\"><a href=\"https://story.kakao.com/\" target=\"_blank\" class=\"txt_pctop link_tit\" data-tiara-action-name=\"스토리 영역_타이틀_5탭\" data-tiara-layer=\"story title kakaostory\"><span class=\"ir_wa\">카카오스토리</span></a></h3>\\n<div id=\"kakaostory\" class=\"wrap_tabcont wrap_kakaostory\" data-tiara-layer=\"story_5tab\">\\n</div>\\n<div class=\"page_pctop page_btype\" data-tiara-layer=\"story title\">\\n<span class=\"info_page\">\\n<span class=\"screen_out\">현재 탭</span><strong id=\"blogPageNum\" class=\"num_index\">1</strong><span class=\"txt_slash\">/</span><span class=\"screen_out\">전체 탭</span>4\\n</span>\\n<button id=\"blogPrevBtn\" type=\"button\" class=\"ico_pctop btn_page\" data-tiara-action-name=\"스토리 영역_타이틀_이전 버튼\" data-tiara-layer=\"preBtn\"><span class=\"ir_wa\"> &lt; 이전 탭</span></button>\\n<button id=\"blogNextBtn\" type=\"button\" class=\"ico_pctop btn_page btn_next\" data-tiara-action-name=\"스토리 영역_타이틀_다음 버튼\" data-tiara-layer=\"nextBtn\"><span class=\"ir_wa\"> &gt; 다음 탭</span></button>\\n</div>\\n</div>\\n</div>\\n<div class=\"section_channel\">\\n<h2 id=\"storyTitle\" class=\"screen_out\" tabindex=\"0\">유익한 정보</h2>\\n<div id=\"channelTab\" data-tab=\"homecooking\" class=\"panel_bloc homecooking_on\">\\n<h3 id=\"homecookingTab\" class=\"tit_tabcont tit_homecooking\">\\n<a href=\"#none\" class=\"txt_pctop link_tit\" data-tiara-action-name=\"카테고리 영역_타이틀_1탭\" data-tiara-layer=\"cate title homecooking\"><span class=\"ir_wa\">홈&amp;쿠킹</span></a>\\n</h3>\\n<div id=\"homecooking\" class=\"wrap_tabcont wrap_homecooking\" data-tiara-layer=\"cate_homecooking\">\\n<div class=\"box_chwide\" data-tiara-layer=\"big\">\\n<a href=\"https://content.v.daum.net/v/knMHceZv6e\" class=\"link_item ?c_id=hamny-knMHceZv6e&c_source=contentview&c_ch=\" data-tiara-id=\"hamny-knMHceZv6e\" data-tiara-layer=\"img\" data-tiara-action-name=\"홈&amp;쿠킹_이미지 소재\" data-tiara-action-kind=\"ClickContent\" data-tiara-ordnum=\"1\">\\n<span class=\"thumb_g\">\\n<img src=\"//t1.daumcdn.net/daumtop_deco/images/op/default%402x.png\" data-src=\" //img2.daumcdn.net/thumb/S642x318/?fname=https://t1.daumcdn.net/section/oc/5e62e66eafc8478db17d5beba223d550\" width=\"321\" height=\"159\" class=\"img_thumb\" alt=\"\">\\n<span class=\"frame_g\"></span>\\n</span>\\n<div class=\"cont_item\">\\n<strong class=\"tit_item\">우리에게 친숙한 양파에게 닥친 뜻밖의 문제</strong>\\n<span class=\"origin_item\">스브스노리터</span>\\n</div>\\n</a>\\n</div>\\n<div class=\"box_channel \" data-tiara-layer=\"small\">\\n<a href=\"https://brunch.co.kr/@@7kAw/87\" data-media=\"IMAGE\" class=\"link_item ?c_id=brch-7kAw-87&c_source=brch&c_ch=\" data-tiara-id=\"https://brunch.co.kr/@@7kAw/87\" data-tiara-layer=\"img\" data-tiara-action-name=\"홈&amp;쿠킹_이미지 소재\" data-tiara-action-kind=\"ClickContent\" data-tiara-ordnum=\"2\">\\n<span class=\"thumb_g\">\\n<img src=\"//t1.daumcdn.net/daumtop_deco/images/op/default.png\" data-src=\" //img2.daumcdn.net/thumb/S308x188/?fname=https://t1.daumcdn.net/section/oc/a9cbf8fa2cad4810a22e37ed5f9b521a\" width=\"154\" height=\"94\" class=\"img_thumb\" alt=\"\">\\n<span class=\"frame_g\"></span>\\n</span>\\n<div class=\"cont_item\">\\n<strong class=\"tit_item\">등원 거부를 거부한다</strong>\\n<span class=\"origin_item\">브런치 by 이상우</span>\\n</div>\\n</a>\\n</div>\\n<div class=\"box_channel na_adfit\">\\n</div>\\n<div class=\"box_channel fst\" data-tiara-layer=\"small\">\\n<a href=\"https://brunch.co.kr/@@bcwJ/183\" data-media=\"IMAGE\" class=\"link_item ?c_id=brch-bcwJ-183&c_source=brch&c_ch=\" data-tiara-id=\"https://brunch.co.kr/@@bcwJ/183\" data-tiara-layer=\"img\" data-tiara-action-name=\"홈&amp;쿠킹_이미지 소재\" data-tiara-action-kind=\"ClickContent\" data-tiara-ordnum=\"4\">\\n<span class=\"thumb_g\">\\n<img src=\"//t1.daumcdn.net/daumtop_deco/images/op/default.png\" data-src=\" //img2.daumcdn.net/thumb/S308x188/?fname=https://t1.daumcdn.net/section/oc/92b59e87b52c497a9432e5a98add0dd2\" width=\"154\" height=\"94\" class=\"img_thumb\" alt=\"\">\\n<span class=\"frame_g\"></span>\\n</span>\\n<div class=\"cont_item\">\\n<strong class=\"tit_item\">비 내리는 날 문득 떠오른 독일식 감자 부침개</strong>\\n<span class=\"origin_item\">브런치 by 프라하의 별</span>\\n</div>\\n</a>\\n</div>\\n<div class=\"box_channel \" data-tiara-layer=\"small\">\\n<a href=\"https://brunch.co.kr/@@1f2B/33\" data-media=\"IMAGE\" class=\"link_item ?c_id=brch-1f2B-33&c_source=brch&c_ch=\" data-tiara-id=\"https://brunch.co.kr/@@1f2B/33\" data-tiara-layer=\"img\" data-tiara-action-name=\"홈&amp;쿠킹_이미지 소재\" data-tiara-action-kind=\"ClickContent\" data-tiara-ordnum=\"5\">\\n<span class=\"thumb_g\">\\n<img src=\"//t1.daumcdn.net/daumtop_deco/images/op/default.png\" data-src=\" //img2.daumcdn.net/thumb/S308x188/?fname=https://t1.daumcdn.net/section/oc/12053692e4ba42b2889bbfa789976b74\" width=\"154\" height=\"94\" class=\"img_thumb\" alt=\"\">\\n<span class=\"frame_g\"></span>\\n</span>\\n<div class=\"cont_item\">\\n<strong class=\"tit_item\">내 배에서 나온 거 맞아?</strong>\\n<span class=\"origin_item\">브런치 by 로렌</span>\\n</div>\\n</a>\\n</div>\\n<div class=\"box_channel \" data-tiara-layer=\"small\">\\n<a href=\"https://content.v.daum.net/v/k5X4mIZ8YS\" data-media=\"IMAGE\" class=\"link_item ?c_id=hamny-k5X4mIZ8YS&c_source=contentview&c_ch=\" data-tiara-id=\"https://content.v.daum.net/v/k5X4mIZ8YS\" data-tiara-layer=\"img\" data-tiara-action-name=\"홈&amp;쿠킹_이미지 소재\" data-tiara-action-kind=\"ClickContent\" data-tiara-ordnum=\"6\">\\n<span class=\"thumb_g\">\\n<img src=\"//t1.daumcdn.net/daumtop_deco/images/op/default.png\" data-src=\" //img2.daumcdn.net/thumb/S308x188/?fname=https://t1.daumcdn.net/section/oc/86c6a6743dbc439eb779e4f82562d26f\" width=\"154\" height=\"94\" class=\"img_thumb\" alt=\"\">\\n<span class=\"frame_g\"></span>\\n</span>\\n<div class=\"cont_item\">\\n<strong class=\"tit_item\">녹차의 50배, 의외로 콜레스테롤 수치 낮춰준다는 이 식품</strong>\\n<span class=\"origin_item\">프레시코드</span>\\n</div>\\n</a>\\n</div>\\n<div class=\"box_channel \" data-tiara-layer=\"small\">\\n<a href=\"https://brunch.co.kr/@@5Mzp/104\" data-media=\"IMAGE\" class=\"link_item ?c_id=brch-5Mzp-104&c_source=brch&c_ch=\" data-tiara-id=\"https://brunch.co.kr/@@5Mzp/104\" data-tiara-layer=\"img\" data-tiara-action-name=\"홈&amp;쿠킹_이미지 소재\" data-tiara-action-kind=\"ClickContent\" data-tiara-ordnum=\"7\">\\n<span class=\"thumb_g\">\\n<img src=\"//t1.daumcdn.net/daumtop_deco/images/op/default.png\" data-src=\" //img2.daumcdn.net/thumb/S308x188/?fname=https://t1.daumcdn.net/section/oc/a174aff88b4b4f8a984e387894d3db17\" width=\"154\" height=\"94\" class=\"img_thumb\" alt=\"\">\\n<span class=\"frame_g\"></span>\\n</span>\\n<div class=\"cont_item\">\\n<strong class=\"tit_item\">엄마, 마스크해야 해요</strong>\\n<span class=\"origin_item\">브런치 by 청아</span>\\n</div>\\n</a>\\n</div>\\n<div class=\"group_recomm\" data-tiara-layer=\"best\">\\n<div class=\"box_story box_best\">\\n<h4 class=\"tit_subject\">베스트</h4>\\n<ol class=\"list_ranking\">\\n<li class=\"best_img\">\\n<a href=\"https://pure-beef.tistory.com/929\" class=\"link_ranking\" data-tiara-id=\"tstory-2855632_929\" data-tiara-layer=\"item\" data-tiara-action-name=\"홈&amp;쿠킹_베스트 소재\" data-tiara-action-kind=\"ClickContent\" data-tiara-ordnum=\"1\">\\n<span class=\"thumb_g\">\\n<img src=\"//t1.daumcdn.net/daumtop_deco/images/op/default.png\" data-src=\" //img2.daumcdn.net/thumb/S308x188/?fname=https://t1.daumcdn.net/section/oc/db875fdd8beb4c6cbeefa65ec157daf7\" width=\"148\" height=\"108\" class=\"img_thumb\" alt=\"\">\\n<span class=\"frame_g\"></span>\\n</span>\\n<span class=\"cont_item\">\\n<span class=\"num_pctop num1\">1</span>\\n<span class=\"txt_ranking\">삶은계란을 컵에 넣고 흔들면 벌어지는 놀라...</span>\\n</span>\\n</a>\\n</li>\\n<li class=\"best_img\">\\n<a href=\"https://content.v.daum.net/v/cKN4reqmVm\" class=\"link_ranking\" data-tiara-id=\"hamny-cKN4reqmVm\" data-tiara-layer=\"item\" data-tiara-action-name=\"홈&amp;쿠킹_베스트 소재\" data-tiara-action-kind=\"ClickContent\" data-tiara-ordnum=\"2\">\\n<span class=\"thumb_g\">\\n<img src=\"//t1.daumcdn.net/daumtop_deco/images/op/default.png\" data-src=\" //img2.daumcdn.net/thumb/S308x188/?fname=https://t1.daumcdn.net/section/oc/5f24f09b4afe495f937683876696f592\" width=\"148\" height=\"108\" class=\"img_thumb\" alt=\"\">\\n<span class=\"frame_g\"></span>\\n</span>\\n<span class=\"cont_item\">\\n<span class=\"num_pctop num2\">2</span>\\n<span class=\"txt_ranking\">&#39;10만원 버렸다&#39;, 냉풍기 구매를 후회하...</span>\\n</span>\\n</a>\\n</li>\\n<li>\\n<a href=\"https://content.v.daum.net/v/k7y9TAgKgz\" class=\"link_ranking\" data-tiara-id=\"hamny-k7y9TAgKgz\" data-tiara-layer=\"item\" data-tiara-action-name=\"홈&amp;쿠킹_베스트 소재\" data-tiara-action-kind=\"ClickContent\" data-tiara-ordnum=\"3\">\\n<span class=\"num_pctop num3\">3</span>\\n<span class=\"txt_ranking\">재물운을 부르는 현관 풍수지리 인테리어!</span>\\n</a>\\n</li>\\n<li>\\n<a href=\"https://mok0nolg0.tistory.com/1256\" class=\"link_ranking\" data-tiara-id=\"tstory-2204338_1256\" data-tiara-layer=\"item\" data-tiara-action-name=\"홈&amp;쿠킹_베스트 소재\" data-tiara-action-kind=\"ClickContent\" data-tiara-ordnum=\"4\">\\n<span class=\"num_pctop num4\">4</span>\\n<span class=\"txt_ranking\">프랑스 티비에 나온 한국</span>\\n</a>\\n</li>\\n<li>\\n<a href=\"https://content.v.daum.net/v/kbWk3YQdSV\" class=\"link_ranking\" data-tiara-id=\"hamny-kbWk3YQdSV\" data-tiara-layer=\"item\" data-tiara-action-name=\"홈&amp;쿠킹_베스트 소재\" data-tiara-action-kind=\"ClickContent\" data-tiara-ordnum=\"5\">\\n<span class=\"num_pctop num5\">5</span>\\n<span class=\"txt_ranking\">가스레인지 3년 묵은 때, 30분만에 속시원하게 벗겨내기</span>\\n</a>\\n</li>\\n<li>\\n<a href=\"https://brunch.co.kr/@@cg7o/16\" class=\"link_ranking\" data-tiara-id=\"brch-cg7o-16\" data-tiara-layer=\"item\" data-tiara-action-name=\"홈&amp;쿠킹_베스트 소재\" data-tiara-action-kind=\"ClickContent\" data-tiara-ordnum=\"6\">\\n<span class=\"num_pctop num6\">6</span>\\n<span class=\"txt_ranking\">파인애플 무한리필? 버리지 말고 다시 심어 키우기 꿀팁</span>\\n</a>\\n</li>\\n<li>\\n<a href=\"https://content.v.daum.net/v/kEq4XHKVkJ\" class=\"link_ranking\" data-tiara-id=\"hamny-kEq4XHKVkJ\" data-tiara-layer=\"item\" data-tiara-action-name=\"홈&amp;쿠킹_베스트 소재\" data-tiara-action-kind=\"ClickContent\" data-tiara-ordnum=\"7\">\\n<span class=\"num_pctop num7\">7</span>\\n<span class=\"txt_ranking\">갑자기 심장 빨리 뛰거나 어지러움 느낀적 있다면 이 &#39;병&#39; 의심</span>\\n</a>\\n</li>\\n</ol>\\n</div>\\n</div>\\n\\n</div>\\n<h3 id=\"moneyTab\" class=\"tit_tabcont tit_money\">\\n<a href=\"#none\" class=\"txt_pctop link_tit\" data-tiara-action-name=\"카테고리 영역_타이틀_2탭\" data-tiara-layer=\"cate title money\"><span class=\"ir_wa\">머니</span></a>\\n</h3>\\n<div id=\"money\" class=\"wrap_tabcont wrap_money\" data-tiara-layer=\"cate_money\">\\n</div>\\n<h3 id=\"petTab\" class=\"tit_tabcont tit_pet\">\\n<a href=\"#none\" class=\"txt_pctop link_tit\" data-tiara-action-name=\"카테고리 영역_타이틀_3탭\" data-tiara-layer=\"cate title animal\"><span class=\"ir_wa\">동물</span></a>\\n</h3>\\n<div id=\"pet\" class=\"wrap_tabcont wrap_pet\" data-tiara-layer=\"cate_animal\">\\n</div>\\n<h3 id=\"womenTab\" class=\"tit_tabcont tit_women\">\\n<a href=\"#none\" class=\"txt_pctop link_tit\" data-tiara-action-name=\"카테고리 영역_타이틀_4탭\" data-tiara-layer=\"cate title style\"><span class=\"ir_wa\">스타일</span></a>\\n</h3>\\n<div id=\"women\" class=\"wrap_tabcont wrap_women\" data-tiara-layer=\"cate_style\">\\n</div>\\n<h3 id=\"menTab\" class=\"tit_tabcont tit_men\">\\n<a href=\"#none\" class=\"txt_pctop link_tit\" data-tiara-action-name=\"카테고리 영역_타이틀_5탭\" data-tiara-layer=\"cate title men\"><span class=\"ir_wa\">Men</span></a>\\n</h3>\\n<div id=\"men\" class=\"wrap_tabcont wrap_men\" data-tiara-layer=\"cate_men\">\\n</div>\\n<h3 id=\"travelTab\" class=\"tit_tabcont tit_travel\">\\n<a href=\"#none\" class=\"txt_pctop link_tit\" data-tiara-action-name=\"카테고리 영역_타이틀_6탭\" data-tiara-layer=\"cate title travel\"><span class=\"ir_wa\">여행맛집</span></a>\\n</h3>\\n<div id=\"travel\" class=\"wrap_tabcont wrap_travel\" data-tiara-layer=\"cate_travel\">\\n</div>\\n<h3 id=\"businessTab\" class=\"tit_tabcont tit_business\">\\n<a href=\"#none\" class=\"txt_pctop link_tit\" data-tiara-action-name=\"카테고리 영역_타이틀_7탭\" data-tiara-layer=\"cate title business\"><span class=\"ir_wa\">직장IN</span></a>\\n</h3>\\n<div id=\"business\" class=\"wrap_tabcont wrap_business\" data-tiara-layer=\"cate_business\">\\n</div>\\n<h3 id=\"musicTab\" class=\"tit_tabcont tit_music\">\\n<a href=\"https://www.melon.com/\" class=\"txt_pctop link_tit\" target=\"_blank\" data-tiara-action-name=\"카테고리 영역_타이틀_8탭\" data-tiara-layer=\"cate title music\"><span class=\"ir_wa\">뮤직</span></a>\\n</h3>\\n<div id=\"music\" class=\"wrap_tabcont wrap_music\" data-tiara-layer=\"cate_music\">\\n</div>\\n<h3 id=\"webtoonTab\" class=\"tit_tabcont tit_webtoon\">\\n<a href=\"http://webtoon.daum.net\" class=\"txt_pctop link_tit\" data-tiara-action-name=\"카테고리 영역_타이틀_9탭\" data-tiara-layer=\"cate title webtoon\"><span class=\"ir_wa\">웹툰</span></a>\\n</h3>\\n<div id=\"webtoon\" class=\"wrap_tabcont wrap_webtoon\" data-tiara-layer=\"cate_webtoon\">\\n</div>\\n<h3 id=\"gameTab\" class=\"tit_tabcont tit_game\">\\n<a href=\"http://game.daum.net/\" class=\"txt_pctop link_tit\" data-tiara-action-name=\"카테고리 영역_타이틀_10탭\" data-tiara-layer=\"cate title game\"><span class=\"ir_wa\">게임</span></a>\\n</h3>\\n<div id=\"game\" class=\"wrap_tabcont wrap_game\" data-tiara-layer=\"cate_game\">\\n</div>\\n<h3 id=\"togetherTab\" class=\"tit_tabcont tit_together\">\\n<a href=\"https://together.kakao.com\" class=\"txt_pctop link_tit\" target=\"_blank\" data-tiara-action-name=\"카테고리 영역_타이틀_11탭\" data-tiara-layer=\"cate title together\"><span class=\"ir_wa\">같이가치</span></a>\\n</h3>\\n<div id=\"together\" class=\"wrap_tabcont wrap_together\" data-tiara-layer=\"cate_together\">\\n</div>\\n<div class=\"page_pctop page_btype\" data-tiara-layer=\"cate title\">\\n<span class=\"info_page\">\\n<span class=\"screen_out\">현재 탭</span><strong id=\"channelPageNum\" class=\"num_index\">1</strong><span class=\"txt_slash\">/</span><span class=\"screen_out\">전체 탭</span>11\\n</span>\\n<button id=\"channelPrevBtn\" type=\"button\" class=\"ico_pctop btn_page\" data-tiara-action-name=\"카테고리 영역_타이틀_이전 버튼\" data-tiara-layer=\"preBtn\"><span class=\"ir_wa\"> &lt; 이전 탭</span></button>\\n<button id=\"channelNextBtn\" type=\"button\" class=\"ico_pctop btn_page btn_next\" data-tiara-action-name=\"카테고리 영역_타이틀_다음 버튼\" data-tiara-layer=\"nextBtn\"><span class=\"ir_wa\"> &gt; 다음 탭</span></button>\\n</div>\\n</div>\\n</div>\\n</div>\\n<div class=\"wing_tmp\">\\n<div id=\"adBrandingStation\" class=\"advert_station\">\\n<ins class=\"kakao_ad_area\" style=\"display: inline-block;\"\\ndata-tiara-action-name=\"광고_로그인박스 하단_브랜드 스테이션\" data-tiara-layer=\"promotion right_top ad_300x150\"\\ndata-ad-type=\"P\"\\ndata-ad-frame-id=\"adCgiBrandingStation\"\\ndata-ad-frame-name=\"adCgiBrandingStation\"\\ndata-ad-unit=\"DAN-soppcwfqiuzn\"\\ndata-ad-width=\"300\"\\ndata-ad-height=\"150\"></ins>\\n<script type=\"text/javascript\" charset=\"utf-8\" src=\"//t1.daumcdn.net/kas/static/ba.min.js\"></script>\\n</div>\\n<div class=\"box_shopping\">\\n<h2 id=\"shoppingTitle\" class=\"screen_out\">쇼핑</h2>\\n<div class=\"advert_shoppingbox\">\\n<ins class=\"kakao_ad_area\" style=\"display:none;width:100%;\"\\ndata-ad-unit = \"DAN-1iukvl9et8nz6\"\\ndata-ad-width = \"300\"\\ndata-ad-height = \"777\"></ins>\\n<script type=\"text/javascript\" charset=\"utf-8\" src=\"//t1.daumcdn.net/kas/static/ba.min.js\" async></script></div>\\n<iframe src=\"//shop-redapi.daum.net/red-apigate/daumtop/v6/planmall\" width=\"300\" height=\"471\" id=\"shoppingSlot\" name=\"shoppingSlot\" marginheight=\"0\" marginwidth=\"0\" frameborder=\"0\" scrolling=\"no\" style=\"vertical-align:top\" title=\"인기기획전\"></iframe>\\n<div class=\"bg_line1\"></div>\\n<div class=\"bg_line2\"></div>\\n</div>\\n<div class=\"advert_bnr\">\\n<ins class=\"kakao_ad_area\" style=\"display: inline-block;\"\\ndata-ad-type=\"P\"\\ndata-ad-unit=\"DAN-1jenqvzz5ougk\"\\ndata-ad-width=\"300\"\\ndata-ad-height=\"150\"></ins>\\n<script type=\"text/javascript\" charset=\"utf-8\" src=\"//t1.daumcdn.net/kas/static/ba.min.js\"></script>\\n</div>\\n</div>\\n</article>\\n</div>\\n<div id=\"cEtc\" data-tiara-layer=\"today_photo\"\\nclass=\"cont_topic\" data-more=\"entertain|987,news|318190,news|2322,news|5024184,news|5033640\"\\nstyle=\"visibility:hidden;\">\\n<div class=\"wrap_topic\">\\n<h2 id=\"photoClipTitle\" class=\"tit_photo\" tabindex=\"0\">\\n<span class=\"txt_photoclip\">오늘의 포토</span>\\n</h2>\\n<div class=\"view_photo\" data-tiara-layer=\"data\">\\n<ul class=\"list_photo\" style=\"width:20460px;\">\\n<li aria-hidden=\"true\" data-href=\"https://gallery.v.daum.net/p/premium/madeinkorea2\" data-cp=\"한복\" data-id=\"c8DZMNtHEG\" data-date=\"\">\\n<span class=\"box_photo\">\\n<img src=\"//t1.daumcdn.net/daumtop_deco/images/op/noimg_1x1.png\" data-src=\" //img2.daumcdn.net/thumb/S700x400/?fname=https://t1.daumcdn.net/news/202106/07/CulturalHeritageAdministration/20210607074737429ocjm.jpeg\" height=\"400\" class=\"img_thumb\" alt=\"공주의 꿈, 코리아 인 패션(KOREA IN FASHION)\">\\n</span>\\n</li>\\n<li aria-hidden=\"true\" data-href=\"https://gallery.v.daum.net/p/premium/june/cml27vi67L\" data-cp=\"장미\" data-id=\"cml27vi67L\" data-date=\"\">\\n<span class=\"box_photo\">\\n<img src=\"//t1.daumcdn.net/daumtop_deco/images/op/noimg_1x1.png\" data-src=\" //img2.daumcdn.net/thumb/S700x400/?fname=https://t1.daumcdn.net/news/202106/25/photofriend/20210625093835420agpx.jpg\" height=\"400\" class=\"img_thumb\" alt=\"당신의 눈길을 기다리고 있는 유월의 꽃들\">\\n</span>\\n</li>\\n<li aria-hidden=\"true\" data-href=\"https://gallery.v.daum.net/p/premium/beach\" data-cp=\"랜선여행\" data-id=\"AbBmdi7Ip6\" data-date=\"\">\\n<span class=\"box_photo\">\\n<img src=\"//t1.daumcdn.net/daumtop_deco/images/op/noimg_1x1.png\" data-src=\" //img2.daumcdn.net/thumb/S700x400/?fname=https://t1.daumcdn.net/news/202103/09/yonhapnews/20210309061303247iwab.jpeg\" height=\"400\" class=\"img_thumb\" alt=\"사진으로 떠나보는 랜선 바다 여행\">\\n</span>\\n</li>\\n<li aria-hidden=\"true\" data-href=\"https://gallery.v.daum.net/p/viewer/987/20210708191415825\" data-cp=\"뉴스엔\" data-id=\"20210708191415825\" data-date=\"\">\\n<span class=\"box_photo\">\\n<img src=\"//t1.daumcdn.net/daumtop_deco/images/op/noimg_1x1.png\" data-src=\" //img2.daumcdn.net/thumb/S700x400/?fname=https://t1.daumcdn.net/news/202107/08/newsen/20210708191415490mcmb.jpg\" height=\"400\" class=\"img_thumb\" alt=\"정준하 (MC 민지) &#39;데뷔 무대를 치룬 가수&#39; [포토엔HD]\">\\n</span>\\n</li>\\n<li aria-hidden=\"true\" data-href=\"https://gallery.v.daum.net/p/viewer/969/20210708175658652\" data-cp=\"엑스포츠뉴스\" data-id=\"20210708175658652\" data-date=\"\">\\n<span class=\"box_photo\">\\n<img src=\"//t1.daumcdn.net/daumtop_deco/images/op/noimg_1x1.png\" data-src=\" //img2.daumcdn.net/thumb/S700x400/?fname=https://t1.daumcdn.net/news/202107/08/xportsnews/20210708175700079biso.jpg\" height=\"400\" class=\"img_thumb\" alt=\"&#39;싱글맘&#39; 김나영 아들, 너무 예뻐 딸인 줄 알았네 &quot;예뽀라&quot;\">\\n</span>\\n</li>\\n<li aria-hidden=\"true\" data-href=\"https://gallery.v.daum.net/p/viewer/1084/20210708195009660\" data-cp=\"스포츠동아\" data-id=\"20210708195009660\" data-date=\"\">\\n<span class=\"box_photo\">\\n<img src=\"//t1.daumcdn.net/daumtop_deco/images/op/noimg_1x1.png\" data-src=\" //img2.daumcdn.net/thumb/S700x400/?fname=https://t1.daumcdn.net/news/202107/08/sportsdonga/20210708195011017lczk.jpg\" height=\"400\" class=\"img_thumb\" alt=\"김규리 &#39;레드가 포인트&#39; [포토]\">\\n</span>\\n</li>\\n<li aria-hidden=\"true\" data-href=\"https://gallery.v.daum.net/p/viewer/256/20210708144709663\" data-cp=\"뉴스엔\" data-id=\"20210708144709663\" data-date=\"\">\\n<span class=\"box_photo\">\\n<img src=\"//t1.daumcdn.net/daumtop_deco/images/op/noimg_1x1.png\" data-src=\" //img2.daumcdn.net/thumb/S700x400/?fname=https://t1.daumcdn.net/news/202107/08/newsen/20210708144709843figk.jpg\" height=\"400\" class=\"img_thumb\" alt=\"박슬기, &hearts;연하 남편과 결혼기념일 맞아 제주 5성급 호텔서 호캉스 &quot;성공한 사업가 같네&quot;\">\\n</span>\\n</li>\\n<li aria-hidden=\"true\" data-href=\"https://gallery.v.daum.net/p/viewer/246/20210709104256720\" data-cp=\"마이데일리\" data-id=\"20210709104256720\" data-date=\"\">\\n<span class=\"box_photo\">\\n<img src=\"//t1.daumcdn.net/daumtop_deco/images/op/noimg_1x1.png\" data-src=\" //img2.daumcdn.net/thumb/S700x400/?fname=https://t1.daumcdn.net/news/202107/09/mydaily/20210709104256340qgng.jpg\" height=\"400\" class=\"img_thumb\" alt=\"걸스데이, 여전히 탄탄한 우정..&#39;러블리 4인방&#39;\">\\n</span>\\n</li>\\n<li aria-hidden=\"true\" data-href=\"https://gallery.v.daum.net/p/viewer/50915/20210709090617502\" data-cp=\"마이데일리\" data-id=\"20210709090617502\" data-date=\"\">\\n<span class=\"box_photo\">\\n<img src=\"//t1.daumcdn.net/daumtop_deco/images/op/noimg_1x1.png\" data-src=\" //img2.daumcdn.net/thumb/S700x400/?fname=https://t1.daumcdn.net/news/202107/09/mydaily/20210709090617533zvjl.jpg\" height=\"400\" class=\"img_thumb\" alt=\"방탄소년단 뷔, 얼굴 천재의 &#39;치명美&#39;\">\\n</span>\\n</li>\\n<li aria-hidden=\"true\" data-href=\"https://gallery.v.daum.net/p/viewer/5014013/20210709102617032\" data-cp=\"뉴스1\" data-id=\"20210709102617032\" data-date=\"\">\\n<span class=\"box_photo\">\\n<img src=\"//t1.daumcdn.net/daumtop_deco/images/op/noimg_1x1.png\" data-src=\" //img2.daumcdn.net/thumb/S700x400/?fname=https://t1.daumcdn.net/news/202107/09/NEWS1/20210709102618604vmui.jpg\" height=\"400\" class=\"img_thumb\" alt=\"끝 없이 이어진 대기행렬\">\\n</span>\\n</li>\\n<li aria-hidden=\"true\" data-href=\"https://gallery.v.daum.net/p/viewer/253/20210708193735425\" data-cp=\"마이데일리\" data-id=\"20210708193735425\" data-date=\"\">\\n<span class=\"box_photo\">\\n<img src=\"//t1.daumcdn.net/daumtop_deco/images/op/noimg_1x1.png\" data-src=\" //img2.daumcdn.net/thumb/S700x400/?fname=https://t1.daumcdn.net/news/202107/08/mydaily/20210708193735536vecu.jpg\" height=\"400\" class=\"img_thumb\" alt=\"[MD포토] 우아! 우연 &#39;공연을 화보 느낌으로&#39;\">\\n</span>\\n</li>\\n<li aria-hidden=\"true\" data-href=\"https://gallery.v.daum.net/p/viewer/379/20210709100023711\" data-cp=\"포토친구\" data-id=\"20210709100023711\" data-date=\"\">\\n<span class=\"box_photo\">\\n<img src=\"//t1.daumcdn.net/daumtop_deco/images/op/noimg_1x1.png\" data-src=\" //img2.daumcdn.net/thumb/S700x400/?fname=https://t1.daumcdn.net/news/202107/09/kppa/20210709100024545ippk.jpg\" height=\"400\" class=\"img_thumb\" alt=\"[포토친구] 수국\">\\n</span>\\n</li>\\n<li aria-hidden=\"true\" data-href=\"https://gallery.v.daum.net/p/viewer/965/20210709094223911\" data-cp=\"스타뉴스\" data-id=\"20210709094223911\" data-date=\"\">\\n<span class=\"box_photo\">\\n<img src=\"//t1.daumcdn.net/daumtop_deco/images/op/noimg_1x1.png\" data-src=\" //img2.daumcdn.net/thumb/S700x400/?fname=https://t1.daumcdn.net/news/202107/09/starnews/20210709094225695qllz.jpg\" height=\"400\" class=\"img_thumb\" alt=\"&quot;미소마저 고급&quot; 김수현, 고품격 수트 자태\">\\n</span>\\n</li>\\n<li aria-hidden=\"true\" data-href=\"https://gallery.v.daum.net/p/viewer/318190/20210708220137710\" data-cp=\"세계일보\" data-id=\"20210708220137710\" data-date=\"\">\\n<span class=\"box_photo\">\\n<img src=\"//t1.daumcdn.net/daumtop_deco/images/op/noimg_1x1.png\" data-src=\" //img2.daumcdn.net/thumb/S700x400/?fname=https://t1.daumcdn.net/news/202107/08/segye/20210708220138088kigi.jpg\" height=\"400\" class=\"img_thumb\" alt=\"&#39;K-배터리&#39; 탑재 차량 탄 文 대통령\">\\n</span>\\n</li>\\n<li aria-hidden=\"true\" data-href=\"https://gallery.v.daum.net/p/viewer/5024184/20210709103453384\" data-cp=\"더팩트\" data-id=\"20210709103453384\" data-date=\"\">\\n<span class=\"box_photo\">\\n<img src=\"//t1.daumcdn.net/daumtop_deco/images/op/noimg_1x1.png\" data-src=\" //img2.daumcdn.net/thumb/S700x400/?fname=https://t1.daumcdn.net/news/202107/09/THEFACT/20210709103454535ybio.jpg\" height=\"400\" class=\"img_thumb\" alt=\"&#39;151번째 재판&#39; 출석하는 양승태 전 대법원장 [TF사진관]\">\\n</span>\\n</li>\\n<li aria-hidden=\"true\" data-href=\"https://gallery.v.daum.net/p/viewer/1476/20210709103131250\" data-cp=\"연합뉴스\" data-id=\"20210709103131250\" data-date=\"\">\\n<span class=\"box_photo\">\\n<img src=\"//t1.daumcdn.net/daumtop_deco/images/op/noimg_1x1.png\" data-src=\" //img2.daumcdn.net/thumb/S700x400/?fname=https://t1.daumcdn.net/news/202107/09/yonhap/20210709103131218qthm.jpg\" height=\"400\" class=\"img_thumb\" alt=\"&#39;붕괴 참사&#39; 미 아파트에서 보름째 이어지는 수색작업\">\\n</span>\\n</li>\\n<li aria-hidden=\"true\" data-href=\"https://gallery.v.daum.net/p/viewer/1512/20210709000327886\" data-cp=\"중앙일보\" data-id=\"20210709000327886\" data-date=\"\">\\n<span class=\"box_photo\">\\n<img src=\"//t1.daumcdn.net/daumtop_deco/images/op/noimg_1x1.png\" data-src=\" //img2.daumcdn.net/thumb/S700x400/?fname=https://t1.daumcdn.net/news/202107/09/joongang/20210709000328720grhx.jpg\" height=\"400\" class=\"img_thumb\" alt=\"[사진] 셋째 줄로 밀린 이병철\">\\n</span>\\n</li>\\n<li aria-hidden=\"true\" data-href=\"https://gallery.v.daum.net/p/viewer/1797271/20210708160932353\" data-cp=\"뉴스1\" data-id=\"20210708160932353\" data-date=\"\">\\n<span class=\"box_photo\">\\n<img src=\"//t1.daumcdn.net/daumtop_deco/images/op/noimg_1x1.png\" data-src=\" //img2.daumcdn.net/thumb/S700x400/?fname=https://t1.daumcdn.net/news/202107/08/NEWS1/20210708160933750kgdw.jpg\" height=\"400\" class=\"img_thumb\" alt=\"이강인 &#39;축구대표팀 대표로 결단식 참석&#39;\">\\n</span>\\n</li>\\n<li aria-hidden=\"true\" data-href=\"https://gallery.v.daum.net/p/viewer/674200/20210708210101881\" data-cp=\"서울신문\" data-id=\"20210708210101881\" data-date=\"\">\\n<span class=\"box_photo\">\\n<img src=\"//t1.daumcdn.net/daumtop_deco/images/op/noimg_1x1.png\" data-src=\" //img2.daumcdn.net/thumb/S700x400/?fname=https://t1.daumcdn.net/news/202107/08/seoul/20210708210105883vzwq.jpg\" height=\"400\" class=\"img_thumb\" alt=\"[서울포토] &#39;프랑스 요정&#39; 소피 마르소, 여전히 눈부신 미모\">\\n</span>\\n</li>\\n<li aria-hidden=\"true\" data-href=\"https://gallery.v.daum.net/p/viewer/1489/20210709065629114\" data-cp=\"뉴스1\" data-id=\"20210709065629114\" data-date=\"\">\\n<span class=\"box_photo\">\\n<img src=\"//t1.daumcdn.net/daumtop_deco/images/op/noimg_1x1.png\" data-src=\" //img2.daumcdn.net/thumb/S700x400/?fname=https://t1.daumcdn.net/news/202107/09/NEWS1/20210709065630751lllr.jpg\" height=\"400\" class=\"img_thumb\" alt=\"북한, 장마철 재해 대비 주문..&quot;적시 대책에 만전&quot;\">\\n</span>\\n</li>\\n<li aria-hidden=\"true\" data-href=\"https://gallery.v.daum.net/p/viewer/1473/20210709093618685\" data-cp=\"한국일보\" data-id=\"20210709093618685\" data-date=\"\">\\n<span class=\"box_photo\">\\n<img src=\"//t1.daumcdn.net/daumtop_deco/images/op/noimg_1x1.png\" data-src=\" //img2.daumcdn.net/thumb/S700x400/?fname=https://t1.daumcdn.net/news/202107/09/hankooki/20210709093620852tuqb.jpg\" height=\"400\" class=\"img_thumb\" alt=\"청주서 SUV가 시내버스 추돌..1명 숨지고 3명 다쳐\">\\n</span>\\n</li>\\n<li aria-hidden=\"true\" data-href=\"https://gallery.v.daum.net/p/viewer/1497/20210708173602939\" data-cp=\"서울신문\" data-id=\"20210708173602939\" data-date=\"\">\\n<span class=\"box_photo\">\\n<img src=\"//t1.daumcdn.net/daumtop_deco/images/op/noimg_1x1.png\" data-src=\" //img2.daumcdn.net/thumb/S700x400/?fname=https://t1.daumcdn.net/news/202107/08/seoul/20210708173603913qmqc.jpg\" height=\"400\" class=\"img_thumb\" alt=\"[아하! 우주] 토성의 달 엔셀라두스의 메탄가스는 생명체 신호?\">\\n</span>\\n</li>\\n<li aria-hidden=\"true\" data-href=\"https://gallery.v.daum.net/p/viewer/5033571/20210705140339609\" data-cp=\"연합뉴스\" data-id=\"20210705140339609\" data-date=\"\">\\n<span class=\"box_photo\">\\n<img src=\"//t1.daumcdn.net/daumtop_deco/images/op/noimg_1x1.png\" data-src=\" //img2.daumcdn.net/thumb/S700x400/?fname=https://t1.daumcdn.net/news/202107/05/yonhap/20210705140339502ptcl.jpg\" height=\"400\" class=\"img_thumb\" alt=\"유가족에게 인사하는 박인호 공군참모총장\">\\n</span>\\n</li>\\n<li aria-hidden=\"true\" data-href=\"https://gallery.v.daum.net/p/viewer/1518/20210708201732134\" data-cp=\"KBS\" data-id=\"20210708201732134\" data-date=\"\">\\n<span class=\"box_photo\">\\n<img src=\"//t1.daumcdn.net/daumtop_deco/images/op/noimg_1x1.png\" data-src=\" //img2.daumcdn.net/thumb/S700x400/?fname=https://t1.daumcdn.net/news/202107/08/kbs/20210708202648063hnux.jpg\" height=\"400\" class=\"img_thumb\" alt=\"경남 진주 지하 노래방 불..3명 대피\">\\n</span>\\n</li>\\n<li aria-hidden=\"true\" data-href=\"https://gallery.v.daum.net/p/viewer/321090/20210706105056528\" data-cp=\"뉴시스\" data-id=\"20210706105056528\" data-date=\"\">\\n<span class=\"box_photo\">\\n<img src=\"//t1.daumcdn.net/daumtop_deco/images/op/noimg_1x1.png\" data-src=\" //img2.daumcdn.net/thumb/S700x400/?fname=https://t1.daumcdn.net/news/202107/06/newsis/20210706105056334aeyu.jpg\" height=\"400\" class=\"img_thumb\" alt=\"국무회의 참석한 김외숙 인사수석\">\\n</span>\\n</li>\\n<li aria-hidden=\"true\" data-href=\"https://gallery.v.daum.net/p/viewer/1783949/20210708114125878\" data-cp=\"뉴시스\" data-id=\"20210708114125878\" data-date=\"\">\\n<span class=\"box_photo\">\\n<img src=\"//t1.daumcdn.net/daumtop_deco/images/op/noimg_1x1.png\" data-src=\" //img2.daumcdn.net/thumb/S700x400/?fname=https://t1.daumcdn.net/news/202107/08/newsis/20210708114125709bmzc.jpg\" height=\"400\" class=\"img_thumb\" alt=\"더위와의 싸움\">\\n</span>\\n</li>\\n<li aria-hidden=\"true\" data-href=\"https://gallery.v.daum.net/p/viewer/176540/20210708162320026\" data-cp=\"연합뉴스\" data-id=\"20210708162320026\" data-date=\"\">\\n<span class=\"box_photo\">\\n<img src=\"//t1.daumcdn.net/daumtop_deco/images/op/noimg_1x1.png\" data-src=\" //img2.daumcdn.net/thumb/S700x400/?fname=https://t1.daumcdn.net/news/202107/08/yonhap/20210708162320472swqs.jpg\" height=\"400\" class=\"img_thumb\" alt=\"배구 여제와 감독\">\\n</span>\\n</li>\\n<li aria-hidden=\"true\" data-href=\"https://gallery.v.daum.net/p/viewer/5040489/20210704165821450\" data-cp=\"OSEN\" data-id=\"20210704165821450\" data-date=\"\">\\n<span class=\"box_photo\">\\n<img src=\"//t1.daumcdn.net/daumtop_deco/images/op/noimg_1x1.png\" data-src=\" //img2.daumcdn.net/thumb/S700x400/?fname=https://t1.daumcdn.net/news/202107/04/poctan/20210704165821698lmmw.jpg\" height=\"400\" class=\"img_thumb\" alt=\"&#39;맥콜 모나파크 오픈&#39; 우승 차지한 김해림 [사진]\">\\n</span>\\n</li>\\n<li aria-hidden=\"true\" data-href=\"https://gallery.v.daum.net/p/viewer/249963/20210708122731588\" data-cp=\"스포티비뉴스\" data-id=\"20210708122731588\" data-date=\"\">\\n<span class=\"box_photo\">\\n<img src=\"//t1.daumcdn.net/daumtop_deco/images/op/noimg_1x1.png\" data-src=\" //img2.daumcdn.net/thumb/S700x400/?fname=https://t1.daumcdn.net/news/202107/08/spotvnews/20210708122734679lved.jpg\" height=\"400\" class=\"img_thumb\" alt=\"[조미예의 MLB현장] &#39;고기는 내가 쏜다&#39; 류현진, &#39;에르난데스에게 기습 백허그&#39;\">\\n</span>\\n</li>\\n<li aria-hidden=\"true\" data-href=\"https://gallery.v.daum.net/p/viewer/5154316/20210708221116854\" data-cp=\"엑스포츠뉴스\" data-id=\"20210708221116854\" data-date=\"\">\\n<span class=\"box_photo\">\\n<img src=\"//t1.daumcdn.net/daumtop_deco/images/op/noimg_1x1.png\" data-src=\" //img2.daumcdn.net/thumb/S700x400/?fname=https://t1.daumcdn.net/news/202107/08/xportsnews/20210708221118376jsyb.jpg\" height=\"400\" class=\"img_thumb\" alt=\"김성현 &#39;결승타의 주인공&#39;[포토]\">\\n</span>\\n</li>\\n</ul>\\n<div class=\"detail_photo\" id=\"photoView\">\\n<span class=\"frame_g\"></span>\\n<a href=\"https://news.daum.net/photo\" class=\"link_photo\" target=\\'_blank\\' data-tiara-layer=\"item\" data-tiara-action-name=\"오늘의 포토_데이터 운영_아이템 클릭\">\\n<h3 class=\"tit_gallery\"></h3>\\n<span class=\"desc_source\"></span>\\n</a>\\n</div>\\n<a href=\"#prevPhoto\" class=\"btn_preview btn_prev\" data-tiara-action-name=\"오늘의 포토_데이터 운영_이전 버튼\" data-tiara-layer=\"preBtn\">\\n<span class=\"frame_g\"></span>\\n<span class=\"ico_pctop ico_prev\">이전 포토 보기</span>\\n<span class=\"txt_gallery\">추천갤러리<br>바로가기</span>\\n</a>\\n<a href=\"#nextPhoto\" class=\"btn_preview btn_next\" data-tiara-action-name=\"오늘의 포토_데이터 운영_다음 버튼\" data-tiara-layer=\"nextBtn\">\\n<span class=\"frame_g\"></span>\\n<span class=\"ico_pctop ico_next\">다음 포토 보기</span>\\n<span class=\"txt_gallery\">추천갤러리<br>바로가기</span>\\n</a>\\n</div>\\n<div class=\"view_slide\" data-tiara-layer=\"data\">\\n<ul class=\"list_thumbnail #photoslide #gallery #img\" style=\"width:1858px;\">\\n<li class=\"fst\"> <a href=\"<url>https://gallery.v.daum.net/p/premium/madeinkorea2</url>\" class=\"link_thumb photo_pic0\" data-tiara-action-name=\"오늘의 포토_데이터 운영_하단 썸네일\" data-tiara-layer=\"thumbnail\">\\n<img src=\"//t1.daumcdn.net/daumtop_deco/images/op/default.png\" data-src=\" //img2.daumcdn.net/thumb/S60x60/?fname=https://t1.daumcdn.net/news/202106/07/CulturalHeritageAdministration/20210607074737429ocjm.jpeg\" width=\"60\" height=\"60\" class=\"img_thumb\" alt=\"공주의 꿈, 코리아 인 패션(KOREA IN FASHION)\">\\n<span class=\"cover_g\"></span>\\n<span class=\"frame_g\"></span>\\n</a>\\n</li>\\n<li class=\"\"> <a href=\"<url>https://gallery.v.daum.net/p/premium/june/cml27vi67L</url>\" class=\"link_thumb photo_pic1\" data-tiara-action-name=\"오늘의 포토_데이터 운영_하단 썸네일\" data-tiara-layer=\"thumbnail\">\\n<img src=\"//t1.daumcdn.net/daumtop_deco/images/op/default.png\" data-src=\" //img2.daumcdn.net/thumb/S60x60/?fname=https://t1.daumcdn.net/news/202106/25/photofriend/20210625093835420agpx.jpg\" width=\"60\" height=\"60\" class=\"img_thumb\" alt=\"당신의 눈길을 기다리고 있는 유월의 꽃들\">\\n<span class=\"cover_g\"></span>\\n<span class=\"frame_g\"></span>\\n</a>\\n</li>\\n<li class=\"\"> <a href=\"<url>https://gallery.v.daum.net/p/premium/beach</url>\" class=\"link_thumb photo_pic2\" data-tiara-action-name=\"오늘의 포토_데이터 운영_하단 썸네일\" data-tiara-layer=\"thumbnail\">\\n<img src=\"//t1.daumcdn.net/daumtop_deco/images/op/default.png\" data-src=\" //img2.daumcdn.net/thumb/S60x60/?fname=https://t1.daumcdn.net/news/202103/09/yonhapnews/20210309061303247iwab.jpeg\" width=\"60\" height=\"60\" class=\"img_thumb\" alt=\"사진으로 떠나보는 랜선 바다 여행\">\\n<span class=\"cover_g\"></span>\\n<span class=\"frame_g\"></span>\\n</a>\\n</li>\\n<li class=\"\"> <a href=\"<url>https://gallery.v.daum.net/p/viewer/987/20210708191415825</url>\" class=\"link_thumb photo_pic3\" data-tiara-action-name=\"오늘의 포토_데이터 운영_하단 썸네일\" data-tiara-layer=\"thumbnail\">\\n<img src=\"//t1.daumcdn.net/daumtop_deco/images/op/default.png\" data-src=\" //img2.daumcdn.net/thumb/S60x60/?fname=https://t1.daumcdn.net/news/202107/08/newsen/20210708191415490mcmb.jpg\" width=\"60\" height=\"60\" class=\"img_thumb\" alt=\"정준하 (MC 민지) &#39;데뷔 무대를 치룬 가수&#39; [포토엔HD]\">\\n<span class=\"cover_g\"></span>\\n<span class=\"frame_g\"></span>\\n</a>\\n</li>\\n<li class=\"\"> <a href=\"<url>https://gallery.v.daum.net/p/viewer/969/20210708175658652</url>\" class=\"link_thumb photo_pic4\" data-tiara-action-name=\"오늘의 포토_데이터 운영_하단 썸네일\" data-tiara-layer=\"thumbnail\">\\n<img src=\"//t1.daumcdn.net/daumtop_deco/images/op/default.png\" data-src=\" //img2.daumcdn.net/thumb/S60x60/?fname=https://t1.daumcdn.net/news/202107/08/xportsnews/20210708175700079biso.jpg\" width=\"60\" height=\"60\" class=\"img_thumb\" alt=\"&#39;싱글맘&#39; 김나영 아들, 너무 예뻐 딸인 줄 알았네 &quot;예뽀라&quot;\">\\n<span class=\"cover_g\"></span>\\n<span class=\"frame_g\"></span>\\n</a>\\n</li>\\n<li class=\"\"> <a href=\"<url>https://gallery.v.daum.net/p/viewer/1084/20210708195009660</url>\" class=\"link_thumb photo_pic5\" data-tiara-action-name=\"오늘의 포토_데이터 운영_하단 썸네일\" data-tiara-layer=\"thumbnail\">\\n<img src=\"//t1.daumcdn.net/daumtop_deco/images/op/default.png\" data-src=\" //img2.daumcdn.net/thumb/S60x60/?fname=https://t1.daumcdn.net/news/202107/08/sportsdonga/20210708195011017lczk.jpg\" width=\"60\" height=\"60\" class=\"img_thumb\" alt=\"김규리 &#39;레드가 포인트&#39; [포토]\">\\n<span class=\"cover_g\"></span>\\n<span class=\"frame_g\"></span>\\n</a>\\n</li>\\n<li class=\"\"> <a href=\"<url>https://gallery.v.daum.net/p/viewer/256/20210708144709663</url>\" class=\"link_thumb photo_pic6\" data-tiara-action-name=\"오늘의 포토_데이터 운영_하단 썸네일\" data-tiara-layer=\"thumbnail\">\\n<img src=\"//t1.daumcdn.net/daumtop_deco/images/op/default.png\" data-src=\" //img2.daumcdn.net/thumb/S60x60/?fname=https://t1.daumcdn.net/news/202107/08/newsen/20210708144709843figk.jpg\" width=\"60\" height=\"60\" class=\"img_thumb\" alt=\"박슬기, &hearts;연하 남편과 결혼기념일 맞아 제주 5성급 호텔서 호캉스 &quot;성공한 사업가 같네&quot;\">\\n<span class=\"cover_g\"></span>\\n<span class=\"frame_g\"></span>\\n</a>\\n</li>\\n<li class=\"\"> <a href=\"<url>https://gallery.v.daum.net/p/viewer/246/20210709104256720</url>\" class=\"link_thumb photo_pic7\" data-tiara-action-name=\"오늘의 포토_데이터 운영_하단 썸네일\" data-tiara-layer=\"thumbnail\">\\n<img src=\"//t1.daumcdn.net/daumtop_deco/images/op/default.png\" data-src=\" //img2.daumcdn.net/thumb/S60x60/?fname=https://t1.daumcdn.net/news/202107/09/mydaily/20210709104256340qgng.jpg\" width=\"60\" height=\"60\" class=\"img_thumb\" alt=\"걸스데이, 여전히 탄탄한 우정..&#39;러블리 4인방&#39;\">\\n<span class=\"cover_g\"></span>\\n<span class=\"frame_g\"></span>\\n</a>\\n</li>\\n<li class=\"\"> <a href=\"<url>https://gallery.v.daum.net/p/viewer/50915/20210709090617502</url>\" class=\"link_thumb photo_pic8\" data-tiara-action-name=\"오늘의 포토_데이터 운영_하단 썸네일\" data-tiara-layer=\"thumbnail\">\\n<img src=\"//t1.daumcdn.net/daumtop_deco/images/op/default.png\" data-src=\" //img2.daumcdn.net/thumb/S60x60/?fname=https://t1.daumcdn.net/news/202107/09/mydaily/20210709090617533zvjl.jpg\" width=\"60\" height=\"60\" class=\"img_thumb\" alt=\"방탄소년단 뷔, 얼굴 천재의 &#39;치명美&#39;\">\\n<span class=\"cover_g\"></span>\\n<span class=\"frame_g\"></span>\\n</a>\\n</li>\\n<li class=\"\"> <a href=\"<url>https://gallery.v.daum.net/p/viewer/5014013/20210709102617032</url>\" class=\"link_thumb photo_pic9\" data-tiara-action-name=\"오늘의 포토_데이터 운영_하단 썸네일\" data-tiara-layer=\"thumbnail\">\\n<img src=\"//t1.daumcdn.net/daumtop_deco/images/op/default.png\" data-src=\" //img2.daumcdn.net/thumb/S60x60/?fname=https://t1.daumcdn.net/news/202107/09/NEWS1/20210709102618604vmui.jpg\" width=\"60\" height=\"60\" class=\"img_thumb\" alt=\"끝 없이 이어진 대기행렬\">\\n<span class=\"cover_g\"></span>\\n<span class=\"frame_g\"></span>\\n</a>\\n</li>\\n<li class=\"\"> <a href=\"<url>https://gallery.v.daum.net/p/viewer/253/20210708193735425</url>\" class=\"link_thumb photo_pic10\" data-tiara-action-name=\"오늘의 포토_데이터 운영_하단 썸네일\" data-tiara-layer=\"thumbnail\">\\n<img src=\"//t1.daumcdn.net/daumtop_deco/images/op/default.png\" data-src=\" //img2.daumcdn.net/thumb/S60x60/?fname=https://t1.daumcdn.net/news/202107/08/mydaily/20210708193735536vecu.jpg\" width=\"60\" height=\"60\" class=\"img_thumb\" alt=\"[MD포토] 우아! 우연 &#39;공연을 화보 느낌으로&#39;\">\\n<span class=\"cover_g\"></span>\\n<span class=\"frame_g\"></span>\\n</a>\\n</li>\\n<li class=\"\"> <a href=\"<url>https://gallery.v.daum.net/p/viewer/379/20210709100023711</url>\" class=\"link_thumb photo_pic11\" data-tiara-action-name=\"오늘의 포토_데이터 운영_하단 썸네일\" data-tiara-layer=\"thumbnail\">\\n<img src=\"//t1.daumcdn.net/daumtop_deco/images/op/default.png\" data-src=\" //img2.daumcdn.net/thumb/S60x60/?fname=https://t1.daumcdn.net/news/202107/09/kppa/20210709100024545ippk.jpg\" width=\"60\" height=\"60\" class=\"img_thumb\" alt=\"[포토친구] 수국\">\\n<span class=\"cover_g\"></span>\\n<span class=\"frame_g\"></span>\\n</a>\\n</li>\\n<li class=\"\"> <a href=\"<url>https://gallery.v.daum.net/p/viewer/965/20210709094223911</url>\" class=\"link_thumb photo_pic12\" data-tiara-action-name=\"오늘의 포토_데이터 운영_하단 썸네일\" data-tiara-layer=\"thumbnail\">\\n<img src=\"//t1.daumcdn.net/daumtop_deco/images/op/default.png\" data-src=\" //img2.daumcdn.net/thumb/S60x60/?fname=https://t1.daumcdn.net/news/202107/09/starnews/20210709094225695qllz.jpg\" width=\"60\" height=\"60\" class=\"img_thumb\" alt=\"&quot;미소마저 고급&quot; 김수현, 고품격 수트 자태\">\\n<span class=\"cover_g\"></span>\\n<span class=\"frame_g\"></span>\\n</a>\\n</li>\\n<li class=\"\"> <a href=\"<url>https://gallery.v.daum.net/p/viewer/318190/20210708220137710</url>\" class=\"link_thumb photo_pic13\" data-tiara-action-name=\"오늘의 포토_데이터 운영_하단 썸네일\" data-tiara-layer=\"thumbnail\">\\n<img src=\"//t1.daumcdn.net/daumtop_deco/images/op/default.png\" data-src=\" //img2.daumcdn.net/thumb/S60x60/?fname=https://t1.daumcdn.net/news/202107/08/segye/20210708220138088kigi.jpg\" width=\"60\" height=\"60\" class=\"img_thumb\" alt=\"&#39;K-배터리&#39; 탑재 차량 탄 文 대통령\">\\n<span class=\"cover_g\"></span>\\n<span class=\"frame_g\"></span>\\n</a>\\n</li>\\n<li class=\"\"> <a href=\"<url>https://gallery.v.daum.net/p/viewer/5024184/20210709103453384</url>\" class=\"link_thumb photo_pic14\" data-tiara-action-name=\"오늘의 포토_데이터 운영_하단 썸네일\" data-tiara-layer=\"thumbnail\">\\n<img src=\"//t1.daumcdn.net/daumtop_deco/images/op/default.png\" data-src=\" //img2.daumcdn.net/thumb/S60x60/?fname=https://t1.daumcdn.net/news/202107/09/THEFACT/20210709103454535ybio.jpg\" width=\"60\" height=\"60\" class=\"img_thumb\" alt=\"&#39;151번째 재판&#39; 출석하는 양승태 전 대법원장 [TF사진관]\">\\n<span class=\"cover_g\"></span>\\n<span class=\"frame_g\"></span>\\n</a>\\n</li>\\n<li class=\"\"> <a href=\"<url>https://gallery.v.daum.net/p/viewer/1476/20210709103131250</url>\" class=\"link_thumb photo_pic15\" data-tiara-action-name=\"오늘의 포토_데이터 운영_하단 썸네일\" data-tiara-layer=\"thumbnail\">\\n<img src=\"//t1.daumcdn.net/daumtop_deco/images/op/default.png\" data-src=\" //img2.daumcdn.net/thumb/S60x60/?fname=https://t1.daumcdn.net/news/202107/09/yonhap/20210709103131218qthm.jpg\" width=\"60\" height=\"60\" class=\"img_thumb\" alt=\"&#39;붕괴 참사&#39; 미 아파트에서 보름째 이어지는 수색작업\">\\n<span class=\"cover_g\"></span>\\n<span class=\"frame_g\"></span>\\n</a>\\n</li>\\n<li class=\"\"> <a href=\"<url>https://gallery.v.daum.net/p/viewer/1512/20210709000327886</url>\" class=\"link_thumb photo_pic16\" data-tiara-action-name=\"오늘의 포토_데이터 운영_하단 썸네일\" data-tiara-layer=\"thumbnail\">\\n<img src=\"//t1.daumcdn.net/daumtop_deco/images/op/default.png\" data-src=\" //img2.daumcdn.net/thumb/S60x60/?fname=https://t1.daumcdn.net/news/202107/09/joongang/20210709000328720grhx.jpg\" width=\"60\" height=\"60\" class=\"img_thumb\" alt=\"[사진] 셋째 줄로 밀린 이병철\">\\n<span class=\"cover_g\"></span>\\n<span class=\"frame_g\"></span>\\n</a>\\n</li>\\n<li class=\"\"> <a href=\"<url>https://gallery.v.daum.net/p/viewer/1797271/20210708160932353</url>\" class=\"link_thumb photo_pic17\" data-tiara-action-name=\"오늘의 포토_데이터 운영_하단 썸네일\" data-tiara-layer=\"thumbnail\">\\n<img src=\"//t1.daumcdn.net/daumtop_deco/images/op/default.png\" data-src=\" //img2.daumcdn.net/thumb/S60x60/?fname=https://t1.daumcdn.net/news/202107/08/NEWS1/20210708160933750kgdw.jpg\" width=\"60\" height=\"60\" class=\"img_thumb\" alt=\"이강인 &#39;축구대표팀 대표로 결단식 참석&#39;\">\\n<span class=\"cover_g\"></span>\\n<span class=\"frame_g\"></span>\\n</a>\\n</li>\\n<li class=\"\"> <a href=\"<url>https://gallery.v.daum.net/p/viewer/674200/20210708210101881</url>\" class=\"link_thumb photo_pic18\" data-tiara-action-name=\"오늘의 포토_데이터 운영_하단 썸네일\" data-tiara-layer=\"thumbnail\">\\n<img src=\"//t1.daumcdn.net/daumtop_deco/images/op/default.png\" data-src=\" //img2.daumcdn.net/thumb/S60x60/?fname=https://t1.daumcdn.net/news/202107/08/seoul/20210708210105883vzwq.jpg\" width=\"60\" height=\"60\" class=\"img_thumb\" alt=\"[서울포토] &#39;프랑스 요정&#39; 소피 마르소, 여전히 눈부신 미모\">\\n<span class=\"cover_g\"></span>\\n<span class=\"frame_g\"></span>\\n</a>\\n</li>\\n<li class=\"\"> <a href=\"<url>https://gallery.v.daum.net/p/viewer/1489/20210709065629114</url>\" class=\"link_thumb photo_pic19\" data-tiara-action-name=\"오늘의 포토_데이터 운영_하단 썸네일\" data-tiara-layer=\"thumbnail\">\\n<img src=\"//t1.daumcdn.net/daumtop_deco/images/op/default.png\" data-src=\" //img2.daumcdn.net/thumb/S60x60/?fname=https://t1.daumcdn.net/news/202107/09/NEWS1/20210709065630751lllr.jpg\" width=\"60\" height=\"60\" class=\"img_thumb\" alt=\"북한, 장마철 재해 대비 주문..&quot;적시 대책에 만전&quot;\">\\n<span class=\"cover_g\"></span>\\n<span class=\"frame_g\"></span>\\n</a>\\n</li>\\n<li class=\"\"> <a href=\"<url>https://gallery.v.daum.net/p/viewer/1473/20210709093618685</url>\" class=\"link_thumb photo_pic20\" data-tiara-action-name=\"오늘의 포토_데이터 운영_하단 썸네일\" data-tiara-layer=\"thumbnail\">\\n<img src=\"//t1.daumcdn.net/daumtop_deco/images/op/default.png\" data-src=\" //img2.daumcdn.net/thumb/S60x60/?fname=https://t1.daumcdn.net/news/202107/09/hankooki/20210709093620852tuqb.jpg\" width=\"60\" height=\"60\" class=\"img_thumb\" alt=\"청주서 SUV가 시내버스 추돌..1명 숨지고 3명 다쳐\">\\n<span class=\"cover_g\"></span>\\n<span class=\"frame_g\"></span>\\n</a>\\n</li>\\n<li class=\"\"> <a href=\"<url>https://gallery.v.daum.net/p/viewer/1497/20210708173602939</url>\" class=\"link_thumb photo_pic21\" data-tiara-action-name=\"오늘의 포토_데이터 운영_하단 썸네일\" data-tiara-layer=\"thumbnail\">\\n<img src=\"//t1.daumcdn.net/daumtop_deco/images/op/default.png\" data-src=\" //img2.daumcdn.net/thumb/S60x60/?fname=https://t1.daumcdn.net/news/202107/08/seoul/20210708173603913qmqc.jpg\" width=\"60\" height=\"60\" class=\"img_thumb\" alt=\"[아하! 우주] 토성의 달 엔셀라두스의 메탄가스는 생명체 신호?\">\\n<span class=\"cover_g\"></span>\\n<span class=\"frame_g\"></span>\\n</a>\\n</li>\\n<li class=\"\"> <a href=\"<url>https://gallery.v.daum.net/p/viewer/5033571/20210705140339609</url>\" class=\"link_thumb photo_pic22\" data-tiara-action-name=\"오늘의 포토_데이터 운영_하단 썸네일\" data-tiara-layer=\"thumbnail\">\\n<img src=\"//t1.daumcdn.net/daumtop_deco/images/op/default.png\" data-src=\" //img2.daumcdn.net/thumb/S60x60/?fname=https://t1.daumcdn.net/news/202107/05/yonhap/20210705140339502ptcl.jpg\" width=\"60\" height=\"60\" class=\"img_thumb\" alt=\"유가족에게 인사하는 박인호 공군참모총장\">\\n<span class=\"cover_g\"></span>\\n<span class=\"frame_g\"></span>\\n</a>\\n</li>\\n<li class=\"\"> <a href=\"<url>https://gallery.v.daum.net/p/viewer/1518/20210708201732134</url>\" class=\"link_thumb photo_pic23\" data-tiara-action-name=\"오늘의 포토_데이터 운영_하단 썸네일\" data-tiara-layer=\"thumbnail\">\\n<img src=\"//t1.daumcdn.net/daumtop_deco/images/op/default.png\" data-src=\" //img2.daumcdn.net/thumb/S60x60/?fname=https://t1.daumcdn.net/news/202107/08/kbs/20210708202648063hnux.jpg\" width=\"60\" height=\"60\" class=\"img_thumb\" alt=\"경남 진주 지하 노래방 불..3명 대피\">\\n<span class=\"cover_g\"></span>\\n<span class=\"frame_g\"></span>\\n</a>\\n</li>\\n<li class=\"\"> <a href=\"<url>https://gallery.v.daum.net/p/viewer/321090/20210706105056528</url>\" class=\"link_thumb photo_pic24\" data-tiara-action-name=\"오늘의 포토_데이터 운영_하단 썸네일\" data-tiara-layer=\"thumbnail\">\\n<img src=\"//t1.daumcdn.net/daumtop_deco/images/op/default.png\" data-src=\" //img2.daumcdn.net/thumb/S60x60/?fname=https://t1.daumcdn.net/news/202107/06/newsis/20210706105056334aeyu.jpg\" width=\"60\" height=\"60\" class=\"img_thumb\" alt=\"국무회의 참석한 김외숙 인사수석\">\\n<span class=\"cover_g\"></span>\\n<span class=\"frame_g\"></span>\\n</a>\\n</li>\\n<li class=\"\"> <a href=\"<url>https://gallery.v.daum.net/p/viewer/1783949/20210708114125878</url>\" class=\"link_thumb photo_pic25\" data-tiara-action-name=\"오늘의 포토_데이터 운영_하단 썸네일\" data-tiara-layer=\"thumbnail\">\\n<img src=\"//t1.daumcdn.net/daumtop_deco/images/op/default.png\" data-src=\" //img2.daumcdn.net/thumb/S60x60/?fname=https://t1.daumcdn.net/news/202107/08/newsis/20210708114125709bmzc.jpg\" width=\"60\" height=\"60\" class=\"img_thumb\" alt=\"더위와의 싸움\">\\n<span class=\"cover_g\"></span>\\n<span class=\"frame_g\"></span>\\n</a>\\n</li>\\n<li class=\"\"> <a href=\"<url>https://gallery.v.daum.net/p/viewer/176540/20210708162320026</url>\" class=\"link_thumb photo_pic26\" data-tiara-action-name=\"오늘의 포토_데이터 운영_하단 썸네일\" data-tiara-layer=\"thumbnail\">\\n<img src=\"//t1.daumcdn.net/daumtop_deco/images/op/default.png\" data-src=\" //img2.daumcdn.net/thumb/S60x60/?fname=https://t1.daumcdn.net/news/202107/08/yonhap/20210708162320472swqs.jpg\" width=\"60\" height=\"60\" class=\"img_thumb\" alt=\"배구 여제와 감독\">\\n<span class=\"cover_g\"></span>\\n<span class=\"frame_g\"></span>\\n</a>\\n</li>\\n<li class=\"\"> <a href=\"<url>https://gallery.v.daum.net/p/viewer/5040489/20210704165821450</url>\" class=\"link_thumb photo_pic27\" data-tiara-action-name=\"오늘의 포토_데이터 운영_하단 썸네일\" data-tiara-layer=\"thumbnail\">\\n<img src=\"//t1.daumcdn.net/daumtop_deco/images/op/default.png\" data-src=\" //img2.daumcdn.net/thumb/S60x60/?fname=https://t1.daumcdn.net/news/202107/04/poctan/20210704165821698lmmw.jpg\" width=\"60\" height=\"60\" class=\"img_thumb\" alt=\"&#39;맥콜 모나파크 오픈&#39; 우승 차지한 김해림 [사진]\">\\n<span class=\"cover_g\"></span>\\n<span class=\"frame_g\"></span>\\n</a>\\n</li>\\n<li class=\"\"> <a href=\"<url>https://gallery.v.daum.net/p/viewer/249963/20210708122731588</url>\" class=\"link_thumb photo_pic28\" data-tiara-action-name=\"오늘의 포토_데이터 운영_하단 썸네일\" data-tiara-layer=\"thumbnail\">\\n<img src=\"//t1.daumcdn.net/daumtop_deco/images/op/default.png\" data-src=\" //img2.daumcdn.net/thumb/S60x60/?fname=https://t1.daumcdn.net/news/202107/08/spotvnews/20210708122734679lved.jpg\" width=\"60\" height=\"60\" class=\"img_thumb\" alt=\"[조미예의 MLB현장] &#39;고기는 내가 쏜다&#39; 류현진, &#39;에르난데스에게 기습 백허그&#39;\">\\n<span class=\"cover_g\"></span>\\n<span class=\"frame_g\"></span>\\n</a>\\n</li>\\n<li class=\"\"> <a href=\"<url>https://gallery.v.daum.net/p/viewer/5154316/20210708221116854</url>\" class=\"link_thumb photo_pic29\" data-tiara-action-name=\"오늘의 포토_데이터 운영_하단 썸네일\" data-tiara-layer=\"thumbnail\">\\n<img src=\"//t1.daumcdn.net/daumtop_deco/images/op/default.png\" data-src=\" //img2.daumcdn.net/thumb/S60x60/?fname=https://t1.daumcdn.net/news/202107/08/xportsnews/20210708221118376jsyb.jpg\" width=\"60\" height=\"60\" class=\"img_thumb\" alt=\"김성현 &#39;결승타의 주인공&#39;[포토]\">\\n<span class=\"cover_g\"></span>\\n<span class=\"frame_g\"></span>\\n</a>\\n</li>\\n</ul>\\n<a href=\"#prevPhotoList\" class=\"btn_move btn_prev\" data-tiara-layer=\"tumbnail_preBtn\" data-tiara-action-name=\"오늘의 포토_데이터 운영_하단 썸네일_이전버튼\"><span class=\"ico_pctop\">이전 이미지 목록 보기</span></a>\\n<a href=\"#nextPhotoList\" class=\"btn_move btn_next\" data-tiara-layer=\"tumbnail_nextBtn\" data-tiara-action-name=\"오늘의 포토_데이터 운영_하단 썸네일_다음버튼\"><span class=\"ico_pctop\">다음 이미지 목록 보기</span></a>\\n</div>\\n</div>\\n</div>\\n</main>\\n<!-- // daumContent -->\\n<hr class=\"hide\">\\n<footer id=\"daumFoot\" class=\"foot_daum\" data-tiara-layer=\"Footer\">\\n<div class=\"inner_foot\">\\n<a href=\"https://www.daum.net/\" class=\"link_logo\" data-tiara-layer=\"logo\" data-tiara-action-name=\"푸터_다음 로고\"><img src=\"//t1.daumcdn.net/daumtop_deco/images/top/2017/logo_foot.gif\" width=\"52\" height=\"22\" class=\"img_thumb\" alt=\"다음\"></a>\\n<div class=\"info_notice\" data-tiara-layer=\"notice\">\\n<h2 class=\"tit_notice\"><a href=\"https://m.daum.net/channel/new/notice\" class=\"ico_vert link_notice\" data-tiara-action-name=\"푸터_공지사항\" data-tiara-layer=\"title\">공지사항</a></h2>\\n<ul class=\"list_notice\">\\n\\n<li>\\n<a href=\"https://m.daum.net/channel/new/notice/view/60d4400c08165c05ecc20267?title=%EA%B0%9C%EC%9D%B8%EC%A0%95%EB%B3%B4+%EC%B2%98%EB%A6%AC%EB%B0%A9%EC%B9%A8+%EA%B0%9C%EC%A0%95+%EC%95%88%EB%82%B4&amp;date=2021-06-24\" class=\"link_info\" data-tiara-action-name=\"푸터_공지사항 아이템 클릭\" data-tiara-layer=\"item\">개인정보 처리방침 개정 안내</a>\\n</li>\\n</ul>\\n</div>\\n<a href=\"sitemap/index.html\" class=\"ico_vert link_svcall\" data-tiara-layer=\"sitemap\" data-tiara-action-name=\"푸터_전체서비스\">서비스 전체보기</a>\\n<h2 class=\"screen_out\">다음 소개 및 약관</h2>\\n<div class=\"info_policy\">\\n<a href=\"https://www.kakaocorp.com\" class=\"link_info\" data-tiara-layer=\"kakaocorp\" data-tiara-action-name=\"푸터_회사소개\" target=\"_blank\">회사소개</a>\\n<span class=\"txt_dot\">&middot;</span>\\n<a href=\"https://business.kakao.com\" class=\"link_info\" data-tiara-layer=\"business\" data-tiara-action-name=\"푸터_비즈니스\" target=\"_blank\">비즈니스</a>\\n<span class=\"txt_dot\">&middot;</span>\\n<a href=\"https://register.search.daum.net/index.daum\" data-tiara-layer=\"register_search\" data-tiara-action-name=\"푸터_검색등록\" class=\"link_info\">검색등록</a>\\n<span class=\"txt_dot\">&middot;</span>\\n<a href=\"https://with.kakao.com/\" class=\"link_info\" data-tiara-layer=\"with_kakao\" data-tiara-action-name=\"푸터_제휴문의\" target=\"_blank\">제휴문의</a>\\n<span class=\"txt_dot\">&middot;</span>\\n<a href=\"https://careers.kakao.com/index\" data-tiara-layer=\"careers\" data-tiara-action-name=\"푸터_인재채용\" class=\"link_info\" target=\"_blank\">인재채용</a>\\n</div>\\n<div class=\"info_policy\">\\n<a href=\"https://policy.daum.net/info/info\" data-tiara-layer=\"policy\" data-tiara-action-name=\"푸터_이용약관\" class=\"link_info\">이용약관</a>\\n<span class=\"txt_dot\">&middot;</span>\\n<a href=\"https://policy.daum.net/operation_policy/operation_policy\" data-tiara-layer=\"operation_policy\" data-tiara-action-name=\"푸터_운영정책\" class=\"link_info\">운영정책</a>\\n<span class=\"txt_dot\">&middot;</span>\\n<a href=\"https://policy.daum.net/youthpolicy/youthpolicy\" data-tiara-layer=\"youth_policy\" data-tiara-action-name=\"푸터_청소년보호정책\" class=\"link_info\">청소년보호정책</a>\\n<span class=\"txt_dot\">&middot;</span>\\n<a href=\"https://policy.daum.net/mobile_info/mobile_info\" data-tiara-layer=\"info_mobile\" data-tiara-action-name=\"푸터_위치기반서비스이용약관\" class=\"link_info\"><strong>위치기반서비스이용약관</strong></a>\\n<span class=\"txt_dot\">&middot;</span>\\n<a href=\"https://policy.daum.net/info_protection/info_protection\" data-tiara-layer=\"info_protection\" data-tiara-action-name=\"푸터_개인정보처리방침\" class=\"link_info\"><strong>개인정보처리방침</strong></a>\\n<span class=\"txt_dot\">&middot;</span>\\n<a href=\"https://www.daum.net/doc/top_accessibility.html\" data-tiara-layer=\"top_accessibility\" data-tiara-action-name=\"푸터_웹접근성안내\" class=\"link_info\">웹접근성안내</a>\\n<span class=\"txt_dot\">&middot;</span>\\n<a href=\"https://cs.daum.net/\" data-tiara-layer=\"cs\" data-tiara-action-name=\"푸터_고객센터\" class=\"link_info\">고객센터</a>\\n</div>\\n<small class=\"txt_copyright\">Copyright © <a href=\"https://www.kakaocorp.com/\" data-tiara-layer=\"copyright\" data-tiara-action-name=\"푸터_카피라이트\" class=\"link_kakao\">Kakao Corp.</a> All rights reserved.</small>\\n</div>\\n</footer>\\n</div>\\n<script type=\"text/javascript\" src=\"//t1.daumcdn.net/daumtop_deco/scripts/202106011311/top.js\"></script>\\n<script type=\"text/javascript\" src=\"//t1.daumcdn.net/b2/ssp/awsa.js?ver=20190920\" async></script>\\n</body>\\n</html>\\n'"
      ]
     },
     "execution_count": 38,
     "metadata": {},
     "output_type": "execute_result"
    }
   ],
   "source": [
    "import requests\n",
    "\n",
    "html = requests.get('https://www.daum.net').text\n",
    "html"
   ]
  },
  {
   "cell_type": "code",
   "execution_count": 39,
   "id": "d525ff53",
   "metadata": {},
   "outputs": [
    {
     "data": {
      "text/plain": [
       "'Daum'"
      ]
     },
     "execution_count": 39,
     "metadata": {},
     "output_type": "execute_result"
    }
   ],
   "source": [
    "from bs4 import BeautifulSoup\n",
    "root = BeautifulSoup(html, 'html.parser') # => DOM으로 변환\n",
    "title = root.html.head.title.string\n",
    "title"
   ]
  },
  {
   "cell_type": "code",
   "execution_count": 40,
   "id": "4b20d4ed",
   "metadata": {},
   "outputs": [
    {
     "data": {
      "text/plain": [
       "<title>Daum</title>"
      ]
     },
     "execution_count": 40,
     "metadata": {},
     "output_type": "execute_result"
    }
   ],
   "source": [
    "title_tag = root.find('title') #find(): 파라메터에 작성된 조건에 일치하는 태그 한개만 찾아줌\n",
    "title_tag"
   ]
  },
  {
   "cell_type": "code",
   "execution_count": 41,
   "id": "76ddef70",
   "metadata": {},
   "outputs": [
    {
     "data": {
      "text/plain": [
       "'Daum'"
      ]
     },
     "execution_count": 41,
     "metadata": {},
     "output_type": "execute_result"
    }
   ],
   "source": [
    "title_tag.string #태그의 텍스트 반환"
   ]
  },
  {
   "cell_type": "code",
   "execution_count": 42,
   "id": "78c51a45",
   "metadata": {},
   "outputs": [
    {
     "data": {
      "text/plain": [
       "'Daum'"
      ]
     },
     "execution_count": 42,
     "metadata": {},
     "output_type": "execute_result"
    }
   ],
   "source": [
    "title_tag.get_text() #태그의 텍스트 반환"
   ]
  },
  {
   "cell_type": "code",
   "execution_count": 43,
   "id": "13dcda50",
   "metadata": {},
   "outputs": [
    {
     "data": {
      "text/plain": [
       "<meta charset=\"utf-8\"/>"
      ]
     },
     "execution_count": 43,
     "metadata": {},
     "output_type": "execute_result"
    }
   ],
   "source": [
    "#태그이름이 meta인 요소를 찾으시오\n",
    "meta_tag = root.find('meta')\n",
    "meta_tag"
   ]
  },
  {
   "cell_type": "code",
   "execution_count": 46,
   "id": "aef9ed14",
   "metadata": {},
   "outputs": [
    {
     "data": {
      "text/plain": [
       "'utf-8'"
      ]
     },
     "execution_count": 46,
     "metadata": {},
     "output_type": "execute_result"
    }
   ],
   "source": [
    "meta_tag['charset']"
   ]
  },
  {
   "cell_type": "code",
   "execution_count": 44,
   "id": "2e7a48ec",
   "metadata": {},
   "outputs": [
    {
     "data": {
      "text/plain": [
       "[<meta charset=\"utf-8\"/>,\n",
       " <meta content=\"https://www.daum.net/\" property=\"og:url\"/>,\n",
       " <meta content=\"website\" property=\"og:type\"/>,\n",
       " <meta content=\"Daum\" property=\"og:title\"/>,\n",
       " <meta content=\"//i1.daumcdn.net/svc/image/U03/common_icon/5587C4E4012FCD0001\" property=\"og:image\"/>,\n",
       " <meta content=\"나의 관심 콘텐츠를 가장 즐겁게 볼 수 있는 Daum\" property=\"og:description\"/>,\n",
       " <meta content=\"name=Daum;action-uri=https://www.daum.net/;icon-uri=/favicon.ico\" name=\"msapplication-task\"/>,\n",
       " <meta content=\"name=미디어다음;action-uri=https://news.daum.net/;icon-uri=/media_favicon.ico\" name=\"msapplication-task\"/>,\n",
       " <meta content=\"name=메일;action-uri=http://mail.daum.net;icon-uri=/mail_favicon.ico\" name=\"msapplication-task\"/>,\n",
       " <meta content=\"origin\" name=\"referrer\"/>]"
      ]
     },
     "execution_count": 44,
     "metadata": {},
     "output_type": "execute_result"
    }
   ],
   "source": [
    "meta_tags = root.find_all('meta')\n",
    "meta_tags"
   ]
  },
  {
   "cell_type": "code",
   "execution_count": 45,
   "id": "6518b864",
   "metadata": {},
   "outputs": [
    {
     "data": {
      "text/plain": [
       "[<meta charset=\"utf-8\"/>,\n",
       " <meta content=\"https://www.daum.net/\" property=\"og:url\"/>,\n",
       " <meta content=\"website\" property=\"og:type\"/>,\n",
       " <meta content=\"Daum\" property=\"og:title\"/>,\n",
       " <meta content=\"//i1.daumcdn.net/svc/image/U03/common_icon/5587C4E4012FCD0001\" property=\"og:image\"/>,\n",
       " <meta content=\"나의 관심 콘텐츠를 가장 즐겁게 볼 수 있는 Daum\" property=\"og:description\"/>,\n",
       " <meta content=\"name=Daum;action-uri=https://www.daum.net/;icon-uri=/favicon.ico\" name=\"msapplication-task\"/>,\n",
       " <meta content=\"name=미디어다음;action-uri=https://news.daum.net/;icon-uri=/media_favicon.ico\" name=\"msapplication-task\"/>,\n",
       " <meta content=\"name=메일;action-uri=http://mail.daum.net;icon-uri=/mail_favicon.ico\" name=\"msapplication-task\"/>,\n",
       " <meta content=\"origin\" name=\"referrer\"/>]"
      ]
     },
     "execution_count": 45,
     "metadata": {},
     "output_type": "execute_result"
    }
   ],
   "source": [
    "meta_tags = root.select('meta')\n",
    "meta_tags"
   ]
  },
  {
   "cell_type": "code",
   "execution_count": 49,
   "id": "bdaadf8f",
   "metadata": {},
   "outputs": [
    {
     "name": "stdout",
     "output_type": "stream",
     "text": [
      "https://www.daum.net/\n",
      "website\n",
      "Daum\n",
      "//i1.daumcdn.net/svc/image/U03/common_icon/5587C4E4012FCD0001\n",
      "나의 관심 콘텐츠를 가장 즐겁게 볼 수 있는 Daum\n",
      "name=Daum;action-uri=https://www.daum.net/;icon-uri=/favicon.ico\n",
      "name=미디어다음;action-uri=https://news.daum.net/;icon-uri=/media_favicon.ico\n",
      "name=메일;action-uri=http://mail.daum.net;icon-uri=/mail_favicon.ico\n",
      "origin\n"
     ]
    }
   ],
   "source": [
    "for i in range(1, len(meta_tags)):\n",
    "    print(meta_tags[i]['content'])\n"
   ]
  },
  {
   "cell_type": "code",
   "execution_count": 50,
   "id": "ea77188f",
   "metadata": {},
   "outputs": [
    {
     "data": {
      "text/plain": [
       "[<meta charset=\"utf-8\"/>]"
      ]
     },
     "execution_count": 50,
     "metadata": {},
     "output_type": "execute_result"
    }
   ],
   "source": [
    "t = root.find_all('meta', {'charset':'utf-8'})\n",
    "t"
   ]
  },
  {
   "cell_type": "code",
   "execution_count": 54,
   "id": "a7210130",
   "metadata": {},
   "outputs": [
    {
     "data": {
      "text/plain": [
       "[<div class=\"w_nwl_text\">\n",
       " <!-- 기사 타이틀 -->\n",
       " <h3 class=\"nwl_title\">4층서 식칼 던지는 위험한 이웃…'궁금한이야기Y' 추적</h3>\n",
       " <!-- 기사 리드문 -->\n",
       " <div class=\"nwl_text\">SBS '궁금한 이야기Y'가 식칼을 던지며 위협하는 위험한 이웃에 대해 알아본다. 9일 방송될 '궁금한 이야기Y'에서는 한 남자에게 위협받고 있다는 선희 씨의 사연을 공개한다. 지난 6월 29일, 선희 씨는 살인의 공포를 느끼는 일을 당했다.</div>\n",
       " <!-- 기사 정보 (기자 및 날짜시간) -->\n",
       " <div class=\"w_nwl_info\">\n",
       " <em class=\"nwl_reporter\">강선애 기자</em>\n",
       " <div class=\"nwl_subtext\">2021.07.09 11:57</div>\n",
       " </div>\n",
       " </div>,\n",
       " <div class=\"w_nwl_text\">\n",
       " <!-- 기사 타이틀 -->\n",
       " <h3 class=\"nwl_title\">'신세경 다큐멘터리' 나온다…김종관 감독 연출</h3>\n",
       " <!-- 기사 리드문 -->\n",
       " <div class=\"nwl_text\">배우 신세경의 일상을 담은 다큐멘터리가 제작된다. 쇼박스가 KT Seezn과 손잡고 스타들의 평범하지만 특별한 라이프를 담아내는 시네마틱 리얼 다큐 '어나더 레코드' 제작에 나선다.</div>\n",
       " <!-- 기사 정보 (기자 및 날짜시간) -->\n",
       " <div class=\"w_nwl_info\">\n",
       " <em class=\"nwl_reporter\">김지혜 기자</em>\n",
       " <div class=\"nwl_subtext\">2021.07.09 11:52</div>\n",
       " </div>\n",
       " </div>,\n",
       " <div class=\"w_nwl_text\">\n",
       " <!-- 기사 타이틀 -->\n",
       " <h3 class=\"nwl_title\">'미우새' 이승엽 \"46세에 늦둥이 봤다\"…김종국母 \"우리 아들도 가능하겠다\" 안도</h3>\n",
       " <!-- 기사 리드문 -->\n",
       " <div class=\"nwl_text\">대한민국 프로야구의 영원한 '국민 타자' 이승엽이 미모의 솔직한 입담으로 의외의 '줌마 매력'을 발산한다. 최근 진행된 SBS '미운 우리 새끼' 녹화에는 SBS 골프 예능 '편먹고 공치리'에 합류한 이승엽이 스페셜MC로 자리했다.</div>\n",
       " <!-- 기사 정보 (기자 및 날짜시간) -->\n",
       " <div class=\"w_nwl_info\">\n",
       " <em class=\"nwl_reporter\">강선애 기자</em>\n",
       " <div class=\"nwl_subtext\">2021.07.09 11:34</div>\n",
       " </div>\n",
       " </div>,\n",
       " <div class=\"w_nwl_text\">\n",
       " <!-- 기사 타이틀 -->\n",
       " <h3 class=\"nwl_title\">그룹 킹덤, 코로나19 검사...\"전원 음성판정\"</h3>\n",
       " <!-- 기사 리드문 -->\n",
       " <div class=\"nwl_text\">그룹 킹덤 멤버들이 신종 코로나바이러스 감염증 검사를 받아 최종 음성 판정을 받았다. 소속사 GF엔터테인먼트는 9일 \"지난 8일 킹덤 멤버 및 스태프들은 선제적 코로나19 유전자 증폭 검사를 진행한 결과, 전원 음성 판정을 받았다.</div>\n",
       " <!-- 기사 정보 (기자 및 날짜시간) -->\n",
       " <div class=\"w_nwl_info\">\n",
       " <em class=\"nwl_reporter\">강경윤 기자</em>\n",
       " <div class=\"nwl_subtext\">2021.07.09 11:34</div>\n",
       " </div>\n",
       " </div>,\n",
       " <div class=\"w_nwl_text\">\n",
       " <!-- 기사 타이틀 -->\n",
       " <h3 class=\"nwl_title\">방탄소년단 'BTS, THE BEST' 日 레코드협회 '밀리언' 인증</h3>\n",
       " <!-- 기사 리드문 -->\n",
       " <div class=\"nwl_text\">그룹 방탄소년단이 일본에서 발매한 베스트 앨범 'BTS, THE BEST'로 일본 레코드협회로부터 '밀리언' 인증을 받았다. 9일 일본 레코드협회 발표에 따르면, 방탄소년단이 지난 6월 16일 발매한 'BTS, THE BEST'는 누적 출하량 100만 장을 돌파해 '밀리언' 인증을 획득했다.</div>\n",
       " <!-- 기사 정보 (기자 및 날짜시간) -->\n",
       " <div class=\"w_nwl_info\">\n",
       " <em class=\"nwl_reporter\">강경윤 기자</em>\n",
       " <div class=\"nwl_subtext\">2021.07.09 11:33</div>\n",
       " </div>\n",
       " </div>,\n",
       " <div class=\"w_nwl_text\">\n",
       " <!-- 기사 타이틀 -->\n",
       " <h3 class=\"nwl_title\">\"이지아, 무자비한 반격 시작\"…'펜트하우스3', 2막 관전포인트</h3>\n",
       " <!-- 기사 리드문 -->\n",
       " <div class=\"nwl_text\">'펜트하우스3'가 본격적으로 2막을 시작한다. SBS 금요드라마 '펜트하우스3'는 빠른 전개와 화려하고 감각적인 영상미, 캐릭터의 매력을 생생하게 그려내는 배우들의 호연이 하모니를 이루며 5주 연속으로 주간 전체 미니시리즈 시청률 1위를 달성, 적수 없는 절대 강자의 위엄을 드러내고 있다.</div>\n",
       " <!-- 기사 정보 (기자 및 날짜시간) -->\n",
       " <div class=\"w_nwl_info\">\n",
       " <em class=\"nwl_reporter\">강선애 기자</em>\n",
       " <div class=\"nwl_subtext\">2021.07.09 10:44</div>\n",
       " </div>\n",
       " </div>,\n",
       " <div class=\"w_nwl_text\">\n",
       " <!-- 기사 타이틀 -->\n",
       " <h3 class=\"nwl_title\">방탄소년단, 신곡 'Permission to Dance' 전 세계 동시 공개</h3>\n",
       " <!-- 기사 리드문 -->\n",
       " <div class=\"nwl_text\">'21세기 팝 아이콘' 방탄소년단이 신곡 'Permission to Dance'로 전 세계 팬들을 하나로 묶는다. 방탄소년단은 9일 오후 1시 싱글 CD 'Butter'를 전 세계 동시에 공개한다.</div>\n",
       " <!-- 기사 정보 (기자 및 날짜시간) -->\n",
       " <div class=\"w_nwl_info\">\n",
       " <em class=\"nwl_reporter\">강경윤 기자</em>\n",
       " <div class=\"nwl_subtext\">2021.07.09 10:12</div>\n",
       " </div>\n",
       " </div>,\n",
       " <div class=\"w_nwl_text\">\n",
       " <!-- 기사 타이틀 -->\n",
       " <h3 class=\"nwl_title\">이승기 \"유수빈, 넘치는 끼로 빠르게 적응할 것\"…'집사부일체' 형들의 응원</h3>\n",
       " <!-- 기사 리드문 -->\n",
       " <div class=\"nwl_text\">SBS '집사부일체' 이승기, 양세형, 김동현이 막내 멤버로 합류한 유수빈에게 응원의 말을 전했다. 지난 8일 주요 포털 및 SBS 공식 SNS 채널에는 '집사부일체' 새 포스터 촬영 현장을 담은 비하인드 영상이 공개됐다.</div>\n",
       " <!-- 기사 정보 (기자 및 날짜시간) -->\n",
       " <div class=\"w_nwl_info\">\n",
       " <em class=\"nwl_reporter\">강선애 기자</em>\n",
       " <div class=\"nwl_subtext\">2021.07.09 10:12</div>\n",
       " </div>\n",
       " </div>,\n",
       " <div class=\"w_nwl_text\">\n",
       " <!-- 기사 타이틀 -->\n",
       " <h3 class=\"nwl_title\">'왕따설' 이성진 \"2018년부터 시작...진실 밝혀질 것\"</h3>\n",
       " <!-- 기사 리드문 -->\n",
       " <div class=\"nwl_text\">NRG 출신 이성진이 멤버들로부터 따돌림을 당했다는 주장에 이어 \"2018년 앨범 발매한 시기부터였다.\"는 구체적인 시기를 언급하며 거듭 피해를 호소했다. 9일 이성진은 자신의 SNS에서 \"해명은 없다.</div>\n",
       " <!-- 기사 정보 (기자 및 날짜시간) -->\n",
       " <div class=\"w_nwl_info\">\n",
       " <em class=\"nwl_reporter\">강경윤 기자</em>\n",
       " <div class=\"nwl_subtext\">2021.07.09 09:56</div>\n",
       " </div>\n",
       " </div>,\n",
       " <div class=\"w_nwl_text\">\n",
       " <!-- 기사 타이틀 -->\n",
       " <h3 class=\"nwl_title\">김옥빈 주연 '악녀', 美아마존서 드라마 제작…정병길 감독 참여</h3>\n",
       " <!-- 기사 리드문 -->\n",
       " <div class=\"nwl_text\">김옥빈 주연의 액션 영화 '악녀'가 할리우드에서 드라마로 재탄생한다. 미국 매체 데드라인은 8일 \"2017년 칸 국제영화제에 초청됐던 한국 영화 '악녀'가 아마존 스튜디오에서 TV 시리즈로 제작된다\"라고 보도했다.</div>\n",
       " <!-- 기사 정보 (기자 및 날짜시간) -->\n",
       " <div class=\"w_nwl_info\">\n",
       " <em class=\"nwl_reporter\">김지혜 기자</em>\n",
       " <div class=\"nwl_subtext\">2021.07.09 09:48</div>\n",
       " </div>\n",
       " </div>,\n",
       " <div class=\"w_nwl_text\">\n",
       " <!-- 기사 타이틀 -->\n",
       " <h3 class=\"nwl_title\">핫펠트 신곡에 래퍼 김효은 피처링...힙합씬 HOT</h3>\n",
       " <!-- 기사 리드문 -->\n",
       " <div class=\"nwl_text\">핫펠트가 10개월 만에 발표하는 신곡에서 래퍼 김효은과 호흡을 맞춘다. 아메바컬쳐는 9일 \"오는 14일 오후 6시 발매되는 핫펠트의 새 싱글 'Summertime'에 김효은이 피처링으로 참여한다\"라고 밝혔다.</div>\n",
       " <!-- 기사 정보 (기자 및 날짜시간) -->\n",
       " <div class=\"w_nwl_info\">\n",
       " <em class=\"nwl_reporter\">강경윤 기자</em>\n",
       " <div class=\"nwl_subtext\">2021.07.09 09:47</div>\n",
       " </div>\n",
       " </div>,\n",
       " <div class=\"w_nwl_text\">\n",
       " <!-- 기사 타이틀 -->\n",
       " <h3 class=\"nwl_title\">HYNN(박혜원), 데뷔 후 첫 듀엣곡으로 컴백...상대는 누구?</h3>\n",
       " <!-- 기사 리드문 -->\n",
       " <div class=\"nwl_text\">가수 HYNN이 데뷔 후 처음으로 듀엣곡 '주말이 싫어졌어'를 오는 15일 발매하고 컴백한다. 9일 HYNN의 소속사 뉴오더 엔터테인먼트는 공식 SNS 채널을 통해 HYNN의 신곡 발매일과 제목이 담긴 첫 번째 티저 이미지를 오픈하고 컴백 신호탄을 쏘아 올렸다.</div>\n",
       " <!-- 기사 정보 (기자 및 날짜시간) -->\n",
       " <div class=\"w_nwl_info\">\n",
       " <em class=\"nwl_reporter\">강경윤 기자</em>\n",
       " <div class=\"nwl_subtext\">2021.07.09 09:46</div>\n",
       " </div>\n",
       " </div>,\n",
       " <div class=\"w_nwl_text\">\n",
       " <!-- 기사 타이틀 -->\n",
       " <h3 class=\"nwl_title\">왜 친구를 감금·살해했나…'그것이 알고싶다', 마포 오피스텔 살인 사건 추적</h3>\n",
       " <!-- 기사 리드문 -->\n",
       " <div class=\"nwl_text\">SBS '그것이 알고싶다'가 마포 오피스텔 감금 살인사건의 진실을 추적한다. 오는 10일 방송될 '그것이 알고싶다'는 '친구의 이름으로, 마포 오피스텔 감금 살인 사건의 진실'이란 부제로, 스물두 살 청년이 왜 친구들의 지속된 폭력을 벗어나지 못하고 감금 살해당해야 했는지 그 이유를 파헤친다.</div>\n",
       " <!-- 기사 정보 (기자 및 날짜시간) -->\n",
       " <div class=\"w_nwl_info\">\n",
       " <em class=\"nwl_reporter\">강선애 기자</em>\n",
       " <div class=\"nwl_subtext\">2021.07.09 09:46</div>\n",
       " </div>\n",
       " </div>,\n",
       " <div class=\"w_nwl_text\">\n",
       " <!-- 기사 타이틀 -->\n",
       " <h3 class=\"nwl_title\">이주영, 악플러에 일침 후 \"유쾌하지 않는 댓글, 신경 안 써\"</h3>\n",
       " <!-- 기사 리드문 -->\n",
       " <div class=\"nwl_text\">배우 이주영이 악플러 대응 이후 자신을 속내를 밝혔다. 8일 이주영은 SNS 스토리에 \"제가 어제 썩 유쾌하지 않은 댓글에 대댓글로 응수를 했지만, 당사자에게 도를 넘은 욕설이나 언사는 삼가해주시면 감사드리겠습니다.</div>\n",
       " <!-- 기사 정보 (기자 및 날짜시간) -->\n",
       " <div class=\"w_nwl_info\">\n",
       " <em class=\"nwl_reporter\">김지혜 기자</em>\n",
       " <div class=\"nwl_subtext\">2021.07.09 09:42</div>\n",
       " </div>\n",
       " </div>,\n",
       " <div class=\"w_nwl_text\">\n",
       " <!-- 기사 타이틀 -->\n",
       " <h3 class=\"nwl_title\">[스브스夜] '꼬꼬무2' 아웅산 폭탄 테러, 순국 사절 17명…\"무엇을 위한 순국이었나\" 질문</h3>\n",
       " <!-- 기사 리드문 -->\n",
       " <div class=\"nwl_text\">그들은 왜 순국해야 했나? 8일 방송된 SBS '꼬리에 꼬리를 무는 그날 이야기 시즌2'에서는 '피의 일요일-아웅산 폭탄 테러'의 이야기를 공개했다. 이날 방송에는 배우 박하선, 윤승아, 모델 주우재가 이야기 친구로 등장해 그날의 이야기에 귀 기울였다.</div>\n",
       " <!-- 기사 정보 (기자 및 날짜시간) -->\n",
       " <div class=\"w_nwl_info\">\n",
       " <em class=\"nwl_reporter\">김효정 에디터</em>\n",
       " <div class=\"nwl_subtext\">2021.07.09 09:39</div>\n",
       " </div>\n",
       " </div>]"
      ]
     },
     "execution_count": 54,
     "metadata": {},
     "output_type": "execute_result"
    }
   ],
   "source": [
    "url = 'https://ent.sbs.co.kr/news/flash.do?plink=GNB&cooper=SBSENTERNEWS'\n",
    "html = requests.get(url).text  \n",
    "root = BeautifulSoup(html, 'html.parser') \n",
    "divs = root.select('div.w_nwl_text')\n",
    "divs"
   ]
  },
  {
   "cell_type": "code",
   "execution_count": 64,
   "id": "39981238",
   "metadata": {},
   "outputs": [
    {
     "name": "stdout",
     "output_type": "stream",
     "text": [
      "[<h3 class=\"nwl_title\">4층서 식칼 던지는 위험한 이웃…'궁금한이야기Y' 추적</h3>]\n",
      "[<h3 class=\"nwl_title\">'신세경 다큐멘터리' 나온다…김종관 감독 연출</h3>]\n",
      "[<h3 class=\"nwl_title\">'미우새' 이승엽 \"46세에 늦둥이 봤다\"…김종국母 \"우리 아들도 가능하겠다\" 안도</h3>]\n",
      "[<h3 class=\"nwl_title\">그룹 킹덤, 코로나19 검사...\"전원 음성판정\"</h3>]\n",
      "[<h3 class=\"nwl_title\">방탄소년단 'BTS, THE BEST' 日 레코드협회 '밀리언' 인증</h3>]\n",
      "[<h3 class=\"nwl_title\">\"이지아, 무자비한 반격 시작\"…'펜트하우스3', 2막 관전포인트</h3>]\n",
      "[<h3 class=\"nwl_title\">방탄소년단, 신곡 'Permission to Dance' 전 세계 동시 공개</h3>]\n",
      "[<h3 class=\"nwl_title\">이승기 \"유수빈, 넘치는 끼로 빠르게 적응할 것\"…'집사부일체' 형들의 응원</h3>]\n",
      "[<h3 class=\"nwl_title\">'왕따설' 이성진 \"2018년부터 시작...진실 밝혀질 것\"</h3>]\n",
      "[<h3 class=\"nwl_title\">김옥빈 주연 '악녀', 美아마존서 드라마 제작…정병길 감독 참여</h3>]\n",
      "[<h3 class=\"nwl_title\">핫펠트 신곡에 래퍼 김효은 피처링...힙합씬 HOT</h3>]\n",
      "[<h3 class=\"nwl_title\">HYNN(박혜원), 데뷔 후 첫 듀엣곡으로 컴백...상대는 누구?</h3>]\n",
      "[<h3 class=\"nwl_title\">왜 친구를 감금·살해했나…'그것이 알고싶다', 마포 오피스텔 살인 사건 추적</h3>]\n",
      "[<h3 class=\"nwl_title\">이주영, 악플러에 일침 후 \"유쾌하지 않는 댓글, 신경 안 써\"</h3>]\n",
      "[<h3 class=\"nwl_title\">[스브스夜] '꼬꼬무2' 아웅산 폭탄 테러, 순국 사절 17명…\"무엇을 위한 순국이었나\" 질문</h3>]\n"
     ]
    }
   ],
   "source": [
    "for d in divs:\n",
    "    txt = d.select('h3.nwl_title')\n",
    "    print(txt)"
   ]
  },
  {
   "cell_type": "code",
   "execution_count": 61,
   "id": "4f612bf3",
   "metadata": {},
   "outputs": [
    {
     "name": "stdout",
     "output_type": "stream",
     "text": [
      "4층서 식칼 던지는 위험한 이웃…'궁금한이야기Y' 추적\n",
      "========================\n",
      "'신세경 다큐멘터리' 나온다…김종관 감독 연출\n",
      "========================\n",
      "'미우새' 이승엽 \"46세에 늦둥이 봤다\"…김종국母 \"우리 아들도 가능하겠다\" 안도\n",
      "========================\n",
      "그룹 킹덤, 코로나19 검사...\"전원 음성판정\"\n",
      "========================\n",
      "방탄소년단 'BTS, THE BEST' 日 레코드협회 '밀리언' 인증\n",
      "========================\n",
      "\"이지아, 무자비한 반격 시작\"…'펜트하우스3', 2막 관전포인트\n",
      "========================\n",
      "방탄소년단, 신곡 'Permission to Dance' 전 세계 동시 공개\n",
      "========================\n",
      "이승기 \"유수빈, 넘치는 끼로 빠르게 적응할 것\"…'집사부일체' 형들의 응원\n",
      "========================\n",
      "'왕따설' 이성진 \"2018년부터 시작...진실 밝혀질 것\"\n",
      "========================\n",
      "김옥빈 주연 '악녀', 美아마존서 드라마 제작…정병길 감독 참여\n",
      "========================\n",
      "핫펠트 신곡에 래퍼 김효은 피처링...힙합씬 HOT\n",
      "========================\n",
      "HYNN(박혜원), 데뷔 후 첫 듀엣곡으로 컴백...상대는 누구?\n",
      "========================\n",
      "왜 친구를 감금·살해했나…'그것이 알고싶다', 마포 오피스텔 살인 사건 추적\n",
      "========================\n",
      "이주영, 악플러에 일침 후 \"유쾌하지 않는 댓글, 신경 안 써\"\n",
      "========================\n",
      "[스브스夜] '꼬꼬무2' 아웅산 폭탄 테러, 순국 사절 17명…\"무엇을 위한 순국이었나\" 질문\n",
      "========================\n"
     ]
    }
   ],
   "source": [
    "#select는 조건에 맞는 요소를 여러개 찾아서 리스트에 담아서 줌\n",
    "#만약 조건에 맞는게 하나라도 리스트에 담아서 줌\n",
    "for d in divs:\n",
    "    txt = d.select('h3.nwl_title')[0].get_text()\n",
    "    print(txt)\n",
    "    print('========================')"
   ]
  },
  {
   "cell_type": "code",
   "execution_count": 66,
   "id": "d0c51885",
   "metadata": {},
   "outputs": [
    {
     "data": {
      "text/plain": [
       "[<header class=\"w_header\" id=\"ent_header\">\n",
       " <div class=\"w_inner\">\n",
       " <div class=\"w_hd_left\">\n",
       " <h1 class=\"w_hd_logo\">\n",
       " <a class=\"hd_logo_link\" href=\"/news/main.do\">\n",
       " <em class=\"icon_ent\">SBS 연예뉴스</em>\n",
       " </a>\n",
       " </h1>\n",
       " </div>\n",
       " <nav class=\"w_hd_gnb\" id=\"ent_nav\">\n",
       " <h2 class=\"blind\">페이지 주메뉴</h2>\n",
       " <ul class=\"hd_gnb\">\n",
       " <li class=\"hd_gnb_menu no_lnb current active\">\n",
       " <a class=\"hdg_link\" href=\"/news/flash.do?plink=GNB&amp;cooper=SBSENTERNEWS\">\n",
       " <em class=\"hdg_text\">최신</em>\n",
       " </a>\n",
       " </li>\n",
       " <li class=\"hd_gnb_menu\">\n",
       " <a class=\"hdg_link\" href=\"/news/menulist.do?code_category=SS01&amp;plink=GNB&amp;cooper=SBSENTERNEWS\">\n",
       " <em class=\"hdg_text\">방송</em>\n",
       " </a>\n",
       " <div class=\"w_hd_lnb\">\n",
       " <ul class=\"hd_lnb\">\n",
       " <li class=\"hd_lnb_menu\">\n",
       " <a class=\"hdl_link\" href=\"/news/menulist.do?code_category=SS01&amp;plink=GNB&amp;cooper=SBSENTERNEWS\">전체</a>\n",
       " </li>\n",
       " <li class=\"hd_lnb_menu\">\n",
       " <a class=\"hdl_link\" href=\"/news/menulist.do?code_category=SS01&amp;code_category_2depth=20000000001&amp;plink=GNB&amp;cooper=SBSENTERNEWS\">프로그램 리뷰</a>\n",
       " </li>\n",
       " <li class=\"hd_lnb_menu\">\n",
       " <a class=\"hdl_link\" href=\"/news/menulist.do?code_category=SS01&amp;code_category_2depth=20000000002&amp;plink=GNB&amp;cooper=SBSENTERNEWS\">방송 인사이드</a>\n",
       " </li>\n",
       " <li class=\"hd_lnb_menu\">\n",
       " <a class=\"hdl_link\" href=\"/news/menulist.do?code_category=SS01&amp;code_category_2depth=20000000006&amp;plink=GNB&amp;cooper=SBSENTERNEWS\">촬영장 핫뉴스</a>\n",
       " </li>\n",
       " <li class=\"hd_lnb_menu\">\n",
       " <a class=\"hdl_link\" href=\"/news/menulist.do?code_category=SS01&amp;code_category_2depth=20000000059&amp;plink=GNB&amp;cooper=SBSENTERNEWS\">드라마</a>\n",
       " </li>\n",
       " </ul>\n",
       " </div>\n",
       " </li>\n",
       " <li class=\"hd_gnb_menu\">\n",
       " <a class=\"hdg_link\" href=\"/news/menulist.do?code_category=SS02&amp;plink=GNB&amp;cooper=SBSENTERNEWS\">\n",
       " <em class=\"hdg_text\">영화</em>\n",
       " </a>\n",
       " <div class=\"w_hd_lnb\">\n",
       " <ul class=\"hd_lnb\">\n",
       " <li class=\"hd_lnb_menu\">\n",
       " <a class=\"hdl_link\" href=\"/news/menulist.do?code_category=SS02&amp;plink=GNB&amp;cooper=SBSENTERNEWS\">전체</a>\n",
       " </li>\n",
       " <li class=\"hd_lnb_menu\">\n",
       " <a class=\"hdl_link\" href=\"/news/menulist.do?code_category=SS02&amp;code_category_2depth=20000000014&amp;plink=GNB&amp;cooper=SBSENTERNEWS\">스크린 현장</a>\n",
       " </li>\n",
       " <li class=\"hd_lnb_menu\">\n",
       " <a class=\"hdl_link\" href=\"/news/menulist.do?code_category=SS02&amp;code_category_2depth=20000000015&amp;plink=GNB&amp;cooper=SBSENTERNEWS\">핫 리뷰</a>\n",
       " </li>\n",
       " </ul>\n",
       " </div>\n",
       " </li>\n",
       " <li class=\"hd_gnb_menu no_lnb\">\n",
       " <a class=\"hdg_link\" href=\"/news/menulist.do?code_category=SS03&amp;plink=GNB&amp;cooper=SBSENTERNEWS\">\n",
       " <em class=\"hdg_text\">뮤직</em>\n",
       " </a>\n",
       " </li>\n",
       " <li class=\"hd_gnb_menu\">\n",
       " <a class=\"hdg_link\" href=\"/news/menulist.do?code_category=SS04&amp;plink=GNB&amp;cooper=SBSENTERNEWS\">\n",
       " <em class=\"hdg_text\">스타</em>\n",
       " </a>\n",
       " <div class=\"w_hd_lnb\">\n",
       " <ul class=\"hd_lnb\">\n",
       " <li class=\"hd_lnb_menu\">\n",
       " <a class=\"hdl_link\" href=\"/news/menulist.do?code_category=SS04&amp;plink=GNB&amp;cooper=SBSENTERNEWS\">전체</a>\n",
       " </li>\n",
       " <li class=\"hd_lnb_menu\">\n",
       " <a class=\"hdl_link\" href=\"/news/menulist.do?code_category=SS04&amp;code_category_2depth=20000000008&amp;plink=GNB&amp;cooper=SBSENTERNEWS\">끝장 인터뷰</a>\n",
       " </li>\n",
       " <li class=\"hd_lnb_menu\">\n",
       " <a class=\"hdl_link\" href=\"/news/menulist.do?code_category=SS04&amp;code_category_2depth=20000000009&amp;plink=GNB&amp;cooper=SBSENTERNEWS\">스타는 지금</a>\n",
       " </li>\n",
       " <li class=\"hd_lnb_menu\">\n",
       " <a class=\"hdl_link\" href=\"/news/menulist.do?code_category=SS04&amp;code_category_2depth=20000000012&amp;plink=GNB&amp;cooper=SBSENTERNEWS\">스타일</a>\n",
       " </li>\n",
       " </ul>\n",
       " </div>\n",
       " </li>\n",
       " <li class=\"hd_gnb_menu no_lnb\">\n",
       " <a class=\"hdg_link\" href=\"/news/menulist.do?code_category=SS05&amp;plink=GNB&amp;cooper=SBSENTERNEWS\">\n",
       " <em class=\"hdg_text\">라이프</em>\n",
       " </a>\n",
       " </li>\n",
       " <li class=\"hd_gnb_menu no_lnb\">\n",
       " <a class=\"hdg_link\" href=\"/news/menulist.do?code_category=SS06&amp;plink=GNB&amp;cooper=SBSENTERNEWS\">\n",
       " <em class=\"hdg_text\">포토</em>\n",
       " </a>\n",
       " </li>\n",
       " </ul>\n",
       " </nav>\n",
       " <div class=\"w_hd_right\">\n",
       " <ul class=\"w_hd_outlink\">\n",
       " <li class=\"hd_outlink\">\n",
       " <a class=\"hd_outlink_link\" href=\"https://www.sbs.co.kr/\" rel=\"noopener\" target=\"_blank\">SBS</a>\n",
       " </li>\n",
       " <li class=\"hd_outlink\">\n",
       " <a class=\"hd_outlink_link\" href=\"https://news.sbs.co.kr/\" rel=\"noopener\" target=\"_blank\">SBS뉴스</a>\n",
       " </li>\n",
       " <li class=\"hd_outlink\">\n",
       " <a class=\"hd_outlink_link\" href=\"https://news.sbs.co.kr/news/newsPlusList.do?themeId=10000000169\" rel=\"noopener\" target=\"_blank\">SBS Star</a>\n",
       " </li>\n",
       " </ul>\n",
       " <div class=\"w_hd_login\">\n",
       " <a class=\"hd_login_link\" href=\"#none\"><em class=\"icon_login\">로그인</em></a>\n",
       " </div>\n",
       " <div class=\"w_hd_search\">\n",
       " <button class=\"hd_search_button\" id=\"ent_search\">\n",
       " <em class=\"icon_search\">검색</em>\n",
       " </button>\n",
       " <div class=\"w_hd_search_layer\">\n",
       " <div class=\"hd_search_layer\">\n",
       " <div itemscope=\"\" itemtype=\"http://schema.org/WebSite\">\n",
       " <meta content=\"https://ent.sbs.co.kr/\" itemprop=\"url\"/>\n",
       " <meta content=\"SBS연예뉴스 검색\" itemprop=\"name\"/>\n",
       " <form action=\"/news/search.do\" class=\"hd_search_form\" itemprop=\"potentialAction\" itemscope=\"\" itemtype=\"http://schema.org/SearchAction\" method=\"get\">\n",
       " <meta content=\"https://ent.sbs.co.kr/news/search.do?query={query}\" itemprop=\"target\">\n",
       " <input aria-label=\"Search\" class=\"hdsf_input\" id=\"searchText\" itemprop=\"query-input\" name=\"query\" placeholder=\"검색어를 입력하세요\" required=\"\" type=\"search\"/>\n",
       " <button class=\"hdsf_button\">\n",
       " <em class=\"icon_search\">검색하기</em>\n",
       " </button>\n",
       " </meta></form>\n",
       " </div>\n",
       " <button class=\"hd_search_close_button\">\n",
       " <em class=\"icon_close\">검색창 닫기</em>\n",
       " </button>\n",
       " </div>\n",
       " <i class=\"hd_search_dim\"></i>\n",
       " </div>\n",
       " </div>\n",
       " </div>\n",
       " </div>\n",
       " </header>]"
      ]
     },
     "execution_count": 66,
     "metadata": {},
     "output_type": "execute_result"
    }
   ],
   "source": [
    "header = root.select('header#ent_header')\n",
    "header"
   ]
  },
  {
   "cell_type": "code",
   "execution_count": 88,
   "id": "694b838d",
   "metadata": {},
   "outputs": [
    {
     "data": {
      "text/plain": [
       "{'list': [{'id': 167,\n",
       "   'name': '주한독일문화원',\n",
       "   'link': 'https://www.goethe.de/korea/gfdz',\n",
       "   'description': 'Gemeinsam für die Zukunft - 미래를 위해 함께“는 동아시아지역 청소년들을 위한 지속가능발전  경연대회입니다. 유엔의 17가지 지속가능 발전 목표에 따라 선정된 주제들로 매년 국제 청소년 외교 대사 회의가 개최됩니다.   ',\n",
       "   'manage': '주한독일문화원',\n",
       "   'group': '',\n",
       "   'thumbnail': '1618447356470_800x500_rgb_w.jpg',\n",
       "   'created_at': '2021-04-15T00:42:36.000Z',\n",
       "   'updated_at': '2021-04-20T10:48:33.000Z',\n",
       "   'deleted_at': None,\n",
       "   'sub_menu_id': 35},\n",
       "  {'id': 166,\n",
       "   'name': '[저작권안내] 공공누리2유형',\n",
       "   'link': 'http://ncsd.go.kr/api/공공누리2.zip',\n",
       "   'description': '본 데이터는 공공저작물로 \\n\\n \\n\\n \\n\\n제 2유형 : 출처표시 + 상업적 이용금지\\n\\n \\n\\n출처표시\\n\\n비상업적 이용만 가능\\n\\n변형 등 2차적 저작물 작성 가능\\n\\n \\n\\n에 대한 이용만 가능합니다.',\n",
       "   'manage': '지속가능발전포털',\n",
       "   'group': '',\n",
       "   'thumbnail': None,\n",
       "   'created_at': '2020-12-22T04:25:53.000Z',\n",
       "   'updated_at': '2020-12-22T04:25:53.000Z',\n",
       "   'deleted_at': None,\n",
       "   'sub_menu_id': 35},\n",
       "  {'id': 128,\n",
       "   'name': '수도권 대기환경청',\n",
       "   'link': 'http://www.me.go.kr/mamo/web/main.do',\n",
       "   'description': '수도권대기오염현황, 홍보영상, 어린이학습교실, 환경용어사전 등을 제공합니다.',\n",
       "   'manage': '환경부',\n",
       "   'group': '환경',\n",
       "   'thumbnail': '1587440135186_대기환경청.png',\n",
       "   'created_at': '2020-04-21T03:35:35.000Z',\n",
       "   'updated_at': '2020-04-21T03:35:35.000Z',\n",
       "   'deleted_at': None,\n",
       "   'sub_menu_id': 35},\n",
       "  {'id': 127,\n",
       "   'name': '한국내셔널트러스트',\n",
       "   'link': 'http://www.nationaltrust.or.kr/index.php',\n",
       "   'description': '한국내셔널트러스트는 자연-문화유산확보 사업과 올바른 내셔널트러스트법 제정활동 이외에 전국 각 지역에서 내셔널트러스트운동을 진행하고 있는 단체와의 네트워크 사업 및 업무지원과 다양한 시민참여 활동을 전개하고 있습니다.',\n",
       "   'manage': '한국내셔널트러스트',\n",
       "   'group': '문화',\n",
       "   'thumbnail': '1587439870867_한국내셔널트러스트.png',\n",
       "   'created_at': '2020-04-21T03:31:10.000Z',\n",
       "   'updated_at': '2020-04-21T03:31:10.000Z',\n",
       "   'deleted_at': None,\n",
       "   'sub_menu_id': 35},\n",
       "  {'id': 126,\n",
       "   'name': '생활환경안전정보시스템 - 초록누리',\n",
       "   'link': 'http://ecolife.me.go.kr/ecolife/',\n",
       "   'description': '내가 쓰는 생활 환경에 대해 궁금했던 모든 정보를 알려드린 종합정보시스템입니다.',\n",
       "   'manage': '환경부',\n",
       "   'group': '환경',\n",
       "   'thumbnail': '1587439791209_초록누리.png',\n",
       "   'created_at': '2020-04-21T03:29:51.000Z',\n",
       "   'updated_at': '2020-04-21T03:29:51.000Z',\n",
       "   'deleted_at': None,\n",
       "   'sub_menu_id': 35},\n",
       "  {'id': 125,\n",
       "   'name': '생태보전시민모임',\n",
       "   'link': 'http://www.ecoclub.or.kr/',\n",
       "   'description': '생태보전을 위한 시민단체입니다.',\n",
       "   'manage': '생태보전시민모임',\n",
       "   'group': '환경',\n",
       "   'thumbnail': '1587439701033_생태보전시민모임.png',\n",
       "   'created_at': '2020-04-21T03:28:21.000Z',\n",
       "   'updated_at': '2020-04-21T03:28:21.000Z',\n",
       "   'deleted_at': None,\n",
       "   'sub_menu_id': 35},\n",
       "  {'id': 124,\n",
       "   'name': '환경실천연합회',\n",
       "   'link': 'http://www.ecolink.or.kr/',\n",
       "   'description': '평소 환경보호에 지대한 관심을 갖고 구호가 아닌 행동으로 환경사랑을 실천하고자 하는 사람들이 뜻을 모아 \"맑은 물, 맑은 공기, 깨끗한 환경\"이라는 회훈 아래 환경파괴감시, 오염실태파악, 환경의식교육, 환경보호방안 홍보 활동 사이트입니다.',\n",
       "   'manage': '환경실천연합회',\n",
       "   'group': '환경',\n",
       "   'thumbnail': '1587439554362_환경실천연합회.png',\n",
       "   'created_at': '2020-04-21T03:25:54.000Z',\n",
       "   'updated_at': '2020-04-21T03:25:54.000Z',\n",
       "   'deleted_at': None,\n",
       "   'sub_menu_id': 35},\n",
       "  {'id': 123,\n",
       "   'name': 'ABSCH 유전자원정보관리센터',\n",
       "   'link': 'https://www.abs.go.kr/kabsch/main.do',\n",
       "   'description': '국내외 유전자원등에 대한 접근 이용 및 이익공유에 관한 정보의 취합 관리 조사 제공하는 사이트입니다.',\n",
       "   'manage': '환경부',\n",
       "   'group': '환경',\n",
       "   'thumbnail': '1587439389426_ABSCH.png',\n",
       "   'created_at': '2020-04-21T03:23:09.000Z',\n",
       "   'updated_at': '2020-04-21T03:23:09.000Z',\n",
       "   'deleted_at': None,\n",
       "   'sub_menu_id': 35},\n",
       "  {'id': 122,\n",
       "   'name': '환경재단',\n",
       "   'link': 'http://www.greenfund.org/',\n",
       "   'description': '어려움을 겪고 있는 아시아 국가를 지원하고 문화사업을 통해 환경문제의 접근성을 강화합니다.  어린이 환경 교육 현황을 공유하고 환경재단의 그린사회공헌 현황을 공유합니다.',\n",
       "   'manage': '환경재단',\n",
       "   'group': '환경',\n",
       "   'thumbnail': '1587437820868_환경재단.png',\n",
       "   'created_at': '2020-04-21T02:57:00.000Z',\n",
       "   'updated_at': '2020-04-21T02:57:00.000Z',\n",
       "   'deleted_at': None,\n",
       "   'sub_menu_id': 35},\n",
       "  {'id': 121,\n",
       "   'name': '한국지속가능발전센터 (KICSD)',\n",
       "   'link': 'http://www.kicsd.re.kr/',\n",
       "   'description': '한국지속가능발전센터(KICSD)는 전국지속가능발전협의회 부설기관으로서, 지속가능발전에 관한 연구 교육 및 다양한 국내외 정보를 제공합니다.',\n",
       "   'manage': '한국지속가능발전센터 (KICSD)',\n",
       "   'group': '',\n",
       "   'thumbnail': '1587437604604_KICSD.png',\n",
       "   'created_at': '2020-04-21T02:53:24.000Z',\n",
       "   'updated_at': '2020-04-21T02:53:24.000Z',\n",
       "   'deleted_at': None,\n",
       "   'sub_menu_id': 35},\n",
       "  {'id': 120,\n",
       "   'name': '한국국제협력단 공적개발원조(ODA) 정보포털',\n",
       "   'link': 'http://www.oda.go.kr/opo/koin/mainInfoPage.do?P_SCRIN_ID=OPOA204080S02',\n",
       "   'description': '한국국제협력단(KOICA)의 공적개발원조(ODA, Official Development Assistance) 정보포털 사이트입니다. SDGs 관련 이니셔티브 사항을 안내합니다.',\n",
       "   'manage': 'KOICA',\n",
       "   'group': 'ODA',\n",
       "   'thumbnail': '1587437274716_ODA.png',\n",
       "   'created_at': '2020-04-21T02:47:54.000Z',\n",
       "   'updated_at': '2020-04-21T02:50:47.000Z',\n",
       "   'deleted_at': None,\n",
       "   'sub_menu_id': 35},\n",
       "  {'id': 119,\n",
       "   'name': '토지 포털 (Land Portal) - SDGs',\n",
       "   'link': 'https://landportal.org/book/sdgs',\n",
       "   'description': 'Land Book은 토지 관련 데이터와 국가 및 주제별로 구성된 정보를 보여주는 획기적인 지식포털로서 국가 및 주제별 포트폴리오를 제공합니다. 포트폴리오는 세계 및 지역 조직들과 협력하여 만들어지며, SDGs에 대해 자세한 통계를 제공합니다.',\n",
       "   'manage': 'Land Portal',\n",
       "   'group': '토지',\n",
       "   'thumbnail': '1587436895879_LANDPORTAL.png',\n",
       "   'created_at': '2020-04-21T02:41:35.000Z',\n",
       "   'updated_at': '2020-04-21T02:41:35.000Z',\n",
       "   'deleted_at': None,\n",
       "   'sub_menu_id': 35},\n",
       "  {'id': 118,\n",
       "   'name': '전국지속가능발전협의회',\n",
       "   'link': 'http://www.sdkorea.org/',\n",
       "   'description': '1992년 브라질 리우데자네이루에서 개최된 유엔환경개발회의(UNCED, 리우회의)에서 채택된 의제21(Agenda21)의 제28조에 명시된 지방의제21(Local Agenda21)의 ‘환경적으로 건전하고 지속가능한 개발’의 정신과 원칙에 기반하고 있는 전국지속가능발전협의회는 전국의 협의회를 총괄하는 기구입니다. ',\n",
       "   'manage': '전국지속가능발전협의회',\n",
       "   'group': '',\n",
       "   'thumbnail': '1587436588940_SDKOREA.png',\n",
       "   'created_at': '2020-04-21T02:36:28.000Z',\n",
       "   'updated_at': '2020-04-21T02:36:28.000Z',\n",
       "   'deleted_at': None,\n",
       "   'sub_menu_id': 35},\n",
       "  {'id': 117,\n",
       "   'name': '유네스코 한국위원회',\n",
       "   'link': 'https://www.unesco.or.kr/',\n",
       "   'description': '교육, 과학, 문화 등 지적 활동분야에서의 국제협력을 촉진함으로써 세계평화와 인류 발전을 증진시키기 위해 만들어진 유엔전문기구의 한국 위원회입니다.',\n",
       "   'manage': '유네스코 한국위원회',\n",
       "   'group': '문화',\n",
       "   'thumbnail': '1587436310442_UNESCOKR.png',\n",
       "   'created_at': '2020-04-21T02:31:50.000Z',\n",
       "   'updated_at': '2020-04-21T02:31:50.000Z',\n",
       "   'deleted_at': None,\n",
       "   'sub_menu_id': 35},\n",
       "  {'id': 116,\n",
       "   'name': '세계보건기구 (WHO) - SDGs',\n",
       "   'link': 'https://www.who.int/sdg/en/',\n",
       "   'description': 'WHO 세계보건기구에서 건강(Health)에 대해 중점적으로 지속가능발전 SDGs 내용을 교육, 홍보하는 사이트입니다.',\n",
       "   'manage': 'WHO',\n",
       "   'group': '해외',\n",
       "   'thumbnail': '1587436015449_WHO.png',\n",
       "   'created_at': '2020-04-21T02:26:55.000Z',\n",
       "   'updated_at': '2020-04-21T02:26:55.000Z',\n",
       "   'deleted_at': None,\n",
       "   'sub_menu_id': 35},\n",
       "  {'id': 115,\n",
       "   'name': '람사르협약 ',\n",
       "   'link': 'https://www.ramsar.org/',\n",
       "   'description': '람사르 협약이라 불리는 습지에 관한 협약은 습지와 자원의 보전과 현명한 이용을위한 틀을 제공하는 정부 간 조약입니다. 이협약은 1971년 람사르도시에서 채택되어 발효되었고 UN회원국중 90%가 체약당사국입니다.',\n",
       "   'manage': 'THE RAMSAR CONVENTION SECRETARIAT',\n",
       "   'group': '해외',\n",
       "   'thumbnail': '1587435893909_RAMSAR.png',\n",
       "   'created_at': '2020-04-21T02:23:48.000Z',\n",
       "   'updated_at': '2020-04-21T02:24:53.000Z',\n",
       "   'deleted_at': None,\n",
       "   'sub_menu_id': 35},\n",
       "  {'id': 114,\n",
       "   'name': '세계기상기구 (WMO)',\n",
       "   'link': 'http://www.wmo.int/',\n",
       "   'description': '기후변화에 관련된 과학기술적 사실에 대한 평가를 제공하고 국제적인 대책을 마련하기 위한 유엔 산하 정부 간 협의체로, 비정기적으로 발표하는 보고서를 통해 인간이 만든 공해물질에 의해 발생하는 기후변화와 관련된 과학적, 기술적, 사회경제학적 정보를 제공합니다.',\n",
       "   'manage': 'WMO',\n",
       "   'group': '해외',\n",
       "   'thumbnail': '1587435627268_WMO.png',\n",
       "   'created_at': '2020-04-21T02:20:27.000Z',\n",
       "   'updated_at': '2020-04-21T02:20:27.000Z',\n",
       "   'deleted_at': None,\n",
       "   'sub_menu_id': 35},\n",
       "  {'id': 113,\n",
       "   'name': 'UN 지속가능발전목표 지식플랫폼 ',\n",
       "   'link': 'https://sustainabledevelopment.un.org/',\n",
       "   'description': '지속가능발전목표 진행상황을 알려주는 UN 공식 SDGs 지식 플랫폼입니다.',\n",
       "   'manage': 'UN ',\n",
       "   'group': '해외',\n",
       "   'thumbnail': '1587435357823_SDGS.png',\n",
       "   'created_at': '2020-04-21T02:15:57.000Z',\n",
       "   'updated_at': '2020-04-21T02:15:57.000Z',\n",
       "   'deleted_at': None,\n",
       "   'sub_menu_id': 35},\n",
       "  {'id': 112,\n",
       "   'name': '지속가능발전 솔루션 네트워크 (SDSN)',\n",
       "   'link': 'https://www.unsdsn.org/',\n",
       "   'description': '지속가능발전 솔루션 네트워크는 학계, 시민사회, 지역, 국가, 글로벌 규모에서 지속 가능한 개발 문제 해결을 지원하는 민간 부문의 과학 기술 전문지식을 제공합니다',\n",
       "   'manage': 'SDSN',\n",
       "   'group': '해외',\n",
       "   'thumbnail': '1587434963665_SDSN.png',\n",
       "   'created_at': '2020-04-21T02:09:23.000Z',\n",
       "   'updated_at': '2020-04-21T02:09:23.000Z',\n",
       "   'deleted_at': None,\n",
       "   'sub_menu_id': 35},\n",
       "  {'id': 111,\n",
       "   'name': '녹색연합',\n",
       "   'link': 'http://www.greenkorea.org/',\n",
       "   'description': '대표적 환경운동단체로 백두대간보전운동, 야생동물보호운동, 습지보전운동, 반핵운동, 군환경오염감시운동, 녹색생활운동 등 다양한 분야의 환경운동을 펼치고 있으며, 관련활동내역, 보고서 등의 정보를 제공합니다.',\n",
       "   'manage': '녹색연합',\n",
       "   'group': '환경',\n",
       "   'thumbnail': '1587434165676_녹색연합.png',\n",
       "   'created_at': '2020-04-21T01:56:05.000Z',\n",
       "   'updated_at': '2020-04-21T01:56:05.000Z',\n",
       "   'deleted_at': None,\n",
       "   'sub_menu_id': 35}],\n",
       " 'page': {'total': 4, 'current': 1, 'limit': 20},\n",
       " 'total_cnt': 65}"
      ]
     },
     "execution_count": 88,
     "metadata": {},
     "output_type": "execute_result"
    }
   ],
   "source": [
    "import json\n",
    "\n",
    "with open('json_sample.json', encoding='utf-8') as f:\n",
    "    d = json.load(f)\n",
    "d"
   ]
  },
  {
   "cell_type": "code",
   "execution_count": 92,
   "id": "afc03cc0",
   "metadata": {},
   "outputs": [
    {
     "data": {
      "text/plain": [
       "[{'id': 167,\n",
       "  'name': '주한독일문화원',\n",
       "  'link': 'https://www.goethe.de/korea/gfdz',\n",
       "  'description': 'Gemeinsam für die Zukunft - 미래를 위해 함께“는 동아시아지역 청소년들을 위한 지속가능발전  경연대회입니다. 유엔의 17가지 지속가능 발전 목표에 따라 선정된 주제들로 매년 국제 청소년 외교 대사 회의가 개최됩니다.   ',\n",
       "  'manage': '주한독일문화원',\n",
       "  'group': '',\n",
       "  'thumbnail': '1618447356470_800x500_rgb_w.jpg',\n",
       "  'created_at': '2021-04-15T00:42:36.000Z',\n",
       "  'updated_at': '2021-04-20T10:48:33.000Z',\n",
       "  'deleted_at': None,\n",
       "  'sub_menu_id': 35},\n",
       " {'id': 166,\n",
       "  'name': '[저작권안내] 공공누리2유형',\n",
       "  'link': 'http://ncsd.go.kr/api/공공누리2.zip',\n",
       "  'description': '본 데이터는 공공저작물로 \\n\\n \\n\\n \\n\\n제 2유형 : 출처표시 + 상업적 이용금지\\n\\n \\n\\n출처표시\\n\\n비상업적 이용만 가능\\n\\n변형 등 2차적 저작물 작성 가능\\n\\n \\n\\n에 대한 이용만 가능합니다.',\n",
       "  'manage': '지속가능발전포털',\n",
       "  'group': '',\n",
       "  'thumbnail': None,\n",
       "  'created_at': '2020-12-22T04:25:53.000Z',\n",
       "  'updated_at': '2020-12-22T04:25:53.000Z',\n",
       "  'deleted_at': None,\n",
       "  'sub_menu_id': 35},\n",
       " {'id': 128,\n",
       "  'name': '수도권 대기환경청',\n",
       "  'link': 'http://www.me.go.kr/mamo/web/main.do',\n",
       "  'description': '수도권대기오염현황, 홍보영상, 어린이학습교실, 환경용어사전 등을 제공합니다.',\n",
       "  'manage': '환경부',\n",
       "  'group': '환경',\n",
       "  'thumbnail': '1587440135186_대기환경청.png',\n",
       "  'created_at': '2020-04-21T03:35:35.000Z',\n",
       "  'updated_at': '2020-04-21T03:35:35.000Z',\n",
       "  'deleted_at': None,\n",
       "  'sub_menu_id': 35},\n",
       " {'id': 127,\n",
       "  'name': '한국내셔널트러스트',\n",
       "  'link': 'http://www.nationaltrust.or.kr/index.php',\n",
       "  'description': '한국내셔널트러스트는 자연-문화유산확보 사업과 올바른 내셔널트러스트법 제정활동 이외에 전국 각 지역에서 내셔널트러스트운동을 진행하고 있는 단체와의 네트워크 사업 및 업무지원과 다양한 시민참여 활동을 전개하고 있습니다.',\n",
       "  'manage': '한국내셔널트러스트',\n",
       "  'group': '문화',\n",
       "  'thumbnail': '1587439870867_한국내셔널트러스트.png',\n",
       "  'created_at': '2020-04-21T03:31:10.000Z',\n",
       "  'updated_at': '2020-04-21T03:31:10.000Z',\n",
       "  'deleted_at': None,\n",
       "  'sub_menu_id': 35},\n",
       " {'id': 126,\n",
       "  'name': '생활환경안전정보시스템 - 초록누리',\n",
       "  'link': 'http://ecolife.me.go.kr/ecolife/',\n",
       "  'description': '내가 쓰는 생활 환경에 대해 궁금했던 모든 정보를 알려드린 종합정보시스템입니다.',\n",
       "  'manage': '환경부',\n",
       "  'group': '환경',\n",
       "  'thumbnail': '1587439791209_초록누리.png',\n",
       "  'created_at': '2020-04-21T03:29:51.000Z',\n",
       "  'updated_at': '2020-04-21T03:29:51.000Z',\n",
       "  'deleted_at': None,\n",
       "  'sub_menu_id': 35},\n",
       " {'id': 125,\n",
       "  'name': '생태보전시민모임',\n",
       "  'link': 'http://www.ecoclub.or.kr/',\n",
       "  'description': '생태보전을 위한 시민단체입니다.',\n",
       "  'manage': '생태보전시민모임',\n",
       "  'group': '환경',\n",
       "  'thumbnail': '1587439701033_생태보전시민모임.png',\n",
       "  'created_at': '2020-04-21T03:28:21.000Z',\n",
       "  'updated_at': '2020-04-21T03:28:21.000Z',\n",
       "  'deleted_at': None,\n",
       "  'sub_menu_id': 35},\n",
       " {'id': 124,\n",
       "  'name': '환경실천연합회',\n",
       "  'link': 'http://www.ecolink.or.kr/',\n",
       "  'description': '평소 환경보호에 지대한 관심을 갖고 구호가 아닌 행동으로 환경사랑을 실천하고자 하는 사람들이 뜻을 모아 \"맑은 물, 맑은 공기, 깨끗한 환경\"이라는 회훈 아래 환경파괴감시, 오염실태파악, 환경의식교육, 환경보호방안 홍보 활동 사이트입니다.',\n",
       "  'manage': '환경실천연합회',\n",
       "  'group': '환경',\n",
       "  'thumbnail': '1587439554362_환경실천연합회.png',\n",
       "  'created_at': '2020-04-21T03:25:54.000Z',\n",
       "  'updated_at': '2020-04-21T03:25:54.000Z',\n",
       "  'deleted_at': None,\n",
       "  'sub_menu_id': 35},\n",
       " {'id': 123,\n",
       "  'name': 'ABSCH 유전자원정보관리센터',\n",
       "  'link': 'https://www.abs.go.kr/kabsch/main.do',\n",
       "  'description': '국내외 유전자원등에 대한 접근 이용 및 이익공유에 관한 정보의 취합 관리 조사 제공하는 사이트입니다.',\n",
       "  'manage': '환경부',\n",
       "  'group': '환경',\n",
       "  'thumbnail': '1587439389426_ABSCH.png',\n",
       "  'created_at': '2020-04-21T03:23:09.000Z',\n",
       "  'updated_at': '2020-04-21T03:23:09.000Z',\n",
       "  'deleted_at': None,\n",
       "  'sub_menu_id': 35},\n",
       " {'id': 122,\n",
       "  'name': '환경재단',\n",
       "  'link': 'http://www.greenfund.org/',\n",
       "  'description': '어려움을 겪고 있는 아시아 국가를 지원하고 문화사업을 통해 환경문제의 접근성을 강화합니다.  어린이 환경 교육 현황을 공유하고 환경재단의 그린사회공헌 현황을 공유합니다.',\n",
       "  'manage': '환경재단',\n",
       "  'group': '환경',\n",
       "  'thumbnail': '1587437820868_환경재단.png',\n",
       "  'created_at': '2020-04-21T02:57:00.000Z',\n",
       "  'updated_at': '2020-04-21T02:57:00.000Z',\n",
       "  'deleted_at': None,\n",
       "  'sub_menu_id': 35},\n",
       " {'id': 121,\n",
       "  'name': '한국지속가능발전센터 (KICSD)',\n",
       "  'link': 'http://www.kicsd.re.kr/',\n",
       "  'description': '한국지속가능발전센터(KICSD)는 전국지속가능발전협의회 부설기관으로서, 지속가능발전에 관한 연구 교육 및 다양한 국내외 정보를 제공합니다.',\n",
       "  'manage': '한국지속가능발전센터 (KICSD)',\n",
       "  'group': '',\n",
       "  'thumbnail': '1587437604604_KICSD.png',\n",
       "  'created_at': '2020-04-21T02:53:24.000Z',\n",
       "  'updated_at': '2020-04-21T02:53:24.000Z',\n",
       "  'deleted_at': None,\n",
       "  'sub_menu_id': 35},\n",
       " {'id': 120,\n",
       "  'name': '한국국제협력단 공적개발원조(ODA) 정보포털',\n",
       "  'link': 'http://www.oda.go.kr/opo/koin/mainInfoPage.do?P_SCRIN_ID=OPOA204080S02',\n",
       "  'description': '한국국제협력단(KOICA)의 공적개발원조(ODA, Official Development Assistance) 정보포털 사이트입니다. SDGs 관련 이니셔티브 사항을 안내합니다.',\n",
       "  'manage': 'KOICA',\n",
       "  'group': 'ODA',\n",
       "  'thumbnail': '1587437274716_ODA.png',\n",
       "  'created_at': '2020-04-21T02:47:54.000Z',\n",
       "  'updated_at': '2020-04-21T02:50:47.000Z',\n",
       "  'deleted_at': None,\n",
       "  'sub_menu_id': 35},\n",
       " {'id': 119,\n",
       "  'name': '토지 포털 (Land Portal) - SDGs',\n",
       "  'link': 'https://landportal.org/book/sdgs',\n",
       "  'description': 'Land Book은 토지 관련 데이터와 국가 및 주제별로 구성된 정보를 보여주는 획기적인 지식포털로서 국가 및 주제별 포트폴리오를 제공합니다. 포트폴리오는 세계 및 지역 조직들과 협력하여 만들어지며, SDGs에 대해 자세한 통계를 제공합니다.',\n",
       "  'manage': 'Land Portal',\n",
       "  'group': '토지',\n",
       "  'thumbnail': '1587436895879_LANDPORTAL.png',\n",
       "  'created_at': '2020-04-21T02:41:35.000Z',\n",
       "  'updated_at': '2020-04-21T02:41:35.000Z',\n",
       "  'deleted_at': None,\n",
       "  'sub_menu_id': 35},\n",
       " {'id': 118,\n",
       "  'name': '전국지속가능발전협의회',\n",
       "  'link': 'http://www.sdkorea.org/',\n",
       "  'description': '1992년 브라질 리우데자네이루에서 개최된 유엔환경개발회의(UNCED, 리우회의)에서 채택된 의제21(Agenda21)의 제28조에 명시된 지방의제21(Local Agenda21)의 ‘환경적으로 건전하고 지속가능한 개발’의 정신과 원칙에 기반하고 있는 전국지속가능발전협의회는 전국의 협의회를 총괄하는 기구입니다. ',\n",
       "  'manage': '전국지속가능발전협의회',\n",
       "  'group': '',\n",
       "  'thumbnail': '1587436588940_SDKOREA.png',\n",
       "  'created_at': '2020-04-21T02:36:28.000Z',\n",
       "  'updated_at': '2020-04-21T02:36:28.000Z',\n",
       "  'deleted_at': None,\n",
       "  'sub_menu_id': 35},\n",
       " {'id': 117,\n",
       "  'name': '유네스코 한국위원회',\n",
       "  'link': 'https://www.unesco.or.kr/',\n",
       "  'description': '교육, 과학, 문화 등 지적 활동분야에서의 국제협력을 촉진함으로써 세계평화와 인류 발전을 증진시키기 위해 만들어진 유엔전문기구의 한국 위원회입니다.',\n",
       "  'manage': '유네스코 한국위원회',\n",
       "  'group': '문화',\n",
       "  'thumbnail': '1587436310442_UNESCOKR.png',\n",
       "  'created_at': '2020-04-21T02:31:50.000Z',\n",
       "  'updated_at': '2020-04-21T02:31:50.000Z',\n",
       "  'deleted_at': None,\n",
       "  'sub_menu_id': 35},\n",
       " {'id': 116,\n",
       "  'name': '세계보건기구 (WHO) - SDGs',\n",
       "  'link': 'https://www.who.int/sdg/en/',\n",
       "  'description': 'WHO 세계보건기구에서 건강(Health)에 대해 중점적으로 지속가능발전 SDGs 내용을 교육, 홍보하는 사이트입니다.',\n",
       "  'manage': 'WHO',\n",
       "  'group': '해외',\n",
       "  'thumbnail': '1587436015449_WHO.png',\n",
       "  'created_at': '2020-04-21T02:26:55.000Z',\n",
       "  'updated_at': '2020-04-21T02:26:55.000Z',\n",
       "  'deleted_at': None,\n",
       "  'sub_menu_id': 35},\n",
       " {'id': 115,\n",
       "  'name': '람사르협약 ',\n",
       "  'link': 'https://www.ramsar.org/',\n",
       "  'description': '람사르 협약이라 불리는 습지에 관한 협약은 습지와 자원의 보전과 현명한 이용을위한 틀을 제공하는 정부 간 조약입니다. 이협약은 1971년 람사르도시에서 채택되어 발효되었고 UN회원국중 90%가 체약당사국입니다.',\n",
       "  'manage': 'THE RAMSAR CONVENTION SECRETARIAT',\n",
       "  'group': '해외',\n",
       "  'thumbnail': '1587435893909_RAMSAR.png',\n",
       "  'created_at': '2020-04-21T02:23:48.000Z',\n",
       "  'updated_at': '2020-04-21T02:24:53.000Z',\n",
       "  'deleted_at': None,\n",
       "  'sub_menu_id': 35},\n",
       " {'id': 114,\n",
       "  'name': '세계기상기구 (WMO)',\n",
       "  'link': 'http://www.wmo.int/',\n",
       "  'description': '기후변화에 관련된 과학기술적 사실에 대한 평가를 제공하고 국제적인 대책을 마련하기 위한 유엔 산하 정부 간 협의체로, 비정기적으로 발표하는 보고서를 통해 인간이 만든 공해물질에 의해 발생하는 기후변화와 관련된 과학적, 기술적, 사회경제학적 정보를 제공합니다.',\n",
       "  'manage': 'WMO',\n",
       "  'group': '해외',\n",
       "  'thumbnail': '1587435627268_WMO.png',\n",
       "  'created_at': '2020-04-21T02:20:27.000Z',\n",
       "  'updated_at': '2020-04-21T02:20:27.000Z',\n",
       "  'deleted_at': None,\n",
       "  'sub_menu_id': 35},\n",
       " {'id': 113,\n",
       "  'name': 'UN 지속가능발전목표 지식플랫폼 ',\n",
       "  'link': 'https://sustainabledevelopment.un.org/',\n",
       "  'description': '지속가능발전목표 진행상황을 알려주는 UN 공식 SDGs 지식 플랫폼입니다.',\n",
       "  'manage': 'UN ',\n",
       "  'group': '해외',\n",
       "  'thumbnail': '1587435357823_SDGS.png',\n",
       "  'created_at': '2020-04-21T02:15:57.000Z',\n",
       "  'updated_at': '2020-04-21T02:15:57.000Z',\n",
       "  'deleted_at': None,\n",
       "  'sub_menu_id': 35},\n",
       " {'id': 112,\n",
       "  'name': '지속가능발전 솔루션 네트워크 (SDSN)',\n",
       "  'link': 'https://www.unsdsn.org/',\n",
       "  'description': '지속가능발전 솔루션 네트워크는 학계, 시민사회, 지역, 국가, 글로벌 규모에서 지속 가능한 개발 문제 해결을 지원하는 민간 부문의 과학 기술 전문지식을 제공합니다',\n",
       "  'manage': 'SDSN',\n",
       "  'group': '해외',\n",
       "  'thumbnail': '1587434963665_SDSN.png',\n",
       "  'created_at': '2020-04-21T02:09:23.000Z',\n",
       "  'updated_at': '2020-04-21T02:09:23.000Z',\n",
       "  'deleted_at': None,\n",
       "  'sub_menu_id': 35},\n",
       " {'id': 111,\n",
       "  'name': '녹색연합',\n",
       "  'link': 'http://www.greenkorea.org/',\n",
       "  'description': '대표적 환경운동단체로 백두대간보전운동, 야생동물보호운동, 습지보전운동, 반핵운동, 군환경오염감시운동, 녹색생활운동 등 다양한 분야의 환경운동을 펼치고 있으며, 관련활동내역, 보고서 등의 정보를 제공합니다.',\n",
       "  'manage': '녹색연합',\n",
       "  'group': '환경',\n",
       "  'thumbnail': '1587434165676_녹색연합.png',\n",
       "  'created_at': '2020-04-21T01:56:05.000Z',\n",
       "  'updated_at': '2020-04-21T01:56:05.000Z',\n",
       "  'deleted_at': None,\n",
       "  'sub_menu_id': 35}]"
      ]
     },
     "execution_count": 92,
     "metadata": {},
     "output_type": "execute_result"
    }
   ],
   "source": [
    "d['list']"
   ]
  },
  {
   "cell_type": "code",
   "execution_count": 93,
   "id": "9a3720f2",
   "metadata": {},
   "outputs": [
    {
     "data": {
      "text/plain": [
       "{'total': 4, 'current': 1, 'limit': 20}"
      ]
     },
     "execution_count": 93,
     "metadata": {},
     "output_type": "execute_result"
    }
   ],
   "source": [
    "d['page']"
   ]
  },
  {
   "cell_type": "code",
   "execution_count": 94,
   "id": "32f0ceeb",
   "metadata": {},
   "outputs": [
    {
     "data": {
      "text/plain": [
       "65"
      ]
     },
     "execution_count": 94,
     "metadata": {},
     "output_type": "execute_result"
    }
   ],
   "source": [
    "d['total_cnt']"
   ]
  },
  {
   "cell_type": "code",
   "execution_count": 99,
   "id": "3bdb1fcb",
   "metadata": {},
   "outputs": [
    {
     "name": "stdout",
     "output_type": "stream",
     "text": [
      "id: 167\n",
      "name: 주한독일문화원\n",
      "link: https://www.goethe.de/korea/gfdz\n",
      "description: Gemeinsam für die Zukunft - 미래를 위해 함께“는 동아시아지역 청소년들을 위한 지속가능발전  경연대회입니다. 유엔의 17가지 지속가능 발전 목표에 따라 선정된 주제들로 매년 국제 청소년 외교 대사 회의가 개최됩니다.   \n",
      "manage: 주한독일문화원\n",
      "group: \n",
      "thumbnail: 1618447356470_800x500_rgb_w.jpg\n",
      "created_at: 2021-04-15T00:42:36.000Z\n",
      "updated_at: 2021-04-20T10:48:33.000Z\n",
      "deleted_at: None\n",
      "sub_menu_id: 35\n",
      "=================================\n",
      "id: 166\n",
      "name: [저작권안내] 공공누리2유형\n",
      "link: http://ncsd.go.kr/api/공공누리2.zip\n",
      "description: 본 데이터는 공공저작물로 \n",
      "\n",
      " \n",
      "\n",
      " \n",
      "\n",
      "제 2유형 : 출처표시 + 상업적 이용금지\n",
      "\n",
      " \n",
      "\n",
      "출처표시\n",
      "\n",
      "비상업적 이용만 가능\n",
      "\n",
      "변형 등 2차적 저작물 작성 가능\n",
      "\n",
      " \n",
      "\n",
      "에 대한 이용만 가능합니다.\n",
      "manage: 지속가능발전포털\n",
      "group: \n",
      "thumbnail: None\n",
      "created_at: 2020-12-22T04:25:53.000Z\n",
      "updated_at: 2020-12-22T04:25:53.000Z\n",
      "deleted_at: None\n",
      "sub_menu_id: 35\n",
      "=================================\n",
      "id: 128\n",
      "name: 수도권 대기환경청\n",
      "link: http://www.me.go.kr/mamo/web/main.do\n",
      "description: 수도권대기오염현황, 홍보영상, 어린이학습교실, 환경용어사전 등을 제공합니다.\n",
      "manage: 환경부\n",
      "group: 환경\n",
      "thumbnail: 1587440135186_대기환경청.png\n",
      "created_at: 2020-04-21T03:35:35.000Z\n",
      "updated_at: 2020-04-21T03:35:35.000Z\n",
      "deleted_at: None\n",
      "sub_menu_id: 35\n",
      "=================================\n",
      "id: 127\n",
      "name: 한국내셔널트러스트\n",
      "link: http://www.nationaltrust.or.kr/index.php\n",
      "description: 한국내셔널트러스트는 자연-문화유산확보 사업과 올바른 내셔널트러스트법 제정활동 이외에 전국 각 지역에서 내셔널트러스트운동을 진행하고 있는 단체와의 네트워크 사업 및 업무지원과 다양한 시민참여 활동을 전개하고 있습니다.\n",
      "manage: 한국내셔널트러스트\n",
      "group: 문화\n",
      "thumbnail: 1587439870867_한국내셔널트러스트.png\n",
      "created_at: 2020-04-21T03:31:10.000Z\n",
      "updated_at: 2020-04-21T03:31:10.000Z\n",
      "deleted_at: None\n",
      "sub_menu_id: 35\n",
      "=================================\n",
      "id: 126\n",
      "name: 생활환경안전정보시스템 - 초록누리\n",
      "link: http://ecolife.me.go.kr/ecolife/\n",
      "description: 내가 쓰는 생활 환경에 대해 궁금했던 모든 정보를 알려드린 종합정보시스템입니다.\n",
      "manage: 환경부\n",
      "group: 환경\n",
      "thumbnail: 1587439791209_초록누리.png\n",
      "created_at: 2020-04-21T03:29:51.000Z\n",
      "updated_at: 2020-04-21T03:29:51.000Z\n",
      "deleted_at: None\n",
      "sub_menu_id: 35\n",
      "=================================\n",
      "id: 125\n",
      "name: 생태보전시민모임\n",
      "link: http://www.ecoclub.or.kr/\n",
      "description: 생태보전을 위한 시민단체입니다.\n",
      "manage: 생태보전시민모임\n",
      "group: 환경\n",
      "thumbnail: 1587439701033_생태보전시민모임.png\n",
      "created_at: 2020-04-21T03:28:21.000Z\n",
      "updated_at: 2020-04-21T03:28:21.000Z\n",
      "deleted_at: None\n",
      "sub_menu_id: 35\n",
      "=================================\n",
      "id: 124\n",
      "name: 환경실천연합회\n",
      "link: http://www.ecolink.or.kr/\n",
      "description: 평소 환경보호에 지대한 관심을 갖고 구호가 아닌 행동으로 환경사랑을 실천하고자 하는 사람들이 뜻을 모아 \"맑은 물, 맑은 공기, 깨끗한 환경\"이라는 회훈 아래 환경파괴감시, 오염실태파악, 환경의식교육, 환경보호방안 홍보 활동 사이트입니다.\n",
      "manage: 환경실천연합회\n",
      "group: 환경\n",
      "thumbnail: 1587439554362_환경실천연합회.png\n",
      "created_at: 2020-04-21T03:25:54.000Z\n",
      "updated_at: 2020-04-21T03:25:54.000Z\n",
      "deleted_at: None\n",
      "sub_menu_id: 35\n",
      "=================================\n",
      "id: 123\n",
      "name: ABSCH 유전자원정보관리센터\n",
      "link: https://www.abs.go.kr/kabsch/main.do\n",
      "description: 국내외 유전자원등에 대한 접근 이용 및 이익공유에 관한 정보의 취합 관리 조사 제공하는 사이트입니다.\n",
      "manage: 환경부\n",
      "group: 환경\n",
      "thumbnail: 1587439389426_ABSCH.png\n",
      "created_at: 2020-04-21T03:23:09.000Z\n",
      "updated_at: 2020-04-21T03:23:09.000Z\n",
      "deleted_at: None\n",
      "sub_menu_id: 35\n",
      "=================================\n",
      "id: 122\n",
      "name: 환경재단\n",
      "link: http://www.greenfund.org/\n",
      "description: 어려움을 겪고 있는 아시아 국가를 지원하고 문화사업을 통해 환경문제의 접근성을 강화합니다.  어린이 환경 교육 현황을 공유하고 환경재단의 그린사회공헌 현황을 공유합니다.\n",
      "manage: 환경재단\n",
      "group: 환경\n",
      "thumbnail: 1587437820868_환경재단.png\n",
      "created_at: 2020-04-21T02:57:00.000Z\n",
      "updated_at: 2020-04-21T02:57:00.000Z\n",
      "deleted_at: None\n",
      "sub_menu_id: 35\n",
      "=================================\n",
      "id: 121\n",
      "name: 한국지속가능발전센터 (KICSD)\n",
      "link: http://www.kicsd.re.kr/\n",
      "description: 한국지속가능발전센터(KICSD)는 전국지속가능발전협의회 부설기관으로서, 지속가능발전에 관한 연구 교육 및 다양한 국내외 정보를 제공합니다.\n",
      "manage: 한국지속가능발전센터 (KICSD)\n",
      "group: \n",
      "thumbnail: 1587437604604_KICSD.png\n",
      "created_at: 2020-04-21T02:53:24.000Z\n",
      "updated_at: 2020-04-21T02:53:24.000Z\n",
      "deleted_at: None\n",
      "sub_menu_id: 35\n",
      "=================================\n",
      "id: 120\n",
      "name: 한국국제협력단 공적개발원조(ODA) 정보포털\n",
      "link: http://www.oda.go.kr/opo/koin/mainInfoPage.do?P_SCRIN_ID=OPOA204080S02\n",
      "description: 한국국제협력단(KOICA)의 공적개발원조(ODA, Official Development Assistance) 정보포털 사이트입니다. SDGs 관련 이니셔티브 사항을 안내합니다.\n",
      "manage: KOICA\n",
      "group: ODA\n",
      "thumbnail: 1587437274716_ODA.png\n",
      "created_at: 2020-04-21T02:47:54.000Z\n",
      "updated_at: 2020-04-21T02:50:47.000Z\n",
      "deleted_at: None\n",
      "sub_menu_id: 35\n",
      "=================================\n",
      "id: 119\n",
      "name: 토지 포털 (Land Portal) - SDGs\n",
      "link: https://landportal.org/book/sdgs\n",
      "description: Land Book은 토지 관련 데이터와 국가 및 주제별로 구성된 정보를 보여주는 획기적인 지식포털로서 국가 및 주제별 포트폴리오를 제공합니다. 포트폴리오는 세계 및 지역 조직들과 협력하여 만들어지며, SDGs에 대해 자세한 통계를 제공합니다.\n",
      "manage: Land Portal\n",
      "group: 토지\n",
      "thumbnail: 1587436895879_LANDPORTAL.png\n",
      "created_at: 2020-04-21T02:41:35.000Z\n",
      "updated_at: 2020-04-21T02:41:35.000Z\n",
      "deleted_at: None\n",
      "sub_menu_id: 35\n",
      "=================================\n",
      "id: 118\n",
      "name: 전국지속가능발전협의회\n",
      "link: http://www.sdkorea.org/\n",
      "description: 1992년 브라질 리우데자네이루에서 개최된 유엔환경개발회의(UNCED, 리우회의)에서 채택된 의제21(Agenda21)의 제28조에 명시된 지방의제21(Local Agenda21)의 ‘환경적으로 건전하고 지속가능한 개발’의 정신과 원칙에 기반하고 있는 전국지속가능발전협의회는 전국의 협의회를 총괄하는 기구입니다. \n",
      "manage: 전국지속가능발전협의회\n",
      "group: \n",
      "thumbnail: 1587436588940_SDKOREA.png\n",
      "created_at: 2020-04-21T02:36:28.000Z\n",
      "updated_at: 2020-04-21T02:36:28.000Z\n",
      "deleted_at: None\n",
      "sub_menu_id: 35\n",
      "=================================\n",
      "id: 117\n",
      "name: 유네스코 한국위원회\n",
      "link: https://www.unesco.or.kr/\n",
      "description: 교육, 과학, 문화 등 지적 활동분야에서의 국제협력을 촉진함으로써 세계평화와 인류 발전을 증진시키기 위해 만들어진 유엔전문기구의 한국 위원회입니다.\n",
      "manage: 유네스코 한국위원회\n",
      "group: 문화\n",
      "thumbnail: 1587436310442_UNESCOKR.png\n",
      "created_at: 2020-04-21T02:31:50.000Z\n",
      "updated_at: 2020-04-21T02:31:50.000Z\n",
      "deleted_at: None\n",
      "sub_menu_id: 35\n",
      "=================================\n",
      "id: 116\n",
      "name: 세계보건기구 (WHO) - SDGs\n",
      "link: https://www.who.int/sdg/en/\n",
      "description: WHO 세계보건기구에서 건강(Health)에 대해 중점적으로 지속가능발전 SDGs 내용을 교육, 홍보하는 사이트입니다.\n",
      "manage: WHO\n",
      "group: 해외\n",
      "thumbnail: 1587436015449_WHO.png\n",
      "created_at: 2020-04-21T02:26:55.000Z\n",
      "updated_at: 2020-04-21T02:26:55.000Z\n",
      "deleted_at: None\n",
      "sub_menu_id: 35\n",
      "=================================\n",
      "id: 115\n",
      "name: 람사르협약 \n",
      "link: https://www.ramsar.org/\n",
      "description: 람사르 협약이라 불리는 습지에 관한 협약은 습지와 자원의 보전과 현명한 이용을위한 틀을 제공하는 정부 간 조약입니다. 이협약은 1971년 람사르도시에서 채택되어 발효되었고 UN회원국중 90%가 체약당사국입니다.\n",
      "manage: THE RAMSAR CONVENTION SECRETARIAT\n",
      "group: 해외\n",
      "thumbnail: 1587435893909_RAMSAR.png\n",
      "created_at: 2020-04-21T02:23:48.000Z\n",
      "updated_at: 2020-04-21T02:24:53.000Z\n",
      "deleted_at: None\n",
      "sub_menu_id: 35\n",
      "=================================\n",
      "id: 114\n",
      "name: 세계기상기구 (WMO)\n",
      "link: http://www.wmo.int/\n",
      "description: 기후변화에 관련된 과학기술적 사실에 대한 평가를 제공하고 국제적인 대책을 마련하기 위한 유엔 산하 정부 간 협의체로, 비정기적으로 발표하는 보고서를 통해 인간이 만든 공해물질에 의해 발생하는 기후변화와 관련된 과학적, 기술적, 사회경제학적 정보를 제공합니다.\n",
      "manage: WMO\n",
      "group: 해외\n",
      "thumbnail: 1587435627268_WMO.png\n",
      "created_at: 2020-04-21T02:20:27.000Z\n",
      "updated_at: 2020-04-21T02:20:27.000Z\n",
      "deleted_at: None\n",
      "sub_menu_id: 35\n",
      "=================================\n",
      "id: 113\n",
      "name: UN 지속가능발전목표 지식플랫폼 \n",
      "link: https://sustainabledevelopment.un.org/\n",
      "description: 지속가능발전목표 진행상황을 알려주는 UN 공식 SDGs 지식 플랫폼입니다.\n",
      "manage: UN \n",
      "group: 해외\n",
      "thumbnail: 1587435357823_SDGS.png\n",
      "created_at: 2020-04-21T02:15:57.000Z\n",
      "updated_at: 2020-04-21T02:15:57.000Z\n",
      "deleted_at: None\n",
      "sub_menu_id: 35\n",
      "=================================\n",
      "id: 112\n",
      "name: 지속가능발전 솔루션 네트워크 (SDSN)\n",
      "link: https://www.unsdsn.org/\n",
      "description: 지속가능발전 솔루션 네트워크는 학계, 시민사회, 지역, 국가, 글로벌 규모에서 지속 가능한 개발 문제 해결을 지원하는 민간 부문의 과학 기술 전문지식을 제공합니다\n",
      "manage: SDSN\n",
      "group: 해외\n",
      "thumbnail: 1587434963665_SDSN.png\n",
      "created_at: 2020-04-21T02:09:23.000Z\n",
      "updated_at: 2020-04-21T02:09:23.000Z\n",
      "deleted_at: None\n",
      "sub_menu_id: 35\n",
      "=================================\n",
      "id: 111\n",
      "name: 녹색연합\n",
      "link: http://www.greenkorea.org/\n",
      "description: 대표적 환경운동단체로 백두대간보전운동, 야생동물보호운동, 습지보전운동, 반핵운동, 군환경오염감시운동, 녹색생활운동 등 다양한 분야의 환경운동을 펼치고 있으며, 관련활동내역, 보고서 등의 정보를 제공합니다.\n",
      "manage: 녹색연합\n",
      "group: 환경\n",
      "thumbnail: 1587434165676_녹색연합.png\n",
      "created_at: 2020-04-21T01:56:05.000Z\n",
      "updated_at: 2020-04-21T01:56:05.000Z\n",
      "deleted_at: None\n",
      "sub_menu_id: 35\n",
      "=================================\n"
     ]
    }
   ],
   "source": [
    "my_list = d['list']\n",
    "for i in my_list:\n",
    "    print('id:', i['id'])\n",
    "    print('name:', i['name'])\n",
    "    print('link:', i['link'])\n",
    "    print('description:', i['description'])\n",
    "    print('manage:', i['manage'])\n",
    "    print('group:', i['group'])\n",
    "    print('thumbnail:', i['thumbnail'])\n",
    "    print('created_at:', i['created_at'])\n",
    "    print('updated_at:', i['updated_at'])\n",
    "    print('deleted_at:', i['deleted_at'])\n",
    "    print('sub_menu_id:', i['sub_menu_id'])\n",
    "    print('=================================')"
   ]
  },
  {
   "cell_type": "code",
   "execution_count": 101,
   "id": "b3eab09a",
   "metadata": {},
   "outputs": [
    {
     "name": "stdout",
     "output_type": "stream",
     "text": [
      "4\n",
      "1\n",
      "20\n"
     ]
    }
   ],
   "source": [
    "page = d['page']\n",
    "print(page['total'])\n",
    "print(page['current'])\n",
    "print(page['limit'])"
   ]
  },
  {
   "cell_type": "code",
   "execution_count": 110,
   "id": "89cbe57b",
   "metadata": {},
   "outputs": [
    {
     "data": {
      "text/plain": [
       "[{'id': 167,\n",
       "  'name': '주한독일문화원',\n",
       "  'link': 'https://www.goethe.de/korea/gfdz',\n",
       "  'description': 'Gemeinsam für die Zukunft - 미래를 위해 함께“는 동아시아지역 청소년들을 위한 지속가능발전  경연대회입니다. 유엔의 17가지 지속가능 발전 목표에 따라 선정된 주제들로 매년 국제 청소년 외교 대사 회의가 개최됩니다.   ',\n",
       "  'manage': '주한독일문화원',\n",
       "  'group': '',\n",
       "  'thumbnail': '1618447356470_800x500_rgb_w.jpg',\n",
       "  'created_at': '2021-04-15T00:42:36.000Z',\n",
       "  'updated_at': '2021-04-20T10:48:33.000Z',\n",
       "  'deleted_at': None,\n",
       "  'sub_menu_id': 35},\n",
       " {'id': 166,\n",
       "  'name': '[저작권안내] 공공누리2유형',\n",
       "  'link': 'http://ncsd.go.kr/api/공공누리2.zip',\n",
       "  'description': '본 데이터는 공공저작물로 \\n\\n \\n\\n \\n\\n제 2유형 : 출처표시 + 상업적 이용금지\\n\\n \\n\\n출처표시\\n\\n비상업적 이용만 가능\\n\\n변형 등 2차적 저작물 작성 가능\\n\\n \\n\\n에 대한 이용만 가능합니다.',\n",
       "  'manage': '지속가능발전포털',\n",
       "  'group': '',\n",
       "  'thumbnail': None,\n",
       "  'created_at': '2020-12-22T04:25:53.000Z',\n",
       "  'updated_at': '2020-12-22T04:25:53.000Z',\n",
       "  'deleted_at': None,\n",
       "  'sub_menu_id': 35},\n",
       " {'id': 128,\n",
       "  'name': '수도권 대기환경청',\n",
       "  'link': 'http://www.me.go.kr/mamo/web/main.do',\n",
       "  'description': '수도권대기오염현황, 홍보영상, 어린이학습교실, 환경용어사전 등을 제공합니다.',\n",
       "  'manage': '환경부',\n",
       "  'group': '환경',\n",
       "  'thumbnail': '1587440135186_대기환경청.png',\n",
       "  'created_at': '2020-04-21T03:35:35.000Z',\n",
       "  'updated_at': '2020-04-21T03:35:35.000Z',\n",
       "  'deleted_at': None,\n",
       "  'sub_menu_id': 35},\n",
       " {'id': 127,\n",
       "  'name': '한국내셔널트러스트',\n",
       "  'link': 'http://www.nationaltrust.or.kr/index.php',\n",
       "  'description': '한국내셔널트러스트는 자연-문화유산확보 사업과 올바른 내셔널트러스트법 제정활동 이외에 전국 각 지역에서 내셔널트러스트운동을 진행하고 있는 단체와의 네트워크 사업 및 업무지원과 다양한 시민참여 활동을 전개하고 있습니다.',\n",
       "  'manage': '한국내셔널트러스트',\n",
       "  'group': '문화',\n",
       "  'thumbnail': '1587439870867_한국내셔널트러스트.png',\n",
       "  'created_at': '2020-04-21T03:31:10.000Z',\n",
       "  'updated_at': '2020-04-21T03:31:10.000Z',\n",
       "  'deleted_at': None,\n",
       "  'sub_menu_id': 35},\n",
       " {'id': 126,\n",
       "  'name': '생활환경안전정보시스템 - 초록누리',\n",
       "  'link': 'http://ecolife.me.go.kr/ecolife/',\n",
       "  'description': '내가 쓰는 생활 환경에 대해 궁금했던 모든 정보를 알려드린 종합정보시스템입니다.',\n",
       "  'manage': '환경부',\n",
       "  'group': '환경',\n",
       "  'thumbnail': '1587439791209_초록누리.png',\n",
       "  'created_at': '2020-04-21T03:29:51.000Z',\n",
       "  'updated_at': '2020-04-21T03:29:51.000Z',\n",
       "  'deleted_at': None,\n",
       "  'sub_menu_id': 35},\n",
       " {'id': 125,\n",
       "  'name': '생태보전시민모임',\n",
       "  'link': 'http://www.ecoclub.or.kr/',\n",
       "  'description': '생태보전을 위한 시민단체입니다.',\n",
       "  'manage': '생태보전시민모임',\n",
       "  'group': '환경',\n",
       "  'thumbnail': '1587439701033_생태보전시민모임.png',\n",
       "  'created_at': '2020-04-21T03:28:21.000Z',\n",
       "  'updated_at': '2020-04-21T03:28:21.000Z',\n",
       "  'deleted_at': None,\n",
       "  'sub_menu_id': 35},\n",
       " {'id': 124,\n",
       "  'name': '환경실천연합회',\n",
       "  'link': 'http://www.ecolink.or.kr/',\n",
       "  'description': '평소 환경보호에 지대한 관심을 갖고 구호가 아닌 행동으로 환경사랑을 실천하고자 하는 사람들이 뜻을 모아 \"맑은 물, 맑은 공기, 깨끗한 환경\"이라는 회훈 아래 환경파괴감시, 오염실태파악, 환경의식교육, 환경보호방안 홍보 활동 사이트입니다.',\n",
       "  'manage': '환경실천연합회',\n",
       "  'group': '환경',\n",
       "  'thumbnail': '1587439554362_환경실천연합회.png',\n",
       "  'created_at': '2020-04-21T03:25:54.000Z',\n",
       "  'updated_at': '2020-04-21T03:25:54.000Z',\n",
       "  'deleted_at': None,\n",
       "  'sub_menu_id': 35},\n",
       " {'id': 123,\n",
       "  'name': 'ABSCH 유전자원정보관리센터',\n",
       "  'link': 'https://www.abs.go.kr/kabsch/main.do',\n",
       "  'description': '국내외 유전자원등에 대한 접근 이용 및 이익공유에 관한 정보의 취합 관리 조사 제공하는 사이트입니다.',\n",
       "  'manage': '환경부',\n",
       "  'group': '환경',\n",
       "  'thumbnail': '1587439389426_ABSCH.png',\n",
       "  'created_at': '2020-04-21T03:23:09.000Z',\n",
       "  'updated_at': '2020-04-21T03:23:09.000Z',\n",
       "  'deleted_at': None,\n",
       "  'sub_menu_id': 35},\n",
       " {'id': 122,\n",
       "  'name': '환경재단',\n",
       "  'link': 'http://www.greenfund.org/',\n",
       "  'description': '어려움을 겪고 있는 아시아 국가를 지원하고 문화사업을 통해 환경문제의 접근성을 강화합니다.  어린이 환경 교육 현황을 공유하고 환경재단의 그린사회공헌 현황을 공유합니다.',\n",
       "  'manage': '환경재단',\n",
       "  'group': '환경',\n",
       "  'thumbnail': '1587437820868_환경재단.png',\n",
       "  'created_at': '2020-04-21T02:57:00.000Z',\n",
       "  'updated_at': '2020-04-21T02:57:00.000Z',\n",
       "  'deleted_at': None,\n",
       "  'sub_menu_id': 35},\n",
       " {'id': 121,\n",
       "  'name': '한국지속가능발전센터 (KICSD)',\n",
       "  'link': 'http://www.kicsd.re.kr/',\n",
       "  'description': '한국지속가능발전센터(KICSD)는 전국지속가능발전협의회 부설기관으로서, 지속가능발전에 관한 연구 교육 및 다양한 국내외 정보를 제공합니다.',\n",
       "  'manage': '한국지속가능발전센터 (KICSD)',\n",
       "  'group': '',\n",
       "  'thumbnail': '1587437604604_KICSD.png',\n",
       "  'created_at': '2020-04-21T02:53:24.000Z',\n",
       "  'updated_at': '2020-04-21T02:53:24.000Z',\n",
       "  'deleted_at': None,\n",
       "  'sub_menu_id': 35},\n",
       " {'id': 120,\n",
       "  'name': '한국국제협력단 공적개발원조(ODA) 정보포털',\n",
       "  'link': 'http://www.oda.go.kr/opo/koin/mainInfoPage.do?P_SCRIN_ID=OPOA204080S02',\n",
       "  'description': '한국국제협력단(KOICA)의 공적개발원조(ODA, Official Development Assistance) 정보포털 사이트입니다. SDGs 관련 이니셔티브 사항을 안내합니다.',\n",
       "  'manage': 'KOICA',\n",
       "  'group': 'ODA',\n",
       "  'thumbnail': '1587437274716_ODA.png',\n",
       "  'created_at': '2020-04-21T02:47:54.000Z',\n",
       "  'updated_at': '2020-04-21T02:50:47.000Z',\n",
       "  'deleted_at': None,\n",
       "  'sub_menu_id': 35},\n",
       " {'id': 119,\n",
       "  'name': '토지 포털 (Land Portal) - SDGs',\n",
       "  'link': 'https://landportal.org/book/sdgs',\n",
       "  'description': 'Land Book은 토지 관련 데이터와 국가 및 주제별로 구성된 정보를 보여주는 획기적인 지식포털로서 국가 및 주제별 포트폴리오를 제공합니다. 포트폴리오는 세계 및 지역 조직들과 협력하여 만들어지며, SDGs에 대해 자세한 통계를 제공합니다.',\n",
       "  'manage': 'Land Portal',\n",
       "  'group': '토지',\n",
       "  'thumbnail': '1587436895879_LANDPORTAL.png',\n",
       "  'created_at': '2020-04-21T02:41:35.000Z',\n",
       "  'updated_at': '2020-04-21T02:41:35.000Z',\n",
       "  'deleted_at': None,\n",
       "  'sub_menu_id': 35},\n",
       " {'id': 118,\n",
       "  'name': '전국지속가능발전협의회',\n",
       "  'link': 'http://www.sdkorea.org/',\n",
       "  'description': '1992년 브라질 리우데자네이루에서 개최된 유엔환경개발회의(UNCED, 리우회의)에서 채택된 의제21(Agenda21)의 제28조에 명시된 지방의제21(Local Agenda21)의 ‘환경적으로 건전하고 지속가능한 개발’의 정신과 원칙에 기반하고 있는 전국지속가능발전협의회는 전국의 협의회를 총괄하는 기구입니다. ',\n",
       "  'manage': '전국지속가능발전협의회',\n",
       "  'group': '',\n",
       "  'thumbnail': '1587436588940_SDKOREA.png',\n",
       "  'created_at': '2020-04-21T02:36:28.000Z',\n",
       "  'updated_at': '2020-04-21T02:36:28.000Z',\n",
       "  'deleted_at': None,\n",
       "  'sub_menu_id': 35},\n",
       " {'id': 117,\n",
       "  'name': '유네스코 한국위원회',\n",
       "  'link': 'https://www.unesco.or.kr/',\n",
       "  'description': '교육, 과학, 문화 등 지적 활동분야에서의 국제협력을 촉진함으로써 세계평화와 인류 발전을 증진시키기 위해 만들어진 유엔전문기구의 한국 위원회입니다.',\n",
       "  'manage': '유네스코 한국위원회',\n",
       "  'group': '문화',\n",
       "  'thumbnail': '1587436310442_UNESCOKR.png',\n",
       "  'created_at': '2020-04-21T02:31:50.000Z',\n",
       "  'updated_at': '2020-04-21T02:31:50.000Z',\n",
       "  'deleted_at': None,\n",
       "  'sub_menu_id': 35},\n",
       " {'id': 116,\n",
       "  'name': '세계보건기구 (WHO) - SDGs',\n",
       "  'link': 'https://www.who.int/sdg/en/',\n",
       "  'description': 'WHO 세계보건기구에서 건강(Health)에 대해 중점적으로 지속가능발전 SDGs 내용을 교육, 홍보하는 사이트입니다.',\n",
       "  'manage': 'WHO',\n",
       "  'group': '해외',\n",
       "  'thumbnail': '1587436015449_WHO.png',\n",
       "  'created_at': '2020-04-21T02:26:55.000Z',\n",
       "  'updated_at': '2020-04-21T02:26:55.000Z',\n",
       "  'deleted_at': None,\n",
       "  'sub_menu_id': 35},\n",
       " {'id': 115,\n",
       "  'name': '람사르협약 ',\n",
       "  'link': 'https://www.ramsar.org/',\n",
       "  'description': '람사르 협약이라 불리는 습지에 관한 협약은 습지와 자원의 보전과 현명한 이용을위한 틀을 제공하는 정부 간 조약입니다. 이협약은 1971년 람사르도시에서 채택되어 발효되었고 UN회원국중 90%가 체약당사국입니다.',\n",
       "  'manage': 'THE RAMSAR CONVENTION SECRETARIAT',\n",
       "  'group': '해외',\n",
       "  'thumbnail': '1587435893909_RAMSAR.png',\n",
       "  'created_at': '2020-04-21T02:23:48.000Z',\n",
       "  'updated_at': '2020-04-21T02:24:53.000Z',\n",
       "  'deleted_at': None,\n",
       "  'sub_menu_id': 35},\n",
       " {'id': 114,\n",
       "  'name': '세계기상기구 (WMO)',\n",
       "  'link': 'http://www.wmo.int/',\n",
       "  'description': '기후변화에 관련된 과학기술적 사실에 대한 평가를 제공하고 국제적인 대책을 마련하기 위한 유엔 산하 정부 간 협의체로, 비정기적으로 발표하는 보고서를 통해 인간이 만든 공해물질에 의해 발생하는 기후변화와 관련된 과학적, 기술적, 사회경제학적 정보를 제공합니다.',\n",
       "  'manage': 'WMO',\n",
       "  'group': '해외',\n",
       "  'thumbnail': '1587435627268_WMO.png',\n",
       "  'created_at': '2020-04-21T02:20:27.000Z',\n",
       "  'updated_at': '2020-04-21T02:20:27.000Z',\n",
       "  'deleted_at': None,\n",
       "  'sub_menu_id': 35},\n",
       " {'id': 113,\n",
       "  'name': 'UN 지속가능발전목표 지식플랫폼 ',\n",
       "  'link': 'https://sustainabledevelopment.un.org/',\n",
       "  'description': '지속가능발전목표 진행상황을 알려주는 UN 공식 SDGs 지식 플랫폼입니다.',\n",
       "  'manage': 'UN ',\n",
       "  'group': '해외',\n",
       "  'thumbnail': '1587435357823_SDGS.png',\n",
       "  'created_at': '2020-04-21T02:15:57.000Z',\n",
       "  'updated_at': '2020-04-21T02:15:57.000Z',\n",
       "  'deleted_at': None,\n",
       "  'sub_menu_id': 35},\n",
       " {'id': 112,\n",
       "  'name': '지속가능발전 솔루션 네트워크 (SDSN)',\n",
       "  'link': 'https://www.unsdsn.org/',\n",
       "  'description': '지속가능발전 솔루션 네트워크는 학계, 시민사회, 지역, 국가, 글로벌 규모에서 지속 가능한 개발 문제 해결을 지원하는 민간 부문의 과학 기술 전문지식을 제공합니다',\n",
       "  'manage': 'SDSN',\n",
       "  'group': '해외',\n",
       "  'thumbnail': '1587434963665_SDSN.png',\n",
       "  'created_at': '2020-04-21T02:09:23.000Z',\n",
       "  'updated_at': '2020-04-21T02:09:23.000Z',\n",
       "  'deleted_at': None,\n",
       "  'sub_menu_id': 35},\n",
       " {'id': 111,\n",
       "  'name': '녹색연합',\n",
       "  'link': 'http://www.greenkorea.org/',\n",
       "  'description': '대표적 환경운동단체로 백두대간보전운동, 야생동물보호운동, 습지보전운동, 반핵운동, 군환경오염감시운동, 녹색생활운동 등 다양한 분야의 환경운동을 펼치고 있으며, 관련활동내역, 보고서 등의 정보를 제공합니다.',\n",
       "  'manage': '녹색연합',\n",
       "  'group': '환경',\n",
       "  'thumbnail': '1587434165676_녹색연합.png',\n",
       "  'created_at': '2020-04-21T01:56:05.000Z',\n",
       "  'updated_at': '2020-04-21T01:56:05.000Z',\n",
       "  'deleted_at': None,\n",
       "  'sub_menu_id': 35}]"
      ]
     },
     "execution_count": 110,
     "metadata": {},
     "output_type": "execute_result"
    }
   ],
   "source": [
    "import requests\n",
    "\n",
    "data = requests.get('http://ncsd.go.kr/api/list?sub_menu_id=35&type=4').text\n",
    "d = json.loads(data)\n",
    "d['list']"
   ]
  },
  {
   "cell_type": "code",
   "execution_count": 111,
   "id": "4194f5ec",
   "metadata": {},
   "outputs": [
    {
     "data": {
      "text/plain": [
       "{'total': 4, 'current': 1, 'limit': 20}"
      ]
     },
     "execution_count": 111,
     "metadata": {},
     "output_type": "execute_result"
    }
   ],
   "source": [
    "d['page']"
   ]
  },
  {
   "cell_type": "code",
   "execution_count": 112,
   "id": "bfd3864a",
   "metadata": {},
   "outputs": [
    {
     "data": {
      "text/plain": [
       "65"
      ]
     },
     "execution_count": 112,
     "metadata": {},
     "output_type": "execute_result"
    }
   ],
   "source": [
    "d['total_cnt']"
   ]
  },
  {
   "cell_type": "markdown",
   "id": "dd45a73c",
   "metadata": {},
   "source": [
    "pd.read_html(url)  \n",
    "url이 가리키는 웹 페이지에서 테이블만 읽어서 dataFrame으로 변환  \n",
    "웹 페이지의 html에서 table 태그를 찾아서 변환  "
   ]
  },
  {
   "cell_type": "code",
   "execution_count": 116,
   "id": "25aa8310",
   "metadata": {},
   "outputs": [
    {
     "data": {
      "text/plain": [
       "[    id  name          email\n",
       " 0  aaa   아무개  aaa@email.com\n",
       " 1  bbb   이이경  bbb@email.com\n",
       " 2  ccc  와이키키  ccc@email.com,\n",
       "    asdf  wer          2354l\n",
       " 0   ddd  fff  qqq@email.com\n",
       " 1   www  eee  rrr@email.com\n",
       " 2  1234  fgj  etu@email.com]"
      ]
     },
     "execution_count": 116,
     "metadata": {},
     "output_type": "execute_result"
    }
   ],
   "source": [
    "import pandas as pd\n",
    "url = 'ht.html'\n",
    "a = pd.read_html(url)\n",
    "a"
   ]
  },
  {
   "cell_type": "code",
   "execution_count": 118,
   "id": "ca1f7a7d",
   "metadata": {},
   "outputs": [
    {
     "data": {
      "text/html": [
       "<div>\n",
       "<style scoped>\n",
       "    .dataframe tbody tr th:only-of-type {\n",
       "        vertical-align: middle;\n",
       "    }\n",
       "\n",
       "    .dataframe tbody tr th {\n",
       "        vertical-align: top;\n",
       "    }\n",
       "\n",
       "    .dataframe thead th {\n",
       "        text-align: right;\n",
       "    }\n",
       "</style>\n",
       "<table border=\"1\" class=\"dataframe\">\n",
       "  <thead>\n",
       "    <tr style=\"text-align: right;\">\n",
       "      <th></th>\n",
       "      <th>id</th>\n",
       "      <th>name</th>\n",
       "      <th>email</th>\n",
       "    </tr>\n",
       "  </thead>\n",
       "  <tbody>\n",
       "    <tr>\n",
       "      <th>0</th>\n",
       "      <td>aaa</td>\n",
       "      <td>아무개</td>\n",
       "      <td>aaa@email.com</td>\n",
       "    </tr>\n",
       "    <tr>\n",
       "      <th>1</th>\n",
       "      <td>bbb</td>\n",
       "      <td>이이경</td>\n",
       "      <td>bbb@email.com</td>\n",
       "    </tr>\n",
       "    <tr>\n",
       "      <th>2</th>\n",
       "      <td>ccc</td>\n",
       "      <td>와이키키</td>\n",
       "      <td>ccc@email.com</td>\n",
       "    </tr>\n",
       "  </tbody>\n",
       "</table>\n",
       "</div>"
      ],
      "text/plain": [
       "    id  name          email\n",
       "0  aaa   아무개  aaa@email.com\n",
       "1  bbb   이이경  bbb@email.com\n",
       "2  ccc  와이키키  ccc@email.com"
      ]
     },
     "execution_count": 118,
     "metadata": {},
     "output_type": "execute_result"
    }
   ],
   "source": [
    "a[0]"
   ]
  },
  {
   "cell_type": "code",
   "execution_count": 119,
   "id": "4e106342",
   "metadata": {},
   "outputs": [
    {
     "data": {
      "text/html": [
       "<div>\n",
       "<style scoped>\n",
       "    .dataframe tbody tr th:only-of-type {\n",
       "        vertical-align: middle;\n",
       "    }\n",
       "\n",
       "    .dataframe tbody tr th {\n",
       "        vertical-align: top;\n",
       "    }\n",
       "\n",
       "    .dataframe thead th {\n",
       "        text-align: right;\n",
       "    }\n",
       "</style>\n",
       "<table border=\"1\" class=\"dataframe\">\n",
       "  <thead>\n",
       "    <tr style=\"text-align: right;\">\n",
       "      <th></th>\n",
       "      <th>asdf</th>\n",
       "      <th>wer</th>\n",
       "      <th>2354l</th>\n",
       "    </tr>\n",
       "  </thead>\n",
       "  <tbody>\n",
       "    <tr>\n",
       "      <th>0</th>\n",
       "      <td>ddd</td>\n",
       "      <td>fff</td>\n",
       "      <td>qqq@email.com</td>\n",
       "    </tr>\n",
       "    <tr>\n",
       "      <th>1</th>\n",
       "      <td>www</td>\n",
       "      <td>eee</td>\n",
       "      <td>rrr@email.com</td>\n",
       "    </tr>\n",
       "    <tr>\n",
       "      <th>2</th>\n",
       "      <td>1234</td>\n",
       "      <td>fgj</td>\n",
       "      <td>etu@email.com</td>\n",
       "    </tr>\n",
       "  </tbody>\n",
       "</table>\n",
       "</div>"
      ],
      "text/plain": [
       "   asdf  wer          2354l\n",
       "0   ddd  fff  qqq@email.com\n",
       "1   www  eee  rrr@email.com\n",
       "2  1234  fgj  etu@email.com"
      ]
     },
     "execution_count": 119,
     "metadata": {},
     "output_type": "execute_result"
    }
   ],
   "source": [
    "a[1]"
   ]
  },
  {
   "cell_type": "code",
   "execution_count": 121,
   "id": "43684a73",
   "metadata": {},
   "outputs": [
    {
     "data": {
      "text/plain": [
       "[     name          email\n",
       " id                      \n",
       " aaa   아무개  aaa@email.com\n",
       " bbb   이이경  bbb@email.com\n",
       " ccc  와이키키  ccc@email.com,\n",
       "       wer          2354l\n",
       " id                      \n",
       " ddd   fff  qqq@email.com\n",
       " www   eee  rrr@email.com\n",
       " 1234  fgj  etu@email.com]"
      ]
     },
     "execution_count": 121,
     "metadata": {},
     "output_type": "execute_result"
    }
   ],
   "source": [
    "x = pd.read_html(url, index_col='id')\n",
    "x"
   ]
  },
  {
   "cell_type": "code",
   "execution_count": 122,
   "id": "f2d07e40",
   "metadata": {},
   "outputs": [
    {
     "data": {
      "text/html": [
       "<div>\n",
       "<style scoped>\n",
       "    .dataframe tbody tr th:only-of-type {\n",
       "        vertical-align: middle;\n",
       "    }\n",
       "\n",
       "    .dataframe tbody tr th {\n",
       "        vertical-align: top;\n",
       "    }\n",
       "\n",
       "    .dataframe thead th {\n",
       "        text-align: right;\n",
       "    }\n",
       "</style>\n",
       "<table border=\"1\" class=\"dataframe\">\n",
       "  <thead>\n",
       "    <tr style=\"text-align: right;\">\n",
       "      <th></th>\n",
       "      <th>name</th>\n",
       "      <th>email</th>\n",
       "    </tr>\n",
       "    <tr>\n",
       "      <th>id</th>\n",
       "      <th></th>\n",
       "      <th></th>\n",
       "    </tr>\n",
       "  </thead>\n",
       "  <tbody>\n",
       "    <tr>\n",
       "      <th>aaa</th>\n",
       "      <td>아무개</td>\n",
       "      <td>aaa@email.com</td>\n",
       "    </tr>\n",
       "    <tr>\n",
       "      <th>bbb</th>\n",
       "      <td>이이경</td>\n",
       "      <td>bbb@email.com</td>\n",
       "    </tr>\n",
       "    <tr>\n",
       "      <th>ccc</th>\n",
       "      <td>와이키키</td>\n",
       "      <td>ccc@email.com</td>\n",
       "    </tr>\n",
       "  </tbody>\n",
       "</table>\n",
       "</div>"
      ],
      "text/plain": [
       "     name          email\n",
       "id                      \n",
       "aaa   아무개  aaa@email.com\n",
       "bbb   이이경  bbb@email.com\n",
       "ccc  와이키키  ccc@email.com"
      ]
     },
     "execution_count": 122,
     "metadata": {},
     "output_type": "execute_result"
    }
   ],
   "source": [
    "x[0]"
   ]
  },
  {
   "cell_type": "code",
   "execution_count": 123,
   "id": "02d74e0f",
   "metadata": {},
   "outputs": [
    {
     "data": {
      "text/html": [
       "<div>\n",
       "<style scoped>\n",
       "    .dataframe tbody tr th:only-of-type {\n",
       "        vertical-align: middle;\n",
       "    }\n",
       "\n",
       "    .dataframe tbody tr th {\n",
       "        vertical-align: top;\n",
       "    }\n",
       "\n",
       "    .dataframe thead th {\n",
       "        text-align: right;\n",
       "    }\n",
       "</style>\n",
       "<table border=\"1\" class=\"dataframe\">\n",
       "  <thead>\n",
       "    <tr style=\"text-align: right;\">\n",
       "      <th></th>\n",
       "      <th>wer</th>\n",
       "      <th>2354l</th>\n",
       "    </tr>\n",
       "    <tr>\n",
       "      <th>id</th>\n",
       "      <th></th>\n",
       "      <th></th>\n",
       "    </tr>\n",
       "  </thead>\n",
       "  <tbody>\n",
       "    <tr>\n",
       "      <th>ddd</th>\n",
       "      <td>fff</td>\n",
       "      <td>qqq@email.com</td>\n",
       "    </tr>\n",
       "    <tr>\n",
       "      <th>www</th>\n",
       "      <td>eee</td>\n",
       "      <td>rrr@email.com</td>\n",
       "    </tr>\n",
       "    <tr>\n",
       "      <th>1234</th>\n",
       "      <td>fgj</td>\n",
       "      <td>etu@email.com</td>\n",
       "    </tr>\n",
       "  </tbody>\n",
       "</table>\n",
       "</div>"
      ],
      "text/plain": [
       "      wer          2354l\n",
       "id                      \n",
       "ddd   fff  qqq@email.com\n",
       "www   eee  rrr@email.com\n",
       "1234  fgj  etu@email.com"
      ]
     },
     "execution_count": 123,
     "metadata": {},
     "output_type": "execute_result"
    }
   ],
   "source": [
    "x[1]"
   ]
  },
  {
   "cell_type": "code",
   "execution_count": 127,
   "id": "0c66d80e",
   "metadata": {},
   "outputs": [
    {
     "data": {
      "text/html": [
       "<div>\n",
       "<style scoped>\n",
       "    .dataframe tbody tr th:only-of-type {\n",
       "        vertical-align: middle;\n",
       "    }\n",
       "\n",
       "    .dataframe tbody tr th {\n",
       "        vertical-align: top;\n",
       "    }\n",
       "\n",
       "    .dataframe thead th {\n",
       "        text-align: right;\n",
       "    }\n",
       "</style>\n",
       "<table border=\"1\" class=\"dataframe\">\n",
       "  <thead>\n",
       "    <tr style=\"text-align: right;\">\n",
       "      <th></th>\n",
       "      <th>순위</th>\n",
       "      <th>제목</th>\n",
       "      <th>감독</th>\n",
       "      <th>한국내 배급사</th>\n",
       "      <th>개봉일</th>\n",
       "      <th>관객수</th>\n",
       "      <th>기타</th>\n",
       "    </tr>\n",
       "  </thead>\n",
       "  <tbody>\n",
       "    <tr>\n",
       "      <th>0</th>\n",
       "      <td>1</td>\n",
       "      <td>《명량》</td>\n",
       "      <td>김한민</td>\n",
       "      <td>CJ E&amp;M</td>\n",
       "      <td>2014-07-30</td>\n",
       "      <td>17615590</td>\n",
       "      <td>영화진흥위원회 발권통계 기준</td>\n",
       "    </tr>\n",
       "    <tr>\n",
       "      <th>1</th>\n",
       "      <td>2</td>\n",
       "      <td>《극한직업》</td>\n",
       "      <td>이병헌</td>\n",
       "      <td>CJ엔터테인먼트</td>\n",
       "      <td>2019-01-23</td>\n",
       "      <td>16264984</td>\n",
       "      <td>영화진흥위원회 발권통계 기준</td>\n",
       "    </tr>\n",
       "    <tr>\n",
       "      <th>2</th>\n",
       "      <td>3</td>\n",
       "      <td>《신과함께: 죄와 벌》</td>\n",
       "      <td>김용화</td>\n",
       "      <td>롯데엔터테인먼트</td>\n",
       "      <td>2017-12-20</td>\n",
       "      <td>14411662</td>\n",
       "      <td>영화진흥위원회 발권통계 기준</td>\n",
       "    </tr>\n",
       "    <tr>\n",
       "      <th>3</th>\n",
       "      <td>4</td>\n",
       "      <td>《국제시장》</td>\n",
       "      <td>윤제균</td>\n",
       "      <td>CJ E&amp;M</td>\n",
       "      <td>2014-12-17</td>\n",
       "      <td>14263332</td>\n",
       "      <td>영화진흥위원회 발권통계 기준</td>\n",
       "    </tr>\n",
       "    <tr>\n",
       "      <th>4</th>\n",
       "      <td>5</td>\n",
       "      <td>《어벤져스: 엔드게임》</td>\n",
       "      <td>루소 형제</td>\n",
       "      <td>월트디즈니컴퍼니코리아</td>\n",
       "      <td>2019-04-24</td>\n",
       "      <td>13977602</td>\n",
       "      <td>영화진흥위원회 발권통계 기준</td>\n",
       "    </tr>\n",
       "    <tr>\n",
       "      <th>5</th>\n",
       "      <td>6</td>\n",
       "      <td>《겨울왕국 2》</td>\n",
       "      <td>크리스 벅 제니퍼 리</td>\n",
       "      <td>월트디즈니컴퍼니코리아</td>\n",
       "      <td>2019-11-21</td>\n",
       "      <td>13747792</td>\n",
       "      <td>영화진흥위원회 발권통계 기준</td>\n",
       "    </tr>\n",
       "    <tr>\n",
       "      <th>6</th>\n",
       "      <td>7</td>\n",
       "      <td>《베테랑》</td>\n",
       "      <td>류승완</td>\n",
       "      <td>CJ E&amp;M</td>\n",
       "      <td>2015-08-05</td>\n",
       "      <td>13414372</td>\n",
       "      <td>영화진흥위원회 발권통계 기준</td>\n",
       "    </tr>\n",
       "    <tr>\n",
       "      <th>7</th>\n",
       "      <td>8</td>\n",
       "      <td>《아바타》</td>\n",
       "      <td>제임스 캐머런</td>\n",
       "      <td>이십세기폭스코리아</td>\n",
       "      <td>2009-12-17</td>\n",
       "      <td>13338863</td>\n",
       "      <td>영화진흥위원회 공식통계 기준</td>\n",
       "    </tr>\n",
       "    <tr>\n",
       "      <th>8</th>\n",
       "      <td>8</td>\n",
       "      <td>《도둑들》</td>\n",
       "      <td>최동훈</td>\n",
       "      <td>쇼박스</td>\n",
       "      <td>2012-07-25</td>\n",
       "      <td>12984143</td>\n",
       "      <td>영화진흥위원회 발권통계 기준[6][7]</td>\n",
       "    </tr>\n",
       "    <tr>\n",
       "      <th>9</th>\n",
       "      <td>9</td>\n",
       "      <td>《7번방의 선물》</td>\n",
       "      <td>이환경</td>\n",
       "      <td>넥스트엔터테인먼트월드</td>\n",
       "      <td>2013-01-23</td>\n",
       "      <td>12811488</td>\n",
       "      <td>영화진흥위원회 발권통계 기준</td>\n",
       "    </tr>\n",
       "    <tr>\n",
       "      <th>10</th>\n",
       "      <td>10</td>\n",
       "      <td>《암살》</td>\n",
       "      <td>최동훈</td>\n",
       "      <td>쇼박스</td>\n",
       "      <td>2015-07-22</td>\n",
       "      <td>12706819</td>\n",
       "      <td>영화진흥위원회 발권통계 기준</td>\n",
       "    </tr>\n",
       "    <tr>\n",
       "      <th>11</th>\n",
       "      <td>11</td>\n",
       "      <td>《알라딘》</td>\n",
       "      <td>가이 리치</td>\n",
       "      <td>월트디즈니컴퍼니코리아</td>\n",
       "      <td>2019-05-23</td>\n",
       "      <td>12551371</td>\n",
       "      <td>영화진흥위원회 발권통계 기준</td>\n",
       "    </tr>\n",
       "    <tr>\n",
       "      <th>12</th>\n",
       "      <td>12</td>\n",
       "      <td>《광해, 왕이 된 남자》</td>\n",
       "      <td>추창민</td>\n",
       "      <td>CJ E&amp;M</td>\n",
       "      <td>2012-09-13</td>\n",
       "      <td>12324002</td>\n",
       "      <td>영화진흥위원회 발권통계 기준</td>\n",
       "    </tr>\n",
       "    <tr>\n",
       "      <th>13</th>\n",
       "      <td>13</td>\n",
       "      <td>《신과함께: 인과 연》</td>\n",
       "      <td>김용화</td>\n",
       "      <td>롯데엔터테인먼트</td>\n",
       "      <td>2018-08-01</td>\n",
       "      <td>12276230</td>\n",
       "      <td>영화진흥위원회 발권통계 기준</td>\n",
       "    </tr>\n",
       "    <tr>\n",
       "      <th>14</th>\n",
       "      <td>14</td>\n",
       "      <td>《택시운전사》</td>\n",
       "      <td>장훈</td>\n",
       "      <td>쇼박스</td>\n",
       "      <td>2017-08-02</td>\n",
       "      <td>12189436</td>\n",
       "      <td>영화진흥위원회 발권통계 기준</td>\n",
       "    </tr>\n",
       "    <tr>\n",
       "      <th>15</th>\n",
       "      <td>15</td>\n",
       "      <td>《부산행》</td>\n",
       "      <td>연상호</td>\n",
       "      <td>넥스트엔터테인먼트월드</td>\n",
       "      <td>2016-07-20</td>\n",
       "      <td>11567455</td>\n",
       "      <td>영화진흥위원회 발권통계 기준</td>\n",
       "    </tr>\n",
       "    <tr>\n",
       "      <th>16</th>\n",
       "      <td>16</td>\n",
       "      <td>《변호인》</td>\n",
       "      <td>양우석</td>\n",
       "      <td>넥스트엔터테인먼트월드</td>\n",
       "      <td>2013-12-18</td>\n",
       "      <td>11374892</td>\n",
       "      <td>영화진흥위원회 발권통계 기준</td>\n",
       "    </tr>\n",
       "    <tr>\n",
       "      <th>17</th>\n",
       "      <td>17</td>\n",
       "      <td>《해운대》</td>\n",
       "      <td>윤제균</td>\n",
       "      <td>CJ엔터테인먼트</td>\n",
       "      <td>2009-07-22</td>\n",
       "      <td>11324850</td>\n",
       "      <td>영화진흥위원회 공식통계 기준</td>\n",
       "    </tr>\n",
       "    <tr>\n",
       "      <th>18</th>\n",
       "      <td>18</td>\n",
       "      <td>《어벤져스: 인피니티 워》</td>\n",
       "      <td>루소 형제</td>\n",
       "      <td>월트디즈니컴퍼니코리아</td>\n",
       "      <td>2018-04-25</td>\n",
       "      <td>11212710</td>\n",
       "      <td>영화진흥위원회 발권통계 기준</td>\n",
       "    </tr>\n",
       "    <tr>\n",
       "      <th>19</th>\n",
       "      <td>19</td>\n",
       "      <td>《괴물》</td>\n",
       "      <td>봉준호</td>\n",
       "      <td>쇼박스</td>\n",
       "      <td>2006-07-27</td>\n",
       "      <td>10917400</td>\n",
       "      <td>영화진흥위원회 공식통계 기준</td>\n",
       "    </tr>\n",
       "    <tr>\n",
       "      <th>20</th>\n",
       "      <td>20</td>\n",
       "      <td>《왕의 남자》</td>\n",
       "      <td>이준익</td>\n",
       "      <td>시네마서비스</td>\n",
       "      <td>2005-12-29</td>\n",
       "      <td>10513947</td>\n",
       "      <td>영화진흥위원회 공식통계 기준</td>\n",
       "    </tr>\n",
       "    <tr>\n",
       "      <th>21</th>\n",
       "      <td>21</td>\n",
       "      <td>《어벤져스: 에이지 오브 울트론》</td>\n",
       "      <td>조스 휘던</td>\n",
       "      <td>월트디즈니컴퍼니코리아</td>\n",
       "      <td>2015-04-23</td>\n",
       "      <td>10494840</td>\n",
       "      <td>영화진흥위원회 발권통계 기준</td>\n",
       "    </tr>\n",
       "    <tr>\n",
       "      <th>22</th>\n",
       "      <td>22</td>\n",
       "      <td>《인터스텔라》</td>\n",
       "      <td>크리스토퍼 놀런</td>\n",
       "      <td>워너브라더스코리아</td>\n",
       "      <td>2014-11-06</td>\n",
       "      <td>10309432</td>\n",
       "      <td>영화진흥위원회 발권통계 기준</td>\n",
       "    </tr>\n",
       "    <tr>\n",
       "      <th>23</th>\n",
       "      <td>23</td>\n",
       "      <td>《겨울왕국》</td>\n",
       "      <td>크리스 벅, 제니퍼 리</td>\n",
       "      <td>월트디즈니컴퍼니코리아</td>\n",
       "      <td>2014-01-16</td>\n",
       "      <td>10296101</td>\n",
       "      <td>영화진흥위원회 발권통계 기준</td>\n",
       "    </tr>\n",
       "    <tr>\n",
       "      <th>24</th>\n",
       "      <td>24</td>\n",
       "      <td>《기생충》</td>\n",
       "      <td>봉준호</td>\n",
       "      <td>CJ엔터테인먼트</td>\n",
       "      <td>2019-05-30</td>\n",
       "      <td>10083172</td>\n",
       "      <td>영화진흥위원회 발권통계 기준</td>\n",
       "    </tr>\n",
       "    <tr>\n",
       "      <th>25</th>\n",
       "      <td>25</td>\n",
       "      <td>《보헤미안 랩소디》</td>\n",
       "      <td>브라이언 싱어</td>\n",
       "      <td>이십세기폭스코리아</td>\n",
       "      <td>2018-10-31</td>\n",
       "      <td>9948386</td>\n",
       "      <td>영화진흥위원회 발권통계 기준</td>\n",
       "    </tr>\n",
       "    <tr>\n",
       "      <th>26</th>\n",
       "      <td>26</td>\n",
       "      <td>《검사외전》</td>\n",
       "      <td>이일형</td>\n",
       "      <td>쇼박스</td>\n",
       "      <td>2016-02-03</td>\n",
       "      <td>9707581</td>\n",
       "      <td>영화진흥위원회 발권통계 기준</td>\n",
       "    </tr>\n",
       "    <tr>\n",
       "      <th>27</th>\n",
       "      <td>27</td>\n",
       "      <td>《엑시트》</td>\n",
       "      <td>이상근</td>\n",
       "      <td>CJ E&amp;M</td>\n",
       "      <td>2019-07-31</td>\n",
       "      <td>9414388</td>\n",
       "      <td>영화진흥위원회 발권통계 기준</td>\n",
       "    </tr>\n",
       "    <tr>\n",
       "      <th>28</th>\n",
       "      <td>28</td>\n",
       "      <td>《설국열차》</td>\n",
       "      <td>봉준호</td>\n",
       "      <td>CJ E&amp;M</td>\n",
       "      <td>2013-08-01</td>\n",
       "      <td>9352488</td>\n",
       "      <td>영화진흥위원회 발권통계 기준</td>\n",
       "    </tr>\n",
       "    <tr>\n",
       "      <th>29</th>\n",
       "      <td>29</td>\n",
       "      <td>《내부자들》</td>\n",
       "      <td>우민호</td>\n",
       "      <td>쇼박스</td>\n",
       "      <td>2015-11-19</td>\n",
       "      <td>9156848</td>\n",
       "      <td>영화진흥위원회 발권통계 기준, 확장판 합산</td>\n",
       "    </tr>\n",
       "    <tr>\n",
       "      <th>30</th>\n",
       "      <td>30</td>\n",
       "      <td>《관상》</td>\n",
       "      <td>한재림</td>\n",
       "      <td>쇼박스</td>\n",
       "      <td>2013-09-11</td>\n",
       "      <td>9135806</td>\n",
       "      <td>영화진흥위원회 발권통계 기준</td>\n",
       "    </tr>\n",
       "    <tr>\n",
       "      <th>31</th>\n",
       "      <td>31</td>\n",
       "      <td>《아이언맨 3》</td>\n",
       "      <td>셰인 블랙</td>\n",
       "      <td>월트디즈니컴퍼니코리아</td>\n",
       "      <td>2013-04-25</td>\n",
       "      <td>9001679</td>\n",
       "      <td>영화진흥위원회 발권통계 기준</td>\n",
       "    </tr>\n",
       "    <tr>\n",
       "      <th>32</th>\n",
       "      <td>32</td>\n",
       "      <td>《캡틴 아메리카: 시빌 워》</td>\n",
       "      <td>루소 형제</td>\n",
       "      <td>월트디즈니컴퍼니코리아</td>\n",
       "      <td>2016-04-27</td>\n",
       "      <td>8678117</td>\n",
       "      <td>영화진흥위원회 발권통계 기준</td>\n",
       "    </tr>\n",
       "    <tr>\n",
       "      <th>33</th>\n",
       "      <td>33</td>\n",
       "      <td>《해적: 바다로 간 산적》</td>\n",
       "      <td>이석훈</td>\n",
       "      <td>롯데엔터테인먼트</td>\n",
       "      <td>2014-08-06</td>\n",
       "      <td>8666208</td>\n",
       "      <td>영화진흥위원회 발권통계 기준</td>\n",
       "    </tr>\n",
       "    <tr>\n",
       "      <th>34</th>\n",
       "      <td>34</td>\n",
       "      <td>《수상한 그녀》</td>\n",
       "      <td>황동혁</td>\n",
       "      <td>CJ E&amp;M</td>\n",
       "      <td>2014-01-22</td>\n",
       "      <td>8660256</td>\n",
       "      <td>영화진흥위원회 발권통계 기준</td>\n",
       "    </tr>\n",
       "    <tr>\n",
       "      <th>35</th>\n",
       "      <td>35</td>\n",
       "      <td>《과속스캔들》</td>\n",
       "      <td>강형철</td>\n",
       "      <td>롯데엔터테인먼트</td>\n",
       "      <td>2008-12-03</td>\n",
       "      <td>8223342</td>\n",
       "      <td>영화진흥위원회 공식통계 기준</td>\n",
       "    </tr>\n",
       "    <tr>\n",
       "      <th>36</th>\n",
       "      <td>36</td>\n",
       "      <td>《국가대표》</td>\n",
       "      <td>김용화</td>\n",
       "      <td>쇼박스</td>\n",
       "      <td>2009-07-29</td>\n",
       "      <td>8035181</td>\n",
       "      <td>영화진흥위원회 공식통계 기준</td>\n",
       "    </tr>\n",
       "    <tr>\n",
       "      <th>37</th>\n",
       "      <td>37</td>\n",
       "      <td>《스파이더맨: 파 프롬 홈》</td>\n",
       "      <td>존 와츠</td>\n",
       "      <td>소니 픽처스 엔터테인먼트 코리아</td>\n",
       "      <td>2019-07-02</td>\n",
       "      <td>8021290</td>\n",
       "      <td>영화진흥위원회 발권통계 기준</td>\n",
       "    </tr>\n",
       "    <tr>\n",
       "      <th>38</th>\n",
       "      <td>38</td>\n",
       "      <td>《디워》</td>\n",
       "      <td>심형래</td>\n",
       "      <td>쇼박스</td>\n",
       "      <td>2007-08-01</td>\n",
       "      <td>7855474</td>\n",
       "      <td>영화진흥위원회 공식통계 기준</td>\n",
       "    </tr>\n",
       "    <tr>\n",
       "      <th>39</th>\n",
       "      <td>39</td>\n",
       "      <td>《공조》</td>\n",
       "      <td>김성훈</td>\n",
       "      <td>CJ E&amp;M</td>\n",
       "      <td>2017-01-18</td>\n",
       "      <td>7817654</td>\n",
       "      <td>영화진흥위원회 발권통계 기준</td>\n",
       "    </tr>\n",
       "    <tr>\n",
       "      <th>40</th>\n",
       "      <td>40</td>\n",
       "      <td>《트랜스포머 3》</td>\n",
       "      <td>마이클 베이</td>\n",
       "      <td>CJ E&amp;M</td>\n",
       "      <td>2011-06-29</td>\n",
       "      <td>7785189</td>\n",
       "      <td>영화진흥위원회 발권통계 기준</td>\n",
       "    </tr>\n",
       "    <tr>\n",
       "      <th>41</th>\n",
       "      <td>41</td>\n",
       "      <td>《히말라야》</td>\n",
       "      <td>이석훈</td>\n",
       "      <td>CJ E&amp;M</td>\n",
       "      <td>2015-12-16</td>\n",
       "      <td>7759761</td>\n",
       "      <td>영화진흥위원회 발권통계 기준</td>\n",
       "    </tr>\n",
       "    <tr>\n",
       "      <th>42</th>\n",
       "      <td>42</td>\n",
       "      <td>《미션 임파서블: 고스트 프로토콜》</td>\n",
       "      <td>브래드 버드</td>\n",
       "      <td>CJ E&amp;M</td>\n",
       "      <td>2011-12-15</td>\n",
       "      <td>7508976</td>\n",
       "      <td>영화진흥위원회 발권통계 기준</td>\n",
       "    </tr>\n",
       "    <tr>\n",
       "      <th>43</th>\n",
       "      <td>43</td>\n",
       "      <td>《밀정》</td>\n",
       "      <td>김지운</td>\n",
       "      <td>워너브라더스코리아</td>\n",
       "      <td>2016-09-07</td>\n",
       "      <td>7500457</td>\n",
       "      <td>영화진흥위원회 발권통계 기준</td>\n",
       "    </tr>\n",
       "    <tr>\n",
       "      <th>44</th>\n",
       "      <td>44</td>\n",
       "      <td>《최종병기 활》</td>\n",
       "      <td>김한민</td>\n",
       "      <td>롯데엔터테인먼트</td>\n",
       "      <td>2011-08-10</td>\n",
       "      <td>7470633</td>\n",
       "      <td>영화진흥위원회 발권통계 기준</td>\n",
       "    </tr>\n",
       "    <tr>\n",
       "      <th>45</th>\n",
       "      <td>45</td>\n",
       "      <td>《트랜스포머》</td>\n",
       "      <td>마이클 베이</td>\n",
       "      <td>CJ엔터테인먼트</td>\n",
       "      <td>2007-06-28</td>\n",
       "      <td>7402732</td>\n",
       "      <td>영화진흥위원회 공식통계 기준</td>\n",
       "    </tr>\n",
       "    <tr>\n",
       "      <th>46</th>\n",
       "      <td>46</td>\n",
       "      <td>《트랜스포머: 패자의 역습》</td>\n",
       "      <td>마이클 베이</td>\n",
       "      <td>CJ엔터테인먼트</td>\n",
       "      <td>2009-06-24</td>\n",
       "      <td>7393443</td>\n",
       "      <td>영화진흥위원회 공식통계 기준</td>\n",
       "    </tr>\n",
       "    <tr>\n",
       "      <th>47</th>\n",
       "      <td>47</td>\n",
       "      <td>《써니》</td>\n",
       "      <td>강형철</td>\n",
       "      <td>CJ E&amp;M</td>\n",
       "      <td>2011-05-04</td>\n",
       "      <td>7363139</td>\n",
       "      <td>영화진흥위원회 발권통계 기준</td>\n",
       "    </tr>\n",
       "    <tr>\n",
       "      <th>48</th>\n",
       "      <td>48</td>\n",
       "      <td>《스파이더맨: 홈커밍》</td>\n",
       "      <td>존 와츠</td>\n",
       "      <td>소니 픽처스 엔터테인먼트 코리아</td>\n",
       "      <td>2017-07-05</td>\n",
       "      <td>7258678</td>\n",
       "      <td>영화진흥위원회 발권통계 기준</td>\n",
       "    </tr>\n",
       "    <tr>\n",
       "      <th>49</th>\n",
       "      <td>49</td>\n",
       "      <td>《1987》</td>\n",
       "      <td>장준환</td>\n",
       "      <td>CJ E&amp;M</td>\n",
       "      <td>2017-12-27</td>\n",
       "      <td>7232387</td>\n",
       "      <td>영화진흥위원회 발권통계 기준</td>\n",
       "    </tr>\n",
       "    <tr>\n",
       "      <th>50</th>\n",
       "      <td>50</td>\n",
       "      <td>《베를린》</td>\n",
       "      <td>류승완</td>\n",
       "      <td>CJ E&amp;M</td>\n",
       "      <td>2013-01-30</td>\n",
       "      <td>7166688</td>\n",
       "      <td>영화진흥위원회 발권통계 기준</td>\n",
       "    </tr>\n",
       "    <tr>\n",
       "      <th>51</th>\n",
       "      <td>51</td>\n",
       "      <td>《마스터》</td>\n",
       "      <td>조의석</td>\n",
       "      <td>CJ E&amp;M</td>\n",
       "      <td>2016-12-21</td>\n",
       "      <td>7150586</td>\n",
       "      <td>영화진흥위원회 발권통계 기준</td>\n",
       "    </tr>\n",
       "    <tr>\n",
       "      <th>52</th>\n",
       "      <td>52</td>\n",
       "      <td>《터널》</td>\n",
       "      <td>김성훈</td>\n",
       "      <td>쇼박스</td>\n",
       "      <td>2016-08-10</td>\n",
       "      <td>7120780</td>\n",
       "      <td>영화진흥위원회 발권통계 기준</td>\n",
       "    </tr>\n",
       "    <tr>\n",
       "      <th>53</th>\n",
       "      <td>53</td>\n",
       "      <td>《어벤져스》</td>\n",
       "      <td>조스 휘던</td>\n",
       "      <td>월트디즈니컴퍼니코리아</td>\n",
       "      <td>2012-04-26</td>\n",
       "      <td>7075607</td>\n",
       "      <td>영화진흥위원회 발권통계 기준</td>\n",
       "    </tr>\n",
       "    <tr>\n",
       "      <th>54</th>\n",
       "      <td>54</td>\n",
       "      <td>《인천상륙작전》</td>\n",
       "      <td>이재한</td>\n",
       "      <td>CJ E&amp;M</td>\n",
       "      <td>2016-07-27</td>\n",
       "      <td>7051150</td>\n",
       "      <td>영화진흥위원회 발권통계 기준</td>\n",
       "    </tr>\n",
       "  </tbody>\n",
       "</table>\n",
       "</div>"
      ],
      "text/plain": [
       "    순위                   제목            감독            한국내 배급사         개봉일  \\\n",
       "0    1                 《명량》           김한민             CJ E&M  2014-07-30   \n",
       "1    2               《극한직업》           이병헌           CJ엔터테인먼트  2019-01-23   \n",
       "2    3         《신과함께: 죄와 벌》           김용화           롯데엔터테인먼트  2017-12-20   \n",
       "3    4               《국제시장》           윤제균             CJ E&M  2014-12-17   \n",
       "4    5         《어벤져스: 엔드게임》         루소 형제        월트디즈니컴퍼니코리아  2019-04-24   \n",
       "5    6             《겨울왕국 2》   크리스 벅 제니퍼 리        월트디즈니컴퍼니코리아  2019-11-21   \n",
       "6    7                《베테랑》           류승완             CJ E&M  2015-08-05   \n",
       "7    8                《아바타》       제임스 캐머런          이십세기폭스코리아  2009-12-17   \n",
       "8    8                《도둑들》           최동훈                쇼박스  2012-07-25   \n",
       "9    9            《7번방의 선물》           이환경        넥스트엔터테인먼트월드  2013-01-23   \n",
       "10  10                 《암살》           최동훈                쇼박스  2015-07-22   \n",
       "11  11                《알라딘》         가이 리치        월트디즈니컴퍼니코리아  2019-05-23   \n",
       "12  12        《광해, 왕이 된 남자》           추창민             CJ E&M  2012-09-13   \n",
       "13  13         《신과함께: 인과 연》           김용화           롯데엔터테인먼트  2018-08-01   \n",
       "14  14              《택시운전사》            장훈                쇼박스  2017-08-02   \n",
       "15  15                《부산행》           연상호        넥스트엔터테인먼트월드  2016-07-20   \n",
       "16  16                《변호인》           양우석        넥스트엔터테인먼트월드  2013-12-18   \n",
       "17  17                《해운대》           윤제균           CJ엔터테인먼트  2009-07-22   \n",
       "18  18       《어벤져스: 인피니티 워》         루소 형제        월트디즈니컴퍼니코리아  2018-04-25   \n",
       "19  19                 《괴물》           봉준호                쇼박스  2006-07-27   \n",
       "20  20              《왕의 남자》           이준익             시네마서비스  2005-12-29   \n",
       "21  21   《어벤져스: 에이지 오브 울트론》         조스 휘던        월트디즈니컴퍼니코리아  2015-04-23   \n",
       "22  22              《인터스텔라》      크리스토퍼 놀런          워너브라더스코리아  2014-11-06   \n",
       "23  23               《겨울왕국》  크리스 벅, 제니퍼 리        월트디즈니컴퍼니코리아  2014-01-16   \n",
       "24  24                《기생충》           봉준호           CJ엔터테인먼트  2019-05-30   \n",
       "25  25           《보헤미안 랩소디》       브라이언 싱어          이십세기폭스코리아  2018-10-31   \n",
       "26  26               《검사외전》           이일형                쇼박스  2016-02-03   \n",
       "27  27                《엑시트》           이상근             CJ E&M  2019-07-31   \n",
       "28  28               《설국열차》           봉준호             CJ E&M  2013-08-01   \n",
       "29  29               《내부자들》           우민호                쇼박스  2015-11-19   \n",
       "30  30                 《관상》           한재림                쇼박스  2013-09-11   \n",
       "31  31             《아이언맨 3》         셰인 블랙        월트디즈니컴퍼니코리아  2013-04-25   \n",
       "32  32      《캡틴 아메리카: 시빌 워》         루소 형제        월트디즈니컴퍼니코리아  2016-04-27   \n",
       "33  33       《해적: 바다로 간 산적》           이석훈           롯데엔터테인먼트  2014-08-06   \n",
       "34  34             《수상한 그녀》           황동혁             CJ E&M  2014-01-22   \n",
       "35  35              《과속스캔들》           강형철           롯데엔터테인먼트  2008-12-03   \n",
       "36  36               《국가대표》           김용화                쇼박스  2009-07-29   \n",
       "37  37      《스파이더맨: 파 프롬 홈》          존 와츠  소니 픽처스 엔터테인먼트 코리아  2019-07-02   \n",
       "38  38                 《디워》           심형래                쇼박스  2007-08-01   \n",
       "39  39                 《공조》           김성훈             CJ E&M  2017-01-18   \n",
       "40  40            《트랜스포머 3》        마이클 베이             CJ E&M  2011-06-29   \n",
       "41  41               《히말라야》           이석훈             CJ E&M  2015-12-16   \n",
       "42  42  《미션 임파서블: 고스트 프로토콜》        브래드 버드             CJ E&M  2011-12-15   \n",
       "43  43                 《밀정》           김지운          워너브라더스코리아  2016-09-07   \n",
       "44  44             《최종병기 활》           김한민           롯데엔터테인먼트  2011-08-10   \n",
       "45  45              《트랜스포머》        마이클 베이           CJ엔터테인먼트  2007-06-28   \n",
       "46  46      《트랜스포머: 패자의 역습》        마이클 베이           CJ엔터테인먼트  2009-06-24   \n",
       "47  47                 《써니》           강형철             CJ E&M  2011-05-04   \n",
       "48  48         《스파이더맨: 홈커밍》          존 와츠  소니 픽처스 엔터테인먼트 코리아  2017-07-05   \n",
       "49  49               《1987》           장준환             CJ E&M  2017-12-27   \n",
       "50  50                《베를린》           류승완             CJ E&M  2013-01-30   \n",
       "51  51                《마스터》           조의석             CJ E&M  2016-12-21   \n",
       "52  52                 《터널》           김성훈                쇼박스  2016-08-10   \n",
       "53  53               《어벤져스》         조스 휘던        월트디즈니컴퍼니코리아  2012-04-26   \n",
       "54  54             《인천상륙작전》           이재한             CJ E&M  2016-07-27   \n",
       "\n",
       "         관객수                       기타  \n",
       "0   17615590          영화진흥위원회 발권통계 기준  \n",
       "1   16264984          영화진흥위원회 발권통계 기준  \n",
       "2   14411662          영화진흥위원회 발권통계 기준  \n",
       "3   14263332          영화진흥위원회 발권통계 기준  \n",
       "4   13977602          영화진흥위원회 발권통계 기준  \n",
       "5   13747792          영화진흥위원회 발권통계 기준  \n",
       "6   13414372          영화진흥위원회 발권통계 기준  \n",
       "7   13338863          영화진흥위원회 공식통계 기준  \n",
       "8   12984143    영화진흥위원회 발권통계 기준[6][7]  \n",
       "9   12811488          영화진흥위원회 발권통계 기준  \n",
       "10  12706819          영화진흥위원회 발권통계 기준  \n",
       "11  12551371          영화진흥위원회 발권통계 기준  \n",
       "12  12324002          영화진흥위원회 발권통계 기준  \n",
       "13  12276230          영화진흥위원회 발권통계 기준  \n",
       "14  12189436          영화진흥위원회 발권통계 기준  \n",
       "15  11567455          영화진흥위원회 발권통계 기준  \n",
       "16  11374892          영화진흥위원회 발권통계 기준  \n",
       "17  11324850          영화진흥위원회 공식통계 기준  \n",
       "18  11212710          영화진흥위원회 발권통계 기준  \n",
       "19  10917400          영화진흥위원회 공식통계 기준  \n",
       "20  10513947          영화진흥위원회 공식통계 기준  \n",
       "21  10494840          영화진흥위원회 발권통계 기준  \n",
       "22  10309432          영화진흥위원회 발권통계 기준  \n",
       "23  10296101          영화진흥위원회 발권통계 기준  \n",
       "24  10083172          영화진흥위원회 발권통계 기준  \n",
       "25   9948386          영화진흥위원회 발권통계 기준  \n",
       "26   9707581          영화진흥위원회 발권통계 기준  \n",
       "27   9414388          영화진흥위원회 발권통계 기준  \n",
       "28   9352488          영화진흥위원회 발권통계 기준  \n",
       "29   9156848  영화진흥위원회 발권통계 기준, 확장판 합산  \n",
       "30   9135806          영화진흥위원회 발권통계 기준  \n",
       "31   9001679          영화진흥위원회 발권통계 기준  \n",
       "32   8678117          영화진흥위원회 발권통계 기준  \n",
       "33   8666208          영화진흥위원회 발권통계 기준  \n",
       "34   8660256          영화진흥위원회 발권통계 기준  \n",
       "35   8223342          영화진흥위원회 공식통계 기준  \n",
       "36   8035181          영화진흥위원회 공식통계 기준  \n",
       "37   8021290          영화진흥위원회 발권통계 기준  \n",
       "38   7855474          영화진흥위원회 공식통계 기준  \n",
       "39   7817654          영화진흥위원회 발권통계 기준  \n",
       "40   7785189          영화진흥위원회 발권통계 기준  \n",
       "41   7759761          영화진흥위원회 발권통계 기준  \n",
       "42   7508976          영화진흥위원회 발권통계 기준  \n",
       "43   7500457          영화진흥위원회 발권통계 기준  \n",
       "44   7470633          영화진흥위원회 발권통계 기준  \n",
       "45   7402732          영화진흥위원회 공식통계 기준  \n",
       "46   7393443          영화진흥위원회 공식통계 기준  \n",
       "47   7363139          영화진흥위원회 발권통계 기준  \n",
       "48   7258678          영화진흥위원회 발권통계 기준  \n",
       "49   7232387          영화진흥위원회 발권통계 기준  \n",
       "50   7166688          영화진흥위원회 발권통계 기준  \n",
       "51   7150586          영화진흥위원회 발권통계 기준  \n",
       "52   7120780          영화진흥위원회 발권통계 기준  \n",
       "53   7075607          영화진흥위원회 발권통계 기준  \n",
       "54   7051150          영화진흥위원회 발권통계 기준  "
      ]
     },
     "execution_count": 127,
     "metadata": {},
     "output_type": "execute_result"
    }
   ],
   "source": [
    "url = 'https://ko.wikipedia.org/wiki/%EB%8C%80%ED%95%9C%EB%AF%BC%EA%B5%AD%EC%9D%98_%EC%98%81%ED%99%94_%ED%9D%A5%ED%96%89_%EA%B8%B0%EB%A1%9D'\n",
    "data = pd.read_html(url)[0]\n",
    "data"
   ]
  },
  {
   "cell_type": "code",
   "execution_count": 130,
   "id": "2d95bf14",
   "metadata": {},
   "outputs": [
    {
     "data": {
      "text/html": [
       "<div>\n",
       "<style scoped>\n",
       "    .dataframe tbody tr th:only-of-type {\n",
       "        vertical-align: middle;\n",
       "    }\n",
       "\n",
       "    .dataframe tbody tr th {\n",
       "        vertical-align: top;\n",
       "    }\n",
       "\n",
       "    .dataframe thead th {\n",
       "        text-align: right;\n",
       "    }\n",
       "</style>\n",
       "<table border=\"1\" class=\"dataframe\">\n",
       "  <thead>\n",
       "    <tr style=\"text-align: right;\">\n",
       "      <th></th>\n",
       "      <th>순위</th>\n",
       "      <th>제목</th>\n",
       "      <th>감독</th>\n",
       "      <th>한국내 배급사</th>\n",
       "      <th>개봉일</th>\n",
       "      <th>관객수</th>\n",
       "      <th>기타</th>\n",
       "    </tr>\n",
       "  </thead>\n",
       "  <tbody>\n",
       "    <tr>\n",
       "      <th>0</th>\n",
       "      <td>1</td>\n",
       "      <td>《명량》</td>\n",
       "      <td>김한민</td>\n",
       "      <td>CJ E&amp;M</td>\n",
       "      <td>2014-07-30</td>\n",
       "      <td>17615590</td>\n",
       "      <td>영화진흥위원회 발권통계 기준</td>\n",
       "    </tr>\n",
       "    <tr>\n",
       "      <th>1</th>\n",
       "      <td>2</td>\n",
       "      <td>《극한직업》</td>\n",
       "      <td>이병헌</td>\n",
       "      <td>CJ엔터테인먼트</td>\n",
       "      <td>2019-01-23</td>\n",
       "      <td>16264984</td>\n",
       "      <td>영화진흥위원회 발권통계 기준</td>\n",
       "    </tr>\n",
       "    <tr>\n",
       "      <th>2</th>\n",
       "      <td>3</td>\n",
       "      <td>《신과함께: 죄와 벌》</td>\n",
       "      <td>김용화</td>\n",
       "      <td>롯데엔터테인먼트</td>\n",
       "      <td>2017-12-20</td>\n",
       "      <td>14411662</td>\n",
       "      <td>영화진흥위원회 발권통계 기준</td>\n",
       "    </tr>\n",
       "    <tr>\n",
       "      <th>3</th>\n",
       "      <td>4</td>\n",
       "      <td>《국제시장》</td>\n",
       "      <td>윤제균</td>\n",
       "      <td>CJ E&amp;M</td>\n",
       "      <td>2014-12-17</td>\n",
       "      <td>14263332</td>\n",
       "      <td>영화진흥위원회 발권통계 기준</td>\n",
       "    </tr>\n",
       "    <tr>\n",
       "      <th>4</th>\n",
       "      <td>5</td>\n",
       "      <td>《어벤져스: 엔드게임》</td>\n",
       "      <td>루소 형제</td>\n",
       "      <td>월트디즈니컴퍼니코리아</td>\n",
       "      <td>2019-04-24</td>\n",
       "      <td>13977602</td>\n",
       "      <td>영화진흥위원회 발권통계 기준</td>\n",
       "    </tr>\n",
       "  </tbody>\n",
       "</table>\n",
       "</div>"
      ],
      "text/plain": [
       "   순위            제목     감독      한국내 배급사         개봉일       관객수               기타\n",
       "0   1          《명량》    김한민       CJ E&M  2014-07-30  17615590  영화진흥위원회 발권통계 기준\n",
       "1   2        《극한직업》    이병헌     CJ엔터테인먼트  2019-01-23  16264984  영화진흥위원회 발권통계 기준\n",
       "2   3  《신과함께: 죄와 벌》    김용화     롯데엔터테인먼트  2017-12-20  14411662  영화진흥위원회 발권통계 기준\n",
       "3   4        《국제시장》    윤제균       CJ E&M  2014-12-17  14263332  영화진흥위원회 발권통계 기준\n",
       "4   5  《어벤져스: 엔드게임》  루소 형제  월트디즈니컴퍼니코리아  2019-04-24  13977602  영화진흥위원회 발권통계 기준"
      ]
     },
     "execution_count": 130,
     "metadata": {},
     "output_type": "execute_result"
    }
   ],
   "source": [
    "data[data['순위']<=5]"
   ]
  },
  {
   "cell_type": "code",
   "execution_count": 131,
   "id": "cd5776bf",
   "metadata": {},
   "outputs": [
    {
     "data": {
      "image/png": "[encoded data removed]",
      "text/plain": [
       "<Figure size 432x288 with 1 Axes>"
      ]
     },
     "metadata": {
      "needs_background": "light"
     },
     "output_type": "display_data"
    }
   ],
   "source": [
    "import matplotlib.pyplot as plt\n",
    "\n",
    "plt.plot(data['순위'], data['관객수'])\n",
    "plt.title('movie')\n",
    "plt.xlabel('order')\n",
    "plt.ylabel('number')\n",
    "plt.show()"
   ]
  },
  {
   "cell_type": "markdown",
   "id": "79ae0d3c",
   "metadata": {},
   "source": [
    "open api 사용하여 공공데이터 활용  \n",
    "open api는 공공기관이나 비영리 기관에서 데이터 제공하는 app(web-app).  \n",
    "날씨, 교통, 환경... 등의 정보를 json, xml, html 등의 포맷으로 제공하는 앱이다  \n",
    "open api와 연동한 프로그램을 개발한다는 것은 open api가 주는 json, xml, html 포맷의 데이터를 받아서 이를 활용하는 프로그램을 만드는 것  \n",
    "  \n",
    "개발절차  \n",
    "1. 지정된 url로 요청. 요청 파라메터도 같이 전송  \n",
    "2. 요청의 응답을 받아서 dataFrame으로 변환하거나 html, xml, json 데어터를 파싱한다.  \n",
    "3. 파싱한 데이터를 활용하여 프로그램에 적용"
   ]
  },
  {
   "cell_type": "code",
   "execution_count": 132,
   "id": "f3609d90",
   "metadata": {},
   "outputs": [
    {
     "name": "stdout",
     "output_type": "stream",
     "text": [
      "당신의 이름은 bbb 이고, 나이는 10 이다\n"
     ]
    }
   ],
   "source": [
    "age=10\n",
    "name='bbb'\n",
    "#s1='당신의 이름은 '+name+' 이고, 나이는 '+str(age)+' 이다'\n",
    "s='당신의 이름은 %s 이고, 나이는 %d 이다'%(name, age)#%s:문자열, %d:정수, %f:실수\n",
    "print(s)"
   ]
  },
  {
   "cell_type": "code",
   "execution_count": 136,
   "id": "a2eedad0",
   "metadata": {},
   "outputs": [
    {
     "data": {
      "text/plain": [
       "'<?xml version=\"1.0\" encoding=\"UTF-8\" standalone=\"yes\"?><ServiceResult><comMsgHeader/><msgHeader><headerCd>0</headerCd><headerMsg>정상적으로 처리되었습니다.</headerMsg><itemCount>0</itemCount></msgHeader><msgBody><itemList><busRouteId>100100124</busRouteId><busRouteNm>0017</busRouteNm><corpNm>보광교통  02-307-5600</corpNm><edStationNm>이촌동</edStationNm><firstBusTm>20210709051500</firstBusTm><firstLowTm>              </firstLowTm><lastBusTm>20210709233000</lastBusTm><lastBusYn> </lastBusYn><lastLowTm>20171115000000</lastLowTm><length>12.2</length><routeType>4</routeType><stStationNm>청암동</stStationNm><term>12</term></itemList></msgBody></ServiceResult>'"
      ]
     },
     "execution_count": 136,
     "metadata": {},
     "output_type": "execute_result"
    }
   ],
   "source": [
    "bus_id='100100124' #노선id\n",
    "#내 인증키\n",
    "api_key='BYgs6%2FjSL0du1z8yK4GxYdW1SepukkJ0gXtUP3tGUQpjThEU4JeQKRlspdSnxTWcjia6U6r5oPxW%2F7tK7HZ2sg%3D%3D'\n",
    "url = 'http://ws.bus.go.kr/api/rest/busRouteInfo/getRouteInfo?ServiceKey=%s&busRouteId=%s'%(api_key, bus_id)\n",
    "html = requests.get(url).text\n",
    "html"
   ]
  },
  {
   "cell_type": "code",
   "execution_count": 145,
   "id": "5dd84045",
   "metadata": {},
   "outputs": [
    {
     "name": "stdout",
     "output_type": "stream",
     "text": [
      "처리결과: 정상적으로 처리되었습니다.\n",
      "버스명: 0017\n",
      "기점: 청암동\n",
      "종점: 이촌동\n",
      "배차시간: 12\n",
      "첫차시간: 20210709051500\n",
      "막차시간: 20210709233000\n"
     ]
    }
   ],
   "source": [
    "#텍스트 형태의 html 값을 객체화하여 각 태그를 인식할 수 있도록 변환\n",
    "root = BeautifulSoup(html, 'lxml-xml')#파서의 종류를 xml로 지정\n",
    "code = root.find('headerCd').get_text()\n",
    "msg = root.find('headerMsg').get_text()\n",
    "print('처리결과:', msg)\n",
    "if code=='0':\n",
    "    #기점첫차시간, 막차시간, 배차시간, 기점, 종점, 버스이름\n",
    "    a=root.find('firstBusTm').get_text()\n",
    "    b=root.find('lastBusTm').get_text()\n",
    "    c=root.find('term').get_text()\n",
    "    d=root.find('stStationNm').get_text()\n",
    "    e=root.find('edStationNm').get_text()\n",
    "    f=root.find('busRouteNm').get_text()\n",
    "    \n",
    "    print('버스명:', f)\n",
    "    print('기점:', d)\n",
    "    print('종점:', e)\n",
    "    print('배차시간:', c)\n",
    "    print('첫차시간:', a)\n",
    "    print('막차시간:', b)"
   ]
  },
  {
   "cell_type": "code",
   "execution_count": 146,
   "id": "7c02cb5f",
   "metadata": {},
   "outputs": [
    {
     "data": {
      "text/plain": [
       "'<?xml version=\"1.0\" encoding=\"UTF-8\" standalone=\"yes\"?><ServiceResult><comMsgHeader/><msgHeader><headerCd>0</headerCd><headerMsg>정상적으로 처리되었습니다.</headerMsg><itemCount>0</itemCount></msgHeader><msgBody><itemList><busRouteId>100100513</busRouteId><busRouteNm>6100</busRouteNm><corpNm>한국도심공항  02-551-0077</corpNm><edStationNm>인천공항</edStationNm><firstBusTm>20210709053000</firstBusTm><firstLowTm>              </firstLowTm><lastBusTm>20210709154000</lastBusTm><lastBusYn> </lastBusYn><lastLowTm>20191105000000</lastLowTm><length>206</length><routeType>1</routeType><stStationNm>망우역</stStationNm><term>180</term></itemList><itemList><busRouteId>100100549</busRouteId><busRouteNm>100</busRouteNm><corpNm>한성여객  02-936-6000</corpNm><edStationNm>용산구청</edStationNm><firstBusTm>20210709040000</firstBusTm><firstLowTm>              </firstLowTm><lastBusTm>20210709223000</lastBusTm><lastBusYn> </lastBusYn><lastLowTm>20160226224000</lastLowTm><length>57.09</length><routeType>3</routeType><stStationNm>하계동</stStationNm><term>10</term></itemList><itemList><busRouteId>165000145</busRouteId><busRouteNm>1000인천</busRouteNm><corpNm>인천</corpNm><edStationNm>서울역</edStationNm><firstBusTm>20210709050000</firstBusTm><firstLowTm>              </firstLowTm><lastBusTm>20210710000000</lastBusTm><lastBusYn> </lastBusYn><lastLowTm>              </lastLowTm><length>0</length><routeType>7</routeType><stStationNm>경남아너스빌</stStationNm><term>25</term></itemList><itemList><busRouteId>165000146</busRouteId><busRouteNm>1100인천</busRouteNm><corpNm>인천</corpNm><edStationNm>서울역</edStationNm><firstBusTm>20210709050000</firstBusTm><firstLowTm>              </firstLowTm><lastBusTm>20210709234000</lastBusTm><lastBusYn> </lastBusYn><lastLowTm>              </lastLowTm><length>0</length><routeType>7</routeType><stStationNm>공단사거리</stStationNm><term>30</term></itemList><itemList><busRouteId>165000160</busRouteId><busRouteNm>9100인천</busRouteNm><corpNm>인천</corpNm><edStationNm>강남역서초현대타워앞</edStationNm><firstBusTm>20210709050000</firstBusTm><firstLowTm>              </firstLowTm><lastBusTm>20210709231000</lastBusTm><lastBusYn> </lastBusYn><lastLowTm>              </lastLowTm><length>0</length><routeType>7</routeType><stStationNm>숭의역(1번출구)</stStationNm><term>20</term></itemList><itemList><busRouteId>234001511</busRouteId><busRouteNm>1000-1광주</busRouteNm><corpNm>경기</corpNm><edStationNm>잠실광역환승센터</edStationNm><firstBusTm>20210709055000</firstBusTm><firstLowTm>              </firstLowTm><lastBusTm>20210709225000</lastBusTm><lastBusYn> </lastBusYn><lastLowTm>              </lastLowTm><length>0</length><routeType>8</routeType><stStationNm>호평동차고지</stStationNm><term>80</term></itemList><itemList><busRouteId>219000013</busRouteId><busRouteNm>1000고양</busRouteNm><corpNm>경기</corpNm><edStationNm>숭례문</edStationNm><firstBusTm>20210709043000</firstBusTm><firstLowTm>              </firstLowTm><lastBusTm>20210709230000</lastBusTm><lastBusYn> </lastBusYn><lastLowTm>              </lastLowTm><length>0</length><routeType>8</routeType><stStationNm>대화동</stStationNm><term>18</term></itemList><itemList><busRouteId>221000003</busRouteId><busRouteNm>1000구리</busRouteNm><corpNm>경기</corpNm><edStationNm>잠실광역환승센터</edStationNm><firstBusTm>20210709053000</firstBusTm><firstLowTm>              </firstLowTm><lastBusTm>20210709233000</lastBusTm><lastBusYn> </lastBusYn><lastLowTm>              </lastLowTm><length>0</length><routeType>8</routeType><stStationNm>호평동차고지</stStationNm><term>30</term></itemList><itemList><busRouteId>218000007</busRouteId><busRouteNm>1001고양</busRouteNm><corpNm>경기</corpNm><edStationNm>부천소방서.부천대학사거리</edStationNm><firstBusTm>20210709044000</firstBusTm><firstLowTm>              </firstLowTm><lastBusTm>20210709232000</lastBusTm><lastBusYn> </lastBusYn><lastLowTm>              </lastLowTm><length>0</length><routeType>8</routeType><stStationNm>고양공영차고지(경유)</stStationNm><term>20</term></itemList><itemList><busRouteId>222000107</busRouteId><busRouteNm>1001남양주</busRouteNm><corpNm>경기</corpNm><edStationNm>잠실광역환승센터</edStationNm><firstBusTm>20210709051000</firstBusTm><firstLowTm>              </firstLowTm><lastBusTm>20210709230000</lastBusTm><lastBusYn> </lastBusYn><lastLowTm>              </lastLowTm><length>0</length><routeType>8</routeType><stStationNm>청학리</stStationNm><term>20</term></itemList><itemList><busRouteId>232000006</busRouteId><busRouteNm>1002김포</busRouteNm><corpNm>경기</corpNm><edStationNm>시청.서소문청사</edStationNm><firstBusTm>20210709042000</firstBusTm><firstLowTm>              </firstLowTm><lastBusTm>20210709220000</lastBusTm><lastBusYn> </lastBusYn><lastLowTm>              </lastLowTm><length>0</length><routeType>8</routeType><stStationNm>완정사거리</stStationNm><term>40</term></itemList><itemList><busRouteId>233000140</busRouteId><busRouteNm>1002화성</busRouteNm><corpNm>경기</corpNm><edStationNm>사당역</edStationNm><firstBusTm>20210709042000</firstBusTm><firstLowTm>              </firstLowTm><lastBusTm>20210709210000</lastBusTm><lastBusYn> </lastBusYn><lastLowTm>              </lastLowTm><length>0</length><routeType>8</routeType><stStationNm>전곡항</stStationNm><term>60</term></itemList><itemList><busRouteId>222000169</busRouteId><busRouteNm>1003남양주</busRouteNm><corpNm>경기</corpNm><edStationNm>잠실광역환승센터</edStationNm><firstBusTm>20210709053000</firstBusTm><firstLowTm>              </firstLowTm><lastBusTm>20210709230000</lastBusTm><lastBusYn> </lastBusYn><lastLowTm>              </lastLowTm><length>0</length><routeType>8</routeType><stStationNm>다산차고지</stStationNm><term>50</term></itemList><itemList><busRouteId>232000073</busRouteId><busRouteNm>1004김포</busRouteNm><corpNm>경기</corpNm><edStationNm>시청.서소문청사</edStationNm><firstBusTm>20210709050000</firstBusTm><firstLowTm>              </firstLowTm><lastBusTm>20210709222000</lastBusTm><lastBusYn> </lastBusYn><lastLowTm>              </lastLowTm><length>0</length><routeType>8</routeType><stStationNm>완정사거리</stStationNm><term>40</term></itemList><itemList><busRouteId>234000065</busRouteId><busRouteNm>1005광주</busRouteNm><corpNm>경기</corpNm><edStationNm>신분당선강남역</edStationNm><firstBusTm>20210709050000</firstBusTm><firstLowTm>              </firstLowTm><lastBusTm>20210709223000</lastBusTm><lastBusYn> </lastBusYn><lastLowTm>              </lastLowTm><length>0</length><routeType>8</routeType><stStationNm>외국어대학교</stStationNm><term>85</term></itemList><itemList><busRouteId>222000192</busRouteId><busRouteNm>1006남양주</busRouteNm><corpNm>경기</corpNm><edStationNm>강변역A</edStationNm><firstBusTm>20210709054000</firstBusTm><firstLowTm>              </firstLowTm><lastBusTm>20210709231000</lastBusTm><lastBusYn> </lastBusYn><lastLowTm>              </lastLowTm><length>0</length><routeType>8</routeType><stStationNm>다산차고지</stStationNm><term>30</term></itemList><itemList><busRouteId>233000326</busRouteId><busRouteNm>1006화성</busRouteNm><corpNm>경기</corpNm><edStationNm>강남역나라빌딩앞</edStationNm><firstBusTm>20210709053000</firstBusTm><firstLowTm>              </firstLowTm><lastBusTm>20210709223000</lastBusTm><lastBusYn> </lastBusYn><lastLowTm>              </lastLowTm><length>0</length><routeType>8</routeType><stStationNm>수원대학교</stStationNm><term>80</term></itemList><itemList><busRouteId>234000013</busRouteId><busRouteNm>1007-1광주</busRouteNm><corpNm>경기</corpNm><edStationNm>잠실역.롯데월드</edStationNm><firstBusTm>20210709050000</firstBusTm><firstLowTm>              </firstLowTm><lastBusTm>20210709221000</lastBusTm><lastBusYn> </lastBusYn><lastLowTm>              </lastLowTm><length>0</length><routeType>8</routeType><stStationNm>대광빌리지</stStationNm><term>40</term></itemList><itemList><busRouteId>234000015</busRouteId><busRouteNm>1007광주</busRouteNm><corpNm>경기</corpNm><edStationNm>잠실광역환승센터</edStationNm><firstBusTm>20210709044000</firstBusTm><firstLowTm>20161202000000</firstLowTm><lastBusTm>20210709220000</lastBusTm><lastBusYn> </lastBusYn><lastLowTm>              </lastLowTm><length>0</length><routeType>8</routeType><stStationNm>수원대학교</stStationNm><term>50</term></itemList><itemList><busRouteId>233000125</busRouteId><busRouteNm>1008화성</busRouteNm><corpNm>경기</corpNm><edStationNm>사당역</edStationNm><firstBusTm>20210709054000</firstBusTm><firstLowTm>              </firstLowTm><lastBusTm>20210709224000</lastBusTm><lastBusYn> </lastBusYn><lastLowTm>              </lastLowTm><length>0</length><routeType>8</routeType><stStationNm>현대기아연구소</stStationNm><term>40</term></itemList><itemList><busRouteId>234000310</busRouteId><busRouteNm>1009광주</busRouteNm><corpNm>경기</corpNm><edStationNm>잠실광역환승센터</edStationNm><firstBusTm>20210709043000</firstBusTm><firstLowTm>20161202000000</firstLowTm><lastBusTm>20210709214500</lastBusTm><lastBusYn> </lastBusYn><lastLowTm>20161202000000</lastLowTm><length>0</length><routeType>8</routeType><stStationNm>수원대학교</stStationNm><term>55</term></itemList><itemList><busRouteId>234000873</busRouteId><busRouteNm>100광주</busRouteNm><corpNm>경기</corpNm><edStationNm>강변역B</edStationNm><firstBusTm>20210709045500</firstBusTm><firstLowTm>              </firstLowTm><lastBusTm>20210709224500</lastBusTm><lastBusYn> </lastBusYn><lastLowTm>              </lastLowTm><length>0</length><routeType>8</routeType><stStationNm>진벌리차고지</stStationNm><term>30</term></itemList><itemList><busRouteId>204000018</busRouteId><busRouteNm>100성남</busRouteNm><corpNm>경기</corpNm><edStationNm>가락시장.가락시장역</edStationNm><firstBusTm>20210709050000</firstBusTm><firstLowTm>              </firstLowTm><lastBusTm>20210709220000</lastBusTm><lastBusYn> </lastBusYn><lastLowTm>              </lastLowTm><length>0</length><routeType>8</routeType><stStationNm>사기막골</stStationNm><term>120</term></itemList><itemList><busRouteId>204000083</busRouteId><busRouteNm>100출성남</busRouteNm><corpNm>경기</corpNm><edStationNm>복정역2번출구</edStationNm><firstBusTm>20210709031000</firstBusTm><firstLowTm>              </firstLowTm><lastBusTm>20210709031000</lastBusTm><lastBusYn> </lastBusYn><lastLowTm>              </lastLowTm><length>0</length><routeType>8</routeType><stStationNm>산성역.포레스티아동문</stStationNm><term>0</term></itemList><itemList><busRouteId>229000030</busRouteId><busRouteNm>100파주</busRouteNm><corpNm>경기</corpNm><edStationNm>양광교회</edStationNm><firstBusTm>20210709052000</firstBusTm><firstLowTm>              </firstLowTm><lastBusTm>20210709230500</lastBusTm><lastBusYn> </lastBusYn><lastLowTm>              </lastLowTm><length>0</length><routeType>8</routeType><stStationNm>금촌차고지(기점)</stStationNm><term>30</term></itemList><itemList><busRouteId>218000011</busRouteId><busRouteNm>1100고양</busRouteNm><corpNm>경기</corpNm><edStationNm>숭례문</edStationNm><firstBusTm>20210709045500</firstBusTm><firstLowTm>              </firstLowTm><lastBusTm>20210709224000</lastBusTm><lastBusYn> </lastBusYn><lastLowTm>              </lastLowTm><length>0</length><routeType>8</routeType><stStationNm>고양공영차고지</stStationNm><term>70</term></itemList><itemList><busRouteId>222000074</busRouteId><busRouteNm>1100남양주</busRouteNm><corpNm>경기</corpNm><edStationNm>신사동고개</edStationNm><firstBusTm>20210709050000</firstBusTm><firstLowTm>              </firstLowTm><lastBusTm>20210709230000</lastBusTm><lastBusYn> </lastBusYn><lastLowTm>              </lastLowTm><length>0</length><routeType>8</routeType><stStationNm>차산리</stStationNm><term>30</term></itemList><itemList><busRouteId>235000085</busRouteId><busRouteNm>1100양주</busRouteNm><corpNm>경기</corpNm><edStationNm>도봉산역광역환승센터</edStationNm><firstBusTm>20210709053000</firstBusTm><firstLowTm>              </firstLowTm><lastBusTm>20210709230000</lastBusTm><lastBusYn> </lastBusYn><lastLowTm>              </lastLowTm><length>0</length><routeType>8</routeType><stStationNm>덕정차고지(경유)</stStationNm><term>50</term></itemList><itemList><busRouteId>216000026</busRouteId><busRouteNm>3100안산</busRouteNm><corpNm>경기</corpNm><edStationNm>강남역우리은행</edStationNm><firstBusTm>20210709053000</firstBusTm><firstLowTm>              </firstLowTm><lastBusTm>20210709230000</lastBusTm><lastBusYn> </lastBusYn><lastLowTm>20150826000000</lastLowTm><length>0</length><routeType>8</routeType><stStationNm>신안산대학교</stStationNm><term>50</term></itemList><itemList><busRouteId>207000070</busRouteId><busRouteNm>3100의정부</busRouteNm><corpNm>경기</corpNm><edStationNm>양재역.서초문화예술회관</edStationNm><firstBusTm>20210709040000</firstBusTm><firstLowTm>              </firstLowTm><lastBusTm>20210709232000</lastBusTm><lastBusYn> </lastBusYn><lastLowTm>20150826000000</lastLowTm><length>0</length><routeType>8</routeType><stStationNm>대진대주차장대기(경유)</stStationNm><term>20</term></itemList><itemList><busRouteId>229000255</busRouteId><busRouteNm>3100파주</busRouteNm><corpNm>경기</corpNm><edStationNm>홍대입구역</edStationNm><firstBusTm>20210709050000</firstBusTm><firstLowTm>              </firstLowTm><lastBusTm>20210709233000</lastBusTm><lastBusYn> </lastBusYn><lastLowTm>              </lastLowTm><length>0</length><routeType>8</routeType><stStationNm>산내마을6.8단지</stStationNm><term>25</term></itemList><itemList><busRouteId>241005910</busRouteId><busRouteNm>5100고양</busRouteNm><corpNm>경기</corpNm><edStationNm>김포공항국내선(11-3번홈)</edStationNm><firstBusTm>20210709051000</firstBusTm><firstLowTm>              </firstLowTm><lastBusTm>20210709204000</lastBusTm><lastBusYn> </lastBusYn><lastLowTm>              </lastLowTm><length>0</length><routeType>8</routeType><stStationNm>세이브존</stStationNm><term>30</term></itemList><itemList><busRouteId>200000115</busRouteId><busRouteNm>5100수원</busRouteNm><corpNm>경기</corpNm><edStationNm>신논현역.금강빌딩</edStationNm><firstBusTm>20210709053000</firstBusTm><firstLowTm>              </firstLowTm><lastBusTm>20210709232000</lastBusTm><lastBusYn> </lastBusYn><lastLowTm>20151110000000</lastLowTm><length>0</length><routeType>8</routeType><stStationNm>사색의광장</stStationNm><term>15</term></itemList><itemList><busRouteId>200000296</busRouteId><busRouteNm>5100예약수원</busRouteNm><corpNm>경기</corpNm><edStationNm>신논현역.금강빌딩</edStationNm><firstBusTm>20210709072000</firstBusTm><firstLowTm>              </firstLowTm><lastBusTm>20210709075500</lastBusTm><lastBusYn> </lastBusYn><lastLowTm>              </lastLowTm><length>0</length><routeType>8</routeType><stStationNm>살구골동아아파트</stStationNm><term>0</term></itemList><itemList><busRouteId>232000103</busRouteId><busRouteNm>7100김포</busRouteNm><corpNm>경기</corpNm><edStationNm>당산역</edStationNm><firstBusTm>20210709045000</firstBusTm><firstLowTm>              </firstLowTm><lastBusTm>20210709230000</lastBusTm><lastBusYn> </lastBusYn><lastLowTm>              </lastLowTm><length>0</length><routeType>8</routeType><stStationNm>구래리차고지</stStationNm><term>19</term></itemList><itemList><busRouteId>234000878</busRouteId><busRouteNm>8100광주</busRouteNm><corpNm>경기</corpNm><edStationNm>서울역버스환승센터</edStationNm><firstBusTm>20210709050000</firstBusTm><firstLowTm>              </firstLowTm><lastBusTm>20210709230000</lastBusTm><lastBusYn> </lastBusYn><lastLowTm>              </lastLowTm><length>0</length><routeType>8</routeType><stStationNm>단국대.치과병원</stStationNm><term>25</term></itemList><itemList><busRouteId>233000328</busRouteId><busRouteNm>G1003화성</busRouteNm><corpNm>경기</corpNm><edStationNm>시민의숲.양재꽃시장</edStationNm><firstBusTm>20210709053000</firstBusTm><firstLowTm>              </firstLowTm><lastBusTm>20210709223000</lastBusTm><lastBusYn> </lastBusYn><lastLowTm>              </lastLowTm><length>0</length><routeType>8</routeType><stStationNm>현대기아연구소</stStationNm><term>40</term></itemList><itemList><busRouteId>230000179</busRouteId><busRouteNm>G2100이천</busRouteNm><corpNm>경기</corpNm><edStationNm>잠실광역환승센터</edStationNm><firstBusTm>20210709053000</firstBusTm><firstLowTm>              </firstLowTm><lastBusTm>20210709223000</lastBusTm><lastBusYn> </lastBusYn><lastLowTm>              </lastLowTm><length>0</length><routeType>8</routeType><stStationNm>이천역</stStationNm><term>40</term></itemList><itemList><busRouteId>200000262</busRouteId><busRouteNm>G5100수원</busRouteNm><corpNm>경기</corpNm><edStationNm>신논현역.금강빌딩</edStationNm><firstBusTm>20210709063600</firstBusTm><firstLowTm>              </firstLowTm><lastBusTm>20210709191200</lastBusTm><lastBusYn> </lastBusYn><lastLowTm>              </lastLowTm><length>0</length><routeType>8</routeType><stStationNm>경희대학교</stStationNm><term>420</term></itemList><itemList><busRouteId>207000102</busRouteId><busRouteNm>G6100의정부</busRouteNm><corpNm>경기</corpNm><edStationNm>잠실광역환승센터</edStationNm><firstBusTm>20210709050000</firstBusTm><firstLowTm>              </firstLowTm><lastBusTm>20210709230000</lastBusTm><lastBusYn> </lastBusYn><lastLowTm>              </lastLowTm><length>0</length><routeType>8</routeType><stStationNm>민락동종점(경유)</stStationNm><term>50</term></itemList></msgBody></ServiceResult>'"
      ]
     },
     "execution_count": 146,
     "metadata": {},
     "output_type": "execute_result"
    }
   ],
   "source": [
    "bus_name='100' #버스번호\n",
    "#내 인증키\n",
    "api_key='BYgs6%2FjSL0du1z8yK4GxYdW1SepukkJ0gXtUP3tGUQpjThEU4JeQKRlspdSnxTWcjia6U6r5oPxW%2F7tK7HZ2sg%3D%3D'\n",
    "url = 'http://ws.bus.go.kr/api/rest/busRouteInfo/getBusRouteList?ServiceKey=%s&strSrch=%s'%(api_key, bus_name)\n",
    "html = requests.get(url).text\n",
    "html"
   ]
  },
  {
   "cell_type": "code",
   "execution_count": 151,
   "id": "ba62ea45",
   "metadata": {},
   "outputs": [
    {
     "name": "stdout",
     "output_type": "stream",
     "text": [
      "처리결과: 정상적으로 처리되었습니다.\n"
     ]
    },
    {
     "data": {
      "text/plain": [
       "<itemList><busRouteId>100100549</busRouteId><busRouteNm>100</busRouteNm><corpNm>한성여객  02-936-6000</corpNm><edStationNm>용산구청</edStationNm><firstBusTm>20210709040000</firstBusTm><firstLowTm> </firstLowTm><lastBusTm>20210709223000</lastBusTm><lastBusYn> </lastBusYn><lastLowTm>20160226224000</lastLowTm><length>57.09</length><routeType>3</routeType><stStationNm>하계동</stStationNm><term>10</term></itemList>"
      ]
     },
     "execution_count": 151,
     "metadata": {},
     "output_type": "execute_result"
    }
   ],
   "source": [
    "root = BeautifulSoup(html, 'lxml-xml')#파서의 종류를 xml로 지정\n",
    "code = root.find('headerCd').get_text()\n",
    "msg = root.find('headerMsg').get_text()\n",
    "print('처리결과:', msg)\n",
    "#버스이름에 100이 들어간 모든 버스를 검색해줌. \n",
    "#그래서 busRouteNm == 100 만 추출\n",
    "#busRouteNm == 100를 만족하는 itemList만 저장\n",
    "if code=='0':\n",
    "    itemList = root.select('itemList')#root.find(태그):1개만\n",
    "    for item in itemList:\n",
    "        name = item.find('busRouteNm').get_text()\n",
    "        if name==bus_name:#100\n",
    "            res = item\n",
    "            \n",
    "res"
   ]
  },
  {
   "cell_type": "code",
   "execution_count": 153,
   "id": "2b01c870",
   "metadata": {},
   "outputs": [
    {
     "name": "stdout",
     "output_type": "stream",
     "text": [
      "버스노선ID: 100100549\n",
      "버스명: 100\n",
      "버스회사명: 한성여객  02-936-6000\n",
      "첫차시간: 20210709040000\n",
      "막차시간: 20210709223000\n",
      "배차간격: 10\n",
      "기점: 하계동\n",
      "종점: 용산구청\n"
     ]
    }
   ],
   "source": [
    "print('버스노선ID:', res.find('busRouteId').get_text())\n",
    "print('버스명:', res.find('busRouteNm').get_text())\n",
    "print('버스회사명:', res.find('corpNm').get_text())\n",
    "print('첫차시간:', res.find('firstBusTm').get_text())\n",
    "print('막차시간:', res.find('lastBusTm').get_text())\n",
    "print('배차간격:', res.find('term').get_text())\n",
    "print('기점:', res.find('stStationNm').get_text())\n",
    "print('종점:', res.find('edStationNm').get_text())"
   ]
  },
  {
   "cell_type": "code",
   "execution_count": null,
   "id": "705d97a1",
   "metadata": {},
   "outputs": [],
   "source": []
  }
 ],
 "metadata": {
  "kernelspec": {
   "display_name": "Python 3",
   "language": "python",
   "name": "python3"
  },
  "language_info": {
   "codemirror_mode": {
    "name": "ipython",
    "version": 3
   },
   "file_extension": ".py",
   "mimetype": "text/x-python",
   "name": "python",
   "nbconvert_exporter": "python",
   "pygments_lexer": "ipython3",
   "version": "3.9.5"
  }
 },
 "nbformat": 4,
 "nbformat_minor": 5
}
